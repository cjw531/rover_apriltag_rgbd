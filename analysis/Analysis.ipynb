{
 "cells": [
  {
   "cell_type": "markdown",
   "metadata": {},
   "source": [
    "# Comparison of 4 Datasets' Trajectory:\n",
    "### 1. smooth_straight.csv\n",
    "### 2. rugged_straight.csv\n",
    "### 3. smooth_random.csv\n",
    "### 4. rugged_random.csv"
   ]
  },
  {
   "cell_type": "code",
   "execution_count": 1,
   "metadata": {},
   "outputs": [],
   "source": [
    "# 4 dataset's 3D plots\n",
    "import pandas as pd\n",
    "import numpy as np\n",
    "import plotly.graph_objects as go"
   ]
  },
  {
   "cell_type": "code",
   "execution_count": 4,
   "metadata": {},
   "outputs": [],
   "source": [
    "def draw_3d(file, title):\n",
    "    csv_header = [\"time\", \"tag_x\", \"tag_y\", \"tag_z\", \"pose_x\", \"pose_y\", \"pose_z\"]\n",
    "    df = pd.read_csv(file, header= None)\n",
    "    df.columns = csv_header\n",
    "    \n",
    "    TAG = df[[\"tag_x\",\"tag_y\",\"tag_z\"]]\n",
    "    Pose = df[[\"pose_x\",\"pose_y\",\"pose_z\"]]\n",
    "    \n",
    "    fig = go.Figure()\n",
    "\n",
    "    fig.add_trace(go.Scatter3d(\n",
    "        x=(np.asarray(TAG.tag_x) - 0.125674)*100,\n",
    "        y=np.asarray(TAG.tag_y)*100,\n",
    "        z=np.asarray(TAG.tag_z)*100,\n",
    "        name=\"/tag_0\",\n",
    "        mode='markers',\n",
    "        marker=dict(\n",
    "            size=5,\n",
    "            color='red',\n",
    "            opacity=0.8\n",
    "        )\n",
    "    ))\n",
    "\n",
    "    fig.add_trace(go.Scatter3d(\n",
    "        x=np.asarray(Pose.pose_x)*100,\n",
    "        y=np.asarray(Pose.pose_y)*100,\n",
    "        z=np.asarray(Pose.pose_z)*100,\n",
    "        name=\"/camera_pose_frame\",\n",
    "        mode='markers',\n",
    "        marker=dict(\n",
    "            size=5,\n",
    "            color='green',\n",
    "            opacity=0.8\n",
    "        )\n",
    "    ))\n",
    "    \n",
    "    fig.update_layout(\n",
    "        title=title,\n",
    "        font=dict(\n",
    "            family=\"Courier New, monospace\",\n",
    "            size=15\n",
    "    ))\n",
    "\n",
    "    fig.show()"
   ]
  },
  {
   "cell_type": "code",
   "execution_count": 5,
   "metadata": {},
   "outputs": [
    {
     "data": {
      "application/vnd.plotly.v1+json": {
       "config": {
        "plotlyServerURL": "https://plot.ly"
       },
       "data": [
        {
         "marker": {
          "color": "red",
          "opacity": 0.8,
          "size": 5
         },
         "mode": "markers",
         "name": "/tag_0",
         "type": "scatter3d",
         "x": [
          -14.6728877,
          -17.7402063,
          -25.4931672,
          -27.6466445,
          -36.043419,
          -37.8513717,
          -45.489625000000004,
          -47.751616600000006,
          -55.8356552,
          -57.9041175,
          -65.8598666,
          -67.9138202,
          -76.2973428,
          -77.87624600000001,
          -86.85615019999999,
          -88.3804055,
          -96.23853740000001,
          -97.7327109,
          -106.8685959,
          -108.3561244
         ],
         "y": [
          0.4434009,
          0.14942049999999998,
          0.0516828,
          0.00434,
          -0.4283447,
          0.16346839999999999,
          -0.4435517,
          -0.5645191999999999,
          -1.0545081,
          -0.8364442,
          -1.0363879,
          -1.0122236,
          -1.2684019,
          -1.4206995,
          -1.5432534,
          -1.559168,
          -1.6264170000000002,
          -1.5794316999999998,
          -1.8666228999999999,
          -1.8043815
         ],
         "z": [
          0.6369138000000001,
          0.4951962,
          0.651899,
          0.8234645,
          0.7251949000000001,
          1.4595256,
          1.536533,
          1.7489477999999998,
          1.8350016,
          2.1098244,
          2.2928379,
          2.5515144,
          2.5563415,
          2.4799111000000003,
          3.3048504,
          3.4055982,
          3.6313367999999997,
          3.7639297000000003,
          3.9307474,
          4.0103206
         ]
        },
        {
         "marker": {
          "color": "green",
          "opacity": 0.8,
          "size": 5
         },
         "mode": "markers",
         "name": "/camera_pose_frame",
         "type": "scatter3d",
         "x": [
          -5.0108586,
          -7.260224999999999,
          -15.114569699999999,
          -17.144824600000003,
          -25.0394821,
          -27.6463568,
          -35.0051224,
          -36.8829817,
          -45.070567700000005,
          -46.9280362,
          -55.2327633,
          -57.2948813,
          -65.0969326,
          -66.58496860000001,
          -75.0356197,
          -75.57911279999999,
          -85.35704609999999,
          -86.84073690000001,
          -95.03930209999999,
          -96.68517109999999
         ],
         "y": [
          -0.4977477,
          -0.3314694,
          -0.39127839999999997,
          -0.3265407,
          -0.2441932,
          -0.4102977,
          -0.7512404,
          -0.9744644,
          -1.1907603999999998,
          -1.1814926000000001,
          -1.5734488000000002,
          -1.6015107,
          -1.5138708,
          -1.5785255000000002,
          -1.9995448999999998,
          -2.0646783999999996,
          -2.0937936,
          -2.1464923,
          -2.262635,
          -2.2915365
         ],
         "z": [
          0.26944509999999994,
          0.32345240000000003,
          1.0462787,
          0.9856231999999999,
          1.4246434,
          1.4447226,
          1.3300043000000001,
          1.2503159,
          1.5815465,
          1.6681343000000002,
          2.0591606999999996,
          2.2251440000000002,
          2.2041063999999997,
          2.2410044,
          2.4339144999999998,
          2.3668716,
          3.0717228999999997,
          3.2822682999999997,
          3.7792515,
          3.6998626
         ]
        }
       ],
       "layout": {
        "font": {
         "family": "Courier New, monospace",
         "size": 15
        },
        "template": {
         "data": {
          "bar": [
           {
            "error_x": {
             "color": "#2a3f5f"
            },
            "error_y": {
             "color": "#2a3f5f"
            },
            "marker": {
             "line": {
              "color": "#E5ECF6",
              "width": 0.5
             }
            },
            "type": "bar"
           }
          ],
          "barpolar": [
           {
            "marker": {
             "line": {
              "color": "#E5ECF6",
              "width": 0.5
             }
            },
            "type": "barpolar"
           }
          ],
          "carpet": [
           {
            "aaxis": {
             "endlinecolor": "#2a3f5f",
             "gridcolor": "white",
             "linecolor": "white",
             "minorgridcolor": "white",
             "startlinecolor": "#2a3f5f"
            },
            "baxis": {
             "endlinecolor": "#2a3f5f",
             "gridcolor": "white",
             "linecolor": "white",
             "minorgridcolor": "white",
             "startlinecolor": "#2a3f5f"
            },
            "type": "carpet"
           }
          ],
          "choropleth": [
           {
            "colorbar": {
             "outlinewidth": 0,
             "ticks": ""
            },
            "type": "choropleth"
           }
          ],
          "contour": [
           {
            "colorbar": {
             "outlinewidth": 0,
             "ticks": ""
            },
            "colorscale": [
             [
              0,
              "#0d0887"
             ],
             [
              0.1111111111111111,
              "#46039f"
             ],
             [
              0.2222222222222222,
              "#7201a8"
             ],
             [
              0.3333333333333333,
              "#9c179e"
             ],
             [
              0.4444444444444444,
              "#bd3786"
             ],
             [
              0.5555555555555556,
              "#d8576b"
             ],
             [
              0.6666666666666666,
              "#ed7953"
             ],
             [
              0.7777777777777778,
              "#fb9f3a"
             ],
             [
              0.8888888888888888,
              "#fdca26"
             ],
             [
              1,
              "#f0f921"
             ]
            ],
            "type": "contour"
           }
          ],
          "contourcarpet": [
           {
            "colorbar": {
             "outlinewidth": 0,
             "ticks": ""
            },
            "type": "contourcarpet"
           }
          ],
          "heatmap": [
           {
            "colorbar": {
             "outlinewidth": 0,
             "ticks": ""
            },
            "colorscale": [
             [
              0,
              "#0d0887"
             ],
             [
              0.1111111111111111,
              "#46039f"
             ],
             [
              0.2222222222222222,
              "#7201a8"
             ],
             [
              0.3333333333333333,
              "#9c179e"
             ],
             [
              0.4444444444444444,
              "#bd3786"
             ],
             [
              0.5555555555555556,
              "#d8576b"
             ],
             [
              0.6666666666666666,
              "#ed7953"
             ],
             [
              0.7777777777777778,
              "#fb9f3a"
             ],
             [
              0.8888888888888888,
              "#fdca26"
             ],
             [
              1,
              "#f0f921"
             ]
            ],
            "type": "heatmap"
           }
          ],
          "heatmapgl": [
           {
            "colorbar": {
             "outlinewidth": 0,
             "ticks": ""
            },
            "colorscale": [
             [
              0,
              "#0d0887"
             ],
             [
              0.1111111111111111,
              "#46039f"
             ],
             [
              0.2222222222222222,
              "#7201a8"
             ],
             [
              0.3333333333333333,
              "#9c179e"
             ],
             [
              0.4444444444444444,
              "#bd3786"
             ],
             [
              0.5555555555555556,
              "#d8576b"
             ],
             [
              0.6666666666666666,
              "#ed7953"
             ],
             [
              0.7777777777777778,
              "#fb9f3a"
             ],
             [
              0.8888888888888888,
              "#fdca26"
             ],
             [
              1,
              "#f0f921"
             ]
            ],
            "type": "heatmapgl"
           }
          ],
          "histogram": [
           {
            "marker": {
             "colorbar": {
              "outlinewidth": 0,
              "ticks": ""
             }
            },
            "type": "histogram"
           }
          ],
          "histogram2d": [
           {
            "colorbar": {
             "outlinewidth": 0,
             "ticks": ""
            },
            "colorscale": [
             [
              0,
              "#0d0887"
             ],
             [
              0.1111111111111111,
              "#46039f"
             ],
             [
              0.2222222222222222,
              "#7201a8"
             ],
             [
              0.3333333333333333,
              "#9c179e"
             ],
             [
              0.4444444444444444,
              "#bd3786"
             ],
             [
              0.5555555555555556,
              "#d8576b"
             ],
             [
              0.6666666666666666,
              "#ed7953"
             ],
             [
              0.7777777777777778,
              "#fb9f3a"
             ],
             [
              0.8888888888888888,
              "#fdca26"
             ],
             [
              1,
              "#f0f921"
             ]
            ],
            "type": "histogram2d"
           }
          ],
          "histogram2dcontour": [
           {
            "colorbar": {
             "outlinewidth": 0,
             "ticks": ""
            },
            "colorscale": [
             [
              0,
              "#0d0887"
             ],
             [
              0.1111111111111111,
              "#46039f"
             ],
             [
              0.2222222222222222,
              "#7201a8"
             ],
             [
              0.3333333333333333,
              "#9c179e"
             ],
             [
              0.4444444444444444,
              "#bd3786"
             ],
             [
              0.5555555555555556,
              "#d8576b"
             ],
             [
              0.6666666666666666,
              "#ed7953"
             ],
             [
              0.7777777777777778,
              "#fb9f3a"
             ],
             [
              0.8888888888888888,
              "#fdca26"
             ],
             [
              1,
              "#f0f921"
             ]
            ],
            "type": "histogram2dcontour"
           }
          ],
          "mesh3d": [
           {
            "colorbar": {
             "outlinewidth": 0,
             "ticks": ""
            },
            "type": "mesh3d"
           }
          ],
          "parcoords": [
           {
            "line": {
             "colorbar": {
              "outlinewidth": 0,
              "ticks": ""
             }
            },
            "type": "parcoords"
           }
          ],
          "scatter": [
           {
            "marker": {
             "colorbar": {
              "outlinewidth": 0,
              "ticks": ""
             }
            },
            "type": "scatter"
           }
          ],
          "scatter3d": [
           {
            "line": {
             "colorbar": {
              "outlinewidth": 0,
              "ticks": ""
             }
            },
            "marker": {
             "colorbar": {
              "outlinewidth": 0,
              "ticks": ""
             }
            },
            "type": "scatter3d"
           }
          ],
          "scattercarpet": [
           {
            "marker": {
             "colorbar": {
              "outlinewidth": 0,
              "ticks": ""
             }
            },
            "type": "scattercarpet"
           }
          ],
          "scattergeo": [
           {
            "marker": {
             "colorbar": {
              "outlinewidth": 0,
              "ticks": ""
             }
            },
            "type": "scattergeo"
           }
          ],
          "scattergl": [
           {
            "marker": {
             "colorbar": {
              "outlinewidth": 0,
              "ticks": ""
             }
            },
            "type": "scattergl"
           }
          ],
          "scattermapbox": [
           {
            "marker": {
             "colorbar": {
              "outlinewidth": 0,
              "ticks": ""
             }
            },
            "type": "scattermapbox"
           }
          ],
          "scatterpolar": [
           {
            "marker": {
             "colorbar": {
              "outlinewidth": 0,
              "ticks": ""
             }
            },
            "type": "scatterpolar"
           }
          ],
          "scatterpolargl": [
           {
            "marker": {
             "colorbar": {
              "outlinewidth": 0,
              "ticks": ""
             }
            },
            "type": "scatterpolargl"
           }
          ],
          "scatterternary": [
           {
            "marker": {
             "colorbar": {
              "outlinewidth": 0,
              "ticks": ""
             }
            },
            "type": "scatterternary"
           }
          ],
          "surface": [
           {
            "colorbar": {
             "outlinewidth": 0,
             "ticks": ""
            },
            "colorscale": [
             [
              0,
              "#0d0887"
             ],
             [
              0.1111111111111111,
              "#46039f"
             ],
             [
              0.2222222222222222,
              "#7201a8"
             ],
             [
              0.3333333333333333,
              "#9c179e"
             ],
             [
              0.4444444444444444,
              "#bd3786"
             ],
             [
              0.5555555555555556,
              "#d8576b"
             ],
             [
              0.6666666666666666,
              "#ed7953"
             ],
             [
              0.7777777777777778,
              "#fb9f3a"
             ],
             [
              0.8888888888888888,
              "#fdca26"
             ],
             [
              1,
              "#f0f921"
             ]
            ],
            "type": "surface"
           }
          ],
          "table": [
           {
            "cells": {
             "fill": {
              "color": "#EBF0F8"
             },
             "line": {
              "color": "white"
             }
            },
            "header": {
             "fill": {
              "color": "#C8D4E3"
             },
             "line": {
              "color": "white"
             }
            },
            "type": "table"
           }
          ]
         },
         "layout": {
          "annotationdefaults": {
           "arrowcolor": "#2a3f5f",
           "arrowhead": 0,
           "arrowwidth": 1
          },
          "colorscale": {
           "diverging": [
            [
             0,
             "#8e0152"
            ],
            [
             0.1,
             "#c51b7d"
            ],
            [
             0.2,
             "#de77ae"
            ],
            [
             0.3,
             "#f1b6da"
            ],
            [
             0.4,
             "#fde0ef"
            ],
            [
             0.5,
             "#f7f7f7"
            ],
            [
             0.6,
             "#e6f5d0"
            ],
            [
             0.7,
             "#b8e186"
            ],
            [
             0.8,
             "#7fbc41"
            ],
            [
             0.9,
             "#4d9221"
            ],
            [
             1,
             "#276419"
            ]
           ],
           "sequential": [
            [
             0,
             "#0d0887"
            ],
            [
             0.1111111111111111,
             "#46039f"
            ],
            [
             0.2222222222222222,
             "#7201a8"
            ],
            [
             0.3333333333333333,
             "#9c179e"
            ],
            [
             0.4444444444444444,
             "#bd3786"
            ],
            [
             0.5555555555555556,
             "#d8576b"
            ],
            [
             0.6666666666666666,
             "#ed7953"
            ],
            [
             0.7777777777777778,
             "#fb9f3a"
            ],
            [
             0.8888888888888888,
             "#fdca26"
            ],
            [
             1,
             "#f0f921"
            ]
           ],
           "sequentialminus": [
            [
             0,
             "#0d0887"
            ],
            [
             0.1111111111111111,
             "#46039f"
            ],
            [
             0.2222222222222222,
             "#7201a8"
            ],
            [
             0.3333333333333333,
             "#9c179e"
            ],
            [
             0.4444444444444444,
             "#bd3786"
            ],
            [
             0.5555555555555556,
             "#d8576b"
            ],
            [
             0.6666666666666666,
             "#ed7953"
            ],
            [
             0.7777777777777778,
             "#fb9f3a"
            ],
            [
             0.8888888888888888,
             "#fdca26"
            ],
            [
             1,
             "#f0f921"
            ]
           ]
          },
          "colorway": [
           "#636efa",
           "#EF553B",
           "#00cc96",
           "#ab63fa",
           "#FFA15A",
           "#19d3f3",
           "#FF6692",
           "#B6E880",
           "#FF97FF",
           "#FECB52"
          ],
          "font": {
           "color": "#2a3f5f"
          },
          "geo": {
           "bgcolor": "white",
           "lakecolor": "white",
           "landcolor": "#E5ECF6",
           "showlakes": true,
           "showland": true,
           "subunitcolor": "white"
          },
          "hoverlabel": {
           "align": "left"
          },
          "hovermode": "closest",
          "mapbox": {
           "style": "light"
          },
          "paper_bgcolor": "white",
          "plot_bgcolor": "#E5ECF6",
          "polar": {
           "angularaxis": {
            "gridcolor": "white",
            "linecolor": "white",
            "ticks": ""
           },
           "bgcolor": "#E5ECF6",
           "radialaxis": {
            "gridcolor": "white",
            "linecolor": "white",
            "ticks": ""
           }
          },
          "scene": {
           "xaxis": {
            "backgroundcolor": "#E5ECF6",
            "gridcolor": "white",
            "gridwidth": 2,
            "linecolor": "white",
            "showbackground": true,
            "ticks": "",
            "zerolinecolor": "white"
           },
           "yaxis": {
            "backgroundcolor": "#E5ECF6",
            "gridcolor": "white",
            "gridwidth": 2,
            "linecolor": "white",
            "showbackground": true,
            "ticks": "",
            "zerolinecolor": "white"
           },
           "zaxis": {
            "backgroundcolor": "#E5ECF6",
            "gridcolor": "white",
            "gridwidth": 2,
            "linecolor": "white",
            "showbackground": true,
            "ticks": "",
            "zerolinecolor": "white"
           }
          },
          "shapedefaults": {
           "line": {
            "color": "#2a3f5f"
           }
          },
          "ternary": {
           "aaxis": {
            "gridcolor": "white",
            "linecolor": "white",
            "ticks": ""
           },
           "baxis": {
            "gridcolor": "white",
            "linecolor": "white",
            "ticks": ""
           },
           "bgcolor": "#E5ECF6",
           "caxis": {
            "gridcolor": "white",
            "linecolor": "white",
            "ticks": ""
           }
          },
          "title": {
           "x": 0.05
          },
          "xaxis": {
           "automargin": true,
           "gridcolor": "white",
           "linecolor": "white",
           "ticks": "",
           "zerolinecolor": "white",
           "zerolinewidth": 2
          },
          "yaxis": {
           "automargin": true,
           "gridcolor": "white",
           "linecolor": "white",
           "ticks": "",
           "zerolinecolor": "white",
           "zerolinewidth": 2
          }
         }
        },
        "title": {
         "text": "Smooth Straight Raw Trajectory (cm)"
        }
       }
      },
      "text/html": [
       "<div>\n",
       "        \n",
       "        \n",
       "            <div id=\"56f556b7-e5b1-489d-b80a-a48a2def6b07\" class=\"plotly-graph-div\" style=\"height:525px; width:100%;\"></div>\n",
       "            <script type=\"text/javascript\">\n",
       "                require([\"plotly\"], function(Plotly) {\n",
       "                    window.PLOTLYENV=window.PLOTLYENV || {};\n",
       "                    \n",
       "                if (document.getElementById(\"56f556b7-e5b1-489d-b80a-a48a2def6b07\")) {\n",
       "                    Plotly.newPlot(\n",
       "                        '56f556b7-e5b1-489d-b80a-a48a2def6b07',\n",
       "                        [{\"marker\": {\"color\": \"red\", \"opacity\": 0.8, \"size\": 5}, \"mode\": \"markers\", \"name\": \"/tag_0\", \"type\": \"scatter3d\", \"x\": [-14.6728877, -17.7402063, -25.4931672, -27.6466445, -36.043419, -37.8513717, -45.489625000000004, -47.751616600000006, -55.8356552, -57.9041175, -65.8598666, -67.9138202, -76.2973428, -77.87624600000001, -86.85615019999999, -88.3804055, -96.23853740000001, -97.7327109, -106.8685959, -108.3561244], \"y\": [0.4434009, 0.14942049999999998, 0.0516828, 0.00434, -0.4283447, 0.16346839999999999, -0.4435517, -0.5645191999999999, -1.0545081, -0.8364442, -1.0363879, -1.0122236, -1.2684019, -1.4206995, -1.5432534, -1.559168, -1.6264170000000002, -1.5794316999999998, -1.8666228999999999, -1.8043815], \"z\": [0.6369138000000001, 0.4951962, 0.651899, 0.8234645, 0.7251949000000001, 1.4595256, 1.536533, 1.7489477999999998, 1.8350016, 2.1098244, 2.2928379, 2.5515144, 2.5563415, 2.4799111000000003, 3.3048504, 3.4055982, 3.6313367999999997, 3.7639297000000003, 3.9307474, 4.0103206]}, {\"marker\": {\"color\": \"green\", \"opacity\": 0.8, \"size\": 5}, \"mode\": \"markers\", \"name\": \"/camera_pose_frame\", \"type\": \"scatter3d\", \"x\": [-5.0108586, -7.260224999999999, -15.114569699999999, -17.144824600000003, -25.0394821, -27.6463568, -35.0051224, -36.8829817, -45.070567700000005, -46.9280362, -55.2327633, -57.2948813, -65.0969326, -66.58496860000001, -75.0356197, -75.57911279999999, -85.35704609999999, -86.84073690000001, -95.03930209999999, -96.68517109999999], \"y\": [-0.4977477, -0.3314694, -0.39127839999999997, -0.3265407, -0.2441932, -0.4102977, -0.7512404, -0.9744644, -1.1907603999999998, -1.1814926000000001, -1.5734488000000002, -1.6015107, -1.5138708, -1.5785255000000002, -1.9995448999999998, -2.0646783999999996, -2.0937936, -2.1464923, -2.262635, -2.2915365], \"z\": [0.26944509999999994, 0.32345240000000003, 1.0462787, 0.9856231999999999, 1.4246434, 1.4447226, 1.3300043000000001, 1.2503159, 1.5815465, 1.6681343000000002, 2.0591606999999996, 2.2251440000000002, 2.2041063999999997, 2.2410044, 2.4339144999999998, 2.3668716, 3.0717228999999997, 3.2822682999999997, 3.7792515, 3.6998626]}],\n",
       "                        {\"font\": {\"family\": \"Courier New, monospace\", \"size\": 15}, \"template\": {\"data\": {\"bar\": [{\"error_x\": {\"color\": \"#2a3f5f\"}, \"error_y\": {\"color\": \"#2a3f5f\"}, \"marker\": {\"line\": {\"color\": \"#E5ECF6\", \"width\": 0.5}}, \"type\": \"bar\"}], \"barpolar\": [{\"marker\": {\"line\": {\"color\": \"#E5ECF6\", \"width\": 0.5}}, \"type\": \"barpolar\"}], \"carpet\": [{\"aaxis\": {\"endlinecolor\": \"#2a3f5f\", \"gridcolor\": \"white\", \"linecolor\": \"white\", \"minorgridcolor\": \"white\", \"startlinecolor\": \"#2a3f5f\"}, \"baxis\": {\"endlinecolor\": \"#2a3f5f\", \"gridcolor\": \"white\", \"linecolor\": \"white\", \"minorgridcolor\": \"white\", \"startlinecolor\": \"#2a3f5f\"}, \"type\": \"carpet\"}], \"choropleth\": [{\"colorbar\": {\"outlinewidth\": 0, \"ticks\": \"\"}, \"type\": \"choropleth\"}], \"contour\": [{\"colorbar\": {\"outlinewidth\": 0, \"ticks\": \"\"}, \"colorscale\": [[0.0, \"#0d0887\"], [0.1111111111111111, \"#46039f\"], [0.2222222222222222, \"#7201a8\"], [0.3333333333333333, \"#9c179e\"], [0.4444444444444444, \"#bd3786\"], [0.5555555555555556, \"#d8576b\"], [0.6666666666666666, \"#ed7953\"], [0.7777777777777778, \"#fb9f3a\"], [0.8888888888888888, \"#fdca26\"], [1.0, \"#f0f921\"]], \"type\": \"contour\"}], \"contourcarpet\": [{\"colorbar\": {\"outlinewidth\": 0, \"ticks\": \"\"}, \"type\": \"contourcarpet\"}], \"heatmap\": [{\"colorbar\": {\"outlinewidth\": 0, \"ticks\": \"\"}, \"colorscale\": [[0.0, \"#0d0887\"], [0.1111111111111111, \"#46039f\"], [0.2222222222222222, \"#7201a8\"], [0.3333333333333333, \"#9c179e\"], [0.4444444444444444, \"#bd3786\"], [0.5555555555555556, \"#d8576b\"], [0.6666666666666666, \"#ed7953\"], [0.7777777777777778, \"#fb9f3a\"], [0.8888888888888888, \"#fdca26\"], [1.0, \"#f0f921\"]], \"type\": \"heatmap\"}], \"heatmapgl\": [{\"colorbar\": {\"outlinewidth\": 0, \"ticks\": \"\"}, \"colorscale\": [[0.0, \"#0d0887\"], [0.1111111111111111, \"#46039f\"], [0.2222222222222222, \"#7201a8\"], [0.3333333333333333, \"#9c179e\"], [0.4444444444444444, \"#bd3786\"], [0.5555555555555556, \"#d8576b\"], [0.6666666666666666, \"#ed7953\"], [0.7777777777777778, \"#fb9f3a\"], [0.8888888888888888, \"#fdca26\"], [1.0, \"#f0f921\"]], \"type\": \"heatmapgl\"}], \"histogram\": [{\"marker\": {\"colorbar\": {\"outlinewidth\": 0, \"ticks\": \"\"}}, \"type\": \"histogram\"}], \"histogram2d\": [{\"colorbar\": {\"outlinewidth\": 0, \"ticks\": \"\"}, \"colorscale\": [[0.0, \"#0d0887\"], [0.1111111111111111, \"#46039f\"], [0.2222222222222222, \"#7201a8\"], [0.3333333333333333, \"#9c179e\"], [0.4444444444444444, \"#bd3786\"], [0.5555555555555556, \"#d8576b\"], [0.6666666666666666, \"#ed7953\"], [0.7777777777777778, \"#fb9f3a\"], [0.8888888888888888, \"#fdca26\"], [1.0, \"#f0f921\"]], \"type\": \"histogram2d\"}], \"histogram2dcontour\": [{\"colorbar\": {\"outlinewidth\": 0, \"ticks\": \"\"}, \"colorscale\": [[0.0, \"#0d0887\"], [0.1111111111111111, \"#46039f\"], [0.2222222222222222, \"#7201a8\"], [0.3333333333333333, \"#9c179e\"], [0.4444444444444444, \"#bd3786\"], [0.5555555555555556, \"#d8576b\"], [0.6666666666666666, \"#ed7953\"], [0.7777777777777778, \"#fb9f3a\"], [0.8888888888888888, \"#fdca26\"], [1.0, \"#f0f921\"]], \"type\": \"histogram2dcontour\"}], \"mesh3d\": [{\"colorbar\": {\"outlinewidth\": 0, \"ticks\": \"\"}, \"type\": \"mesh3d\"}], \"parcoords\": [{\"line\": {\"colorbar\": {\"outlinewidth\": 0, \"ticks\": \"\"}}, \"type\": \"parcoords\"}], \"scatter\": [{\"marker\": {\"colorbar\": {\"outlinewidth\": 0, \"ticks\": \"\"}}, \"type\": \"scatter\"}], \"scatter3d\": [{\"line\": {\"colorbar\": {\"outlinewidth\": 0, \"ticks\": \"\"}}, \"marker\": {\"colorbar\": {\"outlinewidth\": 0, \"ticks\": \"\"}}, \"type\": \"scatter3d\"}], \"scattercarpet\": [{\"marker\": {\"colorbar\": {\"outlinewidth\": 0, \"ticks\": \"\"}}, \"type\": \"scattercarpet\"}], \"scattergeo\": [{\"marker\": {\"colorbar\": {\"outlinewidth\": 0, \"ticks\": \"\"}}, \"type\": \"scattergeo\"}], \"scattergl\": [{\"marker\": {\"colorbar\": {\"outlinewidth\": 0, \"ticks\": \"\"}}, \"type\": \"scattergl\"}], \"scattermapbox\": [{\"marker\": {\"colorbar\": {\"outlinewidth\": 0, \"ticks\": \"\"}}, \"type\": \"scattermapbox\"}], \"scatterpolar\": [{\"marker\": {\"colorbar\": {\"outlinewidth\": 0, \"ticks\": \"\"}}, \"type\": \"scatterpolar\"}], \"scatterpolargl\": [{\"marker\": {\"colorbar\": {\"outlinewidth\": 0, \"ticks\": \"\"}}, \"type\": \"scatterpolargl\"}], \"scatterternary\": [{\"marker\": {\"colorbar\": {\"outlinewidth\": 0, \"ticks\": \"\"}}, \"type\": \"scatterternary\"}], \"surface\": [{\"colorbar\": {\"outlinewidth\": 0, \"ticks\": \"\"}, \"colorscale\": [[0.0, \"#0d0887\"], [0.1111111111111111, \"#46039f\"], [0.2222222222222222, \"#7201a8\"], [0.3333333333333333, \"#9c179e\"], [0.4444444444444444, \"#bd3786\"], [0.5555555555555556, \"#d8576b\"], [0.6666666666666666, \"#ed7953\"], [0.7777777777777778, \"#fb9f3a\"], [0.8888888888888888, \"#fdca26\"], [1.0, \"#f0f921\"]], \"type\": \"surface\"}], \"table\": [{\"cells\": {\"fill\": {\"color\": \"#EBF0F8\"}, \"line\": {\"color\": \"white\"}}, \"header\": {\"fill\": {\"color\": \"#C8D4E3\"}, \"line\": {\"color\": \"white\"}}, \"type\": \"table\"}]}, \"layout\": {\"annotationdefaults\": {\"arrowcolor\": \"#2a3f5f\", \"arrowhead\": 0, \"arrowwidth\": 1}, \"colorscale\": {\"diverging\": [[0, \"#8e0152\"], [0.1, \"#c51b7d\"], [0.2, \"#de77ae\"], [0.3, \"#f1b6da\"], [0.4, \"#fde0ef\"], [0.5, \"#f7f7f7\"], [0.6, \"#e6f5d0\"], [0.7, \"#b8e186\"], [0.8, \"#7fbc41\"], [0.9, \"#4d9221\"], [1, \"#276419\"]], \"sequential\": [[0.0, \"#0d0887\"], [0.1111111111111111, \"#46039f\"], [0.2222222222222222, \"#7201a8\"], [0.3333333333333333, \"#9c179e\"], [0.4444444444444444, \"#bd3786\"], [0.5555555555555556, \"#d8576b\"], [0.6666666666666666, \"#ed7953\"], [0.7777777777777778, \"#fb9f3a\"], [0.8888888888888888, \"#fdca26\"], [1.0, \"#f0f921\"]], \"sequentialminus\": [[0.0, \"#0d0887\"], [0.1111111111111111, \"#46039f\"], [0.2222222222222222, \"#7201a8\"], [0.3333333333333333, \"#9c179e\"], [0.4444444444444444, \"#bd3786\"], [0.5555555555555556, \"#d8576b\"], [0.6666666666666666, \"#ed7953\"], [0.7777777777777778, \"#fb9f3a\"], [0.8888888888888888, \"#fdca26\"], [1.0, \"#f0f921\"]]}, \"colorway\": [\"#636efa\", \"#EF553B\", \"#00cc96\", \"#ab63fa\", \"#FFA15A\", \"#19d3f3\", \"#FF6692\", \"#B6E880\", \"#FF97FF\", \"#FECB52\"], \"font\": {\"color\": \"#2a3f5f\"}, \"geo\": {\"bgcolor\": \"white\", \"lakecolor\": \"white\", \"landcolor\": \"#E5ECF6\", \"showlakes\": true, \"showland\": true, \"subunitcolor\": \"white\"}, \"hoverlabel\": {\"align\": \"left\"}, \"hovermode\": \"closest\", \"mapbox\": {\"style\": \"light\"}, \"paper_bgcolor\": \"white\", \"plot_bgcolor\": \"#E5ECF6\", \"polar\": {\"angularaxis\": {\"gridcolor\": \"white\", \"linecolor\": \"white\", \"ticks\": \"\"}, \"bgcolor\": \"#E5ECF6\", \"radialaxis\": {\"gridcolor\": \"white\", \"linecolor\": \"white\", \"ticks\": \"\"}}, \"scene\": {\"xaxis\": {\"backgroundcolor\": \"#E5ECF6\", \"gridcolor\": \"white\", \"gridwidth\": 2, \"linecolor\": \"white\", \"showbackground\": true, \"ticks\": \"\", \"zerolinecolor\": \"white\"}, \"yaxis\": {\"backgroundcolor\": \"#E5ECF6\", \"gridcolor\": \"white\", \"gridwidth\": 2, \"linecolor\": \"white\", \"showbackground\": true, \"ticks\": \"\", \"zerolinecolor\": \"white\"}, \"zaxis\": {\"backgroundcolor\": \"#E5ECF6\", \"gridcolor\": \"white\", \"gridwidth\": 2, \"linecolor\": \"white\", \"showbackground\": true, \"ticks\": \"\", \"zerolinecolor\": \"white\"}}, \"shapedefaults\": {\"line\": {\"color\": \"#2a3f5f\"}}, \"ternary\": {\"aaxis\": {\"gridcolor\": \"white\", \"linecolor\": \"white\", \"ticks\": \"\"}, \"baxis\": {\"gridcolor\": \"white\", \"linecolor\": \"white\", \"ticks\": \"\"}, \"bgcolor\": \"#E5ECF6\", \"caxis\": {\"gridcolor\": \"white\", \"linecolor\": \"white\", \"ticks\": \"\"}}, \"title\": {\"x\": 0.05}, \"xaxis\": {\"automargin\": true, \"gridcolor\": \"white\", \"linecolor\": \"white\", \"ticks\": \"\", \"zerolinecolor\": \"white\", \"zerolinewidth\": 2}, \"yaxis\": {\"automargin\": true, \"gridcolor\": \"white\", \"linecolor\": \"white\", \"ticks\": \"\", \"zerolinecolor\": \"white\", \"zerolinewidth\": 2}}}, \"title\": {\"text\": \"Smooth Straight Raw Trajectory (cm)\"}},\n",
       "                        {\"responsive\": true}\n",
       "                    ).then(function(){\n",
       "                            \n",
       "var gd = document.getElementById('56f556b7-e5b1-489d-b80a-a48a2def6b07');\n",
       "var x = new MutationObserver(function (mutations, observer) {{\n",
       "        var display = window.getComputedStyle(gd).display;\n",
       "        if (!display || display === 'none') {{\n",
       "            console.log([gd, 'removed!']);\n",
       "            Plotly.purge(gd);\n",
       "            observer.disconnect();\n",
       "        }}\n",
       "}});\n",
       "\n",
       "// Listen for the removal of the full notebook cells\n",
       "var notebookContainer = gd.closest('#notebook-container');\n",
       "if (notebookContainer) {{\n",
       "    x.observe(notebookContainer, {childList: true});\n",
       "}}\n",
       "\n",
       "// Listen for the clearing of the current output cell\n",
       "var outputEl = gd.closest('.output');\n",
       "if (outputEl) {{\n",
       "    x.observe(outputEl, {childList: true});\n",
       "}}\n",
       "\n",
       "                        })\n",
       "                };\n",
       "                });\n",
       "            </script>\n",
       "        </div>"
      ]
     },
     "metadata": {},
     "output_type": "display_data"
    }
   ],
   "source": [
    "# 1. Smooth Straight\n",
    "draw_3d(\"smooth_straight.csv\", \"Smooth Straight Raw Trajectory (cm)\")"
   ]
  },
  {
   "cell_type": "code",
   "execution_count": 6,
   "metadata": {},
   "outputs": [
    {
     "data": {
      "application/vnd.plotly.v1+json": {
       "config": {
        "plotlyServerURL": "https://plot.ly"
       },
       "data": [
        {
         "marker": {
          "color": "red",
          "opacity": 0.8,
          "size": 5
         },
         "mode": "markers",
         "name": "/tag_0",
         "type": "scatter3d",
         "x": [
          -12.583578508911627,
          -12.729334611793677,
          -17.611706227355842,
          -24.607025769221526,
          -28.4449793170037,
          -33.42270192928244,
          -38.44158952010121,
          -41.62423501475349,
          -43.06229648731277,
          -43.73353070911511,
          -44.58731793943762,
          -48.26311420263043,
          -50.71282372225453,
          -54.56995819838133,
          -55.86583608823867,
          -58.26977061740413,
          -60.75745017724541,
          -60.75745017724541,
          -67.97683586679366,
          -70.8503288392911,
          -78.00804332128295,
          -80.3144962544083,
          -87.19940949826923,
          -87.77084684315525,
          -88.8711013305871,
          -93.00233713988078,
          -93.4678722861559,
          -95.17948336683757,
          -97.59203465152879,
          -102.6032623539522,
          -107.76151919541573,
          -107.76151919541573
         ],
         "y": [
          -0.2229488655799861,
          -0.27045455140823904,
          0.33706699712348076,
          0.3745750494486,
          0.8693546732961188,
          0.9619583390382935,
          2.115765802955605,
          0.7482792076937804,
          0.581757749083245,
          0.8497028736750514,
          1.6322408237664954,
          2.675911804617193,
          2.6461984393378213,
          0.813443681646153,
          1.2361168327027938,
          1.3256292876101528,
          0.26129776935612803,
          0.26129776935612803,
          -0.1009409925760485,
          -0.0230086080984293,
          0.7929416807327838,
          0.8586118721948699,
          3.890719255680053,
          4.424828601965403,
          5.531221232246718,
          7.959007905629822,
          7.613309265809631,
          8.024101801375094,
          8.129174427099528,
          8.031998603676849,
          9.09203318764602,
          9.09203318764602
         ],
         "z": [
          0.21198423345976108,
          -0.10890462178418936,
          -0.7677190856304028,
          -1.1379748139973778,
          -1.5373039472191152,
          -2.020495814648604,
          -2.86277900842713,
          -2.4810143966755405,
          -3.2469009878690613,
          -4.026881045819518,
          -4.058766278540027,
          -3.603205271106402,
          -3.6641820479505816,
          -3.763554828012472,
          -3.9766238453821314,
          -3.154479086503037,
          -2.35771878467399,
          -2.35771878467399,
          -0.9100063087050805,
          -0.7604410852143585,
          0.41424763161939104,
          0.12654548671386937,
          3.2399970591592497,
          3.4582334640441923,
          3.0684416200268405,
          4.5712779324738495,
          5.031455493467241,
          4.744198944014744,
          5.306959335340755,
          7.07071865531963,
          7.742761725668901,
          7.742761725668901
         ]
        },
        {
         "marker": {
          "color": "green",
          "opacity": 0.8,
          "size": 5
         },
         "mode": "markers",
         "name": "/camera_pose_frame",
         "type": "scatter3d",
         "x": [
          -2.04463005065918,
          -5.205368250608443,
          -9.48093682527542,
          -15.488341450691227,
          -18.951374292373654,
          -25.105458498001106,
          -30.75924515724182,
          -33.10160338878632,
          -35.277628898620605,
          -37.26528584957123,
          -38.25147747993469,
          -41.134709119796746,
          -45.07966935634613,
          -49.10716712474823,
          -49.26370680332184,
          -50.435179471969604,
          -54.904961585998535,
          -55.02337813377379,
          -62.487924098968506,
          -65.01054763793945,
          -73.57137799263,
          -75.27000904083252,
          -80.64348697662354,
          -82.56812095642091,
          -82.73594975471497,
          -85.28975844383241,
          -86.3362967967987,
          -88.01601529121399,
          -89.41059112548828,
          -95.05339860916138,
          -99.88375902175905,
          -100.17560720443726
         ],
         "y": [
          -5.1686953753232965,
          -9.669509530067444,
          -9.516578912734984,
          -9.458045661449432,
          -9.287642687559128,
          -8.556699752807617,
          -8.890237659215927,
          -9.181453287601473,
          -8.00754427909851,
          -7.60018527507782,
          -7.496698945760727,
          -7.3361672461032885,
          -8.382610231637955,
          -9.41862240433693,
          -9.193639457225801,
          -8.52484181523323,
          -11.252874881029127,
          -11.58795729279518,
          -12.502528727054596,
          -12.265285849571228,
          -13.025905191898346,
          -12.428679317235948,
          -7.864459604024887,
          -6.425021588802338,
          -6.019384413957597,
          -6.77817165851593,
          -6.987380236387253,
          -7.158498466014862,
          -7.07247331738472,
          -6.174701824784279,
          -5.114712193608284,
          -4.908612370491028
         ],
         "z": [
          0.1768913818523288,
          0.09807496098801494,
          0.31253371853381395,
          0.12363819405436516,
          -0.28210524469614034,
          -3.029975667595864,
          -2.250677160918713,
          -5.088065937161446,
          -5.944298580288888,
          -4.850880429148674,
          -5.103572458028793,
          -7.176778465509415,
          -7.978760451078415,
          -4.991907626390457,
          -5.077600851655006,
          -5.5548716336488715,
          -4.66466099023819,
          -4.060889035463333,
          -1.9798723980784416,
          -3.813575953245163,
          -0.8874188177287581,
          0.4793452564626932,
          5.183623358607292,
          6.635954976081848,
          6.714347749948503,
          7.50151053071022,
          8.730025589466095,
          10.127218812704086,
          10.4421466588974,
          11.56354993581772,
          11.966335028409958,
          11.91900447010994
         ]
        }
       ],
       "layout": {
        "font": {
         "family": "Courier New, monospace",
         "size": 15
        },
        "template": {
         "data": {
          "bar": [
           {
            "error_x": {
             "color": "#2a3f5f"
            },
            "error_y": {
             "color": "#2a3f5f"
            },
            "marker": {
             "line": {
              "color": "#E5ECF6",
              "width": 0.5
             }
            },
            "type": "bar"
           }
          ],
          "barpolar": [
           {
            "marker": {
             "line": {
              "color": "#E5ECF6",
              "width": 0.5
             }
            },
            "type": "barpolar"
           }
          ],
          "carpet": [
           {
            "aaxis": {
             "endlinecolor": "#2a3f5f",
             "gridcolor": "white",
             "linecolor": "white",
             "minorgridcolor": "white",
             "startlinecolor": "#2a3f5f"
            },
            "baxis": {
             "endlinecolor": "#2a3f5f",
             "gridcolor": "white",
             "linecolor": "white",
             "minorgridcolor": "white",
             "startlinecolor": "#2a3f5f"
            },
            "type": "carpet"
           }
          ],
          "choropleth": [
           {
            "colorbar": {
             "outlinewidth": 0,
             "ticks": ""
            },
            "type": "choropleth"
           }
          ],
          "contour": [
           {
            "colorbar": {
             "outlinewidth": 0,
             "ticks": ""
            },
            "colorscale": [
             [
              0,
              "#0d0887"
             ],
             [
              0.1111111111111111,
              "#46039f"
             ],
             [
              0.2222222222222222,
              "#7201a8"
             ],
             [
              0.3333333333333333,
              "#9c179e"
             ],
             [
              0.4444444444444444,
              "#bd3786"
             ],
             [
              0.5555555555555556,
              "#d8576b"
             ],
             [
              0.6666666666666666,
              "#ed7953"
             ],
             [
              0.7777777777777778,
              "#fb9f3a"
             ],
             [
              0.8888888888888888,
              "#fdca26"
             ],
             [
              1,
              "#f0f921"
             ]
            ],
            "type": "contour"
           }
          ],
          "contourcarpet": [
           {
            "colorbar": {
             "outlinewidth": 0,
             "ticks": ""
            },
            "type": "contourcarpet"
           }
          ],
          "heatmap": [
           {
            "colorbar": {
             "outlinewidth": 0,
             "ticks": ""
            },
            "colorscale": [
             [
              0,
              "#0d0887"
             ],
             [
              0.1111111111111111,
              "#46039f"
             ],
             [
              0.2222222222222222,
              "#7201a8"
             ],
             [
              0.3333333333333333,
              "#9c179e"
             ],
             [
              0.4444444444444444,
              "#bd3786"
             ],
             [
              0.5555555555555556,
              "#d8576b"
             ],
             [
              0.6666666666666666,
              "#ed7953"
             ],
             [
              0.7777777777777778,
              "#fb9f3a"
             ],
             [
              0.8888888888888888,
              "#fdca26"
             ],
             [
              1,
              "#f0f921"
             ]
            ],
            "type": "heatmap"
           }
          ],
          "heatmapgl": [
           {
            "colorbar": {
             "outlinewidth": 0,
             "ticks": ""
            },
            "colorscale": [
             [
              0,
              "#0d0887"
             ],
             [
              0.1111111111111111,
              "#46039f"
             ],
             [
              0.2222222222222222,
              "#7201a8"
             ],
             [
              0.3333333333333333,
              "#9c179e"
             ],
             [
              0.4444444444444444,
              "#bd3786"
             ],
             [
              0.5555555555555556,
              "#d8576b"
             ],
             [
              0.6666666666666666,
              "#ed7953"
             ],
             [
              0.7777777777777778,
              "#fb9f3a"
             ],
             [
              0.8888888888888888,
              "#fdca26"
             ],
             [
              1,
              "#f0f921"
             ]
            ],
            "type": "heatmapgl"
           }
          ],
          "histogram": [
           {
            "marker": {
             "colorbar": {
              "outlinewidth": 0,
              "ticks": ""
             }
            },
            "type": "histogram"
           }
          ],
          "histogram2d": [
           {
            "colorbar": {
             "outlinewidth": 0,
             "ticks": ""
            },
            "colorscale": [
             [
              0,
              "#0d0887"
             ],
             [
              0.1111111111111111,
              "#46039f"
             ],
             [
              0.2222222222222222,
              "#7201a8"
             ],
             [
              0.3333333333333333,
              "#9c179e"
             ],
             [
              0.4444444444444444,
              "#bd3786"
             ],
             [
              0.5555555555555556,
              "#d8576b"
             ],
             [
              0.6666666666666666,
              "#ed7953"
             ],
             [
              0.7777777777777778,
              "#fb9f3a"
             ],
             [
              0.8888888888888888,
              "#fdca26"
             ],
             [
              1,
              "#f0f921"
             ]
            ],
            "type": "histogram2d"
           }
          ],
          "histogram2dcontour": [
           {
            "colorbar": {
             "outlinewidth": 0,
             "ticks": ""
            },
            "colorscale": [
             [
              0,
              "#0d0887"
             ],
             [
              0.1111111111111111,
              "#46039f"
             ],
             [
              0.2222222222222222,
              "#7201a8"
             ],
             [
              0.3333333333333333,
              "#9c179e"
             ],
             [
              0.4444444444444444,
              "#bd3786"
             ],
             [
              0.5555555555555556,
              "#d8576b"
             ],
             [
              0.6666666666666666,
              "#ed7953"
             ],
             [
              0.7777777777777778,
              "#fb9f3a"
             ],
             [
              0.8888888888888888,
              "#fdca26"
             ],
             [
              1,
              "#f0f921"
             ]
            ],
            "type": "histogram2dcontour"
           }
          ],
          "mesh3d": [
           {
            "colorbar": {
             "outlinewidth": 0,
             "ticks": ""
            },
            "type": "mesh3d"
           }
          ],
          "parcoords": [
           {
            "line": {
             "colorbar": {
              "outlinewidth": 0,
              "ticks": ""
             }
            },
            "type": "parcoords"
           }
          ],
          "scatter": [
           {
            "marker": {
             "colorbar": {
              "outlinewidth": 0,
              "ticks": ""
             }
            },
            "type": "scatter"
           }
          ],
          "scatter3d": [
           {
            "line": {
             "colorbar": {
              "outlinewidth": 0,
              "ticks": ""
             }
            },
            "marker": {
             "colorbar": {
              "outlinewidth": 0,
              "ticks": ""
             }
            },
            "type": "scatter3d"
           }
          ],
          "scattercarpet": [
           {
            "marker": {
             "colorbar": {
              "outlinewidth": 0,
              "ticks": ""
             }
            },
            "type": "scattercarpet"
           }
          ],
          "scattergeo": [
           {
            "marker": {
             "colorbar": {
              "outlinewidth": 0,
              "ticks": ""
             }
            },
            "type": "scattergeo"
           }
          ],
          "scattergl": [
           {
            "marker": {
             "colorbar": {
              "outlinewidth": 0,
              "ticks": ""
             }
            },
            "type": "scattergl"
           }
          ],
          "scattermapbox": [
           {
            "marker": {
             "colorbar": {
              "outlinewidth": 0,
              "ticks": ""
             }
            },
            "type": "scattermapbox"
           }
          ],
          "scatterpolar": [
           {
            "marker": {
             "colorbar": {
              "outlinewidth": 0,
              "ticks": ""
             }
            },
            "type": "scatterpolar"
           }
          ],
          "scatterpolargl": [
           {
            "marker": {
             "colorbar": {
              "outlinewidth": 0,
              "ticks": ""
             }
            },
            "type": "scatterpolargl"
           }
          ],
          "scatterternary": [
           {
            "marker": {
             "colorbar": {
              "outlinewidth": 0,
              "ticks": ""
             }
            },
            "type": "scatterternary"
           }
          ],
          "surface": [
           {
            "colorbar": {
             "outlinewidth": 0,
             "ticks": ""
            },
            "colorscale": [
             [
              0,
              "#0d0887"
             ],
             [
              0.1111111111111111,
              "#46039f"
             ],
             [
              0.2222222222222222,
              "#7201a8"
             ],
             [
              0.3333333333333333,
              "#9c179e"
             ],
             [
              0.4444444444444444,
              "#bd3786"
             ],
             [
              0.5555555555555556,
              "#d8576b"
             ],
             [
              0.6666666666666666,
              "#ed7953"
             ],
             [
              0.7777777777777778,
              "#fb9f3a"
             ],
             [
              0.8888888888888888,
              "#fdca26"
             ],
             [
              1,
              "#f0f921"
             ]
            ],
            "type": "surface"
           }
          ],
          "table": [
           {
            "cells": {
             "fill": {
              "color": "#EBF0F8"
             },
             "line": {
              "color": "white"
             }
            },
            "header": {
             "fill": {
              "color": "#C8D4E3"
             },
             "line": {
              "color": "white"
             }
            },
            "type": "table"
           }
          ]
         },
         "layout": {
          "annotationdefaults": {
           "arrowcolor": "#2a3f5f",
           "arrowhead": 0,
           "arrowwidth": 1
          },
          "colorscale": {
           "diverging": [
            [
             0,
             "#8e0152"
            ],
            [
             0.1,
             "#c51b7d"
            ],
            [
             0.2,
             "#de77ae"
            ],
            [
             0.3,
             "#f1b6da"
            ],
            [
             0.4,
             "#fde0ef"
            ],
            [
             0.5,
             "#f7f7f7"
            ],
            [
             0.6,
             "#e6f5d0"
            ],
            [
             0.7,
             "#b8e186"
            ],
            [
             0.8,
             "#7fbc41"
            ],
            [
             0.9,
             "#4d9221"
            ],
            [
             1,
             "#276419"
            ]
           ],
           "sequential": [
            [
             0,
             "#0d0887"
            ],
            [
             0.1111111111111111,
             "#46039f"
            ],
            [
             0.2222222222222222,
             "#7201a8"
            ],
            [
             0.3333333333333333,
             "#9c179e"
            ],
            [
             0.4444444444444444,
             "#bd3786"
            ],
            [
             0.5555555555555556,
             "#d8576b"
            ],
            [
             0.6666666666666666,
             "#ed7953"
            ],
            [
             0.7777777777777778,
             "#fb9f3a"
            ],
            [
             0.8888888888888888,
             "#fdca26"
            ],
            [
             1,
             "#f0f921"
            ]
           ],
           "sequentialminus": [
            [
             0,
             "#0d0887"
            ],
            [
             0.1111111111111111,
             "#46039f"
            ],
            [
             0.2222222222222222,
             "#7201a8"
            ],
            [
             0.3333333333333333,
             "#9c179e"
            ],
            [
             0.4444444444444444,
             "#bd3786"
            ],
            [
             0.5555555555555556,
             "#d8576b"
            ],
            [
             0.6666666666666666,
             "#ed7953"
            ],
            [
             0.7777777777777778,
             "#fb9f3a"
            ],
            [
             0.8888888888888888,
             "#fdca26"
            ],
            [
             1,
             "#f0f921"
            ]
           ]
          },
          "colorway": [
           "#636efa",
           "#EF553B",
           "#00cc96",
           "#ab63fa",
           "#FFA15A",
           "#19d3f3",
           "#FF6692",
           "#B6E880",
           "#FF97FF",
           "#FECB52"
          ],
          "font": {
           "color": "#2a3f5f"
          },
          "geo": {
           "bgcolor": "white",
           "lakecolor": "white",
           "landcolor": "#E5ECF6",
           "showlakes": true,
           "showland": true,
           "subunitcolor": "white"
          },
          "hoverlabel": {
           "align": "left"
          },
          "hovermode": "closest",
          "mapbox": {
           "style": "light"
          },
          "paper_bgcolor": "white",
          "plot_bgcolor": "#E5ECF6",
          "polar": {
           "angularaxis": {
            "gridcolor": "white",
            "linecolor": "white",
            "ticks": ""
           },
           "bgcolor": "#E5ECF6",
           "radialaxis": {
            "gridcolor": "white",
            "linecolor": "white",
            "ticks": ""
           }
          },
          "scene": {
           "xaxis": {
            "backgroundcolor": "#E5ECF6",
            "gridcolor": "white",
            "gridwidth": 2,
            "linecolor": "white",
            "showbackground": true,
            "ticks": "",
            "zerolinecolor": "white"
           },
           "yaxis": {
            "backgroundcolor": "#E5ECF6",
            "gridcolor": "white",
            "gridwidth": 2,
            "linecolor": "white",
            "showbackground": true,
            "ticks": "",
            "zerolinecolor": "white"
           },
           "zaxis": {
            "backgroundcolor": "#E5ECF6",
            "gridcolor": "white",
            "gridwidth": 2,
            "linecolor": "white",
            "showbackground": true,
            "ticks": "",
            "zerolinecolor": "white"
           }
          },
          "shapedefaults": {
           "line": {
            "color": "#2a3f5f"
           }
          },
          "ternary": {
           "aaxis": {
            "gridcolor": "white",
            "linecolor": "white",
            "ticks": ""
           },
           "baxis": {
            "gridcolor": "white",
            "linecolor": "white",
            "ticks": ""
           },
           "bgcolor": "#E5ECF6",
           "caxis": {
            "gridcolor": "white",
            "linecolor": "white",
            "ticks": ""
           }
          },
          "title": {
           "x": 0.05
          },
          "xaxis": {
           "automargin": true,
           "gridcolor": "white",
           "linecolor": "white",
           "ticks": "",
           "zerolinecolor": "white",
           "zerolinewidth": 2
          },
          "yaxis": {
           "automargin": true,
           "gridcolor": "white",
           "linecolor": "white",
           "ticks": "",
           "zerolinecolor": "white",
           "zerolinewidth": 2
          }
         }
        },
        "title": {
         "text": "Rugged Straight Raw Trajectory (cm)"
        }
       }
      },
      "text/html": [
       "<div>\n",
       "        \n",
       "        \n",
       "            <div id=\"33607411-00c8-4f3e-8583-a1903eff66fa\" class=\"plotly-graph-div\" style=\"height:525px; width:100%;\"></div>\n",
       "            <script type=\"text/javascript\">\n",
       "                require([\"plotly\"], function(Plotly) {\n",
       "                    window.PLOTLYENV=window.PLOTLYENV || {};\n",
       "                    \n",
       "                if (document.getElementById(\"33607411-00c8-4f3e-8583-a1903eff66fa\")) {\n",
       "                    Plotly.newPlot(\n",
       "                        '33607411-00c8-4f3e-8583-a1903eff66fa',\n",
       "                        [{\"marker\": {\"color\": \"red\", \"opacity\": 0.8, \"size\": 5}, \"mode\": \"markers\", \"name\": \"/tag_0\", \"type\": \"scatter3d\", \"x\": [-12.583578508911627, -12.729334611793677, -17.611706227355842, -24.607025769221526, -28.4449793170037, -33.42270192928244, -38.44158952010121, -41.62423501475349, -43.06229648731277, -43.73353070911511, -44.58731793943762, -48.26311420263043, -50.71282372225453, -54.56995819838133, -55.86583608823867, -58.26977061740413, -60.75745017724541, -60.75745017724541, -67.97683586679366, -70.8503288392911, -78.00804332128295, -80.3144962544083, -87.19940949826923, -87.77084684315525, -88.8711013305871, -93.00233713988078, -93.4678722861559, -95.17948336683757, -97.59203465152879, -102.6032623539522, -107.76151919541573, -107.76151919541573], \"y\": [-0.2229488655799861, -0.27045455140823904, 0.33706699712348076, 0.3745750494486, 0.8693546732961188, 0.9619583390382935, 2.115765802955605, 0.7482792076937804, 0.581757749083245, 0.8497028736750514, 1.6322408237664954, 2.675911804617193, 2.6461984393378213, 0.813443681646153, 1.2361168327027938, 1.3256292876101528, 0.26129776935612803, 0.26129776935612803, -0.1009409925760485, -0.0230086080984293, 0.7929416807327838, 0.8586118721948699, 3.890719255680053, 4.424828601965403, 5.531221232246718, 7.959007905629822, 7.613309265809631, 8.024101801375094, 8.129174427099528, 8.031998603676849, 9.09203318764602, 9.09203318764602], \"z\": [0.21198423345976108, -0.10890462178418936, -0.7677190856304028, -1.1379748139973778, -1.5373039472191152, -2.020495814648604, -2.86277900842713, -2.4810143966755405, -3.2469009878690613, -4.026881045819518, -4.058766278540027, -3.603205271106402, -3.6641820479505816, -3.763554828012472, -3.9766238453821314, -3.154479086503037, -2.35771878467399, -2.35771878467399, -0.9100063087050805, -0.7604410852143585, 0.41424763161939104, 0.12654548671386937, 3.2399970591592497, 3.4582334640441923, 3.0684416200268405, 4.5712779324738495, 5.031455493467241, 4.744198944014744, 5.306959335340755, 7.07071865531963, 7.742761725668901, 7.742761725668901]}, {\"marker\": {\"color\": \"green\", \"opacity\": 0.8, \"size\": 5}, \"mode\": \"markers\", \"name\": \"/camera_pose_frame\", \"type\": \"scatter3d\", \"x\": [-2.04463005065918, -5.205368250608443, -9.48093682527542, -15.488341450691227, -18.951374292373654, -25.105458498001106, -30.75924515724182, -33.10160338878632, -35.277628898620605, -37.26528584957123, -38.25147747993469, -41.134709119796746, -45.07966935634613, -49.10716712474823, -49.26370680332184, -50.435179471969604, -54.904961585998535, -55.02337813377379, -62.487924098968506, -65.01054763793945, -73.57137799263, -75.27000904083252, -80.64348697662354, -82.56812095642091, -82.73594975471497, -85.28975844383241, -86.3362967967987, -88.01601529121399, -89.41059112548828, -95.05339860916138, -99.88375902175905, -100.17560720443726], \"y\": [-5.1686953753232965, -9.669509530067444, -9.516578912734984, -9.458045661449432, -9.287642687559128, -8.556699752807617, -8.890237659215927, -9.181453287601473, -8.00754427909851, -7.60018527507782, -7.496698945760727, -7.3361672461032885, -8.382610231637955, -9.41862240433693, -9.193639457225801, -8.52484181523323, -11.252874881029127, -11.58795729279518, -12.502528727054596, -12.265285849571228, -13.025905191898346, -12.428679317235948, -7.864459604024887, -6.425021588802338, -6.019384413957597, -6.77817165851593, -6.987380236387253, -7.158498466014862, -7.07247331738472, -6.174701824784279, -5.114712193608284, -4.908612370491028], \"z\": [0.1768913818523288, 0.09807496098801494, 0.31253371853381395, 0.12363819405436516, -0.28210524469614034, -3.029975667595864, -2.250677160918713, -5.088065937161446, -5.944298580288888, -4.850880429148674, -5.103572458028793, -7.176778465509415, -7.978760451078415, -4.991907626390457, -5.077600851655006, -5.5548716336488715, -4.66466099023819, -4.060889035463333, -1.9798723980784416, -3.813575953245163, -0.8874188177287581, 0.4793452564626932, 5.183623358607292, 6.635954976081848, 6.714347749948503, 7.50151053071022, 8.730025589466095, 10.127218812704086, 10.4421466588974, 11.56354993581772, 11.966335028409958, 11.91900447010994]}],\n",
       "                        {\"font\": {\"family\": \"Courier New, monospace\", \"size\": 15}, \"template\": {\"data\": {\"bar\": [{\"error_x\": {\"color\": \"#2a3f5f\"}, \"error_y\": {\"color\": \"#2a3f5f\"}, \"marker\": {\"line\": {\"color\": \"#E5ECF6\", \"width\": 0.5}}, \"type\": \"bar\"}], \"barpolar\": [{\"marker\": {\"line\": {\"color\": \"#E5ECF6\", \"width\": 0.5}}, \"type\": \"barpolar\"}], \"carpet\": [{\"aaxis\": {\"endlinecolor\": \"#2a3f5f\", \"gridcolor\": \"white\", \"linecolor\": \"white\", \"minorgridcolor\": \"white\", \"startlinecolor\": \"#2a3f5f\"}, \"baxis\": {\"endlinecolor\": \"#2a3f5f\", \"gridcolor\": \"white\", \"linecolor\": \"white\", \"minorgridcolor\": \"white\", \"startlinecolor\": \"#2a3f5f\"}, \"type\": \"carpet\"}], \"choropleth\": [{\"colorbar\": {\"outlinewidth\": 0, \"ticks\": \"\"}, \"type\": \"choropleth\"}], \"contour\": [{\"colorbar\": {\"outlinewidth\": 0, \"ticks\": \"\"}, \"colorscale\": [[0.0, \"#0d0887\"], [0.1111111111111111, \"#46039f\"], [0.2222222222222222, \"#7201a8\"], [0.3333333333333333, \"#9c179e\"], [0.4444444444444444, \"#bd3786\"], [0.5555555555555556, \"#d8576b\"], [0.6666666666666666, \"#ed7953\"], [0.7777777777777778, \"#fb9f3a\"], [0.8888888888888888, \"#fdca26\"], [1.0, \"#f0f921\"]], \"type\": \"contour\"}], \"contourcarpet\": [{\"colorbar\": {\"outlinewidth\": 0, \"ticks\": \"\"}, \"type\": \"contourcarpet\"}], \"heatmap\": [{\"colorbar\": {\"outlinewidth\": 0, \"ticks\": \"\"}, \"colorscale\": [[0.0, \"#0d0887\"], [0.1111111111111111, \"#46039f\"], [0.2222222222222222, \"#7201a8\"], [0.3333333333333333, \"#9c179e\"], [0.4444444444444444, \"#bd3786\"], [0.5555555555555556, \"#d8576b\"], [0.6666666666666666, \"#ed7953\"], [0.7777777777777778, \"#fb9f3a\"], [0.8888888888888888, \"#fdca26\"], [1.0, \"#f0f921\"]], \"type\": \"heatmap\"}], \"heatmapgl\": [{\"colorbar\": {\"outlinewidth\": 0, \"ticks\": \"\"}, \"colorscale\": [[0.0, \"#0d0887\"], [0.1111111111111111, \"#46039f\"], [0.2222222222222222, \"#7201a8\"], [0.3333333333333333, \"#9c179e\"], [0.4444444444444444, \"#bd3786\"], [0.5555555555555556, \"#d8576b\"], [0.6666666666666666, \"#ed7953\"], [0.7777777777777778, \"#fb9f3a\"], [0.8888888888888888, \"#fdca26\"], [1.0, \"#f0f921\"]], \"type\": \"heatmapgl\"}], \"histogram\": [{\"marker\": {\"colorbar\": {\"outlinewidth\": 0, \"ticks\": \"\"}}, \"type\": \"histogram\"}], \"histogram2d\": [{\"colorbar\": {\"outlinewidth\": 0, \"ticks\": \"\"}, \"colorscale\": [[0.0, \"#0d0887\"], [0.1111111111111111, \"#46039f\"], [0.2222222222222222, \"#7201a8\"], [0.3333333333333333, \"#9c179e\"], [0.4444444444444444, \"#bd3786\"], [0.5555555555555556, \"#d8576b\"], [0.6666666666666666, \"#ed7953\"], [0.7777777777777778, \"#fb9f3a\"], [0.8888888888888888, \"#fdca26\"], [1.0, \"#f0f921\"]], \"type\": \"histogram2d\"}], \"histogram2dcontour\": [{\"colorbar\": {\"outlinewidth\": 0, \"ticks\": \"\"}, \"colorscale\": [[0.0, \"#0d0887\"], [0.1111111111111111, \"#46039f\"], [0.2222222222222222, \"#7201a8\"], [0.3333333333333333, \"#9c179e\"], [0.4444444444444444, \"#bd3786\"], [0.5555555555555556, \"#d8576b\"], [0.6666666666666666, \"#ed7953\"], [0.7777777777777778, \"#fb9f3a\"], [0.8888888888888888, \"#fdca26\"], [1.0, \"#f0f921\"]], \"type\": \"histogram2dcontour\"}], \"mesh3d\": [{\"colorbar\": {\"outlinewidth\": 0, \"ticks\": \"\"}, \"type\": \"mesh3d\"}], \"parcoords\": [{\"line\": {\"colorbar\": {\"outlinewidth\": 0, \"ticks\": \"\"}}, \"type\": \"parcoords\"}], \"scatter\": [{\"marker\": {\"colorbar\": {\"outlinewidth\": 0, \"ticks\": \"\"}}, \"type\": \"scatter\"}], \"scatter3d\": [{\"line\": {\"colorbar\": {\"outlinewidth\": 0, \"ticks\": \"\"}}, \"marker\": {\"colorbar\": {\"outlinewidth\": 0, \"ticks\": \"\"}}, \"type\": \"scatter3d\"}], \"scattercarpet\": [{\"marker\": {\"colorbar\": {\"outlinewidth\": 0, \"ticks\": \"\"}}, \"type\": \"scattercarpet\"}], \"scattergeo\": [{\"marker\": {\"colorbar\": {\"outlinewidth\": 0, \"ticks\": \"\"}}, \"type\": \"scattergeo\"}], \"scattergl\": [{\"marker\": {\"colorbar\": {\"outlinewidth\": 0, \"ticks\": \"\"}}, \"type\": \"scattergl\"}], \"scattermapbox\": [{\"marker\": {\"colorbar\": {\"outlinewidth\": 0, \"ticks\": \"\"}}, \"type\": \"scattermapbox\"}], \"scatterpolar\": [{\"marker\": {\"colorbar\": {\"outlinewidth\": 0, \"ticks\": \"\"}}, \"type\": \"scatterpolar\"}], \"scatterpolargl\": [{\"marker\": {\"colorbar\": {\"outlinewidth\": 0, \"ticks\": \"\"}}, \"type\": \"scatterpolargl\"}], \"scatterternary\": [{\"marker\": {\"colorbar\": {\"outlinewidth\": 0, \"ticks\": \"\"}}, \"type\": \"scatterternary\"}], \"surface\": [{\"colorbar\": {\"outlinewidth\": 0, \"ticks\": \"\"}, \"colorscale\": [[0.0, \"#0d0887\"], [0.1111111111111111, \"#46039f\"], [0.2222222222222222, \"#7201a8\"], [0.3333333333333333, \"#9c179e\"], [0.4444444444444444, \"#bd3786\"], [0.5555555555555556, \"#d8576b\"], [0.6666666666666666, \"#ed7953\"], [0.7777777777777778, \"#fb9f3a\"], [0.8888888888888888, \"#fdca26\"], [1.0, \"#f0f921\"]], \"type\": \"surface\"}], \"table\": [{\"cells\": {\"fill\": {\"color\": \"#EBF0F8\"}, \"line\": {\"color\": \"white\"}}, \"header\": {\"fill\": {\"color\": \"#C8D4E3\"}, \"line\": {\"color\": \"white\"}}, \"type\": \"table\"}]}, \"layout\": {\"annotationdefaults\": {\"arrowcolor\": \"#2a3f5f\", \"arrowhead\": 0, \"arrowwidth\": 1}, \"colorscale\": {\"diverging\": [[0, \"#8e0152\"], [0.1, \"#c51b7d\"], [0.2, \"#de77ae\"], [0.3, \"#f1b6da\"], [0.4, \"#fde0ef\"], [0.5, \"#f7f7f7\"], [0.6, \"#e6f5d0\"], [0.7, \"#b8e186\"], [0.8, \"#7fbc41\"], [0.9, \"#4d9221\"], [1, \"#276419\"]], \"sequential\": [[0.0, \"#0d0887\"], [0.1111111111111111, \"#46039f\"], [0.2222222222222222, \"#7201a8\"], [0.3333333333333333, \"#9c179e\"], [0.4444444444444444, \"#bd3786\"], [0.5555555555555556, \"#d8576b\"], [0.6666666666666666, \"#ed7953\"], [0.7777777777777778, \"#fb9f3a\"], [0.8888888888888888, \"#fdca26\"], [1.0, \"#f0f921\"]], \"sequentialminus\": [[0.0, \"#0d0887\"], [0.1111111111111111, \"#46039f\"], [0.2222222222222222, \"#7201a8\"], [0.3333333333333333, \"#9c179e\"], [0.4444444444444444, \"#bd3786\"], [0.5555555555555556, \"#d8576b\"], [0.6666666666666666, \"#ed7953\"], [0.7777777777777778, \"#fb9f3a\"], [0.8888888888888888, \"#fdca26\"], [1.0, \"#f0f921\"]]}, \"colorway\": [\"#636efa\", \"#EF553B\", \"#00cc96\", \"#ab63fa\", \"#FFA15A\", \"#19d3f3\", \"#FF6692\", \"#B6E880\", \"#FF97FF\", \"#FECB52\"], \"font\": {\"color\": \"#2a3f5f\"}, \"geo\": {\"bgcolor\": \"white\", \"lakecolor\": \"white\", \"landcolor\": \"#E5ECF6\", \"showlakes\": true, \"showland\": true, \"subunitcolor\": \"white\"}, \"hoverlabel\": {\"align\": \"left\"}, \"hovermode\": \"closest\", \"mapbox\": {\"style\": \"light\"}, \"paper_bgcolor\": \"white\", \"plot_bgcolor\": \"#E5ECF6\", \"polar\": {\"angularaxis\": {\"gridcolor\": \"white\", \"linecolor\": \"white\", \"ticks\": \"\"}, \"bgcolor\": \"#E5ECF6\", \"radialaxis\": {\"gridcolor\": \"white\", \"linecolor\": \"white\", \"ticks\": \"\"}}, \"scene\": {\"xaxis\": {\"backgroundcolor\": \"#E5ECF6\", \"gridcolor\": \"white\", \"gridwidth\": 2, \"linecolor\": \"white\", \"showbackground\": true, \"ticks\": \"\", \"zerolinecolor\": \"white\"}, \"yaxis\": {\"backgroundcolor\": \"#E5ECF6\", \"gridcolor\": \"white\", \"gridwidth\": 2, \"linecolor\": \"white\", \"showbackground\": true, \"ticks\": \"\", \"zerolinecolor\": \"white\"}, \"zaxis\": {\"backgroundcolor\": \"#E5ECF6\", \"gridcolor\": \"white\", \"gridwidth\": 2, \"linecolor\": \"white\", \"showbackground\": true, \"ticks\": \"\", \"zerolinecolor\": \"white\"}}, \"shapedefaults\": {\"line\": {\"color\": \"#2a3f5f\"}}, \"ternary\": {\"aaxis\": {\"gridcolor\": \"white\", \"linecolor\": \"white\", \"ticks\": \"\"}, \"baxis\": {\"gridcolor\": \"white\", \"linecolor\": \"white\", \"ticks\": \"\"}, \"bgcolor\": \"#E5ECF6\", \"caxis\": {\"gridcolor\": \"white\", \"linecolor\": \"white\", \"ticks\": \"\"}}, \"title\": {\"x\": 0.05}, \"xaxis\": {\"automargin\": true, \"gridcolor\": \"white\", \"linecolor\": \"white\", \"ticks\": \"\", \"zerolinecolor\": \"white\", \"zerolinewidth\": 2}, \"yaxis\": {\"automargin\": true, \"gridcolor\": \"white\", \"linecolor\": \"white\", \"ticks\": \"\", \"zerolinecolor\": \"white\", \"zerolinewidth\": 2}}}, \"title\": {\"text\": \"Rugged Straight Raw Trajectory (cm)\"}},\n",
       "                        {\"responsive\": true}\n",
       "                    ).then(function(){\n",
       "                            \n",
       "var gd = document.getElementById('33607411-00c8-4f3e-8583-a1903eff66fa');\n",
       "var x = new MutationObserver(function (mutations, observer) {{\n",
       "        var display = window.getComputedStyle(gd).display;\n",
       "        if (!display || display === 'none') {{\n",
       "            console.log([gd, 'removed!']);\n",
       "            Plotly.purge(gd);\n",
       "            observer.disconnect();\n",
       "        }}\n",
       "}});\n",
       "\n",
       "// Listen for the removal of the full notebook cells\n",
       "var notebookContainer = gd.closest('#notebook-container');\n",
       "if (notebookContainer) {{\n",
       "    x.observe(notebookContainer, {childList: true});\n",
       "}}\n",
       "\n",
       "// Listen for the clearing of the current output cell\n",
       "var outputEl = gd.closest('.output');\n",
       "if (outputEl) {{\n",
       "    x.observe(outputEl, {childList: true});\n",
       "}}\n",
       "\n",
       "                        })\n",
       "                };\n",
       "                });\n",
       "            </script>\n",
       "        </div>"
      ]
     },
     "metadata": {},
     "output_type": "display_data"
    }
   ],
   "source": [
    "# 2. Rugged Straight\n",
    "draw_3d(\"rugged_straight.csv\", \"Rugged Straight Raw Trajectory (cm)\")"
   ]
  },
  {
   "cell_type": "code",
   "execution_count": 7,
   "metadata": {},
   "outputs": [
    {
     "data": {
      "application/vnd.plotly.v1+json": {
       "config": {
        "plotlyServerURL": "https://plot.ly"
       },
       "data": [
        {
         "marker": {
          "color": "red",
          "opacity": 0.8,
          "size": 5
         },
         "mode": "markers",
         "name": "/tag_0",
         "type": "scatter3d",
         "x": [
          -15.11513961425839,
          -18.315888463960462,
          -24.40316489174734,
          -28.11232096260833,
          -30.860165163642385,
          -35.335576020626704,
          -38.29018093447909,
          -39.747957210568465,
          -40.19539497699671,
          -41.29452048039622,
          -48.45365860269668,
          -48.64098480064561,
          -57.044207904459135,
          -57.80680027120822,
          -57.80680027120822,
          -59.087057568497656,
          -64.48818274835249,
          -64.48818274835249,
          -67.96291913258825,
          -68.68427479264318,
          -73.37761659133315,
          -73.33601079918392,
          -73.89784695100066,
          -74.78729636730309,
          -77.67182127358711,
          -78.19879674286585,
          -77.87897112762434,
          -78.84582448669202,
          -79.32099734487737,
          -81.2264834013277,
          -86.32805391380232,
          -86.93046094854171,
          -87.73972094353515,
          -87.73972094353519,
          -88.76242644584332,
          -90.22345539089083,
          -92.21219144993285,
          -95.79933681326689,
          -97.77708172739221,
          -98.58084483196312,
          -102.09765333373149,
          -106.54677764542528,
          -107.61360551383063,
          -112.57364706205723,
          -115.12744312827463,
          -116.52437982063877,
          -116.8290919625443,
          -116.56825359537098,
          -117.68895198474767,
          -119.90505358378418,
          -120.63276007172567,
          -124.63836302117915,
          -127.89367177921594,
          -129.2420736145135,
          -130.8197037828406,
          -136.65990731907257,
          -137.89444714054264,
          -141.3789508976979,
          -143.65772087173184,
          -143.91792403132894,
          -144.30845732408537,
          -144.16385415964535,
          -144.86645923593605,
          -144.86645923593605,
          -144.83240623162862,
          -145.0267862478337,
          -145.05623608030385,
          -145.2996030490974,
          -145.346436295798,
          -145.47860325737489,
          -145.68668570838892,
          -147.74724977046304,
          -149.2686048405883,
          -150.98116106526888,
          -151.0085933678791,
          -151.91281803016366,
          -151.00021423602414,
          -149.74502723842056,
          -149.30697142442523,
          -149.30697142442523,
          -147.8949293620117,
          -148.20484766330878,
          -148.10092912203015,
          -147.56521444938144,
          -147.56521444938144,
          -145.40336133486971,
          -145.00287969702936,
          -143.77622758777707,
          -139.67599071897965,
          -136.67229160651357,
          -133.73705732141528,
          -133.06441848168978,
          -128.97331649585283,
          -127.27048102281407,
          -126.18654050440206,
          -119.85779995807313,
          -119.85779995807313,
          -120.2092740982137,
          -118.87351548957992,
          -117.32616841417493,
          -115.25549146971659,
          -107.1313407761886,
          -105.65983784935106,
          -105.65983784935106,
          -104.52063548180564,
          -102.30801843343696,
          -100.9193256373695,
          -100.29474418229407,
          -99.78714935832255,
          -99.61690320156535,
          -97.72961239251686,
          -97.21074804960264,
          -96.86445280713463,
          -95.54365670698334,
          -94.01198506728309,
          -87.77270308740745,
          -87.11227213449257,
          -86.06688977150738,
          -83.58915998627904,
          -80.94041073524467,
          -80.24413439021652,
          -77.06888394821017,
          -76.319842843107,
          -75.24648750799814,
          -73.7705272548473,
          -73.7705272548473,
          -71.56399903810188,
          -67.55738827577046,
          -64.80617019147826,
          -59.52631468232781,
          -57.54305343377947,
          -56.78111565961922,
          -55.309965247198114
         ],
         "y": [
          0.04642484694483695,
          -0.025114726314856554,
          -0.0025623024450638354,
          -0.42533812816847316,
          -1.93773046385366,
          -4.103031339309894,
          -4.375101373115897,
          -5.095817458269637,
          -4.777538173800512,
          -4.243638455534749,
          -2.7197026546461838,
          -2.908383939159398,
          5.435532131713683,
          6.342769152472716,
          6.342769152472716,
          8.015817012737948,
          15.331237229004223,
          15.331237229004223,
          20.17168364227444,
          21.856755995991612,
          25.036974216207586,
          24.61330179116468,
          26.59516474994041,
          27.65195240428604,
          32.96239281731628,
          35.53128269022936,
          37.82096501998449,
          42.79977187686221,
          45.49695600099326,
          48.87430123458236,
          53.944330087458134,
          53.82374741569158,
          53.87709981827855,
          53.87709981827855,
          55.44566567802942,
          54.774698423729326,
          55.26874614494361,
          55.3856478116933,
          58.089454889426605,
          57.87440387117621,
          60.905888399405384,
          63.301512174147454,
          63.920751421685566,
          65.46775336685691,
          64.78769801337691,
          63.42140025682988,
          62.9767193379406,
          64.05585236709656,
          63.20142168448737,
          60.876132482883946,
          61.12578868467309,
          59.781931777360555,
          59.08808620622208,
          58.50402264015753,
          57.56179711230169,
          54.278018830041866,
          51.80391543604721,
          48.632641791535754,
          43.810448093441366,
          42.53800560106331,
          41.14315270187587,
          39.997683327694176,
          35.755306148563335,
          35.755306148563335,
          34.654973033055555,
          34.327553664723666,
          33.216567545183814,
          32.83727551270299,
          31.345577651231803,
          30.812582652259547,
          30.179207694541542,
          30.767068860244386,
          27.489867915235934,
          26.27429622995767,
          23.550086130671865,
          20.987523618798033,
          12.998892272842365,
          10.72109216907009,
          10.211912655893853,
          10.211912655893853,
          4.872345025719317,
          5.635795168672898,
          4.618432237925507,
          3.405190999360763,
          3.405190999360763,
          -3.330975998337471,
          -4.112399952124402,
          -5.899431068719285,
          -10.753496583486855,
          -13.347403066056696,
          -14.53530021364976,
          -15.186894620871104,
          -16.65736586465637,
          -16.902865982746885,
          -16.817696189579433,
          -15.77979249414142,
          -15.77979249414142,
          -16.01301870240015,
          -14.093992208565986,
          -13.839207954075261,
          -12.149736516103806,
          -6.489989069234303,
          -5.336701164921598,
          -5.336701164921598,
          -4.498190427116122,
          -2.9079932757418487,
          -1.3001885919426526,
          -0.323035425896312,
          1.2142235526546583,
          2.186484104202924,
          4.334965721211104,
          4.882646727234552,
          5.451192726036802,
          6.871549540780064,
          8.413881134915858,
          12.797696024614025,
          13.17313330789569,
          13.624929437791788,
          14.416894111566014,
          13.563546288021122,
          12.91274454836946,
          11.728734459867727,
          11.896252686632748,
          11.675054439173428,
          11.835426995791297,
          11.835426995791297,
          11.102502281012503,
          10.056659336132757,
          8.278897261888263,
          4.7943223808874835,
          3.4502232529407095,
          3.113091850963423,
          2.1034849316210025
         ],
         "z": [
          -0.06966723863461867,
          -0.25250482024132825,
          -0.4563900825845124,
          -0.7036750171232953,
          -0.24257486442389448,
          -0.7005035009106432,
          -1.5150703031092227,
          -1.2983591356490851,
          -2.29551763729281,
          -2.586049498500653,
          -2.1431344272964337,
          -1.8254264139156757,
          -3.3771528891787463,
          -3.2494784793090536,
          -3.2494784793090536,
          -3.3422536155607077,
          -3.327574655826715,
          -3.327574655826715,
          -3.1641743620666416,
          -3.6004724379896667,
          -3.2129614486492875,
          -3.146180877179794,
          -3.8496798632027716,
          -3.2610031552037446,
          -3.7685687318480987,
          -3.743055184314392,
          -3.8376834730387674,
          -3.0225314032631845,
          -3.9651527956967367,
          -3.423380455405689,
          -3.4703955165619416,
          -3.353268655900865,
          -3.1205709851015895,
          -3.1205709851015895,
          -4.43882098582542,
          -3.5455352424748288,
          -3.820452372462689,
          -3.168608843347709,
          -3.86582211386004,
          -3.072168053860192,
          -3.8472535308577083,
          -4.311147816770533,
          -4.5477181337203465,
          -5.157023271381012,
          -5.141862302506572,
          -4.834955277646014,
          -4.485411229823577,
          -5.84194941509808,
          -5.584427246329549,
          -5.0022400042065485,
          -5.492778912477325,
          -5.8234428563123775,
          -6.096767059945417,
          -5.810919144726956,
          -5.64053834739946,
          -7.849123107338453,
          -7.847750580633582,
          -7.271489006087295,
          -5.2196488668312835,
          -4.56793994377096,
          -5.170941964985398,
          -4.1592050008984796,
          -5.0594166213987934,
          -5.0594166213987934,
          -4.646014265505505,
          -5.048518106120525,
          -4.795080240798622,
          -5.367154449799694,
          -4.802057697550022,
          -5.106931616855137,
          -5.261122155281338,
          -7.906059044316982,
          -7.507851217749506,
          -9.176459297320516,
          -7.333172950616995,
          -7.725457355431309,
          -8.742924879594982,
          -7.57696709332365,
          -7.737702648141598,
          -7.737702648141598,
          -7.187369886503703,
          -8.165395471861101,
          -8.08157335276034,
          -7.917393445005749,
          -7.917393445005749,
          -7.535631691587398,
          -7.327910443990859,
          -7.3714911751662004,
          -7.181001582284696,
          -6.392007211248907,
          -6.85242507980377,
          -6.364450753253292,
          -6.1736700961165125,
          -6.181413953894888,
          -6.413189299810695,
          -4.9699627546992975,
          -4.9699627546992975,
          -5.189490217534986,
          -6.642862101185234,
          -5.15541782379918,
          -5.537706259371201,
          -5.108719322947475,
          -5.139885019832646,
          -5.139885019832646,
          -5.081584531246697,
          -4.924404864878151,
          -5.269982947714591,
          -4.93411883388224,
          -4.6111929153462405,
          -5.1772415968435395,
          -4.942327250186507,
          -4.355854518435609,
          -4.402230377141868,
          -4.424545001127545,
          -4.243342566795239,
          -3.8553648849611433,
          -3.931829415240373,
          -3.892326124025547,
          -3.7270263037498133,
          -3.4023382914813984,
          -2.8303154314742063,
          -2.5899598748423625,
          -3.1697964648413235,
          -3.186455347395478,
          -3.381339191726873,
          -3.381339191726873,
          -1.9370801970898688,
          -2.899236674273053,
          -2.7451385040331293,
          -2.397959833901253,
          -2.231693451516881,
          -2.355782492872493,
          -2.213446354386273
         ]
        },
        {
         "marker": {
          "color": "green",
          "opacity": 0.8,
          "size": 5
         },
         "mode": "markers",
         "name": "/camera_pose_frame",
         "type": "scatter3d",
         "x": [
          -5.045053362846375,
          -8.821293711662292,
          -15.047046542167667,
          -18.517574667930607,
          -18.935422599315647,
          -25.093066692352288,
          -29.288774728775024,
          -33.45901668071747,
          -34.00537073612213,
          -35.098975896835334,
          -41.93802773952484,
          -45.21025717258453,
          -53.293466567993164,
          -53.63696813583374,
          -53.79354953765869,
          -55.12613654136658,
          -60.22680401802063,
          -60.42478680610657,
          -63.411879539489746,
          -65.03721475601196,
          -68.7699019908905,
          -69.14563179016113,
          -69.55626606941223,
          -70.77800631523132,
          -72.16861844062805,
          -71.62306308746338,
          -69.82436180114746,
          -69.62822079658508,
          -69.8412299156189,
          -71.24649286270142,
          -75.75106620788574,
          -74.70068931579591,
          -74.79907274246216,
          -75.20158290863037,
          -78.46668362617493,
          -79.79584336280823,
          -81.87076449394226,
          -83.15272331237793,
          -83.65908861160278,
          -85.37841439247131,
          -91.12495183944702,
          -95.35551667213441,
          -96.64561152458192,
          -102.09819078445437,
          -103.69752645492554,
          -103.615403175354,
          -105.35831451416016,
          -107.64464139938354,
          -107.89667367935178,
          -110.15181541442871,
          -111.25961542129517,
          -115.16824960708618,
          -124.2559194564819,
          -125.2110481262207,
          -128.55101823806766,
          -131.28199577331543,
          -135.45976877212524,
          -140.8480405807495,
          -141.13128185272217,
          -141.33951663970947,
          -141.4320707321167,
          -141.55598878860474,
          -142.21811294555664,
          -142.4111008644104,
          -142.48626232147217,
          -142.63499975204468,
          -142.72446632385254,
          -142.91164875030518,
          -142.85920858383182,
          -142.8855538368225,
          -145.14627456665042,
          -147.36517667770386,
          -152.3323893547058,
          -155.09229898452762,
          -155.3789258003235,
          -158.01279544830322,
          -155.72521686553955,
          -154.93704080581665,
          -155.13229370117188,
          -155.19834756851196,
          -156.4048409461975,
          -156.57306909561154,
          -157.01140165328982,
          -157.0111632347107,
          -157.02913999557495,
          -155.18494844436646,
          -154.98801469802856,
          -154.2381763458252,
          -150.37943124771118,
          -147.53295183181766,
          -144.85530853271484,
          -143.24620962142944,
          -139.11230564117432,
          -137.08459138870242,
          -134.90351438522342,
          -130.41234016418457,
          -129.34602499008182,
          -129.02134656906128,
          -128.06668281555176,
          -126.75821781158447,
          -124.94622468948364,
          -116.33808612823486,
          -114.92741107940674,
          -114.71000909805298,
          -113.94563913345337,
          -112.57942914962769,
          -112.2255802154541,
          -111.84197664260864,
          -109.92718935012815,
          -109.48566198349002,
          -109.05975103378296,
          -108.32854509353638,
          -107.85597562789917,
          -105.96375465393066,
          -104.9177169799805,
          -97.33954071998596,
          -96.69992327690125,
          -94.86948251724245,
          -92.32789874076845,
          -92.32612252235411,
          -92.08342432975768,
          -86.81430220603943,
          -84.50903296470642,
          -83.43216180801392,
          -83.20173621177673,
          -83.22108387947083,
          -82.72271156311035,
          -77.96323299407959,
          -74.91415143013,
          -69.62953805923462,
          -67.55310297012329,
          -66.01024270057678,
          -64.8786723613739
         ],
         "y": [
          -0.22699516266584396,
          -0.39695403538644314,
          -0.5756220780313015,
          -3.586290404200554,
          -5.229291319847107,
          -9.33651551604271,
          -11.131233721971512,
          -13.298895955085754,
          -12.985196709632877,
          -11.916986852884293,
          -14.080810546875,
          -13.627077639102936,
          -5.488622188568115,
          -5.083911493420602,
          -4.7787144780159005,
          -2.604059875011444,
          4.9648288637399665,
          5.18251396715641,
          9.44562628865242,
          10.654213279485704,
          12.020716816186905,
          12.764699757099152,
          14.168913662433624,
          15.400506556034088,
          22.18935638666153,
          24.69397634267807,
          25.336608290672302,
          35.24233102798462,
          39.02448117733002,
          45.2481359243393,
          50.24040937423706,
          49.95128214359283,
          49.67314600944519,
          49.72593188285828,
          51.162147521972656,
          51.35607719421387,
          51.98875665664673,
          55.08039593696594,
          55.874836444854736,
          58.70254635810852,
          65.06136655807495,
          67.82751679420471,
          68.69491934776306,
          68.78738403320312,
          68.32305788993835,
          68.57982873916626,
          67.5938606262207,
          66.55267477035522,
          66.2744402885437,
          64.95748162269592,
          65.15281796455383,
          66.27729535102844,
          65.55061340332031,
          65.42726755142212,
          64.93772864341736,
          58.44365358352661,
          57.11376667022705,
          54.887038469314575,
          52.96924710273743,
          52.33885049819946,
          52.82938480377197,
          51.30477547645569,
          45.78303098678589,
          44.728460907936096,
          44.49549615383148,
          43.65091323852539,
          42.82605051994324,
          42.107856273651116,
          41.94178283214569,
          42.20879971981049,
          40.65917134284973,
          39.63597118854523,
          34.70967411994934,
          30.931630730628967,
          30.383723974227905,
          24.987825751304623,
          17.85518378019333,
          16.671769320964813,
          15.264205634593964,
          14.776818454265594,
          9.533091634511948,
          7.8693613409996015,
          6.0055602341890335,
          5.035608261823653,
          4.593048617243767,
          -5.005055665969849,
          -5.427194014191628,
          -8.270902186632156,
          -15.185225009918213,
          -18.574786186218265,
          -21.200746297836304,
          -22.47139513492584,
          -25.005078315734863,
          -25.82191824913025,
          -26.57410204410553,
          -25.469034910202026,
          -24.71720576286316,
          -24.47917312383652,
          -24.073968827724453,
          -22.991594672203064,
          -21.01427167654037,
          -16.00046306848526,
          -15.00275433063507,
          -14.88582193851471,
          -14.347715675830841,
          -10.94304770231247,
          -8.402486145496367,
          -8.728250861167908,
          -4.5037731528282166,
          -2.4165006354451184,
          -0.534287141636014,
          1.3950449414551258,
          2.367892861366272,
          5.424267426133157,
          7.390672713518143,
          15.08512794971466,
          15.727044641971588,
          16.57589226961136,
          14.898476004600525,
          15.11637419462204,
          14.96608704328537,
          13.57833594083786,
          14.319762587547302,
          15.25171846151352,
          14.958170056343079,
          15.02363234758377,
          14.898903667926788,
          12.246762216091154,
          10.563068091869354,
          7.080589234828949,
          5.708982422947884,
          4.906550794839859,
          4.0482208132743835
         ],
         "z": [
          0.5222836509346962,
          0.8062310516834259,
          1.1552945710718632,
          1.8216004595160484,
          0.4714657552540302,
          0.9300537407398224,
          1.3871418312191963,
          1.0973337106406686,
          1.1388763785362244,
          1.0644616559147837,
          0.5149044096469879,
          1.4859446324408052,
          1.433201879262924,
          1.3473906554281714,
          1.50256110355258,
          1.2139583006501198,
          1.5682553872466087,
          1.662611961364746,
          2.065430954098701,
          1.9285222515463833,
          2.031633630394936,
          2.2753292694687843,
          2.570958994328976,
          2.3385575041174893,
          2.200322225689888,
          2.7088945731520653,
          1.0514950379729273,
          1.8755342811346054,
          1.9295351579785347,
          2.2178463637828827,
          2.730388194322586,
          1.6321897506713867,
          1.1273756623268127,
          1.385012362152338,
          1.828332431614399,
          1.8062718212604527,
          1.7526485025882717,
          1.9366869702935219,
          0.9874723851680756,
          1.1430912651121616,
          0.8287192322313786,
          0.5555788520723581,
          0.4666700027883053,
          0.6685787811875343,
          1.3265765272080898,
          -0.31462120823562145,
          1.181600335985422,
          1.2200905941426754,
          1.1357704177498815,
          1.6102615743875504,
          1.3319258578121662,
          0.3493019146844745,
          1.9816122949123387,
          1.9887659698724747,
          2.2230170667171483,
          1.715419627726078,
          1.9478969275951385,
          2.060842141509056,
          1.7521925270557404,
          2.4420278146862984,
          1.0128253139555454,
          1.6348578035831451,
          1.3368562795221806,
          1.4681626111268997,
          1.4611910097301006,
          1.4789280481636524,
          1.3700632378458977,
          1.6519119963049893,
          1.7460282891988754,
          1.4020990580320358,
          1.450622733682394,
          0.6772104650735855,
          1.2534407898783684,
          1.3431736268103123,
          1.3936699368059635,
          1.501765288412571,
          1.5133115462958813,
          1.1962603777647018,
          1.3949920423328876,
          1.6910890117287636,
          1.549580320715904,
          1.7071329057216644,
          1.2090986594557762,
          1.250184141099453,
          1.1796629056334496,
          1.6150595620274544,
          1.5434391796588898,
          1.4924593269824982,
          1.044222991913557,
          1.2124650180339813,
          1.0868228971958158,
          1.0462244972586632,
          1.02155189961195,
          0.8622907102108002,
          1.161098945885897,
          0.9759803302586081,
          1.705118827521801,
          1.6760587692260742,
          1.3304377906024456,
          1.5867611393332481,
          1.3006724417209623,
          1.314323116093874,
          1.4202827587723732,
          1.384097523987293,
          1.462709065526724,
          1.4944709837436674,
          1.3558452017605305,
          1.4702742919325829,
          1.4442791230976582,
          1.3095332309603693,
          1.3693660497665405,
          1.3751776888966558,
          1.2938288971781728,
          1.3300957158207891,
          1.1825500056147578,
          0.9323199279606342,
          0.9383824653923514,
          1.080937497317791,
          1.549943722784519,
          0.5123547278344631,
          0.3985904157161714,
          1.4487513341009615,
          1.744617335498333,
          1.524278987199068,
          2.0382950082421303,
          1.9351402297616,
          1.133290957659483,
          1.1205332353711128,
          1.1955083347856998,
          1.299486123025417,
          1.30882877856493,
          1.3712813146412373,
          1.4159728772938254
         ]
        }
       ],
       "layout": {
        "font": {
         "family": "Courier New, monospace",
         "size": 15
        },
        "template": {
         "data": {
          "bar": [
           {
            "error_x": {
             "color": "#2a3f5f"
            },
            "error_y": {
             "color": "#2a3f5f"
            },
            "marker": {
             "line": {
              "color": "#E5ECF6",
              "width": 0.5
             }
            },
            "type": "bar"
           }
          ],
          "barpolar": [
           {
            "marker": {
             "line": {
              "color": "#E5ECF6",
              "width": 0.5
             }
            },
            "type": "barpolar"
           }
          ],
          "carpet": [
           {
            "aaxis": {
             "endlinecolor": "#2a3f5f",
             "gridcolor": "white",
             "linecolor": "white",
             "minorgridcolor": "white",
             "startlinecolor": "#2a3f5f"
            },
            "baxis": {
             "endlinecolor": "#2a3f5f",
             "gridcolor": "white",
             "linecolor": "white",
             "minorgridcolor": "white",
             "startlinecolor": "#2a3f5f"
            },
            "type": "carpet"
           }
          ],
          "choropleth": [
           {
            "colorbar": {
             "outlinewidth": 0,
             "ticks": ""
            },
            "type": "choropleth"
           }
          ],
          "contour": [
           {
            "colorbar": {
             "outlinewidth": 0,
             "ticks": ""
            },
            "colorscale": [
             [
              0,
              "#0d0887"
             ],
             [
              0.1111111111111111,
              "#46039f"
             ],
             [
              0.2222222222222222,
              "#7201a8"
             ],
             [
              0.3333333333333333,
              "#9c179e"
             ],
             [
              0.4444444444444444,
              "#bd3786"
             ],
             [
              0.5555555555555556,
              "#d8576b"
             ],
             [
              0.6666666666666666,
              "#ed7953"
             ],
             [
              0.7777777777777778,
              "#fb9f3a"
             ],
             [
              0.8888888888888888,
              "#fdca26"
             ],
             [
              1,
              "#f0f921"
             ]
            ],
            "type": "contour"
           }
          ],
          "contourcarpet": [
           {
            "colorbar": {
             "outlinewidth": 0,
             "ticks": ""
            },
            "type": "contourcarpet"
           }
          ],
          "heatmap": [
           {
            "colorbar": {
             "outlinewidth": 0,
             "ticks": ""
            },
            "colorscale": [
             [
              0,
              "#0d0887"
             ],
             [
              0.1111111111111111,
              "#46039f"
             ],
             [
              0.2222222222222222,
              "#7201a8"
             ],
             [
              0.3333333333333333,
              "#9c179e"
             ],
             [
              0.4444444444444444,
              "#bd3786"
             ],
             [
              0.5555555555555556,
              "#d8576b"
             ],
             [
              0.6666666666666666,
              "#ed7953"
             ],
             [
              0.7777777777777778,
              "#fb9f3a"
             ],
             [
              0.8888888888888888,
              "#fdca26"
             ],
             [
              1,
              "#f0f921"
             ]
            ],
            "type": "heatmap"
           }
          ],
          "heatmapgl": [
           {
            "colorbar": {
             "outlinewidth": 0,
             "ticks": ""
            },
            "colorscale": [
             [
              0,
              "#0d0887"
             ],
             [
              0.1111111111111111,
              "#46039f"
             ],
             [
              0.2222222222222222,
              "#7201a8"
             ],
             [
              0.3333333333333333,
              "#9c179e"
             ],
             [
              0.4444444444444444,
              "#bd3786"
             ],
             [
              0.5555555555555556,
              "#d8576b"
             ],
             [
              0.6666666666666666,
              "#ed7953"
             ],
             [
              0.7777777777777778,
              "#fb9f3a"
             ],
             [
              0.8888888888888888,
              "#fdca26"
             ],
             [
              1,
              "#f0f921"
             ]
            ],
            "type": "heatmapgl"
           }
          ],
          "histogram": [
           {
            "marker": {
             "colorbar": {
              "outlinewidth": 0,
              "ticks": ""
             }
            },
            "type": "histogram"
           }
          ],
          "histogram2d": [
           {
            "colorbar": {
             "outlinewidth": 0,
             "ticks": ""
            },
            "colorscale": [
             [
              0,
              "#0d0887"
             ],
             [
              0.1111111111111111,
              "#46039f"
             ],
             [
              0.2222222222222222,
              "#7201a8"
             ],
             [
              0.3333333333333333,
              "#9c179e"
             ],
             [
              0.4444444444444444,
              "#bd3786"
             ],
             [
              0.5555555555555556,
              "#d8576b"
             ],
             [
              0.6666666666666666,
              "#ed7953"
             ],
             [
              0.7777777777777778,
              "#fb9f3a"
             ],
             [
              0.8888888888888888,
              "#fdca26"
             ],
             [
              1,
              "#f0f921"
             ]
            ],
            "type": "histogram2d"
           }
          ],
          "histogram2dcontour": [
           {
            "colorbar": {
             "outlinewidth": 0,
             "ticks": ""
            },
            "colorscale": [
             [
              0,
              "#0d0887"
             ],
             [
              0.1111111111111111,
              "#46039f"
             ],
             [
              0.2222222222222222,
              "#7201a8"
             ],
             [
              0.3333333333333333,
              "#9c179e"
             ],
             [
              0.4444444444444444,
              "#bd3786"
             ],
             [
              0.5555555555555556,
              "#d8576b"
             ],
             [
              0.6666666666666666,
              "#ed7953"
             ],
             [
              0.7777777777777778,
              "#fb9f3a"
             ],
             [
              0.8888888888888888,
              "#fdca26"
             ],
             [
              1,
              "#f0f921"
             ]
            ],
            "type": "histogram2dcontour"
           }
          ],
          "mesh3d": [
           {
            "colorbar": {
             "outlinewidth": 0,
             "ticks": ""
            },
            "type": "mesh3d"
           }
          ],
          "parcoords": [
           {
            "line": {
             "colorbar": {
              "outlinewidth": 0,
              "ticks": ""
             }
            },
            "type": "parcoords"
           }
          ],
          "scatter": [
           {
            "marker": {
             "colorbar": {
              "outlinewidth": 0,
              "ticks": ""
             }
            },
            "type": "scatter"
           }
          ],
          "scatter3d": [
           {
            "line": {
             "colorbar": {
              "outlinewidth": 0,
              "ticks": ""
             }
            },
            "marker": {
             "colorbar": {
              "outlinewidth": 0,
              "ticks": ""
             }
            },
            "type": "scatter3d"
           }
          ],
          "scattercarpet": [
           {
            "marker": {
             "colorbar": {
              "outlinewidth": 0,
              "ticks": ""
             }
            },
            "type": "scattercarpet"
           }
          ],
          "scattergeo": [
           {
            "marker": {
             "colorbar": {
              "outlinewidth": 0,
              "ticks": ""
             }
            },
            "type": "scattergeo"
           }
          ],
          "scattergl": [
           {
            "marker": {
             "colorbar": {
              "outlinewidth": 0,
              "ticks": ""
             }
            },
            "type": "scattergl"
           }
          ],
          "scattermapbox": [
           {
            "marker": {
             "colorbar": {
              "outlinewidth": 0,
              "ticks": ""
             }
            },
            "type": "scattermapbox"
           }
          ],
          "scatterpolar": [
           {
            "marker": {
             "colorbar": {
              "outlinewidth": 0,
              "ticks": ""
             }
            },
            "type": "scatterpolar"
           }
          ],
          "scatterpolargl": [
           {
            "marker": {
             "colorbar": {
              "outlinewidth": 0,
              "ticks": ""
             }
            },
            "type": "scatterpolargl"
           }
          ],
          "scatterternary": [
           {
            "marker": {
             "colorbar": {
              "outlinewidth": 0,
              "ticks": ""
             }
            },
            "type": "scatterternary"
           }
          ],
          "surface": [
           {
            "colorbar": {
             "outlinewidth": 0,
             "ticks": ""
            },
            "colorscale": [
             [
              0,
              "#0d0887"
             ],
             [
              0.1111111111111111,
              "#46039f"
             ],
             [
              0.2222222222222222,
              "#7201a8"
             ],
             [
              0.3333333333333333,
              "#9c179e"
             ],
             [
              0.4444444444444444,
              "#bd3786"
             ],
             [
              0.5555555555555556,
              "#d8576b"
             ],
             [
              0.6666666666666666,
              "#ed7953"
             ],
             [
              0.7777777777777778,
              "#fb9f3a"
             ],
             [
              0.8888888888888888,
              "#fdca26"
             ],
             [
              1,
              "#f0f921"
             ]
            ],
            "type": "surface"
           }
          ],
          "table": [
           {
            "cells": {
             "fill": {
              "color": "#EBF0F8"
             },
             "line": {
              "color": "white"
             }
            },
            "header": {
             "fill": {
              "color": "#C8D4E3"
             },
             "line": {
              "color": "white"
             }
            },
            "type": "table"
           }
          ]
         },
         "layout": {
          "annotationdefaults": {
           "arrowcolor": "#2a3f5f",
           "arrowhead": 0,
           "arrowwidth": 1
          },
          "colorscale": {
           "diverging": [
            [
             0,
             "#8e0152"
            ],
            [
             0.1,
             "#c51b7d"
            ],
            [
             0.2,
             "#de77ae"
            ],
            [
             0.3,
             "#f1b6da"
            ],
            [
             0.4,
             "#fde0ef"
            ],
            [
             0.5,
             "#f7f7f7"
            ],
            [
             0.6,
             "#e6f5d0"
            ],
            [
             0.7,
             "#b8e186"
            ],
            [
             0.8,
             "#7fbc41"
            ],
            [
             0.9,
             "#4d9221"
            ],
            [
             1,
             "#276419"
            ]
           ],
           "sequential": [
            [
             0,
             "#0d0887"
            ],
            [
             0.1111111111111111,
             "#46039f"
            ],
            [
             0.2222222222222222,
             "#7201a8"
            ],
            [
             0.3333333333333333,
             "#9c179e"
            ],
            [
             0.4444444444444444,
             "#bd3786"
            ],
            [
             0.5555555555555556,
             "#d8576b"
            ],
            [
             0.6666666666666666,
             "#ed7953"
            ],
            [
             0.7777777777777778,
             "#fb9f3a"
            ],
            [
             0.8888888888888888,
             "#fdca26"
            ],
            [
             1,
             "#f0f921"
            ]
           ],
           "sequentialminus": [
            [
             0,
             "#0d0887"
            ],
            [
             0.1111111111111111,
             "#46039f"
            ],
            [
             0.2222222222222222,
             "#7201a8"
            ],
            [
             0.3333333333333333,
             "#9c179e"
            ],
            [
             0.4444444444444444,
             "#bd3786"
            ],
            [
             0.5555555555555556,
             "#d8576b"
            ],
            [
             0.6666666666666666,
             "#ed7953"
            ],
            [
             0.7777777777777778,
             "#fb9f3a"
            ],
            [
             0.8888888888888888,
             "#fdca26"
            ],
            [
             1,
             "#f0f921"
            ]
           ]
          },
          "colorway": [
           "#636efa",
           "#EF553B",
           "#00cc96",
           "#ab63fa",
           "#FFA15A",
           "#19d3f3",
           "#FF6692",
           "#B6E880",
           "#FF97FF",
           "#FECB52"
          ],
          "font": {
           "color": "#2a3f5f"
          },
          "geo": {
           "bgcolor": "white",
           "lakecolor": "white",
           "landcolor": "#E5ECF6",
           "showlakes": true,
           "showland": true,
           "subunitcolor": "white"
          },
          "hoverlabel": {
           "align": "left"
          },
          "hovermode": "closest",
          "mapbox": {
           "style": "light"
          },
          "paper_bgcolor": "white",
          "plot_bgcolor": "#E5ECF6",
          "polar": {
           "angularaxis": {
            "gridcolor": "white",
            "linecolor": "white",
            "ticks": ""
           },
           "bgcolor": "#E5ECF6",
           "radialaxis": {
            "gridcolor": "white",
            "linecolor": "white",
            "ticks": ""
           }
          },
          "scene": {
           "xaxis": {
            "backgroundcolor": "#E5ECF6",
            "gridcolor": "white",
            "gridwidth": 2,
            "linecolor": "white",
            "showbackground": true,
            "ticks": "",
            "zerolinecolor": "white"
           },
           "yaxis": {
            "backgroundcolor": "#E5ECF6",
            "gridcolor": "white",
            "gridwidth": 2,
            "linecolor": "white",
            "showbackground": true,
            "ticks": "",
            "zerolinecolor": "white"
           },
           "zaxis": {
            "backgroundcolor": "#E5ECF6",
            "gridcolor": "white",
            "gridwidth": 2,
            "linecolor": "white",
            "showbackground": true,
            "ticks": "",
            "zerolinecolor": "white"
           }
          },
          "shapedefaults": {
           "line": {
            "color": "#2a3f5f"
           }
          },
          "ternary": {
           "aaxis": {
            "gridcolor": "white",
            "linecolor": "white",
            "ticks": ""
           },
           "baxis": {
            "gridcolor": "white",
            "linecolor": "white",
            "ticks": ""
           },
           "bgcolor": "#E5ECF6",
           "caxis": {
            "gridcolor": "white",
            "linecolor": "white",
            "ticks": ""
           }
          },
          "title": {
           "x": 0.05
          },
          "xaxis": {
           "automargin": true,
           "gridcolor": "white",
           "linecolor": "white",
           "ticks": "",
           "zerolinecolor": "white",
           "zerolinewidth": 2
          },
          "yaxis": {
           "automargin": true,
           "gridcolor": "white",
           "linecolor": "white",
           "ticks": "",
           "zerolinecolor": "white",
           "zerolinewidth": 2
          }
         }
        },
        "title": {
         "text": "Smooth Random Raw Trajectory (cm)"
        }
       }
      },
      "text/html": [
       "<div>\n",
       "        \n",
       "        \n",
       "            <div id=\"52709f53-11b9-477b-98a8-835c4becd0ed\" class=\"plotly-graph-div\" style=\"height:525px; width:100%;\"></div>\n",
       "            <script type=\"text/javascript\">\n",
       "                require([\"plotly\"], function(Plotly) {\n",
       "                    window.PLOTLYENV=window.PLOTLYENV || {};\n",
       "                    \n",
       "                if (document.getElementById(\"52709f53-11b9-477b-98a8-835c4becd0ed\")) {\n",
       "                    Plotly.newPlot(\n",
       "                        '52709f53-11b9-477b-98a8-835c4becd0ed',\n",
       "                        [{\"marker\": {\"color\": \"red\", \"opacity\": 0.8, \"size\": 5}, \"mode\": \"markers\", \"name\": \"/tag_0\", \"type\": \"scatter3d\", \"x\": [-15.11513961425839, -18.315888463960462, -24.40316489174734, -28.11232096260833, -30.860165163642385, -35.335576020626704, -38.29018093447909, -39.747957210568465, -40.19539497699671, -41.29452048039622, -48.45365860269668, -48.64098480064561, -57.044207904459135, -57.80680027120822, -57.80680027120822, -59.087057568497656, -64.48818274835249, -64.48818274835249, -67.96291913258825, -68.68427479264318, -73.37761659133315, -73.33601079918392, -73.89784695100066, -74.78729636730309, -77.67182127358711, -78.19879674286585, -77.87897112762434, -78.84582448669202, -79.32099734487737, -81.2264834013277, -86.32805391380232, -86.93046094854171, -87.73972094353515, -87.73972094353519, -88.76242644584332, -90.22345539089083, -92.21219144993285, -95.79933681326689, -97.77708172739221, -98.58084483196312, -102.09765333373149, -106.54677764542528, -107.61360551383063, -112.57364706205723, -115.12744312827463, -116.52437982063877, -116.8290919625443, -116.56825359537098, -117.68895198474767, -119.90505358378418, -120.63276007172567, -124.63836302117915, -127.89367177921594, -129.2420736145135, -130.8197037828406, -136.65990731907257, -137.89444714054264, -141.3789508976979, -143.65772087173184, -143.91792403132894, -144.30845732408537, -144.16385415964535, -144.86645923593605, -144.86645923593605, -144.83240623162862, -145.0267862478337, -145.05623608030385, -145.2996030490974, -145.346436295798, -145.47860325737489, -145.68668570838892, -147.74724977046304, -149.2686048405883, -150.98116106526888, -151.0085933678791, -151.91281803016366, -151.00021423602414, -149.74502723842056, -149.30697142442523, -149.30697142442523, -147.8949293620117, -148.20484766330878, -148.10092912203015, -147.56521444938144, -147.56521444938144, -145.40336133486971, -145.00287969702936, -143.77622758777707, -139.67599071897965, -136.67229160651357, -133.73705732141528, -133.06441848168978, -128.97331649585283, -127.27048102281407, -126.18654050440206, -119.85779995807313, -119.85779995807313, -120.2092740982137, -118.87351548957992, -117.32616841417493, -115.25549146971659, -107.1313407761886, -105.65983784935106, -105.65983784935106, -104.52063548180564, -102.30801843343696, -100.9193256373695, -100.29474418229407, -99.78714935832255, -99.61690320156535, -97.72961239251686, -97.21074804960264, -96.86445280713463, -95.54365670698334, -94.01198506728309, -87.77270308740745, -87.11227213449257, -86.06688977150738, -83.58915998627904, -80.94041073524467, -80.24413439021652, -77.06888394821017, -76.319842843107, -75.24648750799814, -73.7705272548473, -73.7705272548473, -71.56399903810188, -67.55738827577046, -64.80617019147826, -59.52631468232781, -57.54305343377947, -56.78111565961922, -55.309965247198114], \"y\": [0.04642484694483695, -0.025114726314856554, -0.0025623024450638354, -0.42533812816847316, -1.93773046385366, -4.103031339309894, -4.375101373115897, -5.095817458269637, -4.777538173800512, -4.243638455534749, -2.7197026546461838, -2.908383939159398, 5.435532131713683, 6.342769152472716, 6.342769152472716, 8.015817012737948, 15.331237229004223, 15.331237229004223, 20.17168364227444, 21.856755995991612, 25.036974216207586, 24.61330179116468, 26.59516474994041, 27.65195240428604, 32.96239281731628, 35.53128269022936, 37.82096501998449, 42.79977187686221, 45.49695600099326, 48.87430123458236, 53.944330087458134, 53.82374741569158, 53.87709981827855, 53.87709981827855, 55.44566567802942, 54.774698423729326, 55.26874614494361, 55.3856478116933, 58.089454889426605, 57.87440387117621, 60.905888399405384, 63.301512174147454, 63.920751421685566, 65.46775336685691, 64.78769801337691, 63.42140025682988, 62.9767193379406, 64.05585236709656, 63.20142168448737, 60.876132482883946, 61.12578868467309, 59.781931777360555, 59.08808620622208, 58.50402264015753, 57.56179711230169, 54.278018830041866, 51.80391543604721, 48.632641791535754, 43.810448093441366, 42.53800560106331, 41.14315270187587, 39.997683327694176, 35.755306148563335, 35.755306148563335, 34.654973033055555, 34.327553664723666, 33.216567545183814, 32.83727551270299, 31.345577651231803, 30.812582652259547, 30.179207694541542, 30.767068860244386, 27.489867915235934, 26.27429622995767, 23.550086130671865, 20.987523618798033, 12.998892272842365, 10.72109216907009, 10.211912655893853, 10.211912655893853, 4.872345025719317, 5.635795168672898, 4.618432237925507, 3.405190999360763, 3.405190999360763, -3.330975998337471, -4.112399952124402, -5.899431068719285, -10.753496583486855, -13.347403066056696, -14.53530021364976, -15.186894620871104, -16.65736586465637, -16.902865982746885, -16.817696189579433, -15.77979249414142, -15.77979249414142, -16.01301870240015, -14.093992208565986, -13.839207954075261, -12.149736516103806, -6.489989069234303, -5.336701164921598, -5.336701164921598, -4.498190427116122, -2.9079932757418487, -1.3001885919426526, -0.323035425896312, 1.2142235526546583, 2.186484104202924, 4.334965721211104, 4.882646727234552, 5.451192726036802, 6.871549540780064, 8.413881134915858, 12.797696024614025, 13.17313330789569, 13.624929437791788, 14.416894111566014, 13.563546288021122, 12.91274454836946, 11.728734459867727, 11.896252686632748, 11.675054439173428, 11.835426995791297, 11.835426995791297, 11.102502281012503, 10.056659336132757, 8.278897261888263, 4.7943223808874835, 3.4502232529407095, 3.113091850963423, 2.1034849316210025], \"z\": [-0.06966723863461867, -0.25250482024132825, -0.4563900825845124, -0.7036750171232953, -0.24257486442389448, -0.7005035009106432, -1.5150703031092227, -1.2983591356490851, -2.29551763729281, -2.586049498500653, -2.1431344272964337, -1.8254264139156757, -3.3771528891787463, -3.2494784793090536, -3.2494784793090536, -3.3422536155607077, -3.327574655826715, -3.327574655826715, -3.1641743620666416, -3.6004724379896667, -3.2129614486492875, -3.146180877179794, -3.8496798632027716, -3.2610031552037446, -3.7685687318480987, -3.743055184314392, -3.8376834730387674, -3.0225314032631845, -3.9651527956967367, -3.423380455405689, -3.4703955165619416, -3.353268655900865, -3.1205709851015895, -3.1205709851015895, -4.43882098582542, -3.5455352424748288, -3.820452372462689, -3.168608843347709, -3.86582211386004, -3.072168053860192, -3.8472535308577083, -4.311147816770533, -4.5477181337203465, -5.157023271381012, -5.141862302506572, -4.834955277646014, -4.485411229823577, -5.84194941509808, -5.584427246329549, -5.0022400042065485, -5.492778912477325, -5.8234428563123775, -6.096767059945417, -5.810919144726956, -5.64053834739946, -7.849123107338453, -7.847750580633582, -7.271489006087295, -5.2196488668312835, -4.56793994377096, -5.170941964985398, -4.1592050008984796, -5.0594166213987934, -5.0594166213987934, -4.646014265505505, -5.048518106120525, -4.795080240798622, -5.367154449799694, -4.802057697550022, -5.106931616855137, -5.261122155281338, -7.906059044316982, -7.507851217749506, -9.176459297320516, -7.333172950616995, -7.725457355431309, -8.742924879594982, -7.57696709332365, -7.737702648141598, -7.737702648141598, -7.187369886503703, -8.165395471861101, -8.08157335276034, -7.917393445005749, -7.917393445005749, -7.535631691587398, -7.327910443990859, -7.3714911751662004, -7.181001582284696, -6.392007211248907, -6.85242507980377, -6.364450753253292, -6.1736700961165125, -6.181413953894888, -6.413189299810695, -4.9699627546992975, -4.9699627546992975, -5.189490217534986, -6.642862101185234, -5.15541782379918, -5.537706259371201, -5.108719322947475, -5.139885019832646, -5.139885019832646, -5.081584531246697, -4.924404864878151, -5.269982947714591, -4.93411883388224, -4.6111929153462405, -5.1772415968435395, -4.942327250186507, -4.355854518435609, -4.402230377141868, -4.424545001127545, -4.243342566795239, -3.8553648849611433, -3.931829415240373, -3.892326124025547, -3.7270263037498133, -3.4023382914813984, -2.8303154314742063, -2.5899598748423625, -3.1697964648413235, -3.186455347395478, -3.381339191726873, -3.381339191726873, -1.9370801970898688, -2.899236674273053, -2.7451385040331293, -2.397959833901253, -2.231693451516881, -2.355782492872493, -2.213446354386273]}, {\"marker\": {\"color\": \"green\", \"opacity\": 0.8, \"size\": 5}, \"mode\": \"markers\", \"name\": \"/camera_pose_frame\", \"type\": \"scatter3d\", \"x\": [-5.045053362846375, -8.821293711662292, -15.047046542167667, -18.517574667930607, -18.935422599315647, -25.093066692352288, -29.288774728775024, -33.45901668071747, -34.00537073612213, -35.098975896835334, -41.93802773952484, -45.21025717258453, -53.293466567993164, -53.63696813583374, -53.79354953765869, -55.12613654136658, -60.22680401802063, -60.42478680610657, -63.411879539489746, -65.03721475601196, -68.7699019908905, -69.14563179016113, -69.55626606941223, -70.77800631523132, -72.16861844062805, -71.62306308746338, -69.82436180114746, -69.62822079658508, -69.8412299156189, -71.24649286270142, -75.75106620788574, -74.70068931579591, -74.79907274246216, -75.20158290863037, -78.46668362617493, -79.79584336280823, -81.87076449394226, -83.15272331237793, -83.65908861160278, -85.37841439247131, -91.12495183944702, -95.35551667213441, -96.64561152458192, -102.09819078445437, -103.69752645492554, -103.615403175354, -105.35831451416016, -107.64464139938354, -107.89667367935178, -110.15181541442871, -111.25961542129517, -115.16824960708618, -124.2559194564819, -125.2110481262207, -128.55101823806766, -131.28199577331543, -135.45976877212524, -140.8480405807495, -141.13128185272217, -141.33951663970947, -141.4320707321167, -141.55598878860474, -142.21811294555664, -142.4111008644104, -142.48626232147217, -142.63499975204468, -142.72446632385254, -142.91164875030518, -142.85920858383182, -142.8855538368225, -145.14627456665042, -147.36517667770386, -152.3323893547058, -155.09229898452762, -155.3789258003235, -158.01279544830322, -155.72521686553955, -154.93704080581665, -155.13229370117188, -155.19834756851196, -156.4048409461975, -156.57306909561154, -157.01140165328982, -157.0111632347107, -157.02913999557495, -155.18494844436646, -154.98801469802856, -154.2381763458252, -150.37943124771118, -147.53295183181766, -144.85530853271484, -143.24620962142944, -139.11230564117432, -137.08459138870242, -134.90351438522342, -130.41234016418457, -129.34602499008182, -129.02134656906128, -128.06668281555176, -126.75821781158447, -124.94622468948364, -116.33808612823486, -114.92741107940674, -114.71000909805298, -113.94563913345337, -112.57942914962769, -112.2255802154541, -111.84197664260864, -109.92718935012815, -109.48566198349002, -109.05975103378296, -108.32854509353638, -107.85597562789917, -105.96375465393066, -104.9177169799805, -97.33954071998596, -96.69992327690125, -94.86948251724245, -92.32789874076845, -92.32612252235411, -92.08342432975768, -86.81430220603943, -84.50903296470642, -83.43216180801392, -83.20173621177673, -83.22108387947083, -82.72271156311035, -77.96323299407959, -74.91415143013, -69.62953805923462, -67.55310297012329, -66.01024270057678, -64.8786723613739], \"y\": [-0.22699516266584396, -0.39695403538644314, -0.5756220780313015, -3.586290404200554, -5.229291319847107, -9.33651551604271, -11.131233721971512, -13.298895955085754, -12.985196709632877, -11.916986852884293, -14.080810546875, -13.627077639102936, -5.488622188568115, -5.083911493420602, -4.7787144780159005, -2.604059875011444, 4.9648288637399665, 5.18251396715641, 9.44562628865242, 10.654213279485704, 12.020716816186905, 12.764699757099152, 14.168913662433624, 15.400506556034088, 22.18935638666153, 24.69397634267807, 25.336608290672302, 35.24233102798462, 39.02448117733002, 45.2481359243393, 50.24040937423706, 49.95128214359283, 49.67314600944519, 49.72593188285828, 51.162147521972656, 51.35607719421387, 51.98875665664673, 55.08039593696594, 55.874836444854736, 58.70254635810852, 65.06136655807495, 67.82751679420471, 68.69491934776306, 68.78738403320312, 68.32305788993835, 68.57982873916626, 67.5938606262207, 66.55267477035522, 66.2744402885437, 64.95748162269592, 65.15281796455383, 66.27729535102844, 65.55061340332031, 65.42726755142212, 64.93772864341736, 58.44365358352661, 57.11376667022705, 54.887038469314575, 52.96924710273743, 52.33885049819946, 52.82938480377197, 51.30477547645569, 45.78303098678589, 44.728460907936096, 44.49549615383148, 43.65091323852539, 42.82605051994324, 42.107856273651116, 41.94178283214569, 42.20879971981049, 40.65917134284973, 39.63597118854523, 34.70967411994934, 30.931630730628967, 30.383723974227905, 24.987825751304623, 17.85518378019333, 16.671769320964813, 15.264205634593964, 14.776818454265594, 9.533091634511948, 7.8693613409996015, 6.0055602341890335, 5.035608261823653, 4.593048617243767, -5.005055665969849, -5.427194014191628, -8.270902186632156, -15.185225009918213, -18.574786186218265, -21.200746297836304, -22.47139513492584, -25.005078315734863, -25.82191824913025, -26.57410204410553, -25.469034910202026, -24.71720576286316, -24.47917312383652, -24.073968827724453, -22.991594672203064, -21.01427167654037, -16.00046306848526, -15.00275433063507, -14.88582193851471, -14.347715675830841, -10.94304770231247, -8.402486145496367, -8.728250861167908, -4.5037731528282166, -2.4165006354451184, -0.534287141636014, 1.3950449414551258, 2.367892861366272, 5.424267426133157, 7.390672713518143, 15.08512794971466, 15.727044641971588, 16.57589226961136, 14.898476004600525, 15.11637419462204, 14.96608704328537, 13.57833594083786, 14.319762587547302, 15.25171846151352, 14.958170056343079, 15.02363234758377, 14.898903667926788, 12.246762216091154, 10.563068091869354, 7.080589234828949, 5.708982422947884, 4.906550794839859, 4.0482208132743835], \"z\": [0.5222836509346962, 0.8062310516834259, 1.1552945710718632, 1.8216004595160484, 0.4714657552540302, 0.9300537407398224, 1.3871418312191963, 1.0973337106406686, 1.1388763785362244, 1.0644616559147837, 0.5149044096469879, 1.4859446324408052, 1.433201879262924, 1.3473906554281714, 1.50256110355258, 1.2139583006501198, 1.5682553872466087, 1.662611961364746, 2.065430954098701, 1.9285222515463833, 2.031633630394936, 2.2753292694687843, 2.570958994328976, 2.3385575041174893, 2.200322225689888, 2.7088945731520653, 1.0514950379729273, 1.8755342811346054, 1.9295351579785347, 2.2178463637828827, 2.730388194322586, 1.6321897506713867, 1.1273756623268127, 1.385012362152338, 1.828332431614399, 1.8062718212604527, 1.7526485025882717, 1.9366869702935219, 0.9874723851680756, 1.1430912651121616, 0.8287192322313786, 0.5555788520723581, 0.4666700027883053, 0.6685787811875343, 1.3265765272080898, -0.31462120823562145, 1.181600335985422, 1.2200905941426754, 1.1357704177498815, 1.6102615743875504, 1.3319258578121662, 0.3493019146844745, 1.9816122949123387, 1.9887659698724747, 2.2230170667171483, 1.715419627726078, 1.9478969275951385, 2.060842141509056, 1.7521925270557404, 2.4420278146862984, 1.0128253139555454, 1.6348578035831451, 1.3368562795221806, 1.4681626111268997, 1.4611910097301006, 1.4789280481636524, 1.3700632378458977, 1.6519119963049893, 1.7460282891988754, 1.4020990580320358, 1.450622733682394, 0.6772104650735855, 1.2534407898783684, 1.3431736268103123, 1.3936699368059635, 1.501765288412571, 1.5133115462958813, 1.1962603777647018, 1.3949920423328876, 1.6910890117287636, 1.549580320715904, 1.7071329057216644, 1.2090986594557762, 1.250184141099453, 1.1796629056334496, 1.6150595620274544, 1.5434391796588898, 1.4924593269824982, 1.044222991913557, 1.2124650180339813, 1.0868228971958158, 1.0462244972586632, 1.02155189961195, 0.8622907102108002, 1.161098945885897, 0.9759803302586081, 1.705118827521801, 1.6760587692260742, 1.3304377906024456, 1.5867611393332481, 1.3006724417209623, 1.314323116093874, 1.4202827587723732, 1.384097523987293, 1.462709065526724, 1.4944709837436674, 1.3558452017605305, 1.4702742919325829, 1.4442791230976582, 1.3095332309603693, 1.3693660497665405, 1.3751776888966558, 1.2938288971781728, 1.3300957158207891, 1.1825500056147578, 0.9323199279606342, 0.9383824653923514, 1.080937497317791, 1.549943722784519, 0.5123547278344631, 0.3985904157161714, 1.4487513341009615, 1.744617335498333, 1.524278987199068, 2.0382950082421303, 1.9351402297616, 1.133290957659483, 1.1205332353711128, 1.1955083347856998, 1.299486123025417, 1.30882877856493, 1.3712813146412373, 1.4159728772938254]}],\n",
       "                        {\"font\": {\"family\": \"Courier New, monospace\", \"size\": 15}, \"template\": {\"data\": {\"bar\": [{\"error_x\": {\"color\": \"#2a3f5f\"}, \"error_y\": {\"color\": \"#2a3f5f\"}, \"marker\": {\"line\": {\"color\": \"#E5ECF6\", \"width\": 0.5}}, \"type\": \"bar\"}], \"barpolar\": [{\"marker\": {\"line\": {\"color\": \"#E5ECF6\", \"width\": 0.5}}, \"type\": \"barpolar\"}], \"carpet\": [{\"aaxis\": {\"endlinecolor\": \"#2a3f5f\", \"gridcolor\": \"white\", \"linecolor\": \"white\", \"minorgridcolor\": \"white\", \"startlinecolor\": \"#2a3f5f\"}, \"baxis\": {\"endlinecolor\": \"#2a3f5f\", \"gridcolor\": \"white\", \"linecolor\": \"white\", \"minorgridcolor\": \"white\", \"startlinecolor\": \"#2a3f5f\"}, \"type\": \"carpet\"}], \"choropleth\": [{\"colorbar\": {\"outlinewidth\": 0, \"ticks\": \"\"}, \"type\": \"choropleth\"}], \"contour\": [{\"colorbar\": {\"outlinewidth\": 0, \"ticks\": \"\"}, \"colorscale\": [[0.0, \"#0d0887\"], [0.1111111111111111, \"#46039f\"], [0.2222222222222222, \"#7201a8\"], [0.3333333333333333, \"#9c179e\"], [0.4444444444444444, \"#bd3786\"], [0.5555555555555556, \"#d8576b\"], [0.6666666666666666, \"#ed7953\"], [0.7777777777777778, \"#fb9f3a\"], [0.8888888888888888, \"#fdca26\"], [1.0, \"#f0f921\"]], \"type\": \"contour\"}], \"contourcarpet\": [{\"colorbar\": {\"outlinewidth\": 0, \"ticks\": \"\"}, \"type\": \"contourcarpet\"}], \"heatmap\": [{\"colorbar\": {\"outlinewidth\": 0, \"ticks\": \"\"}, \"colorscale\": [[0.0, \"#0d0887\"], [0.1111111111111111, \"#46039f\"], [0.2222222222222222, \"#7201a8\"], [0.3333333333333333, \"#9c179e\"], [0.4444444444444444, \"#bd3786\"], [0.5555555555555556, \"#d8576b\"], [0.6666666666666666, \"#ed7953\"], [0.7777777777777778, \"#fb9f3a\"], [0.8888888888888888, \"#fdca26\"], [1.0, \"#f0f921\"]], \"type\": \"heatmap\"}], \"heatmapgl\": [{\"colorbar\": {\"outlinewidth\": 0, \"ticks\": \"\"}, \"colorscale\": [[0.0, \"#0d0887\"], [0.1111111111111111, \"#46039f\"], [0.2222222222222222, \"#7201a8\"], [0.3333333333333333, \"#9c179e\"], [0.4444444444444444, \"#bd3786\"], [0.5555555555555556, \"#d8576b\"], [0.6666666666666666, \"#ed7953\"], [0.7777777777777778, \"#fb9f3a\"], [0.8888888888888888, \"#fdca26\"], [1.0, \"#f0f921\"]], \"type\": \"heatmapgl\"}], \"histogram\": [{\"marker\": {\"colorbar\": {\"outlinewidth\": 0, \"ticks\": \"\"}}, \"type\": \"histogram\"}], \"histogram2d\": [{\"colorbar\": {\"outlinewidth\": 0, \"ticks\": \"\"}, \"colorscale\": [[0.0, \"#0d0887\"], [0.1111111111111111, \"#46039f\"], [0.2222222222222222, \"#7201a8\"], [0.3333333333333333, \"#9c179e\"], [0.4444444444444444, \"#bd3786\"], [0.5555555555555556, \"#d8576b\"], [0.6666666666666666, \"#ed7953\"], [0.7777777777777778, \"#fb9f3a\"], [0.8888888888888888, \"#fdca26\"], [1.0, \"#f0f921\"]], \"type\": \"histogram2d\"}], \"histogram2dcontour\": [{\"colorbar\": {\"outlinewidth\": 0, \"ticks\": \"\"}, \"colorscale\": [[0.0, \"#0d0887\"], [0.1111111111111111, \"#46039f\"], [0.2222222222222222, \"#7201a8\"], [0.3333333333333333, \"#9c179e\"], [0.4444444444444444, \"#bd3786\"], [0.5555555555555556, \"#d8576b\"], [0.6666666666666666, \"#ed7953\"], [0.7777777777777778, \"#fb9f3a\"], [0.8888888888888888, \"#fdca26\"], [1.0, \"#f0f921\"]], \"type\": \"histogram2dcontour\"}], \"mesh3d\": [{\"colorbar\": {\"outlinewidth\": 0, \"ticks\": \"\"}, \"type\": \"mesh3d\"}], \"parcoords\": [{\"line\": {\"colorbar\": {\"outlinewidth\": 0, \"ticks\": \"\"}}, \"type\": \"parcoords\"}], \"scatter\": [{\"marker\": {\"colorbar\": {\"outlinewidth\": 0, \"ticks\": \"\"}}, \"type\": \"scatter\"}], \"scatter3d\": [{\"line\": {\"colorbar\": {\"outlinewidth\": 0, \"ticks\": \"\"}}, \"marker\": {\"colorbar\": {\"outlinewidth\": 0, \"ticks\": \"\"}}, \"type\": \"scatter3d\"}], \"scattercarpet\": [{\"marker\": {\"colorbar\": {\"outlinewidth\": 0, \"ticks\": \"\"}}, \"type\": \"scattercarpet\"}], \"scattergeo\": [{\"marker\": {\"colorbar\": {\"outlinewidth\": 0, \"ticks\": \"\"}}, \"type\": \"scattergeo\"}], \"scattergl\": [{\"marker\": {\"colorbar\": {\"outlinewidth\": 0, \"ticks\": \"\"}}, \"type\": \"scattergl\"}], \"scattermapbox\": [{\"marker\": {\"colorbar\": {\"outlinewidth\": 0, \"ticks\": \"\"}}, \"type\": \"scattermapbox\"}], \"scatterpolar\": [{\"marker\": {\"colorbar\": {\"outlinewidth\": 0, \"ticks\": \"\"}}, \"type\": \"scatterpolar\"}], \"scatterpolargl\": [{\"marker\": {\"colorbar\": {\"outlinewidth\": 0, \"ticks\": \"\"}}, \"type\": \"scatterpolargl\"}], \"scatterternary\": [{\"marker\": {\"colorbar\": {\"outlinewidth\": 0, \"ticks\": \"\"}}, \"type\": \"scatterternary\"}], \"surface\": [{\"colorbar\": {\"outlinewidth\": 0, \"ticks\": \"\"}, \"colorscale\": [[0.0, \"#0d0887\"], [0.1111111111111111, \"#46039f\"], [0.2222222222222222, \"#7201a8\"], [0.3333333333333333, \"#9c179e\"], [0.4444444444444444, \"#bd3786\"], [0.5555555555555556, \"#d8576b\"], [0.6666666666666666, \"#ed7953\"], [0.7777777777777778, \"#fb9f3a\"], [0.8888888888888888, \"#fdca26\"], [1.0, \"#f0f921\"]], \"type\": \"surface\"}], \"table\": [{\"cells\": {\"fill\": {\"color\": \"#EBF0F8\"}, \"line\": {\"color\": \"white\"}}, \"header\": {\"fill\": {\"color\": \"#C8D4E3\"}, \"line\": {\"color\": \"white\"}}, \"type\": \"table\"}]}, \"layout\": {\"annotationdefaults\": {\"arrowcolor\": \"#2a3f5f\", \"arrowhead\": 0, \"arrowwidth\": 1}, \"colorscale\": {\"diverging\": [[0, \"#8e0152\"], [0.1, \"#c51b7d\"], [0.2, \"#de77ae\"], [0.3, \"#f1b6da\"], [0.4, \"#fde0ef\"], [0.5, \"#f7f7f7\"], [0.6, \"#e6f5d0\"], [0.7, \"#b8e186\"], [0.8, \"#7fbc41\"], [0.9, \"#4d9221\"], [1, \"#276419\"]], \"sequential\": [[0.0, \"#0d0887\"], [0.1111111111111111, \"#46039f\"], [0.2222222222222222, \"#7201a8\"], [0.3333333333333333, \"#9c179e\"], [0.4444444444444444, \"#bd3786\"], [0.5555555555555556, \"#d8576b\"], [0.6666666666666666, \"#ed7953\"], [0.7777777777777778, \"#fb9f3a\"], [0.8888888888888888, \"#fdca26\"], [1.0, \"#f0f921\"]], \"sequentialminus\": [[0.0, \"#0d0887\"], [0.1111111111111111, \"#46039f\"], [0.2222222222222222, \"#7201a8\"], [0.3333333333333333, \"#9c179e\"], [0.4444444444444444, \"#bd3786\"], [0.5555555555555556, \"#d8576b\"], [0.6666666666666666, \"#ed7953\"], [0.7777777777777778, \"#fb9f3a\"], [0.8888888888888888, \"#fdca26\"], [1.0, \"#f0f921\"]]}, \"colorway\": [\"#636efa\", \"#EF553B\", \"#00cc96\", \"#ab63fa\", \"#FFA15A\", \"#19d3f3\", \"#FF6692\", \"#B6E880\", \"#FF97FF\", \"#FECB52\"], \"font\": {\"color\": \"#2a3f5f\"}, \"geo\": {\"bgcolor\": \"white\", \"lakecolor\": \"white\", \"landcolor\": \"#E5ECF6\", \"showlakes\": true, \"showland\": true, \"subunitcolor\": \"white\"}, \"hoverlabel\": {\"align\": \"left\"}, \"hovermode\": \"closest\", \"mapbox\": {\"style\": \"light\"}, \"paper_bgcolor\": \"white\", \"plot_bgcolor\": \"#E5ECF6\", \"polar\": {\"angularaxis\": {\"gridcolor\": \"white\", \"linecolor\": \"white\", \"ticks\": \"\"}, \"bgcolor\": \"#E5ECF6\", \"radialaxis\": {\"gridcolor\": \"white\", \"linecolor\": \"white\", \"ticks\": \"\"}}, \"scene\": {\"xaxis\": {\"backgroundcolor\": \"#E5ECF6\", \"gridcolor\": \"white\", \"gridwidth\": 2, \"linecolor\": \"white\", \"showbackground\": true, \"ticks\": \"\", \"zerolinecolor\": \"white\"}, \"yaxis\": {\"backgroundcolor\": \"#E5ECF6\", \"gridcolor\": \"white\", \"gridwidth\": 2, \"linecolor\": \"white\", \"showbackground\": true, \"ticks\": \"\", \"zerolinecolor\": \"white\"}, \"zaxis\": {\"backgroundcolor\": \"#E5ECF6\", \"gridcolor\": \"white\", \"gridwidth\": 2, \"linecolor\": \"white\", \"showbackground\": true, \"ticks\": \"\", \"zerolinecolor\": \"white\"}}, \"shapedefaults\": {\"line\": {\"color\": \"#2a3f5f\"}}, \"ternary\": {\"aaxis\": {\"gridcolor\": \"white\", \"linecolor\": \"white\", \"ticks\": \"\"}, \"baxis\": {\"gridcolor\": \"white\", \"linecolor\": \"white\", \"ticks\": \"\"}, \"bgcolor\": \"#E5ECF6\", \"caxis\": {\"gridcolor\": \"white\", \"linecolor\": \"white\", \"ticks\": \"\"}}, \"title\": {\"x\": 0.05}, \"xaxis\": {\"automargin\": true, \"gridcolor\": \"white\", \"linecolor\": \"white\", \"ticks\": \"\", \"zerolinecolor\": \"white\", \"zerolinewidth\": 2}, \"yaxis\": {\"automargin\": true, \"gridcolor\": \"white\", \"linecolor\": \"white\", \"ticks\": \"\", \"zerolinecolor\": \"white\", \"zerolinewidth\": 2}}}, \"title\": {\"text\": \"Smooth Random Raw Trajectory (cm)\"}},\n",
       "                        {\"responsive\": true}\n",
       "                    ).then(function(){\n",
       "                            \n",
       "var gd = document.getElementById('52709f53-11b9-477b-98a8-835c4becd0ed');\n",
       "var x = new MutationObserver(function (mutations, observer) {{\n",
       "        var display = window.getComputedStyle(gd).display;\n",
       "        if (!display || display === 'none') {{\n",
       "            console.log([gd, 'removed!']);\n",
       "            Plotly.purge(gd);\n",
       "            observer.disconnect();\n",
       "        }}\n",
       "}});\n",
       "\n",
       "// Listen for the removal of the full notebook cells\n",
       "var notebookContainer = gd.closest('#notebook-container');\n",
       "if (notebookContainer) {{\n",
       "    x.observe(notebookContainer, {childList: true});\n",
       "}}\n",
       "\n",
       "// Listen for the clearing of the current output cell\n",
       "var outputEl = gd.closest('.output');\n",
       "if (outputEl) {{\n",
       "    x.observe(outputEl, {childList: true});\n",
       "}}\n",
       "\n",
       "                        })\n",
       "                };\n",
       "                });\n",
       "            </script>\n",
       "        </div>"
      ]
     },
     "metadata": {},
     "output_type": "display_data"
    }
   ],
   "source": [
    "# 3. Smooth Random\n",
    "draw_3d(\"smooth_random.csv\", \"Smooth Random Raw Trajectory (cm)\")"
   ]
  },
  {
   "cell_type": "code",
   "execution_count": 42,
   "metadata": {},
   "outputs": [
    {
     "data": {
      "application/vnd.plotly.v1+json": {
       "config": {
        "plotlyServerURL": "https://plot.ly"
       },
       "data": [
        {
         "marker": {
          "color": "red",
          "opacity": 0.8,
          "size": 5
         },
         "mode": "markers",
         "name": "/tag_0",
         "type": "scatter3d",
         "x": [
          -15.684082429878165,
          -18.106883506906424,
          -27.982906243719903,
          -34.25333681977319,
          -34.46383798735682,
          -34.89380564210761,
          -35.71984179777643,
          -38.36819332768931,
          -42.37221113136843,
          -47.572062704080345,
          -49.36751460726213,
          -57.60149767920162,
          -57.61116666638721,
          -57.86471941743567,
          -57.8532610261109,
          -58.86796543265118,
          -58.8741170159511,
          -58.79253641973299,
          -58.83568302641975,
          -58.91573129262857,
          -58.62006475359471,
          -58.660259585874506,
          -58.660259585874506,
          -58.955760223088745,
          -58.783589475303465,
          -58.8409884396087,
          -58.874973966941525,
          -58.96923466883732,
          -58.96923466883732,
          -59.00269355942599,
          -58.84778123826864,
          -59.16895660839674,
          -59.16895660839674,
          -58.883450133693,
          -58.89421120846028,
          -58.335679981679455,
          -57.954706694511415,
          -57.720716087496356,
          -57.720716087496356,
          -57.720716087496356,
          -57.82742020763922,
          -59.71926724046641,
          -59.80139190000726,
          -59.24287111001877,
          -59.028449292239735,
          -59.10256613612961,
          -59.0038728039866,
          -59.06695971761469,
          -58.926018227374975,
          -58.926018227374975,
          -58.95294773181852,
          -58.95294773181852,
          -58.90655289954266,
          -58.909679336153765,
          -58.742460164685674,
          -58.800845938025816,
          -58.62206593632708,
          -58.67339902799501,
          -58.731958007818406,
          -58.731958007818406,
          -58.69149522389889,
          -58.67661543095868,
          -58.59330711381524,
          -58.733399853942835,
          -57.4557212833935,
          -57.344750710184414,
          -56.75778192398957,
          -56.489056257086624,
          -56.34598071616317,
          -55.66260987591699,
          -55.25986124769544,
          -56.28306021372258,
          -56.82394080000734,
          -57.0830410821693,
          -57.174792742869954,
          -57.777291030608666,
          -57.777291030608666,
          -58.04182019373131,
          -57.699924546800794,
          -57.291576083229636,
          -57.291576083229636,
          -57.33930914953883,
          -56.55035605130636,
          -56.55035605130636,
          -53.82371163257306,
          -53.82371163257306,
          -55.82127303720172,
          -56.41028125120264,
          -58.03301781157172,
          -58.41124374853164,
          -64.24247131345058,
          -65.34069843729455,
          -66.09547614142805,
          -67.22189779552978,
          -68.06372835723162,
          -68.43257788995449,
          -68.53646987091773,
          -68.84390962882733,
          -71.54446896534306,
          -73.13558642327651,
          -72.96555781040006,
          -70.96326808190996,
          -67.61048856291407,
          -67.24564914560787,
          -67.25368232076399,
          -66.73653825981543,
          -65.7137589574345,
          -65.7137589574345,
          -66.32435348089238,
          -66.25868436185829,
          -65.78548861191808,
          -65.78548861191808,
          -67.88235841262498,
          -69.1096012313591,
          -69.1096012313591,
          -68.97488961110629,
          -68.97598885909659,
          -69.08378456834576,
          -68.98692685925994,
          -69.12875993485336,
          -68.87242911378517,
          -68.47000916087538,
          -67.06519639616158,
          -66.71821719041529,
          -68.12703170897088,
          -68.17109118817952,
          -68.17109118817952,
          -67.87237425635888,
          -67.37233789871584,
          -67.04539803707277,
          -68.87322615145919,
          -72.30859245642682,
          -75.67530482020824,
          -77.99659627190738,
          -77.17738398252254,
          -78.34637705739928,
          -84.09294230232656,
          -84.09294230232656,
          -84.14644942125283,
          -85.20459305145627,
          -85.79383089498924,
          -85.67582381753766,
          -88.04005854198263,
          -88.41221360313156,
          -88.76315625465672,
          -88.76315625465672,
          -88.39946609013029,
          -88.04617026673938,
          -88.04617026673938,
          -87.8608634220574,
          -87.24246642673394,
          -86.83827240595863,
          -88.6489579429345,
          -89.71801198031373,
          -89.98328546533385,
          -93.60777097849993,
          -93.6336360103934,
          -95.76993149870503,
          -96.4527991927544,
          -97.21371543250798,
          -97.37642447130168,
          -97.15746941162209,
          -98.18091496869783,
          -99.1707939372152,
          -106.02559262974256,
          -108.02132146022639,
          -108.11012041043675,
          -107.5975275557628,
          -107.99642013717718,
          -109.6852953620023,
          -113.50012970078092,
          -113.30982610790139,
          -113.39358246333803,
          -113.39358246333803,
          -113.29818441458133,
          -114.29982611741072,
          -114.68085240662083,
          -114.53127417972404,
          -114.53127417972404,
          -117.77757507754755,
          -121.80939823397597,
          -122.87644847058957,
          -126.27408106503361,
          -126.27408106503361,
          -128.0427750813362,
          -132.1009181695209,
          -132.30086231510757,
          -138.31280336040834,
          -138.37709801384858,
          -139.44156356333798,
          -140.13294352703318,
          -141.93952149153492,
          -141.93952149153492,
          -141.93952149153492,
          -141.93952149153492,
          -141.93952149153492,
          -116.11906784348842,
          -116.11906784348844,
          -116.11906784348842,
          -116.11906784348842,
          -116.11906784348842,
          -116.11906784348842,
          -96.91060773211501,
          -96.91060773211501,
          -97.71864290613956,
          -97.51268671740347,
          -97.27343451464434,
          -98.62898957327208,
          -97.07519623107092,
          -95.84768605326089,
          -97.67442253700555,
          -98.00771369266256,
          -97.53771711383372,
          -97.88008834222093,
          -97.28196453883227,
          -97.80352368688293,
          -96.99034164536253,
          -95.3331682945485,
          -92.33663047330174,
          -91.0950279257413,
          -93.4633135166208,
          -91.87394967973177,
          -86.83318767357959,
          -86.76594999913402,
          -86.74741724867887,
          -85.1989524073467,
          -84.9764039768854,
          -84.57503367112218,
          -84.13305450138549,
          -78.66317754255489,
          -76.87837974955742,
          -73.59336619598058,
          -69.69738315033813,
          -67.35981758932621,
          -67.61201632046965,
          -67.47006502892849,
          -67.02920204300567,
          -67.02920204300567,
          -65.45884126431596,
          -64.7123311452509,
          -64.7123311452509,
          -62.80889822248812,
          -62.35617078848368,
          -61.250267358339386,
          -60.12408800145099,
          -57.28890110523048
         ],
         "y": [
          0.2159522982671636,
          0.6134453881324164,
          0.7487244255308223,
          0.303196114673332,
          0.42009874715815965,
          0.7095890030034856,
          0.9769486842661437,
          1.442097528473485,
          0.7370091719459682,
          0.49196561966673436,
          1.1437635441234215,
          1.9603170924502593,
          1.9569687740840669,
          1.7143790688009863,
          1.4454223396933141,
          1.5133535187481506,
          1.6536131116201558,
          2.027745250075364,
          1.872896866436835,
          2.1614410444285688,
          1.9050899237052388,
          1.8052280453508152,
          1.8052280453508152,
          2.613590176428482,
          2.2714438370830203,
          2.5665077011101545,
          2.280919984856622,
          2.352888264112773,
          2.352888264112773,
          2.3808427184045082,
          2.5286357033963647,
          2.5407383248716053,
          2.5407383248716053,
          2.390366346341644,
          2.474396754630193,
          3.083268515894133,
          2.863687683152971,
          2.9286057677419213,
          2.9286057677419213,
          2.9286057677419213,
          3.37106217202483,
          3.4608786538868896,
          2.605587096068374,
          2.5942942811127745,
          2.039900918153758,
          2.4018056784540285,
          2.2827158238745597,
          2.3606543004186746,
          2.4337152734908774,
          2.4337152734908774,
          2.3984209963419327,
          2.3984209963419327,
          2.1924674371780477,
          2.7564154812690593,
          2.554426405152288,
          2.4427019210958574,
          2.8030744149327047,
          2.801093050934811,
          2.8787945011750082,
          2.8787945011750082,
          2.710398258760716,
          3.093940107070914,
          2.8828948730481807,
          3.138889456155125,
          4.818165978712542,
          5.148509953990299,
          6.04823986406946,
          6.3624310046008326,
          6.6502673296934915,
          7.4656694393816725,
          7.678014065482097,
          6.779659483489464,
          5.723389440940019,
          4.860029333994187,
          4.569614503614039,
          3.74594443965508,
          3.74594443965508,
          2.9974195810059445,
          4.595370180370595,
          4.509237097709007,
          4.509237097709007,
          5.115281489938539,
          6.197564363332941,
          6.197564363332941,
          10.694297933314134,
          10.694297933314134,
          11.272636894734946,
          11.614066083647925,
          11.514863647339002,
          9.356657753093732,
          5.61682610144989,
          4.38151498871866,
          2.6642686395169646,
          1.681350526952396,
          1.3591323760904215,
          0.6816723301960259,
          -0.6103947329816785,
          -0.5668619603792503,
          -1.9559069653447998,
          -0.759511479750774,
          1.0198772170843196,
          -0.5332238856835092,
          -4.158586529819973,
          -4.545668547050941,
          -5.500848917883626,
          -6.7450729606650865,
          -7.643796241675592,
          -7.643796241675592,
          -7.300495005533447,
          -7.389224105840597,
          -7.524326618620436,
          -7.524326618620436,
          -7.4695044011890515,
          -7.100740563110741,
          -7.100740563110741,
          -7.839255351769392,
          -7.976822331771416,
          -7.839057723313991,
          -7.905126751751701,
          -8.047973341275206,
          -7.979279548481699,
          -8.336419239360415,
          -9.262023204703196,
          -9.783489432793568,
          -9.052482809566143,
          -9.679786868404028,
          -9.679786868404028,
          -9.70369783990428,
          -10.569327446485287,
          -10.943403214363933,
          -9.84515069129619,
          -9.642648124040276,
          -12.747677224664255,
          -11.879958013708048,
          -12.344185948408624,
          -11.868548668123324,
          -10.014814096000823,
          -10.014814096000823,
          -9.712392816116068,
          -9.129027747181052,
          -8.800462302643442,
          -9.02641067705845,
          -7.25467620079272,
          -7.006874048338885,
          -6.729716395694374,
          -6.729716395694374,
          -5.820216562279533,
          -5.384384957399546,
          -5.384384957399546,
          -5.325278751743712,
          -5.297708647653021,
          -5.412142189506208,
          -3.988114100080553,
          -2.856196104999409,
          -2.9921345243227426,
          -1.7444322129106289,
          -1.534841434463674,
          -0.6772181076801109,
          -0.3234728213010963,
          0.03818564174880024,
          0.11879846880153974,
          0.02056633885227921,
          0.3370138362631225,
          0.9199622622865,
          5.444149403325937,
          5.985371960587148,
          5.30355298382601,
          4.878320988092333,
          5.098171124789563,
          5.722255507539288,
          8.567784530715162,
          8.316030950819918,
          8.36239176871838,
          8.36239176871838,
          8.253820937446044,
          7.8295039656297805,
          7.467816456135877,
          7.277371802087718,
          7.277371802087718,
          5.791712474745213,
          4.620859825806023,
          5.130585526215947,
          4.8717752842637685,
          4.8717752842637685,
          5.295901070376363,
          6.982930916901009,
          7.42618479650885,
          14.90792538056036,
          15.090400759065826,
          17.341956586412646,
          20.009197423137426,
          23.748079444240954,
          23.748079444240954,
          23.748079444240954,
          23.748079444240954,
          23.748079444240954,
          17.735470119156126,
          17.735470119156126,
          17.735470119156126,
          17.735470119156126,
          17.735470119156126,
          17.735470119156126,
          2.6965918574902714,
          2.6965918574902714,
          1.5590242585745262,
          0.6986408745425221,
          -0.11021135312907493,
          -0.8870524912660827,
          -4.19311396995985,
          -6.130217410244821,
          -8.184626008373908,
          -8.323745219533517,
          -9.116408790584728,
          -11.482761975188382,
          -11.316338148866725,
          -11.151769475145535,
          -11.04731186930561,
          -11.515192049166401,
          -10.75571810867222,
          -13.841970198923548,
          -15.177311699920292,
          -17.19515594202756,
          -16.55276062381057,
          -16.50698449720538,
          -13.46650123139721,
          -12.938353205246745,
          -13.24102855477227,
          -13.064787829862512,
          -10.369061601884733,
          -9.714783333197639,
          -8.391437341284092,
          -7.866953343178995,
          -5.593330694711307,
          -5.043450671963834,
          -4.446088276344251,
          -4.102985934235615,
          -3.703404610802563,
          -3.7034046108025853,
          -3.4512068424243267,
          -3.561046498422793,
          -3.561046498422793,
          -3.9096620649375913,
          -4.224382569908358,
          -4.478666502641282,
          -3.682819839054363,
          -3.271726393401475
         ],
         "z": [
          -0.6718931029661146,
          -1.3155673946945834,
          -1.5862885073147925,
          -1.4671072042722775,
          -1.7853981673813024,
          -1.9886341583366112,
          -2.1437873612434317,
          -2.5794292581031053,
          -1.9974243141166914,
          -3.526096781009791,
          -3.5308187728022133,
          -3.919240281735581,
          -3.908630801369317,
          -3.4377146750133267,
          -3.5021244493783845,
          -3.0603824189817437,
          -3.133652465532455,
          -4.173537458331976,
          -4.268144079025672,
          -4.481250232069689,
          -4.4463532845823375,
          -4.216217553408641,
          -4.216217553408641,
          -4.6043939286809055,
          -4.7230371086397485,
          -4.5160547040459456,
          -4.443614797802909,
          -4.390897895536483,
          -4.390897895536483,
          -4.399030495331857,
          -4.551077549150606,
          -4.460381957609494,
          -4.460381957609494,
          -4.343804163054088,
          -4.4236648116619435,
          -4.999621943124112,
          -5.145992275438148,
          -5.092569872702324,
          -5.092569872702324,
          -5.092569872702324,
          -5.3563735271667134,
          -6.115969361655727,
          -4.498380807410407,
          -4.90463248300026,
          -5.0519086852744985,
          -4.86552320700997,
          -4.901841504816097,
          -4.980065917317766,
          -5.327158287215794,
          -5.327158287215772,
          -4.949846417057624,
          -4.949846417057624,
          -4.876620938157372,
          -5.048241054384861,
          -5.020566522279513,
          -4.86014786726372,
          -5.21580280409899,
          -4.822924740056589,
          -5.1082494205200835,
          -5.1082494205200835,
          -4.8530155863453,
          -5.105297712317491,
          -4.81553896725555,
          -5.319546088738747,
          -5.337550809098278,
          -4.90846653712802,
          -4.6980097458395145,
          -4.529205839126571,
          -4.499206515935916,
          -4.548129785519262,
          -4.738206904936115,
          -5.42688613281328,
          -4.938816808924118,
          -4.9641532855103865,
          -5.1253004038406935,
          -6.573652442512334,
          -6.573652442512334,
          -6.770678118549145,
          -6.157703414748882,
          -5.496108238010299,
          -5.496108238010299,
          -5.460890754369242,
          -4.730367676414216,
          -4.730367676414216,
          -3.747645896961438,
          -3.747645896961438,
          -1.0058135594601223,
          -1.714459169900251,
          -1.9189098708799484,
          0.023088979993923783,
          -1.7187615447635585,
          -2.245252637003037,
          -2.1279361477299696,
          -2.1500900881752605,
          -2.7191881270808738,
          -2.9483852759351064,
          -1.8142819963017143,
          -1.9973503244400388,
          -0.8062142835565167,
          -1.455419758959664,
          -2.088529159924501,
          -1.7181747746123799,
          -1.5611965013558882,
          -1.869715833255925,
          -1.8647080614574212,
          -1.4393084221189012,
          -2.3123470050723682,
          -2.3123470050723682,
          -2.340196073536549,
          -2.256342075645068,
          -2.3540100733820517,
          -2.3540100733820517,
          -1.943051406417617,
          -1.9861363216260752,
          -1.9861363216260752,
          -1.137061789265581,
          -0.9955326772781659,
          -1.0727197207748065,
          -0.9336959470986006,
          -0.7897253052413955,
          -0.9600002912382388,
          -1.036882148579532,
          -1.6252954750732633,
          -1.7293143045407522,
          -2.9579602419331104,
          -2.032684703006593,
          -2.032684703006593,
          -2.224880054593581,
          -2.238102890230609,
          -2.4472811008444233,
          -3.544600132435205,
          -2.736093904489856,
          -1.6079423409582905,
          -1.7630051449875057,
          -1.720625980401147,
          -2.1925041792597573,
          0.4829944515636121,
          0.4829944515636121,
          0.8301889278628627,
          1.2727775281078602,
          1.9253855551926824,
          1.8463255472841444,
          2.48819867100456,
          2.7528739603983388,
          2.179588505929897,
          2.179588505929897,
          2.412753831228498,
          2.4622349711711293,
          2.4622349711711293,
          2.241263952235894,
          1.7234710115590524,
          1.7480967639755596,
          1.8198576648344118,
          2.3231629923416985,
          3.916839367819702,
          5.027403497307459,
          4.984733358830161,
          5.02049120757837,
          4.940536579747578,
          5.120225460370277,
          5.490005649643215,
          4.881607886917872,
          4.924245346376521,
          5.348234181679978,
          6.387639496150332,
          6.39893368359461,
          5.825712063416155,
          5.847164270890759,
          5.674406149424537,
          6.753180037389694,
          7.993266113519137,
          7.719891358409625,
          7.725969785172371,
          7.725969785172371,
          7.802521036727518,
          7.618716724495167,
          7.688903925911861,
          7.650077368021324,
          7.650077368021346,
          7.364289881199881,
          7.90007502778447,
          7.549747465973211,
          8.233654628271857,
          8.233654628271857,
          8.396850599102802,
          8.715131883872385,
          8.823593781981188,
          8.30590695356821,
          8.342854811821132,
          7.976157841399513,
          7.812256181224653,
          6.745106834668202,
          6.745106834668202,
          6.745106834668202,
          6.745106834668202,
          6.745106834668202,
          8.786701143856956,
          8.786701143856956,
          8.786701143856956,
          8.786701143856956,
          8.786701143856956,
          8.786701143856956,
          7.005458054353597,
          7.005458054353597,
          7.390586669007249,
          7.942167411258039,
          8.289510156686951,
          7.246072535904591,
          9.236896888837933,
          10.249447851091832,
          9.857039052337546,
          9.743976933141752,
          9.886755499460476,
          9.088206885268857,
          8.630043970053535,
          7.908020410314709,
          7.744685147180698,
          7.880433690779333,
          6.744762563566997,
          7.025690130793929,
          6.556938418750757,
          7.028751771660691,
          7.664506019954698,
          7.378690273987587,
          5.049440929244486,
          5.156408128925548,
          4.990621133581642,
          4.765021541611825,
          1.7022480457457028,
          1.9504766102276028,
          0.7568309770122017,
          1.363791855643992,
          1.4389152685575726,
          2.206634006547304,
          1.5268801829487757,
          1.0853494644642359,
          0.6999080429020754,
          0.6999080429021197,
          0.7387140336647001,
          0.7237536539053345,
          0.7237536539053345,
          0.6125814800350016,
          0.6300506798645911,
          -1.6861281571848519,
          -2.6676220428177637,
          -2.1752634580531
         ]
        },
        {
         "marker": {
          "color": "green",
          "opacity": 0.8,
          "size": 5
         },
         "mode": "markers",
         "name": "/camera_pose_frame",
         "type": "scatter3d",
         "x": [
          -5.272829160094261,
          -7.279656827449799,
          -13.350628316402435,
          -17.52137541770935,
          -18.967397511005398,
          -19.82198804616928,
          -20.172621309757236,
          -21.190375089645386,
          -25.07079243659973,
          -32.90685415267944,
          -35.06348133087158,
          -43.78379881381989,
          -45.20218670368194,
          -46.15963995456696,
          -45.90510725975037,
          -47.222867608070366,
          -48.34126830101013,
          -47.5902259349823,
          -47.42250442504883,
          -47.21238613128662,
          -47.43920564651489,
          -47.31937646865845,
          -47.71812260150909,
          -47.595134377479546,
          -47.5569099187851,
          -47.41939306259155,
          -47.71737158298493,
          -47.46675193309784,
          -47.67999649047852,
          -47.57891595363617,
          -47.62622714042664,
          -47.44040369987488,
          -47.41424024105072,
          -46.99142277240753,
          -46.42163515090942,
          -45.94922959804535,
          -46.88012599945069,
          -48.28566908836365,
          -48.79930317401886,
          -48.22245240211487,
          -47.64091372489929,
          -47.69259095191956,
          -47.409969568252556,
          -47.473976016044624,
          -47.987237572669976,
          -47.67802059650421,
          -47.07449674606323,
          -47.38160371780396,
          -47.37246334552765,
          -47.35410213470459,
          -47.01770544052124,
          -47.32247889041901,
          -47.463762760162346,
          -47.19490110874176,
          -47.364726662635796,
          -47.24556505680084,
          -47.245174646377556,
          -47.355377674102776,
          -47.09733724594116,
          -47.00937867164612,
          -46.743515133857734,
          -46.796882152557366,
          -46.88444435596466,
          -47.09144532680512,
          -46.2783545255661,
          -45.78640460968018,
          -44.91022527217865,
          -45.030641555786126,
          -44.892388582229614,
          -45.115542411804206,
          -45.15930414199829,
          -46.90060019493103,
          -46.92856967449188,
          -46.8525618314743,
          -47.236406803131096,
          -44.92465853691101,
          -45.39742171764374,
          -44.59907710552216,
          -45.06207406520844,
          -45.37151455879211,
          -44.71476376056671,
          -44.5508599281311,
          -44.15015578269959,
          -43.98872554302216,
          -42.510786652565,
          -42.91588068008423,
          -45.20403146743774,
          -45.75234353542328,
          -45.47800719738007,
          -46.50733470916748,
          -55.085015296936035,
          -55.72561025619507,
          -57.4973464012146,
          -58.23346972465515,
          -58.17463397979736,
          -59.11097526550293,
          -59.89599823951721,
          -60.00475883483887,
          -61.485081911087036,
          -65.09832739830017,
          -64.97142910957336,
          -60.26454567909241,
          -54.749077558517456,
          -54.81071472167969,
          -54.025113582611084,
          -53.154730796813965,
          -53.92833352088928,
          -54.120850563049316,
          -54.41215634346008,
          -54.673945903778076,
          -55.21681308746338,
          -55.92460036277771,
          -56.73179626464844,
          -56.7389190196991,
          -56.51853084564209,
          -56.59343600273132,
          -56.72422647476196,
          -56.70136213302612,
          -56.55709505081177,
          -56.75765872001648,
          -56.59691095352173,
          -54.940927028656006,
          -54.041820764541626,
          -55.29540777206421,
          -55.074793100357056,
          -54.98450994491577,
          -55.01394271850586,
          -54.987818002700806,
          -54.456520080566406,
          -55.325400829315186,
          -57.73208141326904,
          -60.28776168823242,
          -66.07794761657715,
          -65.6665027141571,
          -69.56102848052979,
          -69.51941847801208,
          -73.86074662208557,
          -73.96897673606873,
          -74.3604838848114,
          -73.90294075012207,
          -74.58197474479675,
          -75.53142309188843,
          -79.2881727218628,
          -78.6084532737732,
          -77.8194785118103,
          -77.30469703674316,
          -74.80626106262207,
          -75.03933310508728,
          -74.93423819541931,
          -75.09770393371582,
          -75.65136551856995,
          -77.46981382369995,
          -77.45866179466248,
          -76.33740901947021,
          -77.92748212814331,
          -81.36459589004517,
          -82.01201558113098,
          -83.63749980926514,
          -83.08691382408142,
          -83.01024436950684,
          -85.0858986377716,
          -86.75588369369507,
          -86.97161078453064,
          -87.24535703659058,
          -92.60998964309692,
          -93.28905344009401,
          -95.32978534698486,
          -96.26941680908205,
          -96.99946641921996,
          -98.87262582778932,
          -98.76567125320436,
          -98.76374006271362,
          -99.70138669013976,
          -100.75222253799438,
          -101.37871503829956,
          -101.18811130523682,
          -103.329598903656,
          -104.68459129333496,
          -105.03119230270386,
          -109.75098609924316,
          -114.34342861175537,
          -115.20631313323977,
          -123.64041805267334,
          -125.38716793060306,
          -127.66060829162598,
          -135.07170677185061,
          -135.96142530441284,
          -143.93635988235474,
          -144.4123387336731,
          -145.03477811813354,
          -146.01269960403442,
          -144.85640525817868,
          -143.03950071334842,
          -134.91953611373899,
          -132.21982717514038,
          -124.80223178863523,
          -118.26467514038086,
          -114.73664045333862,
          -115.02364873886108,
          -114.7832989692688,
          -112.83059120178225,
          -104.81995344161987,
          -99.08337593078612,
          -99.30373430252077,
          -100.38888454437256,
          -100.36249160766602,
          -100.7679462432861,
          -100.28839111328125,
          -100.91181993484497,
          -103.44651937484738,
          -101.95597410202026,
          -103.21320295333862,
          -103.31189632415771,
          -103.09131145477295,
          -103.13173532485962,
          -101.5214562416077,
          -100.29013156890872,
          -94.64453458786012,
          -95.15596628189088,
          -99.04881119728088,
          -98.76517057418825,
          -94.50084567070009,
          -91.45746231079102,
          -87.43019104003906,
          -89.52553868293762,
          -90.81372618675232,
          -91.04817509651184,
          -90.7756507396698,
          -84.97949838638306,
          -79.56113815307617,
          -77.18324661254883,
          -77.60673761367798,
          -75.82455277442932,
          -74.87520575523376,
          -73.67125153541565,
          -73.02574515342712,
          -71.66324853897095,
          -71.40697836875916,
          -70.31017541885376,
          -70.19648551940918,
          -70.07282972335815,
          -69.41611766815186,
          -69.258052110672,
          -66.51489734649658,
          -64.76792693138123,
          -62.43976950645447
         ],
         "y": [
          -0.4230853635817765,
          -0.4348429851233959,
          -0.17561294371262193,
          1.3117561116814613,
          1.265344489365816,
          1.0133980773389342,
          0.8562192320823672,
          0.5947214085608721,
          1.012538466602564,
          0.496055046096444,
          -0.4406008869409561,
          -0.7508908864110708,
          -1.3261203654110432,
          -1.4294795691967008,
          -1.4378933236002922,
          -5.3484510630369195,
          -4.672630876302718,
          -5.089471861720085,
          -4.947555810213089,
          -5.117207393050194,
          -4.65274415910244,
          -5.013435706496239,
          -4.853192716836928,
          -5.085133761167526,
          -4.965658858418465,
          -5.0085145980119705,
          -4.597729817032814,
          -5.065916478633881,
          -4.9251317977905265,
          -5.007918179035187,
          -4.844050109386444,
          -5.010729283094406,
          -4.743077978491783,
          -5.272425711154939,
          -4.6336598694324485,
          -6.18782639503479,
          -6.954330950975418,
          -5.900340899825096,
          -4.868440702557564,
          -4.633968695998192,
          -5.078194662928581,
          -4.664739966392517,
          -4.471046850085258,
          -5.161844566464423,
          -5.485270544886589,
          -5.4809048771858215,
          -4.948359727859497,
          -5.06211519241333,
          -5.433047935366631,
          -4.970717802643776,
          -4.637391492724418,
          -5.216207355260849,
          -4.962519556283952,
          -5.211127549409866,
          -4.7771409153938285,
          -4.691745340824127,
          -4.118084535002708,
          -4.330721125006677,
          -5.043818056583405,
          -4.962502047419548,
          -3.957492485642433,
          -4.169058427214623,
          -4.05438132584095,
          -4.042355716228485,
          1.9381903111934662,
          2.3065999150276184,
          4.585913196206093,
          5.191698670387268,
          5.341175198554994,
          6.549489498138428,
          4.750946164131165,
          0.5204677581787109,
          -0.5991181358695029,
          -1.4489742927253246,
          -2.1411139518022537,
          0.03713973856065422,
          0.49344804137945186,
          0.8888596668839455,
          1.0942822322249413,
          1.1559413745999336,
          2.21861433237791,
          3.3775318413972846,
          4.954242706298828,
          5.214536935091019,
          14.481684565544128,
          15.081138908863068,
          14.833661913871765,
          15.090103447437286,
          15.22180438041687,
          14.571544528007507,
          8.740708231925964,
          7.869582623243332,
          4.67461496591568,
          5.097727850079536,
          5.058548226952553,
          4.992182180285454,
          5.099122226238252,
          4.852591454982758,
          5.133306980133057,
          7.547362893819809,
          9.000108391046524,
          4.961325973272324,
          -3.3710502088069916,
          -3.8490649312734604,
          -3.933348134160042,
          -5.251860246062279,
          -5.063387379050255,
          -4.90058995783329,
          -4.992779344320296,
          -5.018463730812074,
          -5.1189761608839035,
          -4.618455469608307,
          -5.021388456225395,
          -4.72295917570591,
          -5.0639819353818885,
          -4.968385770916939,
          -5.027637258172035,
          -4.810560122132301,
          -5.1910363137722015,
          -4.9325261265039435,
          -5.14676533639431,
          -7.984848320484161,
          -9.66782048344612,
          -9.765320271253586,
          -9.892112016677856,
          -10.534216463565826,
          -10.700588673353197,
          -11.482971161603928,
          -12.8482386469841,
          -13.743998110294342,
          -13.6313796043396,
          -15.025810897350311,
          -21.34620845317841,
          -21.36325240135193,
          -20.80735564231873,
          -19.994904100894928,
          -21.14964872598648,
          -21.293362975120544,
          -21.35617583990097,
          -21.155250072479248,
          -21.72408103942871,
          -21.851061284542084,
          -18.90219449996948,
          -19.47828233242035,
          -18.18665862083435,
          -17.677557468414307,
          -16.393068432807922,
          -16.498839855194092,
          -16.65361225605011,
          -16.611286997795105,
          -16.51715487241745,
          -14.724285900592804,
          -14.235427975654602,
          -14.330637454986572,
          -14.381107687950134,
          -11.851461976766585,
          -11.483184248209,
          -10.728258639574053,
          -10.932008922100067,
          -10.688380151987076,
          -10.03522053360939,
          -9.550365060567856,
          -9.38124656677246,
          -8.826689422130585,
          -5.551448464393617,
          -6.821954995393753,
          -6.483186781406403,
          -6.546291708946228,
          -5.830418318510056,
          -4.989710450172423,
          -4.43018414080143,
          -4.450846463441849,
          -5.046377703547479,
          -6.100420281291007,
          -6.406695395708084,
          -6.189613044261932,
          -7.861460745334625,
          -8.678296953439713,
          -8.754222840070723,
          -11.013783514499664,
          -12.901417911052704,
          -13.212184607982635,
          -11.462563276290895,
          -10.76173484325409,
          -10.143059492111206,
          -5.342395231127739,
          -4.888954013586043,
          5.272368714213371,
          6.575114279985428,
          9.224920719861984,
          15.256227552890778,
          20.47039419412613,
          25.36015510559082,
          26.832479238510132,
          24.954582750797268,
          21.3982492685318,
          20.834273099899285,
          18.594542145729065,
          17.56931096315384,
          17.556557059288025,
          14.90730196237564,
          8.774077892303469,
          5.202240124344827,
          4.861918091773987,
          -1.3303703628480434,
          -2.87393219769001,
          -5.223269760608673,
          -7.334237545728682,
          -8.564543724060059,
          -11.014424264431,
          -15.589256584644318,
          -18.144463002681725,
          -17.846854031085968,
          -17.755675315856937,
          -18.17763149738312,
          -18.813550472259518,
          -18.96592229604721,
          -20.4276978969574,
          -23.31578433513641,
          -25.205910205841064,
          -27.04865336418152,
          -27.898594737052917,
          -26.864522695541382,
          -24.85344558954239,
          -25.086528062820435,
          -24.884819984436035,
          -23.247753083705906,
          -23.2120081782341,
          -21.72644436359405,
          -20.81364542245865,
          -20.98202109336853,
          -20.040692389011387,
          -14.92788940668106,
          -14.594380557537079,
          -14.500580728054047,
          -14.330427348613739,
          -15.018945932388306,
          -14.93646502494812,
          -15.039315819740295,
          -14.993733167648315,
          -15.158462524414062,
          -14.964990317821506,
          -15.12254923582077,
          -14.995621144771576,
          -14.558903872966766,
          -14.145563542842865
         ],
         "z": [
          -0.16093666199594733,
          -0.43293461203575134,
          -0.7495525758713485,
          -3.5135678946971884,
          -5.07056899368763,
          -4.952452331781386,
          -5.031320452690125,
          -5.884909629821777,
          -7.1325957775115985,
          -10.914318263530733,
          -11.519128084182741,
          -7.938382029533386,
          -6.068209186196327,
          -4.679886624217034,
          -5.357879400253297,
          -7.754422724246979,
          -5.568145588040352,
          -6.9665618240833265,
          -7.521747797727585,
          -6.987419724464418,
          -7.195474952459335,
          -7.562434673309326,
          -7.159671932458878,
          -7.338247448205948,
          -7.01863169670105,
          -7.21142441034317,
          -6.66956752538681,
          -6.564751267433168,
          -6.214622408151627,
          -6.389138102531433,
          -6.532956659793854,
          -6.834865361452103,
          -6.690358370542526,
          -7.712722569704056,
          -7.203923165798187,
          -7.033435255289078,
          -5.7937026023864755,
          -4.40901443362236,
          -4.63436134159565,
          -5.328194424510002,
          -6.827080994844438,
          -7.242625951766968,
          -6.926324963569641,
          -7.223289459943771,
          -6.775040179491043,
          -7.120923697948456,
          -7.883764803409576,
          -6.607842445373535,
          -6.5576747059822065,
          -6.953537464141846,
          -6.388641893863678,
          -6.666648387908937,
          -7.1526214480400085,
          -6.953752040863037,
          -6.809036433696747,
          -6.430584937334061,
          -6.6255442798137665,
          -7.354024052619934,
          -7.667163014411926,
          -7.725032418966292,
          -7.571067661046982,
          -7.024645060300827,
          -11.558926850557327,
          -10.934042185544968,
          -8.224058151245117,
          -7.576233148574829,
          -7.483416795730591,
          -7.395278662443161,
          -7.8367486596107465,
          -7.627253234386444,
          -8.27183797955513,
          -8.768463134765625,
          -9.83075425028801,
          -10.870867222547533,
          -11.137035489082336,
          -9.371846169233322,
          -9.645336866378784,
          -9.418823570013046,
          -8.467087894678116,
          -8.820829540491104,
          -8.748563379049301,
          -8.193255215883255,
          -7.489070296287538,
          -7.422897219657898,
          -4.674163088202477,
          -3.7747595459222802,
          1.4881401322782042,
          1.3173239305615423,
          0.7479849271476269,
          1.1684506200253963,
          -2.172424830496311,
          -2.362188324332237,
          -2.6351340115070343,
          -2.4510305374860764,
          -2.5684874504804607,
          -2.811575122177601,
          -2.217869646847248,
          -1.9473019987344746,
          -2.191234566271305,
          -2.685336582362652,
          -3.2337997108697882,
          -3.139669820666313,
          -3.274870663881302,
          -2.8708718717098236,
          -3.095168992877006,
          -3.767988830804825,
          -5.11801652610302,
          -5.172944068908691,
          -4.866447299718857,
          -4.672577604651451,
          -4.307772219181062,
          -3.355196863412857,
          -2.5296479463577266,
          -2.3674897849559784,
          -2.149107865989208,
          -2.429694682359696,
          -1.9093949347734451,
          -2.3482590913772583,
          -2.638216875493526,
          -2.5233102962374687,
          -2.486009709537029,
          -3.034291043877602,
          -3.641270101070404,
          -4.086270183324814,
          -4.172145947813989,
          -4.0365710854530334,
          -4.284225031733513,
          -4.422839358448981,
          -4.195081815123558,
          -3.898129239678383,
          -1.5456754714250562,
          -3.499319404363632,
          -0.5982261151075363,
          -1.9718032330274586,
          1.6695471480488773,
          1.7764173448085785,
          5.025831237435342,
          4.949620366096497,
          5.373269319534302,
          4.990344494581223,
          5.034718289971352,
          6.166580319404603,
          6.070835888385773,
          4.458148777484894,
          5.043807998299599,
          4.913638904690743,
          3.22527177631855,
          3.344222530722618,
          3.368373215198517,
          3.41845341026783,
          3.3569194376468667,
          5.514560639858247,
          6.7134954035282135,
          4.4632915407419205,
          5.597500875592232,
          8.671770244836807,
          8.794155716896057,
          9.528869390487673,
          8.811256289482118,
          8.03561732172966,
          9.235288202762604,
          10.503382980823517,
          10.085654258728027,
          9.942636638879776,
          11.686964333057405,
          10.262284427881239,
          11.148790270090103,
          11.534853279590608,
          12.895026803016666,
          13.470914959907532,
          15.032535791397095,
          14.906835556030273,
          14.83985036611557,
          15.150418877601627,
          14.967706799507141,
          15.051139891147617,
          14.981493353843689,
          15.02774953842163,
          15.246406197547913,
          15.776646137237549,
          18.287909030914307,
          18.367861211299896,
          17.742078006267548,
          17.527221143245693,
          17.39058792591095,
          18.168321251869198,
          18.493586778640747,
          19.94677931070328,
          20.02428770065308,
          20.138154923915867,
          19.418936967849728,
          19.888447225093838,
          19.757264852523804,
          19.447174668312076,
          19.62634027004242,
          18.90934556722641,
          19.234506785869602,
          20.43719291687012,
          20.396688580513,
          20.329523086547848,
          20.74330449104309,
          22.558026015758514,
          21.744005382061005,
          21.95810377597809,
          25.223994255065918,
          25.737282633781433,
          26.71540677547455,
          28.289243578910828,
          28.951138257980354,
          27.374812960624688,
          27.34721601009369,
          24.46315586566925,
          24.117261171340946,
          23.74933063983917,
          23.064911365509037,
          22.971183061599728,
          22.23123013973236,
          24.84623342752457,
          23.9490807056427,
          21.502061188220974,
          21.28140777349472,
          21.88692390918732,
          22.362230718135834,
          23.278675973415368,
          20.609354972839355,
          18.91617625951767,
          15.037153661251068,
          14.849613606929779,
          13.732247054576874,
          15.034015476703644,
          16.146686673164368,
          14.8149773478508,
          11.986514180898665,
          10.983414202928543,
          11.17185652256012,
          11.240436136722563,
          10.853800177574158,
          10.808918625116346,
          10.294723510742188,
          10.08509173989296,
          9.699524939060213,
          7.979978621006012,
          7.606209069490433,
          5.913481116294862,
          6.0968030244112015,
          6.649960577487946
         ]
        }
       ],
       "layout": {
        "font": {
         "family": "Courier New, monospace",
         "size": 13
        },
        "template": {
         "data": {
          "bar": [
           {
            "error_x": {
             "color": "#2a3f5f"
            },
            "error_y": {
             "color": "#2a3f5f"
            },
            "marker": {
             "line": {
              "color": "#E5ECF6",
              "width": 0.5
             }
            },
            "type": "bar"
           }
          ],
          "barpolar": [
           {
            "marker": {
             "line": {
              "color": "#E5ECF6",
              "width": 0.5
             }
            },
            "type": "barpolar"
           }
          ],
          "carpet": [
           {
            "aaxis": {
             "endlinecolor": "#2a3f5f",
             "gridcolor": "white",
             "linecolor": "white",
             "minorgridcolor": "white",
             "startlinecolor": "#2a3f5f"
            },
            "baxis": {
             "endlinecolor": "#2a3f5f",
             "gridcolor": "white",
             "linecolor": "white",
             "minorgridcolor": "white",
             "startlinecolor": "#2a3f5f"
            },
            "type": "carpet"
           }
          ],
          "choropleth": [
           {
            "colorbar": {
             "outlinewidth": 0,
             "ticks": ""
            },
            "type": "choropleth"
           }
          ],
          "contour": [
           {
            "colorbar": {
             "outlinewidth": 0,
             "ticks": ""
            },
            "colorscale": [
             [
              0,
              "#0d0887"
             ],
             [
              0.1111111111111111,
              "#46039f"
             ],
             [
              0.2222222222222222,
              "#7201a8"
             ],
             [
              0.3333333333333333,
              "#9c179e"
             ],
             [
              0.4444444444444444,
              "#bd3786"
             ],
             [
              0.5555555555555556,
              "#d8576b"
             ],
             [
              0.6666666666666666,
              "#ed7953"
             ],
             [
              0.7777777777777778,
              "#fb9f3a"
             ],
             [
              0.8888888888888888,
              "#fdca26"
             ],
             [
              1,
              "#f0f921"
             ]
            ],
            "type": "contour"
           }
          ],
          "contourcarpet": [
           {
            "colorbar": {
             "outlinewidth": 0,
             "ticks": ""
            },
            "type": "contourcarpet"
           }
          ],
          "heatmap": [
           {
            "colorbar": {
             "outlinewidth": 0,
             "ticks": ""
            },
            "colorscale": [
             [
              0,
              "#0d0887"
             ],
             [
              0.1111111111111111,
              "#46039f"
             ],
             [
              0.2222222222222222,
              "#7201a8"
             ],
             [
              0.3333333333333333,
              "#9c179e"
             ],
             [
              0.4444444444444444,
              "#bd3786"
             ],
             [
              0.5555555555555556,
              "#d8576b"
             ],
             [
              0.6666666666666666,
              "#ed7953"
             ],
             [
              0.7777777777777778,
              "#fb9f3a"
             ],
             [
              0.8888888888888888,
              "#fdca26"
             ],
             [
              1,
              "#f0f921"
             ]
            ],
            "type": "heatmap"
           }
          ],
          "heatmapgl": [
           {
            "colorbar": {
             "outlinewidth": 0,
             "ticks": ""
            },
            "colorscale": [
             [
              0,
              "#0d0887"
             ],
             [
              0.1111111111111111,
              "#46039f"
             ],
             [
              0.2222222222222222,
              "#7201a8"
             ],
             [
              0.3333333333333333,
              "#9c179e"
             ],
             [
              0.4444444444444444,
              "#bd3786"
             ],
             [
              0.5555555555555556,
              "#d8576b"
             ],
             [
              0.6666666666666666,
              "#ed7953"
             ],
             [
              0.7777777777777778,
              "#fb9f3a"
             ],
             [
              0.8888888888888888,
              "#fdca26"
             ],
             [
              1,
              "#f0f921"
             ]
            ],
            "type": "heatmapgl"
           }
          ],
          "histogram": [
           {
            "marker": {
             "colorbar": {
              "outlinewidth": 0,
              "ticks": ""
             }
            },
            "type": "histogram"
           }
          ],
          "histogram2d": [
           {
            "colorbar": {
             "outlinewidth": 0,
             "ticks": ""
            },
            "colorscale": [
             [
              0,
              "#0d0887"
             ],
             [
              0.1111111111111111,
              "#46039f"
             ],
             [
              0.2222222222222222,
              "#7201a8"
             ],
             [
              0.3333333333333333,
              "#9c179e"
             ],
             [
              0.4444444444444444,
              "#bd3786"
             ],
             [
              0.5555555555555556,
              "#d8576b"
             ],
             [
              0.6666666666666666,
              "#ed7953"
             ],
             [
              0.7777777777777778,
              "#fb9f3a"
             ],
             [
              0.8888888888888888,
              "#fdca26"
             ],
             [
              1,
              "#f0f921"
             ]
            ],
            "type": "histogram2d"
           }
          ],
          "histogram2dcontour": [
           {
            "colorbar": {
             "outlinewidth": 0,
             "ticks": ""
            },
            "colorscale": [
             [
              0,
              "#0d0887"
             ],
             [
              0.1111111111111111,
              "#46039f"
             ],
             [
              0.2222222222222222,
              "#7201a8"
             ],
             [
              0.3333333333333333,
              "#9c179e"
             ],
             [
              0.4444444444444444,
              "#bd3786"
             ],
             [
              0.5555555555555556,
              "#d8576b"
             ],
             [
              0.6666666666666666,
              "#ed7953"
             ],
             [
              0.7777777777777778,
              "#fb9f3a"
             ],
             [
              0.8888888888888888,
              "#fdca26"
             ],
             [
              1,
              "#f0f921"
             ]
            ],
            "type": "histogram2dcontour"
           }
          ],
          "mesh3d": [
           {
            "colorbar": {
             "outlinewidth": 0,
             "ticks": ""
            },
            "type": "mesh3d"
           }
          ],
          "parcoords": [
           {
            "line": {
             "colorbar": {
              "outlinewidth": 0,
              "ticks": ""
             }
            },
            "type": "parcoords"
           }
          ],
          "scatter": [
           {
            "marker": {
             "colorbar": {
              "outlinewidth": 0,
              "ticks": ""
             }
            },
            "type": "scatter"
           }
          ],
          "scatter3d": [
           {
            "line": {
             "colorbar": {
              "outlinewidth": 0,
              "ticks": ""
             }
            },
            "marker": {
             "colorbar": {
              "outlinewidth": 0,
              "ticks": ""
             }
            },
            "type": "scatter3d"
           }
          ],
          "scattercarpet": [
           {
            "marker": {
             "colorbar": {
              "outlinewidth": 0,
              "ticks": ""
             }
            },
            "type": "scattercarpet"
           }
          ],
          "scattergeo": [
           {
            "marker": {
             "colorbar": {
              "outlinewidth": 0,
              "ticks": ""
             }
            },
            "type": "scattergeo"
           }
          ],
          "scattergl": [
           {
            "marker": {
             "colorbar": {
              "outlinewidth": 0,
              "ticks": ""
             }
            },
            "type": "scattergl"
           }
          ],
          "scattermapbox": [
           {
            "marker": {
             "colorbar": {
              "outlinewidth": 0,
              "ticks": ""
             }
            },
            "type": "scattermapbox"
           }
          ],
          "scatterpolar": [
           {
            "marker": {
             "colorbar": {
              "outlinewidth": 0,
              "ticks": ""
             }
            },
            "type": "scatterpolar"
           }
          ],
          "scatterpolargl": [
           {
            "marker": {
             "colorbar": {
              "outlinewidth": 0,
              "ticks": ""
             }
            },
            "type": "scatterpolargl"
           }
          ],
          "scatterternary": [
           {
            "marker": {
             "colorbar": {
              "outlinewidth": 0,
              "ticks": ""
             }
            },
            "type": "scatterternary"
           }
          ],
          "surface": [
           {
            "colorbar": {
             "outlinewidth": 0,
             "ticks": ""
            },
            "colorscale": [
             [
              0,
              "#0d0887"
             ],
             [
              0.1111111111111111,
              "#46039f"
             ],
             [
              0.2222222222222222,
              "#7201a8"
             ],
             [
              0.3333333333333333,
              "#9c179e"
             ],
             [
              0.4444444444444444,
              "#bd3786"
             ],
             [
              0.5555555555555556,
              "#d8576b"
             ],
             [
              0.6666666666666666,
              "#ed7953"
             ],
             [
              0.7777777777777778,
              "#fb9f3a"
             ],
             [
              0.8888888888888888,
              "#fdca26"
             ],
             [
              1,
              "#f0f921"
             ]
            ],
            "type": "surface"
           }
          ],
          "table": [
           {
            "cells": {
             "fill": {
              "color": "#EBF0F8"
             },
             "line": {
              "color": "white"
             }
            },
            "header": {
             "fill": {
              "color": "#C8D4E3"
             },
             "line": {
              "color": "white"
             }
            },
            "type": "table"
           }
          ]
         },
         "layout": {
          "annotationdefaults": {
           "arrowcolor": "#2a3f5f",
           "arrowhead": 0,
           "arrowwidth": 1
          },
          "colorscale": {
           "diverging": [
            [
             0,
             "#8e0152"
            ],
            [
             0.1,
             "#c51b7d"
            ],
            [
             0.2,
             "#de77ae"
            ],
            [
             0.3,
             "#f1b6da"
            ],
            [
             0.4,
             "#fde0ef"
            ],
            [
             0.5,
             "#f7f7f7"
            ],
            [
             0.6,
             "#e6f5d0"
            ],
            [
             0.7,
             "#b8e186"
            ],
            [
             0.8,
             "#7fbc41"
            ],
            [
             0.9,
             "#4d9221"
            ],
            [
             1,
             "#276419"
            ]
           ],
           "sequential": [
            [
             0,
             "#0d0887"
            ],
            [
             0.1111111111111111,
             "#46039f"
            ],
            [
             0.2222222222222222,
             "#7201a8"
            ],
            [
             0.3333333333333333,
             "#9c179e"
            ],
            [
             0.4444444444444444,
             "#bd3786"
            ],
            [
             0.5555555555555556,
             "#d8576b"
            ],
            [
             0.6666666666666666,
             "#ed7953"
            ],
            [
             0.7777777777777778,
             "#fb9f3a"
            ],
            [
             0.8888888888888888,
             "#fdca26"
            ],
            [
             1,
             "#f0f921"
            ]
           ],
           "sequentialminus": [
            [
             0,
             "#0d0887"
            ],
            [
             0.1111111111111111,
             "#46039f"
            ],
            [
             0.2222222222222222,
             "#7201a8"
            ],
            [
             0.3333333333333333,
             "#9c179e"
            ],
            [
             0.4444444444444444,
             "#bd3786"
            ],
            [
             0.5555555555555556,
             "#d8576b"
            ],
            [
             0.6666666666666666,
             "#ed7953"
            ],
            [
             0.7777777777777778,
             "#fb9f3a"
            ],
            [
             0.8888888888888888,
             "#fdca26"
            ],
            [
             1,
             "#f0f921"
            ]
           ]
          },
          "colorway": [
           "#636efa",
           "#EF553B",
           "#00cc96",
           "#ab63fa",
           "#FFA15A",
           "#19d3f3",
           "#FF6692",
           "#B6E880",
           "#FF97FF",
           "#FECB52"
          ],
          "font": {
           "color": "#2a3f5f"
          },
          "geo": {
           "bgcolor": "white",
           "lakecolor": "white",
           "landcolor": "#E5ECF6",
           "showlakes": true,
           "showland": true,
           "subunitcolor": "white"
          },
          "hoverlabel": {
           "align": "left"
          },
          "hovermode": "closest",
          "mapbox": {
           "style": "light"
          },
          "paper_bgcolor": "white",
          "plot_bgcolor": "#E5ECF6",
          "polar": {
           "angularaxis": {
            "gridcolor": "white",
            "linecolor": "white",
            "ticks": ""
           },
           "bgcolor": "#E5ECF6",
           "radialaxis": {
            "gridcolor": "white",
            "linecolor": "white",
            "ticks": ""
           }
          },
          "scene": {
           "xaxis": {
            "backgroundcolor": "#E5ECF6",
            "gridcolor": "white",
            "gridwidth": 2,
            "linecolor": "white",
            "showbackground": true,
            "ticks": "",
            "zerolinecolor": "white"
           },
           "yaxis": {
            "backgroundcolor": "#E5ECF6",
            "gridcolor": "white",
            "gridwidth": 2,
            "linecolor": "white",
            "showbackground": true,
            "ticks": "",
            "zerolinecolor": "white"
           },
           "zaxis": {
            "backgroundcolor": "#E5ECF6",
            "gridcolor": "white",
            "gridwidth": 2,
            "linecolor": "white",
            "showbackground": true,
            "ticks": "",
            "zerolinecolor": "white"
           }
          },
          "shapedefaults": {
           "line": {
            "color": "#2a3f5f"
           }
          },
          "ternary": {
           "aaxis": {
            "gridcolor": "white",
            "linecolor": "white",
            "ticks": ""
           },
           "baxis": {
            "gridcolor": "white",
            "linecolor": "white",
            "ticks": ""
           },
           "bgcolor": "#E5ECF6",
           "caxis": {
            "gridcolor": "white",
            "linecolor": "white",
            "ticks": ""
           }
          },
          "title": {
           "x": 0.05
          },
          "xaxis": {
           "automargin": true,
           "gridcolor": "white",
           "linecolor": "white",
           "ticks": "",
           "zerolinecolor": "white",
           "zerolinewidth": 2
          },
          "yaxis": {
           "automargin": true,
           "gridcolor": "white",
           "linecolor": "white",
           "ticks": "",
           "zerolinecolor": "white",
           "zerolinewidth": 2
          }
         }
        },
        "title": {
         "text": "Rugged Random Raw Positions (cm)"
        }
       }
      },
      "text/html": [
       "<div>\n",
       "        \n",
       "        \n",
       "            <div id=\"1b5744b4-bc79-439a-8d11-3d5845f2c816\" class=\"plotly-graph-div\" style=\"height:525px; width:100%;\"></div>\n",
       "            <script type=\"text/javascript\">\n",
       "                require([\"plotly\"], function(Plotly) {\n",
       "                    window.PLOTLYENV=window.PLOTLYENV || {};\n",
       "                    \n",
       "                if (document.getElementById(\"1b5744b4-bc79-439a-8d11-3d5845f2c816\")) {\n",
       "                    Plotly.newPlot(\n",
       "                        '1b5744b4-bc79-439a-8d11-3d5845f2c816',\n",
       "                        [{\"marker\": {\"color\": \"red\", \"opacity\": 0.8, \"size\": 5}, \"mode\": \"markers\", \"name\": \"/tag_0\", \"type\": \"scatter3d\", \"x\": [-15.684082429878165, -18.106883506906424, -27.982906243719903, -34.25333681977319, -34.46383798735682, -34.89380564210761, -35.71984179777643, -38.36819332768931, -42.37221113136843, -47.572062704080345, -49.36751460726213, -57.60149767920162, -57.61116666638721, -57.86471941743567, -57.8532610261109, -58.86796543265118, -58.8741170159511, -58.79253641973299, -58.83568302641975, -58.91573129262857, -58.62006475359471, -58.660259585874506, -58.660259585874506, -58.955760223088745, -58.783589475303465, -58.8409884396087, -58.874973966941525, -58.96923466883732, -58.96923466883732, -59.00269355942599, -58.84778123826864, -59.16895660839674, -59.16895660839674, -58.883450133693, -58.89421120846028, -58.335679981679455, -57.954706694511415, -57.720716087496356, -57.720716087496356, -57.720716087496356, -57.82742020763922, -59.71926724046641, -59.80139190000726, -59.24287111001877, -59.028449292239735, -59.10256613612961, -59.0038728039866, -59.06695971761469, -58.926018227374975, -58.926018227374975, -58.95294773181852, -58.95294773181852, -58.90655289954266, -58.909679336153765, -58.742460164685674, -58.800845938025816, -58.62206593632708, -58.67339902799501, -58.731958007818406, -58.731958007818406, -58.69149522389889, -58.67661543095868, -58.59330711381524, -58.733399853942835, -57.4557212833935, -57.344750710184414, -56.75778192398957, -56.489056257086624, -56.34598071616317, -55.66260987591699, -55.25986124769544, -56.28306021372258, -56.82394080000734, -57.0830410821693, -57.174792742869954, -57.777291030608666, -57.777291030608666, -58.04182019373131, -57.699924546800794, -57.291576083229636, -57.291576083229636, -57.33930914953883, -56.55035605130636, -56.55035605130636, -53.82371163257306, -53.82371163257306, -55.82127303720172, -56.41028125120264, -58.03301781157172, -58.41124374853164, -64.24247131345058, -65.34069843729455, -66.09547614142805, -67.22189779552978, -68.06372835723162, -68.43257788995449, -68.53646987091773, -68.84390962882733, -71.54446896534306, -73.13558642327651, -72.96555781040006, -70.96326808190996, -67.61048856291407, -67.24564914560787, -67.25368232076399, -66.73653825981543, -65.7137589574345, -65.7137589574345, -66.32435348089238, -66.25868436185829, -65.78548861191808, -65.78548861191808, -67.88235841262498, -69.1096012313591, -69.1096012313591, -68.97488961110629, -68.97598885909659, -69.08378456834576, -68.98692685925994, -69.12875993485336, -68.87242911378517, -68.47000916087538, -67.06519639616158, -66.71821719041529, -68.12703170897088, -68.17109118817952, -68.17109118817952, -67.87237425635888, -67.37233789871584, -67.04539803707277, -68.87322615145919, -72.30859245642682, -75.67530482020824, -77.99659627190738, -77.17738398252254, -78.34637705739928, -84.09294230232656, -84.09294230232656, -84.14644942125283, -85.20459305145627, -85.79383089498924, -85.67582381753766, -88.04005854198263, -88.41221360313156, -88.76315625465672, -88.76315625465672, -88.39946609013029, -88.04617026673938, -88.04617026673938, -87.8608634220574, -87.24246642673394, -86.83827240595863, -88.6489579429345, -89.71801198031373, -89.98328546533385, -93.60777097849993, -93.6336360103934, -95.76993149870503, -96.4527991927544, -97.21371543250798, -97.37642447130168, -97.15746941162209, -98.18091496869783, -99.1707939372152, -106.02559262974256, -108.02132146022639, -108.11012041043675, -107.5975275557628, -107.99642013717718, -109.6852953620023, -113.50012970078092, -113.30982610790139, -113.39358246333803, -113.39358246333803, -113.29818441458133, -114.29982611741072, -114.68085240662083, -114.53127417972404, -114.53127417972404, -117.77757507754755, -121.80939823397597, -122.87644847058957, -126.27408106503361, -126.27408106503361, -128.0427750813362, -132.1009181695209, -132.30086231510757, -138.31280336040834, -138.37709801384858, -139.44156356333798, -140.13294352703318, -141.93952149153492, -141.93952149153492, -141.93952149153492, -141.93952149153492, -141.93952149153492, -116.11906784348842, -116.11906784348844, -116.11906784348842, -116.11906784348842, -116.11906784348842, -116.11906784348842, -96.91060773211501, -96.91060773211501, -97.71864290613956, -97.51268671740347, -97.27343451464434, -98.62898957327208, -97.07519623107092, -95.84768605326089, -97.67442253700555, -98.00771369266256, -97.53771711383372, -97.88008834222093, -97.28196453883227, -97.80352368688293, -96.99034164536253, -95.3331682945485, -92.33663047330174, -91.0950279257413, -93.4633135166208, -91.87394967973177, -86.83318767357959, -86.76594999913402, -86.74741724867887, -85.1989524073467, -84.9764039768854, -84.57503367112218, -84.13305450138549, -78.66317754255489, -76.87837974955742, -73.59336619598058, -69.69738315033813, -67.35981758932621, -67.61201632046965, -67.47006502892849, -67.02920204300567, -67.02920204300567, -65.45884126431596, -64.7123311452509, -64.7123311452509, -62.80889822248812, -62.35617078848368, -61.250267358339386, -60.12408800145099, -57.28890110523048], \"y\": [0.2159522982671636, 0.6134453881324164, 0.7487244255308223, 0.303196114673332, 0.42009874715815965, 0.7095890030034856, 0.9769486842661437, 1.442097528473485, 0.7370091719459682, 0.49196561966673436, 1.1437635441234215, 1.9603170924502593, 1.9569687740840669, 1.7143790688009863, 1.4454223396933141, 1.5133535187481506, 1.6536131116201558, 2.027745250075364, 1.872896866436835, 2.1614410444285688, 1.9050899237052388, 1.8052280453508152, 1.8052280453508152, 2.613590176428482, 2.2714438370830203, 2.5665077011101545, 2.280919984856622, 2.352888264112773, 2.352888264112773, 2.3808427184045082, 2.5286357033963647, 2.5407383248716053, 2.5407383248716053, 2.390366346341644, 2.474396754630193, 3.083268515894133, 2.863687683152971, 2.9286057677419213, 2.9286057677419213, 2.9286057677419213, 3.37106217202483, 3.4608786538868896, 2.605587096068374, 2.5942942811127745, 2.039900918153758, 2.4018056784540285, 2.2827158238745597, 2.3606543004186746, 2.4337152734908774, 2.4337152734908774, 2.3984209963419327, 2.3984209963419327, 2.1924674371780477, 2.7564154812690593, 2.554426405152288, 2.4427019210958574, 2.8030744149327047, 2.801093050934811, 2.8787945011750082, 2.8787945011750082, 2.710398258760716, 3.093940107070914, 2.8828948730481807, 3.138889456155125, 4.818165978712542, 5.148509953990299, 6.04823986406946, 6.3624310046008326, 6.6502673296934915, 7.4656694393816725, 7.678014065482097, 6.779659483489464, 5.723389440940019, 4.860029333994187, 4.569614503614039, 3.74594443965508, 3.74594443965508, 2.9974195810059445, 4.595370180370595, 4.509237097709007, 4.509237097709007, 5.115281489938539, 6.197564363332941, 6.197564363332941, 10.694297933314134, 10.694297933314134, 11.272636894734946, 11.614066083647925, 11.514863647339002, 9.356657753093732, 5.61682610144989, 4.38151498871866, 2.6642686395169646, 1.681350526952396, 1.3591323760904215, 0.6816723301960259, -0.6103947329816785, -0.5668619603792503, -1.9559069653447998, -0.759511479750774, 1.0198772170843196, -0.5332238856835092, -4.158586529819973, -4.545668547050941, -5.500848917883626, -6.7450729606650865, -7.643796241675592, -7.643796241675592, -7.300495005533447, -7.389224105840597, -7.524326618620436, -7.524326618620436, -7.4695044011890515, -7.100740563110741, -7.100740563110741, -7.839255351769392, -7.976822331771416, -7.839057723313991, -7.905126751751701, -8.047973341275206, -7.979279548481699, -8.336419239360415, -9.262023204703196, -9.783489432793568, -9.052482809566143, -9.679786868404028, -9.679786868404028, -9.70369783990428, -10.569327446485287, -10.943403214363933, -9.84515069129619, -9.642648124040276, -12.747677224664255, -11.879958013708048, -12.344185948408624, -11.868548668123324, -10.014814096000823, -10.014814096000823, -9.712392816116068, -9.129027747181052, -8.800462302643442, -9.02641067705845, -7.25467620079272, -7.006874048338885, -6.729716395694374, -6.729716395694374, -5.820216562279533, -5.384384957399546, -5.384384957399546, -5.325278751743712, -5.297708647653021, -5.412142189506208, -3.988114100080553, -2.856196104999409, -2.9921345243227426, -1.7444322129106289, -1.534841434463674, -0.6772181076801109, -0.3234728213010963, 0.03818564174880024, 0.11879846880153974, 0.02056633885227921, 0.3370138362631225, 0.9199622622865, 5.444149403325937, 5.985371960587148, 5.30355298382601, 4.878320988092333, 5.098171124789563, 5.722255507539288, 8.567784530715162, 8.316030950819918, 8.36239176871838, 8.36239176871838, 8.253820937446044, 7.8295039656297805, 7.467816456135877, 7.277371802087718, 7.277371802087718, 5.791712474745213, 4.620859825806023, 5.130585526215947, 4.8717752842637685, 4.8717752842637685, 5.295901070376363, 6.982930916901009, 7.42618479650885, 14.90792538056036, 15.090400759065826, 17.341956586412646, 20.009197423137426, 23.748079444240954, 23.748079444240954, 23.748079444240954, 23.748079444240954, 23.748079444240954, 17.735470119156126, 17.735470119156126, 17.735470119156126, 17.735470119156126, 17.735470119156126, 17.735470119156126, 2.6965918574902714, 2.6965918574902714, 1.5590242585745262, 0.6986408745425221, -0.11021135312907493, -0.8870524912660827, -4.19311396995985, -6.130217410244821, -8.184626008373908, -8.323745219533517, -9.116408790584728, -11.482761975188382, -11.316338148866725, -11.151769475145535, -11.04731186930561, -11.515192049166401, -10.75571810867222, -13.841970198923548, -15.177311699920292, -17.19515594202756, -16.55276062381057, -16.50698449720538, -13.46650123139721, -12.938353205246745, -13.24102855477227, -13.064787829862512, -10.369061601884733, -9.714783333197639, -8.391437341284092, -7.866953343178995, -5.593330694711307, -5.043450671963834, -4.446088276344251, -4.102985934235615, -3.703404610802563, -3.7034046108025853, -3.4512068424243267, -3.561046498422793, -3.561046498422793, -3.9096620649375913, -4.224382569908358, -4.478666502641282, -3.682819839054363, -3.271726393401475], \"z\": [-0.6718931029661146, -1.3155673946945834, -1.5862885073147925, -1.4671072042722775, -1.7853981673813024, -1.9886341583366112, -2.1437873612434317, -2.5794292581031053, -1.9974243141166914, -3.526096781009791, -3.5308187728022133, -3.919240281735581, -3.908630801369317, -3.4377146750133267, -3.5021244493783845, -3.0603824189817437, -3.133652465532455, -4.173537458331976, -4.268144079025672, -4.481250232069689, -4.4463532845823375, -4.216217553408641, -4.216217553408641, -4.6043939286809055, -4.7230371086397485, -4.5160547040459456, -4.443614797802909, -4.390897895536483, -4.390897895536483, -4.399030495331857, -4.551077549150606, -4.460381957609494, -4.460381957609494, -4.343804163054088, -4.4236648116619435, -4.999621943124112, -5.145992275438148, -5.092569872702324, -5.092569872702324, -5.092569872702324, -5.3563735271667134, -6.115969361655727, -4.498380807410407, -4.90463248300026, -5.0519086852744985, -4.86552320700997, -4.901841504816097, -4.980065917317766, -5.327158287215794, -5.327158287215772, -4.949846417057624, -4.949846417057624, -4.876620938157372, -5.048241054384861, -5.020566522279513, -4.86014786726372, -5.21580280409899, -4.822924740056589, -5.1082494205200835, -5.1082494205200835, -4.8530155863453, -5.105297712317491, -4.81553896725555, -5.319546088738747, -5.337550809098278, -4.90846653712802, -4.6980097458395145, -4.529205839126571, -4.499206515935916, -4.548129785519262, -4.738206904936115, -5.42688613281328, -4.938816808924118, -4.9641532855103865, -5.1253004038406935, -6.573652442512334, -6.573652442512334, -6.770678118549145, -6.157703414748882, -5.496108238010299, -5.496108238010299, -5.460890754369242, -4.730367676414216, -4.730367676414216, -3.747645896961438, -3.747645896961438, -1.0058135594601223, -1.714459169900251, -1.9189098708799484, 0.023088979993923783, -1.7187615447635585, -2.245252637003037, -2.1279361477299696, -2.1500900881752605, -2.7191881270808738, -2.9483852759351064, -1.8142819963017143, -1.9973503244400388, -0.8062142835565167, -1.455419758959664, -2.088529159924501, -1.7181747746123799, -1.5611965013558882, -1.869715833255925, -1.8647080614574212, -1.4393084221189012, -2.3123470050723682, -2.3123470050723682, -2.340196073536549, -2.256342075645068, -2.3540100733820517, -2.3540100733820517, -1.943051406417617, -1.9861363216260752, -1.9861363216260752, -1.137061789265581, -0.9955326772781659, -1.0727197207748065, -0.9336959470986006, -0.7897253052413955, -0.9600002912382388, -1.036882148579532, -1.6252954750732633, -1.7293143045407522, -2.9579602419331104, -2.032684703006593, -2.032684703006593, -2.224880054593581, -2.238102890230609, -2.4472811008444233, -3.544600132435205, -2.736093904489856, -1.6079423409582905, -1.7630051449875057, -1.720625980401147, -2.1925041792597573, 0.4829944515636121, 0.4829944515636121, 0.8301889278628627, 1.2727775281078602, 1.9253855551926824, 1.8463255472841444, 2.48819867100456, 2.7528739603983388, 2.179588505929897, 2.179588505929897, 2.412753831228498, 2.4622349711711293, 2.4622349711711293, 2.241263952235894, 1.7234710115590524, 1.7480967639755596, 1.8198576648344118, 2.3231629923416985, 3.916839367819702, 5.027403497307459, 4.984733358830161, 5.02049120757837, 4.940536579747578, 5.120225460370277, 5.490005649643215, 4.881607886917872, 4.924245346376521, 5.348234181679978, 6.387639496150332, 6.39893368359461, 5.825712063416155, 5.847164270890759, 5.674406149424537, 6.753180037389694, 7.993266113519137, 7.719891358409625, 7.725969785172371, 7.725969785172371, 7.802521036727518, 7.618716724495167, 7.688903925911861, 7.650077368021324, 7.650077368021346, 7.364289881199881, 7.90007502778447, 7.549747465973211, 8.233654628271857, 8.233654628271857, 8.396850599102802, 8.715131883872385, 8.823593781981188, 8.30590695356821, 8.342854811821132, 7.976157841399513, 7.812256181224653, 6.745106834668202, 6.745106834668202, 6.745106834668202, 6.745106834668202, 6.745106834668202, 8.786701143856956, 8.786701143856956, 8.786701143856956, 8.786701143856956, 8.786701143856956, 8.786701143856956, 7.005458054353597, 7.005458054353597, 7.390586669007249, 7.942167411258039, 8.289510156686951, 7.246072535904591, 9.236896888837933, 10.249447851091832, 9.857039052337546, 9.743976933141752, 9.886755499460476, 9.088206885268857, 8.630043970053535, 7.908020410314709, 7.744685147180698, 7.880433690779333, 6.744762563566997, 7.025690130793929, 6.556938418750757, 7.028751771660691, 7.664506019954698, 7.378690273987587, 5.049440929244486, 5.156408128925548, 4.990621133581642, 4.765021541611825, 1.7022480457457028, 1.9504766102276028, 0.7568309770122017, 1.363791855643992, 1.4389152685575726, 2.206634006547304, 1.5268801829487757, 1.0853494644642359, 0.6999080429020754, 0.6999080429021197, 0.7387140336647001, 0.7237536539053345, 0.7237536539053345, 0.6125814800350016, 0.6300506798645911, -1.6861281571848519, -2.6676220428177637, -2.1752634580531]}, {\"marker\": {\"color\": \"green\", \"opacity\": 0.8, \"size\": 5}, \"mode\": \"markers\", \"name\": \"/camera_pose_frame\", \"type\": \"scatter3d\", \"x\": [-5.272829160094261, -7.279656827449799, -13.350628316402435, -17.52137541770935, -18.967397511005398, -19.82198804616928, -20.172621309757236, -21.190375089645386, -25.07079243659973, -32.90685415267944, -35.06348133087158, -43.78379881381989, -45.20218670368194, -46.15963995456696, -45.90510725975037, -47.222867608070366, -48.34126830101013, -47.5902259349823, -47.42250442504883, -47.21238613128662, -47.43920564651489, -47.31937646865845, -47.71812260150909, -47.595134377479546, -47.5569099187851, -47.41939306259155, -47.71737158298493, -47.46675193309784, -47.67999649047852, -47.57891595363617, -47.62622714042664, -47.44040369987488, -47.41424024105072, -46.99142277240753, -46.42163515090942, -45.94922959804535, -46.88012599945069, -48.28566908836365, -48.79930317401886, -48.22245240211487, -47.64091372489929, -47.69259095191956, -47.409969568252556, -47.473976016044624, -47.987237572669976, -47.67802059650421, -47.07449674606323, -47.38160371780396, -47.37246334552765, -47.35410213470459, -47.01770544052124, -47.32247889041901, -47.463762760162346, -47.19490110874176, -47.364726662635796, -47.24556505680084, -47.245174646377556, -47.355377674102776, -47.09733724594116, -47.00937867164612, -46.743515133857734, -46.796882152557366, -46.88444435596466, -47.09144532680512, -46.2783545255661, -45.78640460968018, -44.91022527217865, -45.030641555786126, -44.892388582229614, -45.115542411804206, -45.15930414199829, -46.90060019493103, -46.92856967449188, -46.8525618314743, -47.236406803131096, -44.92465853691101, -45.39742171764374, -44.59907710552216, -45.06207406520844, -45.37151455879211, -44.71476376056671, -44.5508599281311, -44.15015578269959, -43.98872554302216, -42.510786652565, -42.91588068008423, -45.20403146743774, -45.75234353542328, -45.47800719738007, -46.50733470916748, -55.085015296936035, -55.72561025619507, -57.4973464012146, -58.23346972465515, -58.17463397979736, -59.11097526550293, -59.89599823951721, -60.00475883483887, -61.485081911087036, -65.09832739830017, -64.97142910957336, -60.26454567909241, -54.749077558517456, -54.81071472167969, -54.025113582611084, -53.154730796813965, -53.92833352088928, -54.120850563049316, -54.41215634346008, -54.673945903778076, -55.21681308746338, -55.92460036277771, -56.73179626464844, -56.7389190196991, -56.51853084564209, -56.59343600273132, -56.72422647476196, -56.70136213302612, -56.55709505081177, -56.75765872001648, -56.59691095352173, -54.940927028656006, -54.041820764541626, -55.29540777206421, -55.074793100357056, -54.98450994491577, -55.01394271850586, -54.987818002700806, -54.456520080566406, -55.325400829315186, -57.73208141326904, -60.28776168823242, -66.07794761657715, -65.6665027141571, -69.56102848052979, -69.51941847801208, -73.86074662208557, -73.96897673606873, -74.3604838848114, -73.90294075012207, -74.58197474479675, -75.53142309188843, -79.2881727218628, -78.6084532737732, -77.8194785118103, -77.30469703674316, -74.80626106262207, -75.03933310508728, -74.93423819541931, -75.09770393371582, -75.65136551856995, -77.46981382369995, -77.45866179466248, -76.33740901947021, -77.92748212814331, -81.36459589004517, -82.01201558113098, -83.63749980926514, -83.08691382408142, -83.01024436950684, -85.0858986377716, -86.75588369369507, -86.97161078453064, -87.24535703659058, -92.60998964309692, -93.28905344009401, -95.32978534698486, -96.26941680908205, -96.99946641921996, -98.87262582778932, -98.76567125320436, -98.76374006271362, -99.70138669013976, -100.75222253799438, -101.37871503829956, -101.18811130523682, -103.329598903656, -104.68459129333496, -105.03119230270386, -109.75098609924316, -114.34342861175537, -115.20631313323977, -123.64041805267334, -125.38716793060306, -127.66060829162598, -135.07170677185061, -135.96142530441284, -143.93635988235474, -144.4123387336731, -145.03477811813354, -146.01269960403442, -144.85640525817868, -143.03950071334842, -134.91953611373899, -132.21982717514038, -124.80223178863523, -118.26467514038086, -114.73664045333862, -115.02364873886108, -114.7832989692688, -112.83059120178225, -104.81995344161987, -99.08337593078612, -99.30373430252077, -100.38888454437256, -100.36249160766602, -100.7679462432861, -100.28839111328125, -100.91181993484497, -103.44651937484738, -101.95597410202026, -103.21320295333862, -103.31189632415771, -103.09131145477295, -103.13173532485962, -101.5214562416077, -100.29013156890872, -94.64453458786012, -95.15596628189088, -99.04881119728088, -98.76517057418825, -94.50084567070009, -91.45746231079102, -87.43019104003906, -89.52553868293762, -90.81372618675232, -91.04817509651184, -90.7756507396698, -84.97949838638306, -79.56113815307617, -77.18324661254883, -77.60673761367798, -75.82455277442932, -74.87520575523376, -73.67125153541565, -73.02574515342712, -71.66324853897095, -71.40697836875916, -70.31017541885376, -70.19648551940918, -70.07282972335815, -69.41611766815186, -69.258052110672, -66.51489734649658, -64.76792693138123, -62.43976950645447], \"y\": [-0.4230853635817765, -0.4348429851233959, -0.17561294371262193, 1.3117561116814613, 1.265344489365816, 1.0133980773389342, 0.8562192320823672, 0.5947214085608721, 1.012538466602564, 0.496055046096444, -0.4406008869409561, -0.7508908864110708, -1.3261203654110432, -1.4294795691967008, -1.4378933236002922, -5.3484510630369195, -4.672630876302718, -5.089471861720085, -4.947555810213089, -5.117207393050194, -4.65274415910244, -5.013435706496239, -4.853192716836928, -5.085133761167526, -4.965658858418465, -5.0085145980119705, -4.597729817032814, -5.065916478633881, -4.9251317977905265, -5.007918179035187, -4.844050109386444, -5.010729283094406, -4.743077978491783, -5.272425711154939, -4.6336598694324485, -6.18782639503479, -6.954330950975418, -5.900340899825096, -4.868440702557564, -4.633968695998192, -5.078194662928581, -4.664739966392517, -4.471046850085258, -5.161844566464423, -5.485270544886589, -5.4809048771858215, -4.948359727859497, -5.06211519241333, -5.433047935366631, -4.970717802643776, -4.637391492724418, -5.216207355260849, -4.962519556283952, -5.211127549409866, -4.7771409153938285, -4.691745340824127, -4.118084535002708, -4.330721125006677, -5.043818056583405, -4.962502047419548, -3.957492485642433, -4.169058427214623, -4.05438132584095, -4.042355716228485, 1.9381903111934662, 2.3065999150276184, 4.585913196206093, 5.191698670387268, 5.341175198554994, 6.549489498138428, 4.750946164131165, 0.5204677581787109, -0.5991181358695029, -1.4489742927253246, -2.1411139518022537, 0.03713973856065422, 0.49344804137945186, 0.8888596668839455, 1.0942822322249413, 1.1559413745999336, 2.21861433237791, 3.3775318413972846, 4.954242706298828, 5.214536935091019, 14.481684565544128, 15.081138908863068, 14.833661913871765, 15.090103447437286, 15.22180438041687, 14.571544528007507, 8.740708231925964, 7.869582623243332, 4.67461496591568, 5.097727850079536, 5.058548226952553, 4.992182180285454, 5.099122226238252, 4.852591454982758, 5.133306980133057, 7.547362893819809, 9.000108391046524, 4.961325973272324, -3.3710502088069916, -3.8490649312734604, -3.933348134160042, -5.251860246062279, -5.063387379050255, -4.90058995783329, -4.992779344320296, -5.018463730812074, -5.1189761608839035, -4.618455469608307, -5.021388456225395, -4.72295917570591, -5.0639819353818885, -4.968385770916939, -5.027637258172035, -4.810560122132301, -5.1910363137722015, -4.9325261265039435, -5.14676533639431, -7.984848320484161, -9.66782048344612, -9.765320271253586, -9.892112016677856, -10.534216463565826, -10.700588673353197, -11.482971161603928, -12.8482386469841, -13.743998110294342, -13.6313796043396, -15.025810897350311, -21.34620845317841, -21.36325240135193, -20.80735564231873, -19.994904100894928, -21.14964872598648, -21.293362975120544, -21.35617583990097, -21.155250072479248, -21.72408103942871, -21.851061284542084, -18.90219449996948, -19.47828233242035, -18.18665862083435, -17.677557468414307, -16.393068432807922, -16.498839855194092, -16.65361225605011, -16.611286997795105, -16.51715487241745, -14.724285900592804, -14.235427975654602, -14.330637454986572, -14.381107687950134, -11.851461976766585, -11.483184248209, -10.728258639574053, -10.932008922100067, -10.688380151987076, -10.03522053360939, -9.550365060567856, -9.38124656677246, -8.826689422130585, -5.551448464393617, -6.821954995393753, -6.483186781406403, -6.546291708946228, -5.830418318510056, -4.989710450172423, -4.43018414080143, -4.450846463441849, -5.046377703547479, -6.100420281291007, -6.406695395708084, -6.189613044261932, -7.861460745334625, -8.678296953439713, -8.754222840070723, -11.013783514499664, -12.901417911052704, -13.212184607982635, -11.462563276290895, -10.76173484325409, -10.143059492111206, -5.342395231127739, -4.888954013586043, 5.272368714213371, 6.575114279985428, 9.224920719861984, 15.256227552890778, 20.47039419412613, 25.36015510559082, 26.832479238510132, 24.954582750797268, 21.3982492685318, 20.834273099899285, 18.594542145729065, 17.56931096315384, 17.556557059288025, 14.90730196237564, 8.774077892303469, 5.202240124344827, 4.861918091773987, -1.3303703628480434, -2.87393219769001, -5.223269760608673, -7.334237545728682, -8.564543724060059, -11.014424264431, -15.589256584644318, -18.144463002681725, -17.846854031085968, -17.755675315856937, -18.17763149738312, -18.813550472259518, -18.96592229604721, -20.4276978969574, -23.31578433513641, -25.205910205841064, -27.04865336418152, -27.898594737052917, -26.864522695541382, -24.85344558954239, -25.086528062820435, -24.884819984436035, -23.247753083705906, -23.2120081782341, -21.72644436359405, -20.81364542245865, -20.98202109336853, -20.040692389011387, -14.92788940668106, -14.594380557537079, -14.500580728054047, -14.330427348613739, -15.018945932388306, -14.93646502494812, -15.039315819740295, -14.993733167648315, -15.158462524414062, -14.964990317821506, -15.12254923582077, -14.995621144771576, -14.558903872966766, -14.145563542842865], \"z\": [-0.16093666199594733, -0.43293461203575134, -0.7495525758713485, -3.5135678946971884, -5.07056899368763, -4.952452331781386, -5.031320452690125, -5.884909629821777, -7.1325957775115985, -10.914318263530733, -11.519128084182741, -7.938382029533386, -6.068209186196327, -4.679886624217034, -5.357879400253297, -7.754422724246979, -5.568145588040352, -6.9665618240833265, -7.521747797727585, -6.987419724464418, -7.195474952459335, -7.562434673309326, -7.159671932458878, -7.338247448205948, -7.01863169670105, -7.21142441034317, -6.66956752538681, -6.564751267433168, -6.214622408151627, -6.389138102531433, -6.532956659793854, -6.834865361452103, -6.690358370542526, -7.712722569704056, -7.203923165798187, -7.033435255289078, -5.7937026023864755, -4.40901443362236, -4.63436134159565, -5.328194424510002, -6.827080994844438, -7.242625951766968, -6.926324963569641, -7.223289459943771, -6.775040179491043, -7.120923697948456, -7.883764803409576, -6.607842445373535, -6.5576747059822065, -6.953537464141846, -6.388641893863678, -6.666648387908937, -7.1526214480400085, -6.953752040863037, -6.809036433696747, -6.430584937334061, -6.6255442798137665, -7.354024052619934, -7.667163014411926, -7.725032418966292, -7.571067661046982, -7.024645060300827, -11.558926850557327, -10.934042185544968, -8.224058151245117, -7.576233148574829, -7.483416795730591, -7.395278662443161, -7.8367486596107465, -7.627253234386444, -8.27183797955513, -8.768463134765625, -9.83075425028801, -10.870867222547533, -11.137035489082336, -9.371846169233322, -9.645336866378784, -9.418823570013046, -8.467087894678116, -8.820829540491104, -8.748563379049301, -8.193255215883255, -7.489070296287538, -7.422897219657898, -4.674163088202477, -3.7747595459222802, 1.4881401322782042, 1.3173239305615423, 0.7479849271476269, 1.1684506200253963, -2.172424830496311, -2.362188324332237, -2.6351340115070343, -2.4510305374860764, -2.5684874504804607, -2.811575122177601, -2.217869646847248, -1.9473019987344746, -2.191234566271305, -2.685336582362652, -3.2337997108697882, -3.139669820666313, -3.274870663881302, -2.8708718717098236, -3.095168992877006, -3.767988830804825, -5.11801652610302, -5.172944068908691, -4.866447299718857, -4.672577604651451, -4.307772219181062, -3.355196863412857, -2.5296479463577266, -2.3674897849559784, -2.149107865989208, -2.429694682359696, -1.9093949347734451, -2.3482590913772583, -2.638216875493526, -2.5233102962374687, -2.486009709537029, -3.034291043877602, -3.641270101070404, -4.086270183324814, -4.172145947813989, -4.0365710854530334, -4.284225031733513, -4.422839358448981, -4.195081815123558, -3.898129239678383, -1.5456754714250562, -3.499319404363632, -0.5982261151075363, -1.9718032330274586, 1.6695471480488773, 1.7764173448085785, 5.025831237435342, 4.949620366096497, 5.373269319534302, 4.990344494581223, 5.034718289971352, 6.166580319404603, 6.070835888385773, 4.458148777484894, 5.043807998299599, 4.913638904690743, 3.22527177631855, 3.344222530722618, 3.368373215198517, 3.41845341026783, 3.3569194376468667, 5.514560639858247, 6.7134954035282135, 4.4632915407419205, 5.597500875592232, 8.671770244836807, 8.794155716896057, 9.528869390487673, 8.811256289482118, 8.03561732172966, 9.235288202762604, 10.503382980823517, 10.085654258728027, 9.942636638879776, 11.686964333057405, 10.262284427881239, 11.148790270090103, 11.534853279590608, 12.895026803016666, 13.470914959907532, 15.032535791397095, 14.906835556030273, 14.83985036611557, 15.150418877601627, 14.967706799507141, 15.051139891147617, 14.981493353843689, 15.02774953842163, 15.246406197547913, 15.776646137237549, 18.287909030914307, 18.367861211299896, 17.742078006267548, 17.527221143245693, 17.39058792591095, 18.168321251869198, 18.493586778640747, 19.94677931070328, 20.02428770065308, 20.138154923915867, 19.418936967849728, 19.888447225093838, 19.757264852523804, 19.447174668312076, 19.62634027004242, 18.90934556722641, 19.234506785869602, 20.43719291687012, 20.396688580513, 20.329523086547848, 20.74330449104309, 22.558026015758514, 21.744005382061005, 21.95810377597809, 25.223994255065918, 25.737282633781433, 26.71540677547455, 28.289243578910828, 28.951138257980354, 27.374812960624688, 27.34721601009369, 24.46315586566925, 24.117261171340946, 23.74933063983917, 23.064911365509037, 22.971183061599728, 22.23123013973236, 24.84623342752457, 23.9490807056427, 21.502061188220974, 21.28140777349472, 21.88692390918732, 22.362230718135834, 23.278675973415368, 20.609354972839355, 18.91617625951767, 15.037153661251068, 14.849613606929779, 13.732247054576874, 15.034015476703644, 16.146686673164368, 14.8149773478508, 11.986514180898665, 10.983414202928543, 11.17185652256012, 11.240436136722563, 10.853800177574158, 10.808918625116346, 10.294723510742188, 10.08509173989296, 9.699524939060213, 7.979978621006012, 7.606209069490433, 5.913481116294862, 6.0968030244112015, 6.649960577487946]}],\n",
       "                        {\"font\": {\"family\": \"Courier New, monospace\", \"size\": 13}, \"template\": {\"data\": {\"bar\": [{\"error_x\": {\"color\": \"#2a3f5f\"}, \"error_y\": {\"color\": \"#2a3f5f\"}, \"marker\": {\"line\": {\"color\": \"#E5ECF6\", \"width\": 0.5}}, \"type\": \"bar\"}], \"barpolar\": [{\"marker\": {\"line\": {\"color\": \"#E5ECF6\", \"width\": 0.5}}, \"type\": \"barpolar\"}], \"carpet\": [{\"aaxis\": {\"endlinecolor\": \"#2a3f5f\", \"gridcolor\": \"white\", \"linecolor\": \"white\", \"minorgridcolor\": \"white\", \"startlinecolor\": \"#2a3f5f\"}, \"baxis\": {\"endlinecolor\": \"#2a3f5f\", \"gridcolor\": \"white\", \"linecolor\": \"white\", \"minorgridcolor\": \"white\", \"startlinecolor\": \"#2a3f5f\"}, \"type\": \"carpet\"}], \"choropleth\": [{\"colorbar\": {\"outlinewidth\": 0, \"ticks\": \"\"}, \"type\": \"choropleth\"}], \"contour\": [{\"colorbar\": {\"outlinewidth\": 0, \"ticks\": \"\"}, \"colorscale\": [[0.0, \"#0d0887\"], [0.1111111111111111, \"#46039f\"], [0.2222222222222222, \"#7201a8\"], [0.3333333333333333, \"#9c179e\"], [0.4444444444444444, \"#bd3786\"], [0.5555555555555556, \"#d8576b\"], [0.6666666666666666, \"#ed7953\"], [0.7777777777777778, \"#fb9f3a\"], [0.8888888888888888, \"#fdca26\"], [1.0, \"#f0f921\"]], \"type\": \"contour\"}], \"contourcarpet\": [{\"colorbar\": {\"outlinewidth\": 0, \"ticks\": \"\"}, \"type\": \"contourcarpet\"}], \"heatmap\": [{\"colorbar\": {\"outlinewidth\": 0, \"ticks\": \"\"}, \"colorscale\": [[0.0, \"#0d0887\"], [0.1111111111111111, \"#46039f\"], [0.2222222222222222, \"#7201a8\"], [0.3333333333333333, \"#9c179e\"], [0.4444444444444444, \"#bd3786\"], [0.5555555555555556, \"#d8576b\"], [0.6666666666666666, \"#ed7953\"], [0.7777777777777778, \"#fb9f3a\"], [0.8888888888888888, \"#fdca26\"], [1.0, \"#f0f921\"]], \"type\": \"heatmap\"}], \"heatmapgl\": [{\"colorbar\": {\"outlinewidth\": 0, \"ticks\": \"\"}, \"colorscale\": [[0.0, \"#0d0887\"], [0.1111111111111111, \"#46039f\"], [0.2222222222222222, \"#7201a8\"], [0.3333333333333333, \"#9c179e\"], [0.4444444444444444, \"#bd3786\"], [0.5555555555555556, \"#d8576b\"], [0.6666666666666666, \"#ed7953\"], [0.7777777777777778, \"#fb9f3a\"], [0.8888888888888888, \"#fdca26\"], [1.0, \"#f0f921\"]], \"type\": \"heatmapgl\"}], \"histogram\": [{\"marker\": {\"colorbar\": {\"outlinewidth\": 0, \"ticks\": \"\"}}, \"type\": \"histogram\"}], \"histogram2d\": [{\"colorbar\": {\"outlinewidth\": 0, \"ticks\": \"\"}, \"colorscale\": [[0.0, \"#0d0887\"], [0.1111111111111111, \"#46039f\"], [0.2222222222222222, \"#7201a8\"], [0.3333333333333333, \"#9c179e\"], [0.4444444444444444, \"#bd3786\"], [0.5555555555555556, \"#d8576b\"], [0.6666666666666666, \"#ed7953\"], [0.7777777777777778, \"#fb9f3a\"], [0.8888888888888888, \"#fdca26\"], [1.0, \"#f0f921\"]], \"type\": \"histogram2d\"}], \"histogram2dcontour\": [{\"colorbar\": {\"outlinewidth\": 0, \"ticks\": \"\"}, \"colorscale\": [[0.0, \"#0d0887\"], [0.1111111111111111, \"#46039f\"], [0.2222222222222222, \"#7201a8\"], [0.3333333333333333, \"#9c179e\"], [0.4444444444444444, \"#bd3786\"], [0.5555555555555556, \"#d8576b\"], [0.6666666666666666, \"#ed7953\"], [0.7777777777777778, \"#fb9f3a\"], [0.8888888888888888, \"#fdca26\"], [1.0, \"#f0f921\"]], \"type\": \"histogram2dcontour\"}], \"mesh3d\": [{\"colorbar\": {\"outlinewidth\": 0, \"ticks\": \"\"}, \"type\": \"mesh3d\"}], \"parcoords\": [{\"line\": {\"colorbar\": {\"outlinewidth\": 0, \"ticks\": \"\"}}, \"type\": \"parcoords\"}], \"scatter\": [{\"marker\": {\"colorbar\": {\"outlinewidth\": 0, \"ticks\": \"\"}}, \"type\": \"scatter\"}], \"scatter3d\": [{\"line\": {\"colorbar\": {\"outlinewidth\": 0, \"ticks\": \"\"}}, \"marker\": {\"colorbar\": {\"outlinewidth\": 0, \"ticks\": \"\"}}, \"type\": \"scatter3d\"}], \"scattercarpet\": [{\"marker\": {\"colorbar\": {\"outlinewidth\": 0, \"ticks\": \"\"}}, \"type\": \"scattercarpet\"}], \"scattergeo\": [{\"marker\": {\"colorbar\": {\"outlinewidth\": 0, \"ticks\": \"\"}}, \"type\": \"scattergeo\"}], \"scattergl\": [{\"marker\": {\"colorbar\": {\"outlinewidth\": 0, \"ticks\": \"\"}}, \"type\": \"scattergl\"}], \"scattermapbox\": [{\"marker\": {\"colorbar\": {\"outlinewidth\": 0, \"ticks\": \"\"}}, \"type\": \"scattermapbox\"}], \"scatterpolar\": [{\"marker\": {\"colorbar\": {\"outlinewidth\": 0, \"ticks\": \"\"}}, \"type\": \"scatterpolar\"}], \"scatterpolargl\": [{\"marker\": {\"colorbar\": {\"outlinewidth\": 0, \"ticks\": \"\"}}, \"type\": \"scatterpolargl\"}], \"scatterternary\": [{\"marker\": {\"colorbar\": {\"outlinewidth\": 0, \"ticks\": \"\"}}, \"type\": \"scatterternary\"}], \"surface\": [{\"colorbar\": {\"outlinewidth\": 0, \"ticks\": \"\"}, \"colorscale\": [[0.0, \"#0d0887\"], [0.1111111111111111, \"#46039f\"], [0.2222222222222222, \"#7201a8\"], [0.3333333333333333, \"#9c179e\"], [0.4444444444444444, \"#bd3786\"], [0.5555555555555556, \"#d8576b\"], [0.6666666666666666, \"#ed7953\"], [0.7777777777777778, \"#fb9f3a\"], [0.8888888888888888, \"#fdca26\"], [1.0, \"#f0f921\"]], \"type\": \"surface\"}], \"table\": [{\"cells\": {\"fill\": {\"color\": \"#EBF0F8\"}, \"line\": {\"color\": \"white\"}}, \"header\": {\"fill\": {\"color\": \"#C8D4E3\"}, \"line\": {\"color\": \"white\"}}, \"type\": \"table\"}]}, \"layout\": {\"annotationdefaults\": {\"arrowcolor\": \"#2a3f5f\", \"arrowhead\": 0, \"arrowwidth\": 1}, \"colorscale\": {\"diverging\": [[0, \"#8e0152\"], [0.1, \"#c51b7d\"], [0.2, \"#de77ae\"], [0.3, \"#f1b6da\"], [0.4, \"#fde0ef\"], [0.5, \"#f7f7f7\"], [0.6, \"#e6f5d0\"], [0.7, \"#b8e186\"], [0.8, \"#7fbc41\"], [0.9, \"#4d9221\"], [1, \"#276419\"]], \"sequential\": [[0.0, \"#0d0887\"], [0.1111111111111111, \"#46039f\"], [0.2222222222222222, \"#7201a8\"], [0.3333333333333333, \"#9c179e\"], [0.4444444444444444, \"#bd3786\"], [0.5555555555555556, \"#d8576b\"], [0.6666666666666666, \"#ed7953\"], [0.7777777777777778, \"#fb9f3a\"], [0.8888888888888888, \"#fdca26\"], [1.0, \"#f0f921\"]], \"sequentialminus\": [[0.0, \"#0d0887\"], [0.1111111111111111, \"#46039f\"], [0.2222222222222222, \"#7201a8\"], [0.3333333333333333, \"#9c179e\"], [0.4444444444444444, \"#bd3786\"], [0.5555555555555556, \"#d8576b\"], [0.6666666666666666, \"#ed7953\"], [0.7777777777777778, \"#fb9f3a\"], [0.8888888888888888, \"#fdca26\"], [1.0, \"#f0f921\"]]}, \"colorway\": [\"#636efa\", \"#EF553B\", \"#00cc96\", \"#ab63fa\", \"#FFA15A\", \"#19d3f3\", \"#FF6692\", \"#B6E880\", \"#FF97FF\", \"#FECB52\"], \"font\": {\"color\": \"#2a3f5f\"}, \"geo\": {\"bgcolor\": \"white\", \"lakecolor\": \"white\", \"landcolor\": \"#E5ECF6\", \"showlakes\": true, \"showland\": true, \"subunitcolor\": \"white\"}, \"hoverlabel\": {\"align\": \"left\"}, \"hovermode\": \"closest\", \"mapbox\": {\"style\": \"light\"}, \"paper_bgcolor\": \"white\", \"plot_bgcolor\": \"#E5ECF6\", \"polar\": {\"angularaxis\": {\"gridcolor\": \"white\", \"linecolor\": \"white\", \"ticks\": \"\"}, \"bgcolor\": \"#E5ECF6\", \"radialaxis\": {\"gridcolor\": \"white\", \"linecolor\": \"white\", \"ticks\": \"\"}}, \"scene\": {\"xaxis\": {\"backgroundcolor\": \"#E5ECF6\", \"gridcolor\": \"white\", \"gridwidth\": 2, \"linecolor\": \"white\", \"showbackground\": true, \"ticks\": \"\", \"zerolinecolor\": \"white\"}, \"yaxis\": {\"backgroundcolor\": \"#E5ECF6\", \"gridcolor\": \"white\", \"gridwidth\": 2, \"linecolor\": \"white\", \"showbackground\": true, \"ticks\": \"\", \"zerolinecolor\": \"white\"}, \"zaxis\": {\"backgroundcolor\": \"#E5ECF6\", \"gridcolor\": \"white\", \"gridwidth\": 2, \"linecolor\": \"white\", \"showbackground\": true, \"ticks\": \"\", \"zerolinecolor\": \"white\"}}, \"shapedefaults\": {\"line\": {\"color\": \"#2a3f5f\"}}, \"ternary\": {\"aaxis\": {\"gridcolor\": \"white\", \"linecolor\": \"white\", \"ticks\": \"\"}, \"baxis\": {\"gridcolor\": \"white\", \"linecolor\": \"white\", \"ticks\": \"\"}, \"bgcolor\": \"#E5ECF6\", \"caxis\": {\"gridcolor\": \"white\", \"linecolor\": \"white\", \"ticks\": \"\"}}, \"title\": {\"x\": 0.05}, \"xaxis\": {\"automargin\": true, \"gridcolor\": \"white\", \"linecolor\": \"white\", \"ticks\": \"\", \"zerolinecolor\": \"white\", \"zerolinewidth\": 2}, \"yaxis\": {\"automargin\": true, \"gridcolor\": \"white\", \"linecolor\": \"white\", \"ticks\": \"\", \"zerolinecolor\": \"white\", \"zerolinewidth\": 2}}}, \"title\": {\"text\": \"Rugged Random Raw Positions (cm)\"}},\n",
       "                        {\"responsive\": true}\n",
       "                    ).then(function(){\n",
       "                            \n",
       "var gd = document.getElementById('1b5744b4-bc79-439a-8d11-3d5845f2c816');\n",
       "var x = new MutationObserver(function (mutations, observer) {{\n",
       "        var display = window.getComputedStyle(gd).display;\n",
       "        if (!display || display === 'none') {{\n",
       "            console.log([gd, 'removed!']);\n",
       "            Plotly.purge(gd);\n",
       "            observer.disconnect();\n",
       "        }}\n",
       "}});\n",
       "\n",
       "// Listen for the removal of the full notebook cells\n",
       "var notebookContainer = gd.closest('#notebook-container');\n",
       "if (notebookContainer) {{\n",
       "    x.observe(notebookContainer, {childList: true});\n",
       "}}\n",
       "\n",
       "// Listen for the clearing of the current output cell\n",
       "var outputEl = gd.closest('.output');\n",
       "if (outputEl) {{\n",
       "    x.observe(outputEl, {childList: true});\n",
       "}}\n",
       "\n",
       "                        })\n",
       "                };\n",
       "                });\n",
       "            </script>\n",
       "        </div>"
      ]
     },
     "metadata": {},
     "output_type": "display_data"
    }
   ],
   "source": [
    "# 4. Rugged Random\n",
    "draw_3d(\"rugged_random.csv\", \"Rugged Random Raw Trajectory (cm)\")"
   ]
  },
  {
   "cell_type": "markdown",
   "metadata": {},
   "source": [
    "# Variance of Positions\n",
    "### Even if there is a difference between the center of the AprilTag and that of camera, the data should be proportional. Since I was moving around the robot while acquiring the data, the more the varies, the more the coordinates has collected."
   ]
  },
  {
   "cell_type": "code",
   "execution_count": 8,
   "metadata": {},
   "outputs": [],
   "source": [
    "def variance(file, title):\n",
    "    csv_header = [\"time\", \"tag_x\", \"tag_y\", \"tag_z\", \"pose_x\", \"pose_y\", \"pose_z\"]\n",
    "    df = pd.read_csv(file, header= None)\n",
    "    df.columns = csv_header\n",
    "    \n",
    "    TAG = df[[\"tag_x\",\"tag_y\",\"tag_z\"]]*100\n",
    "    Pose = df[[\"pose_x\",\"pose_y\",\"pose_z\"]]*100\n",
    "    TAG.tag_x -= (0.125674*100)\n",
    "    \n",
    "    legend=[\"x\", \"y\", \"z\"]\n",
    "    TAG = np.var(TAG)\n",
    "    Pose = np.var(Pose)\n",
    "    print(TAG)\n",
    "    print(Pose)\n",
    "    fig = go.Figure()\n",
    "    fig.add_trace(go.Scatter(x=legend, y=[TAG.tag_x, TAG.tag_y, TAG.tag_z],\n",
    "                             mode='lines+markers', name=\"/tag_0\", opacity=0.7))\n",
    "    fig.add_trace(go.Scatter(x=legend, y=[Pose.pose_x, Pose.pose_y, Pose.pose_z],\n",
    "                             mode='lines+markers', name=\"/camera_pose_frame\", opacity=0.7))\n",
    "    fig.update_layout(\n",
    "        title=title,\n",
    "        width=700,\n",
    "        height=500,\n",
    "        font=dict(\n",
    "            family=\"Courier New, monospace\",\n",
    "            size=13,\n",
    "    ))\n",
    "    fig.show()"
   ]
  },
  {
   "cell_type": "code",
   "execution_count": 9,
   "metadata": {},
   "outputs": [
    {
     "name": "stdout",
     "output_type": "stream",
     "text": [
      "tag_x    846.509036\n",
      "tag_y      0.516509\n",
      "tag_z      1.346415\n",
      "dtype: float64\n",
      "pose_x    818.043592\n",
      "pose_y      0.514875\n",
      "pose_z      0.945922\n",
      "dtype: float64\n"
     ]
    },
    {
     "data": {
      "application/vnd.plotly.v1+json": {
       "config": {
        "plotlyServerURL": "https://plot.ly"
       },
       "data": [
        {
         "mode": "lines+markers",
         "name": "/tag_0",
         "opacity": 0.7,
         "type": "scatter",
         "x": [
          "x",
          "y",
          "z"
         ],
         "y": [
          846.509036104146,
          0.5165088317893252,
          1.3464150289180534
         ]
        },
        {
         "mode": "lines+markers",
         "name": "/camera_pose_frame",
         "opacity": 0.7,
         "type": "scatter",
         "x": [
          "x",
          "y",
          "z"
         ],
         "y": [
          818.0435915324426,
          0.5148753730337329,
          0.9459223462171671
         ]
        }
       ],
       "layout": {
        "font": {
         "family": "Courier New, monospace",
         "size": 13
        },
        "height": 500,
        "template": {
         "data": {
          "bar": [
           {
            "error_x": {
             "color": "#2a3f5f"
            },
            "error_y": {
             "color": "#2a3f5f"
            },
            "marker": {
             "line": {
              "color": "#E5ECF6",
              "width": 0.5
             }
            },
            "type": "bar"
           }
          ],
          "barpolar": [
           {
            "marker": {
             "line": {
              "color": "#E5ECF6",
              "width": 0.5
             }
            },
            "type": "barpolar"
           }
          ],
          "carpet": [
           {
            "aaxis": {
             "endlinecolor": "#2a3f5f",
             "gridcolor": "white",
             "linecolor": "white",
             "minorgridcolor": "white",
             "startlinecolor": "#2a3f5f"
            },
            "baxis": {
             "endlinecolor": "#2a3f5f",
             "gridcolor": "white",
             "linecolor": "white",
             "minorgridcolor": "white",
             "startlinecolor": "#2a3f5f"
            },
            "type": "carpet"
           }
          ],
          "choropleth": [
           {
            "colorbar": {
             "outlinewidth": 0,
             "ticks": ""
            },
            "type": "choropleth"
           }
          ],
          "contour": [
           {
            "colorbar": {
             "outlinewidth": 0,
             "ticks": ""
            },
            "colorscale": [
             [
              0,
              "#0d0887"
             ],
             [
              0.1111111111111111,
              "#46039f"
             ],
             [
              0.2222222222222222,
              "#7201a8"
             ],
             [
              0.3333333333333333,
              "#9c179e"
             ],
             [
              0.4444444444444444,
              "#bd3786"
             ],
             [
              0.5555555555555556,
              "#d8576b"
             ],
             [
              0.6666666666666666,
              "#ed7953"
             ],
             [
              0.7777777777777778,
              "#fb9f3a"
             ],
             [
              0.8888888888888888,
              "#fdca26"
             ],
             [
              1,
              "#f0f921"
             ]
            ],
            "type": "contour"
           }
          ],
          "contourcarpet": [
           {
            "colorbar": {
             "outlinewidth": 0,
             "ticks": ""
            },
            "type": "contourcarpet"
           }
          ],
          "heatmap": [
           {
            "colorbar": {
             "outlinewidth": 0,
             "ticks": ""
            },
            "colorscale": [
             [
              0,
              "#0d0887"
             ],
             [
              0.1111111111111111,
              "#46039f"
             ],
             [
              0.2222222222222222,
              "#7201a8"
             ],
             [
              0.3333333333333333,
              "#9c179e"
             ],
             [
              0.4444444444444444,
              "#bd3786"
             ],
             [
              0.5555555555555556,
              "#d8576b"
             ],
             [
              0.6666666666666666,
              "#ed7953"
             ],
             [
              0.7777777777777778,
              "#fb9f3a"
             ],
             [
              0.8888888888888888,
              "#fdca26"
             ],
             [
              1,
              "#f0f921"
             ]
            ],
            "type": "heatmap"
           }
          ],
          "heatmapgl": [
           {
            "colorbar": {
             "outlinewidth": 0,
             "ticks": ""
            },
            "colorscale": [
             [
              0,
              "#0d0887"
             ],
             [
              0.1111111111111111,
              "#46039f"
             ],
             [
              0.2222222222222222,
              "#7201a8"
             ],
             [
              0.3333333333333333,
              "#9c179e"
             ],
             [
              0.4444444444444444,
              "#bd3786"
             ],
             [
              0.5555555555555556,
              "#d8576b"
             ],
             [
              0.6666666666666666,
              "#ed7953"
             ],
             [
              0.7777777777777778,
              "#fb9f3a"
             ],
             [
              0.8888888888888888,
              "#fdca26"
             ],
             [
              1,
              "#f0f921"
             ]
            ],
            "type": "heatmapgl"
           }
          ],
          "histogram": [
           {
            "marker": {
             "colorbar": {
              "outlinewidth": 0,
              "ticks": ""
             }
            },
            "type": "histogram"
           }
          ],
          "histogram2d": [
           {
            "colorbar": {
             "outlinewidth": 0,
             "ticks": ""
            },
            "colorscale": [
             [
              0,
              "#0d0887"
             ],
             [
              0.1111111111111111,
              "#46039f"
             ],
             [
              0.2222222222222222,
              "#7201a8"
             ],
             [
              0.3333333333333333,
              "#9c179e"
             ],
             [
              0.4444444444444444,
              "#bd3786"
             ],
             [
              0.5555555555555556,
              "#d8576b"
             ],
             [
              0.6666666666666666,
              "#ed7953"
             ],
             [
              0.7777777777777778,
              "#fb9f3a"
             ],
             [
              0.8888888888888888,
              "#fdca26"
             ],
             [
              1,
              "#f0f921"
             ]
            ],
            "type": "histogram2d"
           }
          ],
          "histogram2dcontour": [
           {
            "colorbar": {
             "outlinewidth": 0,
             "ticks": ""
            },
            "colorscale": [
             [
              0,
              "#0d0887"
             ],
             [
              0.1111111111111111,
              "#46039f"
             ],
             [
              0.2222222222222222,
              "#7201a8"
             ],
             [
              0.3333333333333333,
              "#9c179e"
             ],
             [
              0.4444444444444444,
              "#bd3786"
             ],
             [
              0.5555555555555556,
              "#d8576b"
             ],
             [
              0.6666666666666666,
              "#ed7953"
             ],
             [
              0.7777777777777778,
              "#fb9f3a"
             ],
             [
              0.8888888888888888,
              "#fdca26"
             ],
             [
              1,
              "#f0f921"
             ]
            ],
            "type": "histogram2dcontour"
           }
          ],
          "mesh3d": [
           {
            "colorbar": {
             "outlinewidth": 0,
             "ticks": ""
            },
            "type": "mesh3d"
           }
          ],
          "parcoords": [
           {
            "line": {
             "colorbar": {
              "outlinewidth": 0,
              "ticks": ""
             }
            },
            "type": "parcoords"
           }
          ],
          "scatter": [
           {
            "marker": {
             "colorbar": {
              "outlinewidth": 0,
              "ticks": ""
             }
            },
            "type": "scatter"
           }
          ],
          "scatter3d": [
           {
            "line": {
             "colorbar": {
              "outlinewidth": 0,
              "ticks": ""
             }
            },
            "marker": {
             "colorbar": {
              "outlinewidth": 0,
              "ticks": ""
             }
            },
            "type": "scatter3d"
           }
          ],
          "scattercarpet": [
           {
            "marker": {
             "colorbar": {
              "outlinewidth": 0,
              "ticks": ""
             }
            },
            "type": "scattercarpet"
           }
          ],
          "scattergeo": [
           {
            "marker": {
             "colorbar": {
              "outlinewidth": 0,
              "ticks": ""
             }
            },
            "type": "scattergeo"
           }
          ],
          "scattergl": [
           {
            "marker": {
             "colorbar": {
              "outlinewidth": 0,
              "ticks": ""
             }
            },
            "type": "scattergl"
           }
          ],
          "scattermapbox": [
           {
            "marker": {
             "colorbar": {
              "outlinewidth": 0,
              "ticks": ""
             }
            },
            "type": "scattermapbox"
           }
          ],
          "scatterpolar": [
           {
            "marker": {
             "colorbar": {
              "outlinewidth": 0,
              "ticks": ""
             }
            },
            "type": "scatterpolar"
           }
          ],
          "scatterpolargl": [
           {
            "marker": {
             "colorbar": {
              "outlinewidth": 0,
              "ticks": ""
             }
            },
            "type": "scatterpolargl"
           }
          ],
          "scatterternary": [
           {
            "marker": {
             "colorbar": {
              "outlinewidth": 0,
              "ticks": ""
             }
            },
            "type": "scatterternary"
           }
          ],
          "surface": [
           {
            "colorbar": {
             "outlinewidth": 0,
             "ticks": ""
            },
            "colorscale": [
             [
              0,
              "#0d0887"
             ],
             [
              0.1111111111111111,
              "#46039f"
             ],
             [
              0.2222222222222222,
              "#7201a8"
             ],
             [
              0.3333333333333333,
              "#9c179e"
             ],
             [
              0.4444444444444444,
              "#bd3786"
             ],
             [
              0.5555555555555556,
              "#d8576b"
             ],
             [
              0.6666666666666666,
              "#ed7953"
             ],
             [
              0.7777777777777778,
              "#fb9f3a"
             ],
             [
              0.8888888888888888,
              "#fdca26"
             ],
             [
              1,
              "#f0f921"
             ]
            ],
            "type": "surface"
           }
          ],
          "table": [
           {
            "cells": {
             "fill": {
              "color": "#EBF0F8"
             },
             "line": {
              "color": "white"
             }
            },
            "header": {
             "fill": {
              "color": "#C8D4E3"
             },
             "line": {
              "color": "white"
             }
            },
            "type": "table"
           }
          ]
         },
         "layout": {
          "annotationdefaults": {
           "arrowcolor": "#2a3f5f",
           "arrowhead": 0,
           "arrowwidth": 1
          },
          "colorscale": {
           "diverging": [
            [
             0,
             "#8e0152"
            ],
            [
             0.1,
             "#c51b7d"
            ],
            [
             0.2,
             "#de77ae"
            ],
            [
             0.3,
             "#f1b6da"
            ],
            [
             0.4,
             "#fde0ef"
            ],
            [
             0.5,
             "#f7f7f7"
            ],
            [
             0.6,
             "#e6f5d0"
            ],
            [
             0.7,
             "#b8e186"
            ],
            [
             0.8,
             "#7fbc41"
            ],
            [
             0.9,
             "#4d9221"
            ],
            [
             1,
             "#276419"
            ]
           ],
           "sequential": [
            [
             0,
             "#0d0887"
            ],
            [
             0.1111111111111111,
             "#46039f"
            ],
            [
             0.2222222222222222,
             "#7201a8"
            ],
            [
             0.3333333333333333,
             "#9c179e"
            ],
            [
             0.4444444444444444,
             "#bd3786"
            ],
            [
             0.5555555555555556,
             "#d8576b"
            ],
            [
             0.6666666666666666,
             "#ed7953"
            ],
            [
             0.7777777777777778,
             "#fb9f3a"
            ],
            [
             0.8888888888888888,
             "#fdca26"
            ],
            [
             1,
             "#f0f921"
            ]
           ],
           "sequentialminus": [
            [
             0,
             "#0d0887"
            ],
            [
             0.1111111111111111,
             "#46039f"
            ],
            [
             0.2222222222222222,
             "#7201a8"
            ],
            [
             0.3333333333333333,
             "#9c179e"
            ],
            [
             0.4444444444444444,
             "#bd3786"
            ],
            [
             0.5555555555555556,
             "#d8576b"
            ],
            [
             0.6666666666666666,
             "#ed7953"
            ],
            [
             0.7777777777777778,
             "#fb9f3a"
            ],
            [
             0.8888888888888888,
             "#fdca26"
            ],
            [
             1,
             "#f0f921"
            ]
           ]
          },
          "colorway": [
           "#636efa",
           "#EF553B",
           "#00cc96",
           "#ab63fa",
           "#FFA15A",
           "#19d3f3",
           "#FF6692",
           "#B6E880",
           "#FF97FF",
           "#FECB52"
          ],
          "font": {
           "color": "#2a3f5f"
          },
          "geo": {
           "bgcolor": "white",
           "lakecolor": "white",
           "landcolor": "#E5ECF6",
           "showlakes": true,
           "showland": true,
           "subunitcolor": "white"
          },
          "hoverlabel": {
           "align": "left"
          },
          "hovermode": "closest",
          "mapbox": {
           "style": "light"
          },
          "paper_bgcolor": "white",
          "plot_bgcolor": "#E5ECF6",
          "polar": {
           "angularaxis": {
            "gridcolor": "white",
            "linecolor": "white",
            "ticks": ""
           },
           "bgcolor": "#E5ECF6",
           "radialaxis": {
            "gridcolor": "white",
            "linecolor": "white",
            "ticks": ""
           }
          },
          "scene": {
           "xaxis": {
            "backgroundcolor": "#E5ECF6",
            "gridcolor": "white",
            "gridwidth": 2,
            "linecolor": "white",
            "showbackground": true,
            "ticks": "",
            "zerolinecolor": "white"
           },
           "yaxis": {
            "backgroundcolor": "#E5ECF6",
            "gridcolor": "white",
            "gridwidth": 2,
            "linecolor": "white",
            "showbackground": true,
            "ticks": "",
            "zerolinecolor": "white"
           },
           "zaxis": {
            "backgroundcolor": "#E5ECF6",
            "gridcolor": "white",
            "gridwidth": 2,
            "linecolor": "white",
            "showbackground": true,
            "ticks": "",
            "zerolinecolor": "white"
           }
          },
          "shapedefaults": {
           "line": {
            "color": "#2a3f5f"
           }
          },
          "ternary": {
           "aaxis": {
            "gridcolor": "white",
            "linecolor": "white",
            "ticks": ""
           },
           "baxis": {
            "gridcolor": "white",
            "linecolor": "white",
            "ticks": ""
           },
           "bgcolor": "#E5ECF6",
           "caxis": {
            "gridcolor": "white",
            "linecolor": "white",
            "ticks": ""
           }
          },
          "title": {
           "x": 0.05
          },
          "xaxis": {
           "automargin": true,
           "gridcolor": "white",
           "linecolor": "white",
           "ticks": "",
           "zerolinecolor": "white",
           "zerolinewidth": 2
          },
          "yaxis": {
           "automargin": true,
           "gridcolor": "white",
           "linecolor": "white",
           "ticks": "",
           "zerolinecolor": "white",
           "zerolinewidth": 2
          }
         }
        },
        "title": {
         "text": "Smooth Straight Variances (cm)"
        },
        "width": 700
       }
      },
      "text/html": [
       "<div>\n",
       "        \n",
       "        \n",
       "            <div id=\"8d761b61-5df6-438b-9dd5-9d68b4a1fdd1\" class=\"plotly-graph-div\" style=\"height:500px; width:700px;\"></div>\n",
       "            <script type=\"text/javascript\">\n",
       "                require([\"plotly\"], function(Plotly) {\n",
       "                    window.PLOTLYENV=window.PLOTLYENV || {};\n",
       "                    \n",
       "                if (document.getElementById(\"8d761b61-5df6-438b-9dd5-9d68b4a1fdd1\")) {\n",
       "                    Plotly.newPlot(\n",
       "                        '8d761b61-5df6-438b-9dd5-9d68b4a1fdd1',\n",
       "                        [{\"mode\": \"lines+markers\", \"name\": \"/tag_0\", \"opacity\": 0.7, \"type\": \"scatter\", \"x\": [\"x\", \"y\", \"z\"], \"y\": [846.509036104146, 0.5165088317893252, 1.3464150289180534]}, {\"mode\": \"lines+markers\", \"name\": \"/camera_pose_frame\", \"opacity\": 0.7, \"type\": \"scatter\", \"x\": [\"x\", \"y\", \"z\"], \"y\": [818.0435915324426, 0.5148753730337329, 0.9459223462171671]}],\n",
       "                        {\"font\": {\"family\": \"Courier New, monospace\", \"size\": 13}, \"height\": 500, \"template\": {\"data\": {\"bar\": [{\"error_x\": {\"color\": \"#2a3f5f\"}, \"error_y\": {\"color\": \"#2a3f5f\"}, \"marker\": {\"line\": {\"color\": \"#E5ECF6\", \"width\": 0.5}}, \"type\": \"bar\"}], \"barpolar\": [{\"marker\": {\"line\": {\"color\": \"#E5ECF6\", \"width\": 0.5}}, \"type\": \"barpolar\"}], \"carpet\": [{\"aaxis\": {\"endlinecolor\": \"#2a3f5f\", \"gridcolor\": \"white\", \"linecolor\": \"white\", \"minorgridcolor\": \"white\", \"startlinecolor\": \"#2a3f5f\"}, \"baxis\": {\"endlinecolor\": \"#2a3f5f\", \"gridcolor\": \"white\", \"linecolor\": \"white\", \"minorgridcolor\": \"white\", \"startlinecolor\": \"#2a3f5f\"}, \"type\": \"carpet\"}], \"choropleth\": [{\"colorbar\": {\"outlinewidth\": 0, \"ticks\": \"\"}, \"type\": \"choropleth\"}], \"contour\": [{\"colorbar\": {\"outlinewidth\": 0, \"ticks\": \"\"}, \"colorscale\": [[0.0, \"#0d0887\"], [0.1111111111111111, \"#46039f\"], [0.2222222222222222, \"#7201a8\"], [0.3333333333333333, \"#9c179e\"], [0.4444444444444444, \"#bd3786\"], [0.5555555555555556, \"#d8576b\"], [0.6666666666666666, \"#ed7953\"], [0.7777777777777778, \"#fb9f3a\"], [0.8888888888888888, \"#fdca26\"], [1.0, \"#f0f921\"]], \"type\": \"contour\"}], \"contourcarpet\": [{\"colorbar\": {\"outlinewidth\": 0, \"ticks\": \"\"}, \"type\": \"contourcarpet\"}], \"heatmap\": [{\"colorbar\": {\"outlinewidth\": 0, \"ticks\": \"\"}, \"colorscale\": [[0.0, \"#0d0887\"], [0.1111111111111111, \"#46039f\"], [0.2222222222222222, \"#7201a8\"], [0.3333333333333333, \"#9c179e\"], [0.4444444444444444, \"#bd3786\"], [0.5555555555555556, \"#d8576b\"], [0.6666666666666666, \"#ed7953\"], [0.7777777777777778, \"#fb9f3a\"], [0.8888888888888888, \"#fdca26\"], [1.0, \"#f0f921\"]], \"type\": \"heatmap\"}], \"heatmapgl\": [{\"colorbar\": {\"outlinewidth\": 0, \"ticks\": \"\"}, \"colorscale\": [[0.0, \"#0d0887\"], [0.1111111111111111, \"#46039f\"], [0.2222222222222222, \"#7201a8\"], [0.3333333333333333, \"#9c179e\"], [0.4444444444444444, \"#bd3786\"], [0.5555555555555556, \"#d8576b\"], [0.6666666666666666, \"#ed7953\"], [0.7777777777777778, \"#fb9f3a\"], [0.8888888888888888, \"#fdca26\"], [1.0, \"#f0f921\"]], \"type\": \"heatmapgl\"}], \"histogram\": [{\"marker\": {\"colorbar\": {\"outlinewidth\": 0, \"ticks\": \"\"}}, \"type\": \"histogram\"}], \"histogram2d\": [{\"colorbar\": {\"outlinewidth\": 0, \"ticks\": \"\"}, \"colorscale\": [[0.0, \"#0d0887\"], [0.1111111111111111, \"#46039f\"], [0.2222222222222222, \"#7201a8\"], [0.3333333333333333, \"#9c179e\"], [0.4444444444444444, \"#bd3786\"], [0.5555555555555556, \"#d8576b\"], [0.6666666666666666, \"#ed7953\"], [0.7777777777777778, \"#fb9f3a\"], [0.8888888888888888, \"#fdca26\"], [1.0, \"#f0f921\"]], \"type\": \"histogram2d\"}], \"histogram2dcontour\": [{\"colorbar\": {\"outlinewidth\": 0, \"ticks\": \"\"}, \"colorscale\": [[0.0, \"#0d0887\"], [0.1111111111111111, \"#46039f\"], [0.2222222222222222, \"#7201a8\"], [0.3333333333333333, \"#9c179e\"], [0.4444444444444444, \"#bd3786\"], [0.5555555555555556, \"#d8576b\"], [0.6666666666666666, \"#ed7953\"], [0.7777777777777778, \"#fb9f3a\"], [0.8888888888888888, \"#fdca26\"], [1.0, \"#f0f921\"]], \"type\": \"histogram2dcontour\"}], \"mesh3d\": [{\"colorbar\": {\"outlinewidth\": 0, \"ticks\": \"\"}, \"type\": \"mesh3d\"}], \"parcoords\": [{\"line\": {\"colorbar\": {\"outlinewidth\": 0, \"ticks\": \"\"}}, \"type\": \"parcoords\"}], \"scatter\": [{\"marker\": {\"colorbar\": {\"outlinewidth\": 0, \"ticks\": \"\"}}, \"type\": \"scatter\"}], \"scatter3d\": [{\"line\": {\"colorbar\": {\"outlinewidth\": 0, \"ticks\": \"\"}}, \"marker\": {\"colorbar\": {\"outlinewidth\": 0, \"ticks\": \"\"}}, \"type\": \"scatter3d\"}], \"scattercarpet\": [{\"marker\": {\"colorbar\": {\"outlinewidth\": 0, \"ticks\": \"\"}}, \"type\": \"scattercarpet\"}], \"scattergeo\": [{\"marker\": {\"colorbar\": {\"outlinewidth\": 0, \"ticks\": \"\"}}, \"type\": \"scattergeo\"}], \"scattergl\": [{\"marker\": {\"colorbar\": {\"outlinewidth\": 0, \"ticks\": \"\"}}, \"type\": \"scattergl\"}], \"scattermapbox\": [{\"marker\": {\"colorbar\": {\"outlinewidth\": 0, \"ticks\": \"\"}}, \"type\": \"scattermapbox\"}], \"scatterpolar\": [{\"marker\": {\"colorbar\": {\"outlinewidth\": 0, \"ticks\": \"\"}}, \"type\": \"scatterpolar\"}], \"scatterpolargl\": [{\"marker\": {\"colorbar\": {\"outlinewidth\": 0, \"ticks\": \"\"}}, \"type\": \"scatterpolargl\"}], \"scatterternary\": [{\"marker\": {\"colorbar\": {\"outlinewidth\": 0, \"ticks\": \"\"}}, \"type\": \"scatterternary\"}], \"surface\": [{\"colorbar\": {\"outlinewidth\": 0, \"ticks\": \"\"}, \"colorscale\": [[0.0, \"#0d0887\"], [0.1111111111111111, \"#46039f\"], [0.2222222222222222, \"#7201a8\"], [0.3333333333333333, \"#9c179e\"], [0.4444444444444444, \"#bd3786\"], [0.5555555555555556, \"#d8576b\"], [0.6666666666666666, \"#ed7953\"], [0.7777777777777778, \"#fb9f3a\"], [0.8888888888888888, \"#fdca26\"], [1.0, \"#f0f921\"]], \"type\": \"surface\"}], \"table\": [{\"cells\": {\"fill\": {\"color\": \"#EBF0F8\"}, \"line\": {\"color\": \"white\"}}, \"header\": {\"fill\": {\"color\": \"#C8D4E3\"}, \"line\": {\"color\": \"white\"}}, \"type\": \"table\"}]}, \"layout\": {\"annotationdefaults\": {\"arrowcolor\": \"#2a3f5f\", \"arrowhead\": 0, \"arrowwidth\": 1}, \"colorscale\": {\"diverging\": [[0, \"#8e0152\"], [0.1, \"#c51b7d\"], [0.2, \"#de77ae\"], [0.3, \"#f1b6da\"], [0.4, \"#fde0ef\"], [0.5, \"#f7f7f7\"], [0.6, \"#e6f5d0\"], [0.7, \"#b8e186\"], [0.8, \"#7fbc41\"], [0.9, \"#4d9221\"], [1, \"#276419\"]], \"sequential\": [[0.0, \"#0d0887\"], [0.1111111111111111, \"#46039f\"], [0.2222222222222222, \"#7201a8\"], [0.3333333333333333, \"#9c179e\"], [0.4444444444444444, \"#bd3786\"], [0.5555555555555556, \"#d8576b\"], [0.6666666666666666, \"#ed7953\"], [0.7777777777777778, \"#fb9f3a\"], [0.8888888888888888, \"#fdca26\"], [1.0, \"#f0f921\"]], \"sequentialminus\": [[0.0, \"#0d0887\"], [0.1111111111111111, \"#46039f\"], [0.2222222222222222, \"#7201a8\"], [0.3333333333333333, \"#9c179e\"], [0.4444444444444444, \"#bd3786\"], [0.5555555555555556, \"#d8576b\"], [0.6666666666666666, \"#ed7953\"], [0.7777777777777778, \"#fb9f3a\"], [0.8888888888888888, \"#fdca26\"], [1.0, \"#f0f921\"]]}, \"colorway\": [\"#636efa\", \"#EF553B\", \"#00cc96\", \"#ab63fa\", \"#FFA15A\", \"#19d3f3\", \"#FF6692\", \"#B6E880\", \"#FF97FF\", \"#FECB52\"], \"font\": {\"color\": \"#2a3f5f\"}, \"geo\": {\"bgcolor\": \"white\", \"lakecolor\": \"white\", \"landcolor\": \"#E5ECF6\", \"showlakes\": true, \"showland\": true, \"subunitcolor\": \"white\"}, \"hoverlabel\": {\"align\": \"left\"}, \"hovermode\": \"closest\", \"mapbox\": {\"style\": \"light\"}, \"paper_bgcolor\": \"white\", \"plot_bgcolor\": \"#E5ECF6\", \"polar\": {\"angularaxis\": {\"gridcolor\": \"white\", \"linecolor\": \"white\", \"ticks\": \"\"}, \"bgcolor\": \"#E5ECF6\", \"radialaxis\": {\"gridcolor\": \"white\", \"linecolor\": \"white\", \"ticks\": \"\"}}, \"scene\": {\"xaxis\": {\"backgroundcolor\": \"#E5ECF6\", \"gridcolor\": \"white\", \"gridwidth\": 2, \"linecolor\": \"white\", \"showbackground\": true, \"ticks\": \"\", \"zerolinecolor\": \"white\"}, \"yaxis\": {\"backgroundcolor\": \"#E5ECF6\", \"gridcolor\": \"white\", \"gridwidth\": 2, \"linecolor\": \"white\", \"showbackground\": true, \"ticks\": \"\", \"zerolinecolor\": \"white\"}, \"zaxis\": {\"backgroundcolor\": \"#E5ECF6\", \"gridcolor\": \"white\", \"gridwidth\": 2, \"linecolor\": \"white\", \"showbackground\": true, \"ticks\": \"\", \"zerolinecolor\": \"white\"}}, \"shapedefaults\": {\"line\": {\"color\": \"#2a3f5f\"}}, \"ternary\": {\"aaxis\": {\"gridcolor\": \"white\", \"linecolor\": \"white\", \"ticks\": \"\"}, \"baxis\": {\"gridcolor\": \"white\", \"linecolor\": \"white\", \"ticks\": \"\"}, \"bgcolor\": \"#E5ECF6\", \"caxis\": {\"gridcolor\": \"white\", \"linecolor\": \"white\", \"ticks\": \"\"}}, \"title\": {\"x\": 0.05}, \"xaxis\": {\"automargin\": true, \"gridcolor\": \"white\", \"linecolor\": \"white\", \"ticks\": \"\", \"zerolinecolor\": \"white\", \"zerolinewidth\": 2}, \"yaxis\": {\"automargin\": true, \"gridcolor\": \"white\", \"linecolor\": \"white\", \"ticks\": \"\", \"zerolinecolor\": \"white\", \"zerolinewidth\": 2}}}, \"title\": {\"text\": \"Smooth Straight Variances (cm)\"}, \"width\": 700},\n",
       "                        {\"responsive\": true}\n",
       "                    ).then(function(){\n",
       "                            \n",
       "var gd = document.getElementById('8d761b61-5df6-438b-9dd5-9d68b4a1fdd1');\n",
       "var x = new MutationObserver(function (mutations, observer) {{\n",
       "        var display = window.getComputedStyle(gd).display;\n",
       "        if (!display || display === 'none') {{\n",
       "            console.log([gd, 'removed!']);\n",
       "            Plotly.purge(gd);\n",
       "            observer.disconnect();\n",
       "        }}\n",
       "}});\n",
       "\n",
       "// Listen for the removal of the full notebook cells\n",
       "var notebookContainer = gd.closest('#notebook-container');\n",
       "if (notebookContainer) {{\n",
       "    x.observe(notebookContainer, {childList: true});\n",
       "}}\n",
       "\n",
       "// Listen for the clearing of the current output cell\n",
       "var outputEl = gd.closest('.output');\n",
       "if (outputEl) {{\n",
       "    x.observe(outputEl, {childList: true});\n",
       "}}\n",
       "\n",
       "                        })\n",
       "                };\n",
       "                });\n",
       "            </script>\n",
       "        </div>"
      ]
     },
     "metadata": {},
     "output_type": "display_data"
    }
   ],
   "source": [
    "# 1. Smooth Straight Dataset: Variances of TAG & Pose\n",
    "variance(\"smooth_straight.csv\", \"Smooth Straight Variances (cm)\")"
   ]
  },
  {
   "cell_type": "code",
   "execution_count": 139,
   "metadata": {},
   "outputs": [
    {
     "name": "stdout",
     "output_type": "stream",
     "text": [
      "tag_x    795.455489\n",
      "tag_y     10.042320\n",
      "tag_z     13.830332\n",
      "dtype: float64\n",
      "pose_x    827.262776\n",
      "pose_y      4.790887\n",
      "pose_z     38.975442\n",
      "dtype: float64\n"
     ]
    },
    {
     "data": {
      "application/vnd.plotly.v1+json": {
       "config": {
        "plotlyServerURL": "https://plot.ly"
       },
       "data": [
        {
         "mode": "lines+markers",
         "name": "/tag_0",
         "opacity": 0.7,
         "type": "scatter",
         "x": [
          "x",
          "y",
          "z"
         ],
         "y": [
          795.4554885450073,
          10.042319594908859,
          13.830331569632918
         ]
        },
        {
         "mode": "lines+markers",
         "name": "/camera_pose_frame",
         "opacity": 0.7,
         "type": "scatter",
         "x": [
          "x",
          "y",
          "z"
         ],
         "y": [
          827.2627755704132,
          4.790886769035581,
          38.97544240215957
         ]
        }
       ],
       "layout": {
        "font": {
         "family": "Courier New, monospace",
         "size": 13
        },
        "height": 500,
        "template": {
         "data": {
          "bar": [
           {
            "error_x": {
             "color": "#2a3f5f"
            },
            "error_y": {
             "color": "#2a3f5f"
            },
            "marker": {
             "line": {
              "color": "#E5ECF6",
              "width": 0.5
             }
            },
            "type": "bar"
           }
          ],
          "barpolar": [
           {
            "marker": {
             "line": {
              "color": "#E5ECF6",
              "width": 0.5
             }
            },
            "type": "barpolar"
           }
          ],
          "carpet": [
           {
            "aaxis": {
             "endlinecolor": "#2a3f5f",
             "gridcolor": "white",
             "linecolor": "white",
             "minorgridcolor": "white",
             "startlinecolor": "#2a3f5f"
            },
            "baxis": {
             "endlinecolor": "#2a3f5f",
             "gridcolor": "white",
             "linecolor": "white",
             "minorgridcolor": "white",
             "startlinecolor": "#2a3f5f"
            },
            "type": "carpet"
           }
          ],
          "choropleth": [
           {
            "colorbar": {
             "outlinewidth": 0,
             "ticks": ""
            },
            "type": "choropleth"
           }
          ],
          "contour": [
           {
            "colorbar": {
             "outlinewidth": 0,
             "ticks": ""
            },
            "colorscale": [
             [
              0,
              "#0d0887"
             ],
             [
              0.1111111111111111,
              "#46039f"
             ],
             [
              0.2222222222222222,
              "#7201a8"
             ],
             [
              0.3333333333333333,
              "#9c179e"
             ],
             [
              0.4444444444444444,
              "#bd3786"
             ],
             [
              0.5555555555555556,
              "#d8576b"
             ],
             [
              0.6666666666666666,
              "#ed7953"
             ],
             [
              0.7777777777777778,
              "#fb9f3a"
             ],
             [
              0.8888888888888888,
              "#fdca26"
             ],
             [
              1,
              "#f0f921"
             ]
            ],
            "type": "contour"
           }
          ],
          "contourcarpet": [
           {
            "colorbar": {
             "outlinewidth": 0,
             "ticks": ""
            },
            "type": "contourcarpet"
           }
          ],
          "heatmap": [
           {
            "colorbar": {
             "outlinewidth": 0,
             "ticks": ""
            },
            "colorscale": [
             [
              0,
              "#0d0887"
             ],
             [
              0.1111111111111111,
              "#46039f"
             ],
             [
              0.2222222222222222,
              "#7201a8"
             ],
             [
              0.3333333333333333,
              "#9c179e"
             ],
             [
              0.4444444444444444,
              "#bd3786"
             ],
             [
              0.5555555555555556,
              "#d8576b"
             ],
             [
              0.6666666666666666,
              "#ed7953"
             ],
             [
              0.7777777777777778,
              "#fb9f3a"
             ],
             [
              0.8888888888888888,
              "#fdca26"
             ],
             [
              1,
              "#f0f921"
             ]
            ],
            "type": "heatmap"
           }
          ],
          "heatmapgl": [
           {
            "colorbar": {
             "outlinewidth": 0,
             "ticks": ""
            },
            "colorscale": [
             [
              0,
              "#0d0887"
             ],
             [
              0.1111111111111111,
              "#46039f"
             ],
             [
              0.2222222222222222,
              "#7201a8"
             ],
             [
              0.3333333333333333,
              "#9c179e"
             ],
             [
              0.4444444444444444,
              "#bd3786"
             ],
             [
              0.5555555555555556,
              "#d8576b"
             ],
             [
              0.6666666666666666,
              "#ed7953"
             ],
             [
              0.7777777777777778,
              "#fb9f3a"
             ],
             [
              0.8888888888888888,
              "#fdca26"
             ],
             [
              1,
              "#f0f921"
             ]
            ],
            "type": "heatmapgl"
           }
          ],
          "histogram": [
           {
            "marker": {
             "colorbar": {
              "outlinewidth": 0,
              "ticks": ""
             }
            },
            "type": "histogram"
           }
          ],
          "histogram2d": [
           {
            "colorbar": {
             "outlinewidth": 0,
             "ticks": ""
            },
            "colorscale": [
             [
              0,
              "#0d0887"
             ],
             [
              0.1111111111111111,
              "#46039f"
             ],
             [
              0.2222222222222222,
              "#7201a8"
             ],
             [
              0.3333333333333333,
              "#9c179e"
             ],
             [
              0.4444444444444444,
              "#bd3786"
             ],
             [
              0.5555555555555556,
              "#d8576b"
             ],
             [
              0.6666666666666666,
              "#ed7953"
             ],
             [
              0.7777777777777778,
              "#fb9f3a"
             ],
             [
              0.8888888888888888,
              "#fdca26"
             ],
             [
              1,
              "#f0f921"
             ]
            ],
            "type": "histogram2d"
           }
          ],
          "histogram2dcontour": [
           {
            "colorbar": {
             "outlinewidth": 0,
             "ticks": ""
            },
            "colorscale": [
             [
              0,
              "#0d0887"
             ],
             [
              0.1111111111111111,
              "#46039f"
             ],
             [
              0.2222222222222222,
              "#7201a8"
             ],
             [
              0.3333333333333333,
              "#9c179e"
             ],
             [
              0.4444444444444444,
              "#bd3786"
             ],
             [
              0.5555555555555556,
              "#d8576b"
             ],
             [
              0.6666666666666666,
              "#ed7953"
             ],
             [
              0.7777777777777778,
              "#fb9f3a"
             ],
             [
              0.8888888888888888,
              "#fdca26"
             ],
             [
              1,
              "#f0f921"
             ]
            ],
            "type": "histogram2dcontour"
           }
          ],
          "mesh3d": [
           {
            "colorbar": {
             "outlinewidth": 0,
             "ticks": ""
            },
            "type": "mesh3d"
           }
          ],
          "parcoords": [
           {
            "line": {
             "colorbar": {
              "outlinewidth": 0,
              "ticks": ""
             }
            },
            "type": "parcoords"
           }
          ],
          "scatter": [
           {
            "marker": {
             "colorbar": {
              "outlinewidth": 0,
              "ticks": ""
             }
            },
            "type": "scatter"
           }
          ],
          "scatter3d": [
           {
            "line": {
             "colorbar": {
              "outlinewidth": 0,
              "ticks": ""
             }
            },
            "marker": {
             "colorbar": {
              "outlinewidth": 0,
              "ticks": ""
             }
            },
            "type": "scatter3d"
           }
          ],
          "scattercarpet": [
           {
            "marker": {
             "colorbar": {
              "outlinewidth": 0,
              "ticks": ""
             }
            },
            "type": "scattercarpet"
           }
          ],
          "scattergeo": [
           {
            "marker": {
             "colorbar": {
              "outlinewidth": 0,
              "ticks": ""
             }
            },
            "type": "scattergeo"
           }
          ],
          "scattergl": [
           {
            "marker": {
             "colorbar": {
              "outlinewidth": 0,
              "ticks": ""
             }
            },
            "type": "scattergl"
           }
          ],
          "scattermapbox": [
           {
            "marker": {
             "colorbar": {
              "outlinewidth": 0,
              "ticks": ""
             }
            },
            "type": "scattermapbox"
           }
          ],
          "scatterpolar": [
           {
            "marker": {
             "colorbar": {
              "outlinewidth": 0,
              "ticks": ""
             }
            },
            "type": "scatterpolar"
           }
          ],
          "scatterpolargl": [
           {
            "marker": {
             "colorbar": {
              "outlinewidth": 0,
              "ticks": ""
             }
            },
            "type": "scatterpolargl"
           }
          ],
          "scatterternary": [
           {
            "marker": {
             "colorbar": {
              "outlinewidth": 0,
              "ticks": ""
             }
            },
            "type": "scatterternary"
           }
          ],
          "surface": [
           {
            "colorbar": {
             "outlinewidth": 0,
             "ticks": ""
            },
            "colorscale": [
             [
              0,
              "#0d0887"
             ],
             [
              0.1111111111111111,
              "#46039f"
             ],
             [
              0.2222222222222222,
              "#7201a8"
             ],
             [
              0.3333333333333333,
              "#9c179e"
             ],
             [
              0.4444444444444444,
              "#bd3786"
             ],
             [
              0.5555555555555556,
              "#d8576b"
             ],
             [
              0.6666666666666666,
              "#ed7953"
             ],
             [
              0.7777777777777778,
              "#fb9f3a"
             ],
             [
              0.8888888888888888,
              "#fdca26"
             ],
             [
              1,
              "#f0f921"
             ]
            ],
            "type": "surface"
           }
          ],
          "table": [
           {
            "cells": {
             "fill": {
              "color": "#EBF0F8"
             },
             "line": {
              "color": "white"
             }
            },
            "header": {
             "fill": {
              "color": "#C8D4E3"
             },
             "line": {
              "color": "white"
             }
            },
            "type": "table"
           }
          ]
         },
         "layout": {
          "annotationdefaults": {
           "arrowcolor": "#2a3f5f",
           "arrowhead": 0,
           "arrowwidth": 1
          },
          "colorscale": {
           "diverging": [
            [
             0,
             "#8e0152"
            ],
            [
             0.1,
             "#c51b7d"
            ],
            [
             0.2,
             "#de77ae"
            ],
            [
             0.3,
             "#f1b6da"
            ],
            [
             0.4,
             "#fde0ef"
            ],
            [
             0.5,
             "#f7f7f7"
            ],
            [
             0.6,
             "#e6f5d0"
            ],
            [
             0.7,
             "#b8e186"
            ],
            [
             0.8,
             "#7fbc41"
            ],
            [
             0.9,
             "#4d9221"
            ],
            [
             1,
             "#276419"
            ]
           ],
           "sequential": [
            [
             0,
             "#0d0887"
            ],
            [
             0.1111111111111111,
             "#46039f"
            ],
            [
             0.2222222222222222,
             "#7201a8"
            ],
            [
             0.3333333333333333,
             "#9c179e"
            ],
            [
             0.4444444444444444,
             "#bd3786"
            ],
            [
             0.5555555555555556,
             "#d8576b"
            ],
            [
             0.6666666666666666,
             "#ed7953"
            ],
            [
             0.7777777777777778,
             "#fb9f3a"
            ],
            [
             0.8888888888888888,
             "#fdca26"
            ],
            [
             1,
             "#f0f921"
            ]
           ],
           "sequentialminus": [
            [
             0,
             "#0d0887"
            ],
            [
             0.1111111111111111,
             "#46039f"
            ],
            [
             0.2222222222222222,
             "#7201a8"
            ],
            [
             0.3333333333333333,
             "#9c179e"
            ],
            [
             0.4444444444444444,
             "#bd3786"
            ],
            [
             0.5555555555555556,
             "#d8576b"
            ],
            [
             0.6666666666666666,
             "#ed7953"
            ],
            [
             0.7777777777777778,
             "#fb9f3a"
            ],
            [
             0.8888888888888888,
             "#fdca26"
            ],
            [
             1,
             "#f0f921"
            ]
           ]
          },
          "colorway": [
           "#636efa",
           "#EF553B",
           "#00cc96",
           "#ab63fa",
           "#FFA15A",
           "#19d3f3",
           "#FF6692",
           "#B6E880",
           "#FF97FF",
           "#FECB52"
          ],
          "font": {
           "color": "#2a3f5f"
          },
          "geo": {
           "bgcolor": "white",
           "lakecolor": "white",
           "landcolor": "#E5ECF6",
           "showlakes": true,
           "showland": true,
           "subunitcolor": "white"
          },
          "hoverlabel": {
           "align": "left"
          },
          "hovermode": "closest",
          "mapbox": {
           "style": "light"
          },
          "paper_bgcolor": "white",
          "plot_bgcolor": "#E5ECF6",
          "polar": {
           "angularaxis": {
            "gridcolor": "white",
            "linecolor": "white",
            "ticks": ""
           },
           "bgcolor": "#E5ECF6",
           "radialaxis": {
            "gridcolor": "white",
            "linecolor": "white",
            "ticks": ""
           }
          },
          "scene": {
           "xaxis": {
            "backgroundcolor": "#E5ECF6",
            "gridcolor": "white",
            "gridwidth": 2,
            "linecolor": "white",
            "showbackground": true,
            "ticks": "",
            "zerolinecolor": "white"
           },
           "yaxis": {
            "backgroundcolor": "#E5ECF6",
            "gridcolor": "white",
            "gridwidth": 2,
            "linecolor": "white",
            "showbackground": true,
            "ticks": "",
            "zerolinecolor": "white"
           },
           "zaxis": {
            "backgroundcolor": "#E5ECF6",
            "gridcolor": "white",
            "gridwidth": 2,
            "linecolor": "white",
            "showbackground": true,
            "ticks": "",
            "zerolinecolor": "white"
           }
          },
          "shapedefaults": {
           "line": {
            "color": "#2a3f5f"
           }
          },
          "ternary": {
           "aaxis": {
            "gridcolor": "white",
            "linecolor": "white",
            "ticks": ""
           },
           "baxis": {
            "gridcolor": "white",
            "linecolor": "white",
            "ticks": ""
           },
           "bgcolor": "#E5ECF6",
           "caxis": {
            "gridcolor": "white",
            "linecolor": "white",
            "ticks": ""
           }
          },
          "title": {
           "x": 0.05
          },
          "xaxis": {
           "automargin": true,
           "gridcolor": "white",
           "linecolor": "white",
           "ticks": "",
           "zerolinecolor": "white",
           "zerolinewidth": 2
          },
          "yaxis": {
           "automargin": true,
           "gridcolor": "white",
           "linecolor": "white",
           "ticks": "",
           "zerolinecolor": "white",
           "zerolinewidth": 2
          }
         }
        },
        "title": {
         "text": "Rugged Straight Variances (cm)"
        },
        "width": 700
       }
      },
      "text/html": [
       "<div>\n",
       "        \n",
       "        \n",
       "            <div id=\"39a99d44-b6de-428b-a252-9303386c4b6b\" class=\"plotly-graph-div\" style=\"height:500px; width:700px;\"></div>\n",
       "            <script type=\"text/javascript\">\n",
       "                require([\"plotly\"], function(Plotly) {\n",
       "                    window.PLOTLYENV=window.PLOTLYENV || {};\n",
       "                    \n",
       "                if (document.getElementById(\"39a99d44-b6de-428b-a252-9303386c4b6b\")) {\n",
       "                    Plotly.newPlot(\n",
       "                        '39a99d44-b6de-428b-a252-9303386c4b6b',\n",
       "                        [{\"mode\": \"lines+markers\", \"name\": \"/tag_0\", \"opacity\": 0.7, \"type\": \"scatter\", \"x\": [\"x\", \"y\", \"z\"], \"y\": [795.4554885450073, 10.042319594908859, 13.830331569632918]}, {\"mode\": \"lines+markers\", \"name\": \"/camera_pose_frame\", \"opacity\": 0.7, \"type\": \"scatter\", \"x\": [\"x\", \"y\", \"z\"], \"y\": [827.2627755704132, 4.790886769035581, 38.97544240215957]}],\n",
       "                        {\"font\": {\"family\": \"Courier New, monospace\", \"size\": 13}, \"height\": 500, \"template\": {\"data\": {\"bar\": [{\"error_x\": {\"color\": \"#2a3f5f\"}, \"error_y\": {\"color\": \"#2a3f5f\"}, \"marker\": {\"line\": {\"color\": \"#E5ECF6\", \"width\": 0.5}}, \"type\": \"bar\"}], \"barpolar\": [{\"marker\": {\"line\": {\"color\": \"#E5ECF6\", \"width\": 0.5}}, \"type\": \"barpolar\"}], \"carpet\": [{\"aaxis\": {\"endlinecolor\": \"#2a3f5f\", \"gridcolor\": \"white\", \"linecolor\": \"white\", \"minorgridcolor\": \"white\", \"startlinecolor\": \"#2a3f5f\"}, \"baxis\": {\"endlinecolor\": \"#2a3f5f\", \"gridcolor\": \"white\", \"linecolor\": \"white\", \"minorgridcolor\": \"white\", \"startlinecolor\": \"#2a3f5f\"}, \"type\": \"carpet\"}], \"choropleth\": [{\"colorbar\": {\"outlinewidth\": 0, \"ticks\": \"\"}, \"type\": \"choropleth\"}], \"contour\": [{\"colorbar\": {\"outlinewidth\": 0, \"ticks\": \"\"}, \"colorscale\": [[0.0, \"#0d0887\"], [0.1111111111111111, \"#46039f\"], [0.2222222222222222, \"#7201a8\"], [0.3333333333333333, \"#9c179e\"], [0.4444444444444444, \"#bd3786\"], [0.5555555555555556, \"#d8576b\"], [0.6666666666666666, \"#ed7953\"], [0.7777777777777778, \"#fb9f3a\"], [0.8888888888888888, \"#fdca26\"], [1.0, \"#f0f921\"]], \"type\": \"contour\"}], \"contourcarpet\": [{\"colorbar\": {\"outlinewidth\": 0, \"ticks\": \"\"}, \"type\": \"contourcarpet\"}], \"heatmap\": [{\"colorbar\": {\"outlinewidth\": 0, \"ticks\": \"\"}, \"colorscale\": [[0.0, \"#0d0887\"], [0.1111111111111111, \"#46039f\"], [0.2222222222222222, \"#7201a8\"], [0.3333333333333333, \"#9c179e\"], [0.4444444444444444, \"#bd3786\"], [0.5555555555555556, \"#d8576b\"], [0.6666666666666666, \"#ed7953\"], [0.7777777777777778, \"#fb9f3a\"], [0.8888888888888888, \"#fdca26\"], [1.0, \"#f0f921\"]], \"type\": \"heatmap\"}], \"heatmapgl\": [{\"colorbar\": {\"outlinewidth\": 0, \"ticks\": \"\"}, \"colorscale\": [[0.0, \"#0d0887\"], [0.1111111111111111, \"#46039f\"], [0.2222222222222222, \"#7201a8\"], [0.3333333333333333, \"#9c179e\"], [0.4444444444444444, \"#bd3786\"], [0.5555555555555556, \"#d8576b\"], [0.6666666666666666, \"#ed7953\"], [0.7777777777777778, \"#fb9f3a\"], [0.8888888888888888, \"#fdca26\"], [1.0, \"#f0f921\"]], \"type\": \"heatmapgl\"}], \"histogram\": [{\"marker\": {\"colorbar\": {\"outlinewidth\": 0, \"ticks\": \"\"}}, \"type\": \"histogram\"}], \"histogram2d\": [{\"colorbar\": {\"outlinewidth\": 0, \"ticks\": \"\"}, \"colorscale\": [[0.0, \"#0d0887\"], [0.1111111111111111, \"#46039f\"], [0.2222222222222222, \"#7201a8\"], [0.3333333333333333, \"#9c179e\"], [0.4444444444444444, \"#bd3786\"], [0.5555555555555556, \"#d8576b\"], [0.6666666666666666, \"#ed7953\"], [0.7777777777777778, \"#fb9f3a\"], [0.8888888888888888, \"#fdca26\"], [1.0, \"#f0f921\"]], \"type\": \"histogram2d\"}], \"histogram2dcontour\": [{\"colorbar\": {\"outlinewidth\": 0, \"ticks\": \"\"}, \"colorscale\": [[0.0, \"#0d0887\"], [0.1111111111111111, \"#46039f\"], [0.2222222222222222, \"#7201a8\"], [0.3333333333333333, \"#9c179e\"], [0.4444444444444444, \"#bd3786\"], [0.5555555555555556, \"#d8576b\"], [0.6666666666666666, \"#ed7953\"], [0.7777777777777778, \"#fb9f3a\"], [0.8888888888888888, \"#fdca26\"], [1.0, \"#f0f921\"]], \"type\": \"histogram2dcontour\"}], \"mesh3d\": [{\"colorbar\": {\"outlinewidth\": 0, \"ticks\": \"\"}, \"type\": \"mesh3d\"}], \"parcoords\": [{\"line\": {\"colorbar\": {\"outlinewidth\": 0, \"ticks\": \"\"}}, \"type\": \"parcoords\"}], \"scatter\": [{\"marker\": {\"colorbar\": {\"outlinewidth\": 0, \"ticks\": \"\"}}, \"type\": \"scatter\"}], \"scatter3d\": [{\"line\": {\"colorbar\": {\"outlinewidth\": 0, \"ticks\": \"\"}}, \"marker\": {\"colorbar\": {\"outlinewidth\": 0, \"ticks\": \"\"}}, \"type\": \"scatter3d\"}], \"scattercarpet\": [{\"marker\": {\"colorbar\": {\"outlinewidth\": 0, \"ticks\": \"\"}}, \"type\": \"scattercarpet\"}], \"scattergeo\": [{\"marker\": {\"colorbar\": {\"outlinewidth\": 0, \"ticks\": \"\"}}, \"type\": \"scattergeo\"}], \"scattergl\": [{\"marker\": {\"colorbar\": {\"outlinewidth\": 0, \"ticks\": \"\"}}, \"type\": \"scattergl\"}], \"scattermapbox\": [{\"marker\": {\"colorbar\": {\"outlinewidth\": 0, \"ticks\": \"\"}}, \"type\": \"scattermapbox\"}], \"scatterpolar\": [{\"marker\": {\"colorbar\": {\"outlinewidth\": 0, \"ticks\": \"\"}}, \"type\": \"scatterpolar\"}], \"scatterpolargl\": [{\"marker\": {\"colorbar\": {\"outlinewidth\": 0, \"ticks\": \"\"}}, \"type\": \"scatterpolargl\"}], \"scatterternary\": [{\"marker\": {\"colorbar\": {\"outlinewidth\": 0, \"ticks\": \"\"}}, \"type\": \"scatterternary\"}], \"surface\": [{\"colorbar\": {\"outlinewidth\": 0, \"ticks\": \"\"}, \"colorscale\": [[0.0, \"#0d0887\"], [0.1111111111111111, \"#46039f\"], [0.2222222222222222, \"#7201a8\"], [0.3333333333333333, \"#9c179e\"], [0.4444444444444444, \"#bd3786\"], [0.5555555555555556, \"#d8576b\"], [0.6666666666666666, \"#ed7953\"], [0.7777777777777778, \"#fb9f3a\"], [0.8888888888888888, \"#fdca26\"], [1.0, \"#f0f921\"]], \"type\": \"surface\"}], \"table\": [{\"cells\": {\"fill\": {\"color\": \"#EBF0F8\"}, \"line\": {\"color\": \"white\"}}, \"header\": {\"fill\": {\"color\": \"#C8D4E3\"}, \"line\": {\"color\": \"white\"}}, \"type\": \"table\"}]}, \"layout\": {\"annotationdefaults\": {\"arrowcolor\": \"#2a3f5f\", \"arrowhead\": 0, \"arrowwidth\": 1}, \"colorscale\": {\"diverging\": [[0, \"#8e0152\"], [0.1, \"#c51b7d\"], [0.2, \"#de77ae\"], [0.3, \"#f1b6da\"], [0.4, \"#fde0ef\"], [0.5, \"#f7f7f7\"], [0.6, \"#e6f5d0\"], [0.7, \"#b8e186\"], [0.8, \"#7fbc41\"], [0.9, \"#4d9221\"], [1, \"#276419\"]], \"sequential\": [[0.0, \"#0d0887\"], [0.1111111111111111, \"#46039f\"], [0.2222222222222222, \"#7201a8\"], [0.3333333333333333, \"#9c179e\"], [0.4444444444444444, \"#bd3786\"], [0.5555555555555556, \"#d8576b\"], [0.6666666666666666, \"#ed7953\"], [0.7777777777777778, \"#fb9f3a\"], [0.8888888888888888, \"#fdca26\"], [1.0, \"#f0f921\"]], \"sequentialminus\": [[0.0, \"#0d0887\"], [0.1111111111111111, \"#46039f\"], [0.2222222222222222, \"#7201a8\"], [0.3333333333333333, \"#9c179e\"], [0.4444444444444444, \"#bd3786\"], [0.5555555555555556, \"#d8576b\"], [0.6666666666666666, \"#ed7953\"], [0.7777777777777778, \"#fb9f3a\"], [0.8888888888888888, \"#fdca26\"], [1.0, \"#f0f921\"]]}, \"colorway\": [\"#636efa\", \"#EF553B\", \"#00cc96\", \"#ab63fa\", \"#FFA15A\", \"#19d3f3\", \"#FF6692\", \"#B6E880\", \"#FF97FF\", \"#FECB52\"], \"font\": {\"color\": \"#2a3f5f\"}, \"geo\": {\"bgcolor\": \"white\", \"lakecolor\": \"white\", \"landcolor\": \"#E5ECF6\", \"showlakes\": true, \"showland\": true, \"subunitcolor\": \"white\"}, \"hoverlabel\": {\"align\": \"left\"}, \"hovermode\": \"closest\", \"mapbox\": {\"style\": \"light\"}, \"paper_bgcolor\": \"white\", \"plot_bgcolor\": \"#E5ECF6\", \"polar\": {\"angularaxis\": {\"gridcolor\": \"white\", \"linecolor\": \"white\", \"ticks\": \"\"}, \"bgcolor\": \"#E5ECF6\", \"radialaxis\": {\"gridcolor\": \"white\", \"linecolor\": \"white\", \"ticks\": \"\"}}, \"scene\": {\"xaxis\": {\"backgroundcolor\": \"#E5ECF6\", \"gridcolor\": \"white\", \"gridwidth\": 2, \"linecolor\": \"white\", \"showbackground\": true, \"ticks\": \"\", \"zerolinecolor\": \"white\"}, \"yaxis\": {\"backgroundcolor\": \"#E5ECF6\", \"gridcolor\": \"white\", \"gridwidth\": 2, \"linecolor\": \"white\", \"showbackground\": true, \"ticks\": \"\", \"zerolinecolor\": \"white\"}, \"zaxis\": {\"backgroundcolor\": \"#E5ECF6\", \"gridcolor\": \"white\", \"gridwidth\": 2, \"linecolor\": \"white\", \"showbackground\": true, \"ticks\": \"\", \"zerolinecolor\": \"white\"}}, \"shapedefaults\": {\"line\": {\"color\": \"#2a3f5f\"}}, \"ternary\": {\"aaxis\": {\"gridcolor\": \"white\", \"linecolor\": \"white\", \"ticks\": \"\"}, \"baxis\": {\"gridcolor\": \"white\", \"linecolor\": \"white\", \"ticks\": \"\"}, \"bgcolor\": \"#E5ECF6\", \"caxis\": {\"gridcolor\": \"white\", \"linecolor\": \"white\", \"ticks\": \"\"}}, \"title\": {\"x\": 0.05}, \"xaxis\": {\"automargin\": true, \"gridcolor\": \"white\", \"linecolor\": \"white\", \"ticks\": \"\", \"zerolinecolor\": \"white\", \"zerolinewidth\": 2}, \"yaxis\": {\"automargin\": true, \"gridcolor\": \"white\", \"linecolor\": \"white\", \"ticks\": \"\", \"zerolinecolor\": \"white\", \"zerolinewidth\": 2}}}, \"title\": {\"text\": \"Rugged Straight Variances (cm)\"}, \"width\": 700},\n",
       "                        {\"responsive\": true}\n",
       "                    ).then(function(){\n",
       "                            \n",
       "var gd = document.getElementById('39a99d44-b6de-428b-a252-9303386c4b6b');\n",
       "var x = new MutationObserver(function (mutations, observer) {{\n",
       "        var display = window.getComputedStyle(gd).display;\n",
       "        if (!display || display === 'none') {{\n",
       "            console.log([gd, 'removed!']);\n",
       "            Plotly.purge(gd);\n",
       "            observer.disconnect();\n",
       "        }}\n",
       "}});\n",
       "\n",
       "// Listen for the removal of the full notebook cells\n",
       "var notebookContainer = gd.closest('#notebook-container');\n",
       "if (notebookContainer) {{\n",
       "    x.observe(notebookContainer, {childList: true});\n",
       "}}\n",
       "\n",
       "// Listen for the clearing of the current output cell\n",
       "var outputEl = gd.closest('.output');\n",
       "if (outputEl) {{\n",
       "    x.observe(outputEl, {childList: true});\n",
       "}}\n",
       "\n",
       "                        })\n",
       "                };\n",
       "                });\n",
       "            </script>\n",
       "        </div>"
      ]
     },
     "metadata": {},
     "output_type": "display_data"
    }
   ],
   "source": [
    "# 2. Rugged Straight Dataset: Variances of TAG & Pose\n",
    "variance(\"rugged_straight.csv\", \"Rugged Straight Variances (cm)\")"
   ]
  },
  {
   "cell_type": "code",
   "execution_count": 140,
   "metadata": {},
   "outputs": [
    {
     "name": "stdout",
     "output_type": "stream",
     "text": [
      "tag_x    1293.666850\n",
      "tag_y     618.055186\n",
      "tag_z       3.752017\n",
      "dtype: float64\n",
      "pose_x    1526.943516\n",
      "pose_y     826.057917\n",
      "pose_z       0.230136\n",
      "dtype: float64\n"
     ]
    },
    {
     "data": {
      "application/vnd.plotly.v1+json": {
       "config": {
        "plotlyServerURL": "https://plot.ly"
       },
       "data": [
        {
         "mode": "lines+markers",
         "name": "/tag_0",
         "opacity": 0.7,
         "type": "scatter",
         "x": [
          "x",
          "y",
          "z"
         ],
         "y": [
          1293.6668502679915,
          618.0551857883538,
          3.7520174471603838
         ]
        },
        {
         "mode": "lines+markers",
         "name": "/camera_pose_frame",
         "opacity": 0.7,
         "type": "scatter",
         "x": [
          "x",
          "y",
          "z"
         ],
         "y": [
          1526.94351606863,
          826.0579167889338,
          0.2301359606134364
         ]
        }
       ],
       "layout": {
        "font": {
         "family": "Courier New, monospace",
         "size": 13
        },
        "height": 500,
        "template": {
         "data": {
          "bar": [
           {
            "error_x": {
             "color": "#2a3f5f"
            },
            "error_y": {
             "color": "#2a3f5f"
            },
            "marker": {
             "line": {
              "color": "#E5ECF6",
              "width": 0.5
             }
            },
            "type": "bar"
           }
          ],
          "barpolar": [
           {
            "marker": {
             "line": {
              "color": "#E5ECF6",
              "width": 0.5
             }
            },
            "type": "barpolar"
           }
          ],
          "carpet": [
           {
            "aaxis": {
             "endlinecolor": "#2a3f5f",
             "gridcolor": "white",
             "linecolor": "white",
             "minorgridcolor": "white",
             "startlinecolor": "#2a3f5f"
            },
            "baxis": {
             "endlinecolor": "#2a3f5f",
             "gridcolor": "white",
             "linecolor": "white",
             "minorgridcolor": "white",
             "startlinecolor": "#2a3f5f"
            },
            "type": "carpet"
           }
          ],
          "choropleth": [
           {
            "colorbar": {
             "outlinewidth": 0,
             "ticks": ""
            },
            "type": "choropleth"
           }
          ],
          "contour": [
           {
            "colorbar": {
             "outlinewidth": 0,
             "ticks": ""
            },
            "colorscale": [
             [
              0,
              "#0d0887"
             ],
             [
              0.1111111111111111,
              "#46039f"
             ],
             [
              0.2222222222222222,
              "#7201a8"
             ],
             [
              0.3333333333333333,
              "#9c179e"
             ],
             [
              0.4444444444444444,
              "#bd3786"
             ],
             [
              0.5555555555555556,
              "#d8576b"
             ],
             [
              0.6666666666666666,
              "#ed7953"
             ],
             [
              0.7777777777777778,
              "#fb9f3a"
             ],
             [
              0.8888888888888888,
              "#fdca26"
             ],
             [
              1,
              "#f0f921"
             ]
            ],
            "type": "contour"
           }
          ],
          "contourcarpet": [
           {
            "colorbar": {
             "outlinewidth": 0,
             "ticks": ""
            },
            "type": "contourcarpet"
           }
          ],
          "heatmap": [
           {
            "colorbar": {
             "outlinewidth": 0,
             "ticks": ""
            },
            "colorscale": [
             [
              0,
              "#0d0887"
             ],
             [
              0.1111111111111111,
              "#46039f"
             ],
             [
              0.2222222222222222,
              "#7201a8"
             ],
             [
              0.3333333333333333,
              "#9c179e"
             ],
             [
              0.4444444444444444,
              "#bd3786"
             ],
             [
              0.5555555555555556,
              "#d8576b"
             ],
             [
              0.6666666666666666,
              "#ed7953"
             ],
             [
              0.7777777777777778,
              "#fb9f3a"
             ],
             [
              0.8888888888888888,
              "#fdca26"
             ],
             [
              1,
              "#f0f921"
             ]
            ],
            "type": "heatmap"
           }
          ],
          "heatmapgl": [
           {
            "colorbar": {
             "outlinewidth": 0,
             "ticks": ""
            },
            "colorscale": [
             [
              0,
              "#0d0887"
             ],
             [
              0.1111111111111111,
              "#46039f"
             ],
             [
              0.2222222222222222,
              "#7201a8"
             ],
             [
              0.3333333333333333,
              "#9c179e"
             ],
             [
              0.4444444444444444,
              "#bd3786"
             ],
             [
              0.5555555555555556,
              "#d8576b"
             ],
             [
              0.6666666666666666,
              "#ed7953"
             ],
             [
              0.7777777777777778,
              "#fb9f3a"
             ],
             [
              0.8888888888888888,
              "#fdca26"
             ],
             [
              1,
              "#f0f921"
             ]
            ],
            "type": "heatmapgl"
           }
          ],
          "histogram": [
           {
            "marker": {
             "colorbar": {
              "outlinewidth": 0,
              "ticks": ""
             }
            },
            "type": "histogram"
           }
          ],
          "histogram2d": [
           {
            "colorbar": {
             "outlinewidth": 0,
             "ticks": ""
            },
            "colorscale": [
             [
              0,
              "#0d0887"
             ],
             [
              0.1111111111111111,
              "#46039f"
             ],
             [
              0.2222222222222222,
              "#7201a8"
             ],
             [
              0.3333333333333333,
              "#9c179e"
             ],
             [
              0.4444444444444444,
              "#bd3786"
             ],
             [
              0.5555555555555556,
              "#d8576b"
             ],
             [
              0.6666666666666666,
              "#ed7953"
             ],
             [
              0.7777777777777778,
              "#fb9f3a"
             ],
             [
              0.8888888888888888,
              "#fdca26"
             ],
             [
              1,
              "#f0f921"
             ]
            ],
            "type": "histogram2d"
           }
          ],
          "histogram2dcontour": [
           {
            "colorbar": {
             "outlinewidth": 0,
             "ticks": ""
            },
            "colorscale": [
             [
              0,
              "#0d0887"
             ],
             [
              0.1111111111111111,
              "#46039f"
             ],
             [
              0.2222222222222222,
              "#7201a8"
             ],
             [
              0.3333333333333333,
              "#9c179e"
             ],
             [
              0.4444444444444444,
              "#bd3786"
             ],
             [
              0.5555555555555556,
              "#d8576b"
             ],
             [
              0.6666666666666666,
              "#ed7953"
             ],
             [
              0.7777777777777778,
              "#fb9f3a"
             ],
             [
              0.8888888888888888,
              "#fdca26"
             ],
             [
              1,
              "#f0f921"
             ]
            ],
            "type": "histogram2dcontour"
           }
          ],
          "mesh3d": [
           {
            "colorbar": {
             "outlinewidth": 0,
             "ticks": ""
            },
            "type": "mesh3d"
           }
          ],
          "parcoords": [
           {
            "line": {
             "colorbar": {
              "outlinewidth": 0,
              "ticks": ""
             }
            },
            "type": "parcoords"
           }
          ],
          "scatter": [
           {
            "marker": {
             "colorbar": {
              "outlinewidth": 0,
              "ticks": ""
             }
            },
            "type": "scatter"
           }
          ],
          "scatter3d": [
           {
            "line": {
             "colorbar": {
              "outlinewidth": 0,
              "ticks": ""
             }
            },
            "marker": {
             "colorbar": {
              "outlinewidth": 0,
              "ticks": ""
             }
            },
            "type": "scatter3d"
           }
          ],
          "scattercarpet": [
           {
            "marker": {
             "colorbar": {
              "outlinewidth": 0,
              "ticks": ""
             }
            },
            "type": "scattercarpet"
           }
          ],
          "scattergeo": [
           {
            "marker": {
             "colorbar": {
              "outlinewidth": 0,
              "ticks": ""
             }
            },
            "type": "scattergeo"
           }
          ],
          "scattergl": [
           {
            "marker": {
             "colorbar": {
              "outlinewidth": 0,
              "ticks": ""
             }
            },
            "type": "scattergl"
           }
          ],
          "scattermapbox": [
           {
            "marker": {
             "colorbar": {
              "outlinewidth": 0,
              "ticks": ""
             }
            },
            "type": "scattermapbox"
           }
          ],
          "scatterpolar": [
           {
            "marker": {
             "colorbar": {
              "outlinewidth": 0,
              "ticks": ""
             }
            },
            "type": "scatterpolar"
           }
          ],
          "scatterpolargl": [
           {
            "marker": {
             "colorbar": {
              "outlinewidth": 0,
              "ticks": ""
             }
            },
            "type": "scatterpolargl"
           }
          ],
          "scatterternary": [
           {
            "marker": {
             "colorbar": {
              "outlinewidth": 0,
              "ticks": ""
             }
            },
            "type": "scatterternary"
           }
          ],
          "surface": [
           {
            "colorbar": {
             "outlinewidth": 0,
             "ticks": ""
            },
            "colorscale": [
             [
              0,
              "#0d0887"
             ],
             [
              0.1111111111111111,
              "#46039f"
             ],
             [
              0.2222222222222222,
              "#7201a8"
             ],
             [
              0.3333333333333333,
              "#9c179e"
             ],
             [
              0.4444444444444444,
              "#bd3786"
             ],
             [
              0.5555555555555556,
              "#d8576b"
             ],
             [
              0.6666666666666666,
              "#ed7953"
             ],
             [
              0.7777777777777778,
              "#fb9f3a"
             ],
             [
              0.8888888888888888,
              "#fdca26"
             ],
             [
              1,
              "#f0f921"
             ]
            ],
            "type": "surface"
           }
          ],
          "table": [
           {
            "cells": {
             "fill": {
              "color": "#EBF0F8"
             },
             "line": {
              "color": "white"
             }
            },
            "header": {
             "fill": {
              "color": "#C8D4E3"
             },
             "line": {
              "color": "white"
             }
            },
            "type": "table"
           }
          ]
         },
         "layout": {
          "annotationdefaults": {
           "arrowcolor": "#2a3f5f",
           "arrowhead": 0,
           "arrowwidth": 1
          },
          "colorscale": {
           "diverging": [
            [
             0,
             "#8e0152"
            ],
            [
             0.1,
             "#c51b7d"
            ],
            [
             0.2,
             "#de77ae"
            ],
            [
             0.3,
             "#f1b6da"
            ],
            [
             0.4,
             "#fde0ef"
            ],
            [
             0.5,
             "#f7f7f7"
            ],
            [
             0.6,
             "#e6f5d0"
            ],
            [
             0.7,
             "#b8e186"
            ],
            [
             0.8,
             "#7fbc41"
            ],
            [
             0.9,
             "#4d9221"
            ],
            [
             1,
             "#276419"
            ]
           ],
           "sequential": [
            [
             0,
             "#0d0887"
            ],
            [
             0.1111111111111111,
             "#46039f"
            ],
            [
             0.2222222222222222,
             "#7201a8"
            ],
            [
             0.3333333333333333,
             "#9c179e"
            ],
            [
             0.4444444444444444,
             "#bd3786"
            ],
            [
             0.5555555555555556,
             "#d8576b"
            ],
            [
             0.6666666666666666,
             "#ed7953"
            ],
            [
             0.7777777777777778,
             "#fb9f3a"
            ],
            [
             0.8888888888888888,
             "#fdca26"
            ],
            [
             1,
             "#f0f921"
            ]
           ],
           "sequentialminus": [
            [
             0,
             "#0d0887"
            ],
            [
             0.1111111111111111,
             "#46039f"
            ],
            [
             0.2222222222222222,
             "#7201a8"
            ],
            [
             0.3333333333333333,
             "#9c179e"
            ],
            [
             0.4444444444444444,
             "#bd3786"
            ],
            [
             0.5555555555555556,
             "#d8576b"
            ],
            [
             0.6666666666666666,
             "#ed7953"
            ],
            [
             0.7777777777777778,
             "#fb9f3a"
            ],
            [
             0.8888888888888888,
             "#fdca26"
            ],
            [
             1,
             "#f0f921"
            ]
           ]
          },
          "colorway": [
           "#636efa",
           "#EF553B",
           "#00cc96",
           "#ab63fa",
           "#FFA15A",
           "#19d3f3",
           "#FF6692",
           "#B6E880",
           "#FF97FF",
           "#FECB52"
          ],
          "font": {
           "color": "#2a3f5f"
          },
          "geo": {
           "bgcolor": "white",
           "lakecolor": "white",
           "landcolor": "#E5ECF6",
           "showlakes": true,
           "showland": true,
           "subunitcolor": "white"
          },
          "hoverlabel": {
           "align": "left"
          },
          "hovermode": "closest",
          "mapbox": {
           "style": "light"
          },
          "paper_bgcolor": "white",
          "plot_bgcolor": "#E5ECF6",
          "polar": {
           "angularaxis": {
            "gridcolor": "white",
            "linecolor": "white",
            "ticks": ""
           },
           "bgcolor": "#E5ECF6",
           "radialaxis": {
            "gridcolor": "white",
            "linecolor": "white",
            "ticks": ""
           }
          },
          "scene": {
           "xaxis": {
            "backgroundcolor": "#E5ECF6",
            "gridcolor": "white",
            "gridwidth": 2,
            "linecolor": "white",
            "showbackground": true,
            "ticks": "",
            "zerolinecolor": "white"
           },
           "yaxis": {
            "backgroundcolor": "#E5ECF6",
            "gridcolor": "white",
            "gridwidth": 2,
            "linecolor": "white",
            "showbackground": true,
            "ticks": "",
            "zerolinecolor": "white"
           },
           "zaxis": {
            "backgroundcolor": "#E5ECF6",
            "gridcolor": "white",
            "gridwidth": 2,
            "linecolor": "white",
            "showbackground": true,
            "ticks": "",
            "zerolinecolor": "white"
           }
          },
          "shapedefaults": {
           "line": {
            "color": "#2a3f5f"
           }
          },
          "ternary": {
           "aaxis": {
            "gridcolor": "white",
            "linecolor": "white",
            "ticks": ""
           },
           "baxis": {
            "gridcolor": "white",
            "linecolor": "white",
            "ticks": ""
           },
           "bgcolor": "#E5ECF6",
           "caxis": {
            "gridcolor": "white",
            "linecolor": "white",
            "ticks": ""
           }
          },
          "title": {
           "x": 0.05
          },
          "xaxis": {
           "automargin": true,
           "gridcolor": "white",
           "linecolor": "white",
           "ticks": "",
           "zerolinecolor": "white",
           "zerolinewidth": 2
          },
          "yaxis": {
           "automargin": true,
           "gridcolor": "white",
           "linecolor": "white",
           "ticks": "",
           "zerolinecolor": "white",
           "zerolinewidth": 2
          }
         }
        },
        "title": {
         "text": "Smooth Random Variances (cm)"
        },
        "width": 700
       }
      },
      "text/html": [
       "<div>\n",
       "        \n",
       "        \n",
       "            <div id=\"4acc6de0-bfa8-48f4-bd1e-268eff42ec8b\" class=\"plotly-graph-div\" style=\"height:500px; width:700px;\"></div>\n",
       "            <script type=\"text/javascript\">\n",
       "                require([\"plotly\"], function(Plotly) {\n",
       "                    window.PLOTLYENV=window.PLOTLYENV || {};\n",
       "                    \n",
       "                if (document.getElementById(\"4acc6de0-bfa8-48f4-bd1e-268eff42ec8b\")) {\n",
       "                    Plotly.newPlot(\n",
       "                        '4acc6de0-bfa8-48f4-bd1e-268eff42ec8b',\n",
       "                        [{\"mode\": \"lines+markers\", \"name\": \"/tag_0\", \"opacity\": 0.7, \"type\": \"scatter\", \"x\": [\"x\", \"y\", \"z\"], \"y\": [1293.6668502679915, 618.0551857883538, 3.7520174471603838]}, {\"mode\": \"lines+markers\", \"name\": \"/camera_pose_frame\", \"opacity\": 0.7, \"type\": \"scatter\", \"x\": [\"x\", \"y\", \"z\"], \"y\": [1526.94351606863, 826.0579167889338, 0.2301359606134364]}],\n",
       "                        {\"font\": {\"family\": \"Courier New, monospace\", \"size\": 13}, \"height\": 500, \"template\": {\"data\": {\"bar\": [{\"error_x\": {\"color\": \"#2a3f5f\"}, \"error_y\": {\"color\": \"#2a3f5f\"}, \"marker\": {\"line\": {\"color\": \"#E5ECF6\", \"width\": 0.5}}, \"type\": \"bar\"}], \"barpolar\": [{\"marker\": {\"line\": {\"color\": \"#E5ECF6\", \"width\": 0.5}}, \"type\": \"barpolar\"}], \"carpet\": [{\"aaxis\": {\"endlinecolor\": \"#2a3f5f\", \"gridcolor\": \"white\", \"linecolor\": \"white\", \"minorgridcolor\": \"white\", \"startlinecolor\": \"#2a3f5f\"}, \"baxis\": {\"endlinecolor\": \"#2a3f5f\", \"gridcolor\": \"white\", \"linecolor\": \"white\", \"minorgridcolor\": \"white\", \"startlinecolor\": \"#2a3f5f\"}, \"type\": \"carpet\"}], \"choropleth\": [{\"colorbar\": {\"outlinewidth\": 0, \"ticks\": \"\"}, \"type\": \"choropleth\"}], \"contour\": [{\"colorbar\": {\"outlinewidth\": 0, \"ticks\": \"\"}, \"colorscale\": [[0.0, \"#0d0887\"], [0.1111111111111111, \"#46039f\"], [0.2222222222222222, \"#7201a8\"], [0.3333333333333333, \"#9c179e\"], [0.4444444444444444, \"#bd3786\"], [0.5555555555555556, \"#d8576b\"], [0.6666666666666666, \"#ed7953\"], [0.7777777777777778, \"#fb9f3a\"], [0.8888888888888888, \"#fdca26\"], [1.0, \"#f0f921\"]], \"type\": \"contour\"}], \"contourcarpet\": [{\"colorbar\": {\"outlinewidth\": 0, \"ticks\": \"\"}, \"type\": \"contourcarpet\"}], \"heatmap\": [{\"colorbar\": {\"outlinewidth\": 0, \"ticks\": \"\"}, \"colorscale\": [[0.0, \"#0d0887\"], [0.1111111111111111, \"#46039f\"], [0.2222222222222222, \"#7201a8\"], [0.3333333333333333, \"#9c179e\"], [0.4444444444444444, \"#bd3786\"], [0.5555555555555556, \"#d8576b\"], [0.6666666666666666, \"#ed7953\"], [0.7777777777777778, \"#fb9f3a\"], [0.8888888888888888, \"#fdca26\"], [1.0, \"#f0f921\"]], \"type\": \"heatmap\"}], \"heatmapgl\": [{\"colorbar\": {\"outlinewidth\": 0, \"ticks\": \"\"}, \"colorscale\": [[0.0, \"#0d0887\"], [0.1111111111111111, \"#46039f\"], [0.2222222222222222, \"#7201a8\"], [0.3333333333333333, \"#9c179e\"], [0.4444444444444444, \"#bd3786\"], [0.5555555555555556, \"#d8576b\"], [0.6666666666666666, \"#ed7953\"], [0.7777777777777778, \"#fb9f3a\"], [0.8888888888888888, \"#fdca26\"], [1.0, \"#f0f921\"]], \"type\": \"heatmapgl\"}], \"histogram\": [{\"marker\": {\"colorbar\": {\"outlinewidth\": 0, \"ticks\": \"\"}}, \"type\": \"histogram\"}], \"histogram2d\": [{\"colorbar\": {\"outlinewidth\": 0, \"ticks\": \"\"}, \"colorscale\": [[0.0, \"#0d0887\"], [0.1111111111111111, \"#46039f\"], [0.2222222222222222, \"#7201a8\"], [0.3333333333333333, \"#9c179e\"], [0.4444444444444444, \"#bd3786\"], [0.5555555555555556, \"#d8576b\"], [0.6666666666666666, \"#ed7953\"], [0.7777777777777778, \"#fb9f3a\"], [0.8888888888888888, \"#fdca26\"], [1.0, \"#f0f921\"]], \"type\": \"histogram2d\"}], \"histogram2dcontour\": [{\"colorbar\": {\"outlinewidth\": 0, \"ticks\": \"\"}, \"colorscale\": [[0.0, \"#0d0887\"], [0.1111111111111111, \"#46039f\"], [0.2222222222222222, \"#7201a8\"], [0.3333333333333333, \"#9c179e\"], [0.4444444444444444, \"#bd3786\"], [0.5555555555555556, \"#d8576b\"], [0.6666666666666666, \"#ed7953\"], [0.7777777777777778, \"#fb9f3a\"], [0.8888888888888888, \"#fdca26\"], [1.0, \"#f0f921\"]], \"type\": \"histogram2dcontour\"}], \"mesh3d\": [{\"colorbar\": {\"outlinewidth\": 0, \"ticks\": \"\"}, \"type\": \"mesh3d\"}], \"parcoords\": [{\"line\": {\"colorbar\": {\"outlinewidth\": 0, \"ticks\": \"\"}}, \"type\": \"parcoords\"}], \"scatter\": [{\"marker\": {\"colorbar\": {\"outlinewidth\": 0, \"ticks\": \"\"}}, \"type\": \"scatter\"}], \"scatter3d\": [{\"line\": {\"colorbar\": {\"outlinewidth\": 0, \"ticks\": \"\"}}, \"marker\": {\"colorbar\": {\"outlinewidth\": 0, \"ticks\": \"\"}}, \"type\": \"scatter3d\"}], \"scattercarpet\": [{\"marker\": {\"colorbar\": {\"outlinewidth\": 0, \"ticks\": \"\"}}, \"type\": \"scattercarpet\"}], \"scattergeo\": [{\"marker\": {\"colorbar\": {\"outlinewidth\": 0, \"ticks\": \"\"}}, \"type\": \"scattergeo\"}], \"scattergl\": [{\"marker\": {\"colorbar\": {\"outlinewidth\": 0, \"ticks\": \"\"}}, \"type\": \"scattergl\"}], \"scattermapbox\": [{\"marker\": {\"colorbar\": {\"outlinewidth\": 0, \"ticks\": \"\"}}, \"type\": \"scattermapbox\"}], \"scatterpolar\": [{\"marker\": {\"colorbar\": {\"outlinewidth\": 0, \"ticks\": \"\"}}, \"type\": \"scatterpolar\"}], \"scatterpolargl\": [{\"marker\": {\"colorbar\": {\"outlinewidth\": 0, \"ticks\": \"\"}}, \"type\": \"scatterpolargl\"}], \"scatterternary\": [{\"marker\": {\"colorbar\": {\"outlinewidth\": 0, \"ticks\": \"\"}}, \"type\": \"scatterternary\"}], \"surface\": [{\"colorbar\": {\"outlinewidth\": 0, \"ticks\": \"\"}, \"colorscale\": [[0.0, \"#0d0887\"], [0.1111111111111111, \"#46039f\"], [0.2222222222222222, \"#7201a8\"], [0.3333333333333333, \"#9c179e\"], [0.4444444444444444, \"#bd3786\"], [0.5555555555555556, \"#d8576b\"], [0.6666666666666666, \"#ed7953\"], [0.7777777777777778, \"#fb9f3a\"], [0.8888888888888888, \"#fdca26\"], [1.0, \"#f0f921\"]], \"type\": \"surface\"}], \"table\": [{\"cells\": {\"fill\": {\"color\": \"#EBF0F8\"}, \"line\": {\"color\": \"white\"}}, \"header\": {\"fill\": {\"color\": \"#C8D4E3\"}, \"line\": {\"color\": \"white\"}}, \"type\": \"table\"}]}, \"layout\": {\"annotationdefaults\": {\"arrowcolor\": \"#2a3f5f\", \"arrowhead\": 0, \"arrowwidth\": 1}, \"colorscale\": {\"diverging\": [[0, \"#8e0152\"], [0.1, \"#c51b7d\"], [0.2, \"#de77ae\"], [0.3, \"#f1b6da\"], [0.4, \"#fde0ef\"], [0.5, \"#f7f7f7\"], [0.6, \"#e6f5d0\"], [0.7, \"#b8e186\"], [0.8, \"#7fbc41\"], [0.9, \"#4d9221\"], [1, \"#276419\"]], \"sequential\": [[0.0, \"#0d0887\"], [0.1111111111111111, \"#46039f\"], [0.2222222222222222, \"#7201a8\"], [0.3333333333333333, \"#9c179e\"], [0.4444444444444444, \"#bd3786\"], [0.5555555555555556, \"#d8576b\"], [0.6666666666666666, \"#ed7953\"], [0.7777777777777778, \"#fb9f3a\"], [0.8888888888888888, \"#fdca26\"], [1.0, \"#f0f921\"]], \"sequentialminus\": [[0.0, \"#0d0887\"], [0.1111111111111111, \"#46039f\"], [0.2222222222222222, \"#7201a8\"], [0.3333333333333333, \"#9c179e\"], [0.4444444444444444, \"#bd3786\"], [0.5555555555555556, \"#d8576b\"], [0.6666666666666666, \"#ed7953\"], [0.7777777777777778, \"#fb9f3a\"], [0.8888888888888888, \"#fdca26\"], [1.0, \"#f0f921\"]]}, \"colorway\": [\"#636efa\", \"#EF553B\", \"#00cc96\", \"#ab63fa\", \"#FFA15A\", \"#19d3f3\", \"#FF6692\", \"#B6E880\", \"#FF97FF\", \"#FECB52\"], \"font\": {\"color\": \"#2a3f5f\"}, \"geo\": {\"bgcolor\": \"white\", \"lakecolor\": \"white\", \"landcolor\": \"#E5ECF6\", \"showlakes\": true, \"showland\": true, \"subunitcolor\": \"white\"}, \"hoverlabel\": {\"align\": \"left\"}, \"hovermode\": \"closest\", \"mapbox\": {\"style\": \"light\"}, \"paper_bgcolor\": \"white\", \"plot_bgcolor\": \"#E5ECF6\", \"polar\": {\"angularaxis\": {\"gridcolor\": \"white\", \"linecolor\": \"white\", \"ticks\": \"\"}, \"bgcolor\": \"#E5ECF6\", \"radialaxis\": {\"gridcolor\": \"white\", \"linecolor\": \"white\", \"ticks\": \"\"}}, \"scene\": {\"xaxis\": {\"backgroundcolor\": \"#E5ECF6\", \"gridcolor\": \"white\", \"gridwidth\": 2, \"linecolor\": \"white\", \"showbackground\": true, \"ticks\": \"\", \"zerolinecolor\": \"white\"}, \"yaxis\": {\"backgroundcolor\": \"#E5ECF6\", \"gridcolor\": \"white\", \"gridwidth\": 2, \"linecolor\": \"white\", \"showbackground\": true, \"ticks\": \"\", \"zerolinecolor\": \"white\"}, \"zaxis\": {\"backgroundcolor\": \"#E5ECF6\", \"gridcolor\": \"white\", \"gridwidth\": 2, \"linecolor\": \"white\", \"showbackground\": true, \"ticks\": \"\", \"zerolinecolor\": \"white\"}}, \"shapedefaults\": {\"line\": {\"color\": \"#2a3f5f\"}}, \"ternary\": {\"aaxis\": {\"gridcolor\": \"white\", \"linecolor\": \"white\", \"ticks\": \"\"}, \"baxis\": {\"gridcolor\": \"white\", \"linecolor\": \"white\", \"ticks\": \"\"}, \"bgcolor\": \"#E5ECF6\", \"caxis\": {\"gridcolor\": \"white\", \"linecolor\": \"white\", \"ticks\": \"\"}}, \"title\": {\"x\": 0.05}, \"xaxis\": {\"automargin\": true, \"gridcolor\": \"white\", \"linecolor\": \"white\", \"ticks\": \"\", \"zerolinecolor\": \"white\", \"zerolinewidth\": 2}, \"yaxis\": {\"automargin\": true, \"gridcolor\": \"white\", \"linecolor\": \"white\", \"ticks\": \"\", \"zerolinecolor\": \"white\", \"zerolinewidth\": 2}}}, \"title\": {\"text\": \"Smooth Random Variances (cm)\"}, \"width\": 700},\n",
       "                        {\"responsive\": true}\n",
       "                    ).then(function(){\n",
       "                            \n",
       "var gd = document.getElementById('4acc6de0-bfa8-48f4-bd1e-268eff42ec8b');\n",
       "var x = new MutationObserver(function (mutations, observer) {{\n",
       "        var display = window.getComputedStyle(gd).display;\n",
       "        if (!display || display === 'none') {{\n",
       "            console.log([gd, 'removed!']);\n",
       "            Plotly.purge(gd);\n",
       "            observer.disconnect();\n",
       "        }}\n",
       "}});\n",
       "\n",
       "// Listen for the removal of the full notebook cells\n",
       "var notebookContainer = gd.closest('#notebook-container');\n",
       "if (notebookContainer) {{\n",
       "    x.observe(notebookContainer, {childList: true});\n",
       "}}\n",
       "\n",
       "// Listen for the clearing of the current output cell\n",
       "var outputEl = gd.closest('.output');\n",
       "if (outputEl) {{\n",
       "    x.observe(outputEl, {childList: true});\n",
       "}}\n",
       "\n",
       "                        })\n",
       "                };\n",
       "                });\n",
       "            </script>\n",
       "        </div>"
      ]
     },
     "metadata": {},
     "output_type": "display_data"
    }
   ],
   "source": [
    "# 3. Smooth Random Dataset: Variances of TAG & Pose\n",
    "variance(\"smooth_random.csv\", \"Smooth Random Variances (cm)\")"
   ]
  },
  {
   "cell_type": "code",
   "execution_count": 141,
   "metadata": {},
   "outputs": [
    {
     "name": "stdout",
     "output_type": "stream",
     "text": [
      "tag_x    617.346446\n",
      "tag_y     63.960066\n",
      "tag_z     24.949426\n",
      "dtype: float64\n",
      "pose_x    796.700355\n",
      "pose_y    109.008194\n",
      "pose_z    126.009948\n",
      "dtype: float64\n"
     ]
    },
    {
     "data": {
      "application/vnd.plotly.v1+json": {
       "config": {
        "plotlyServerURL": "https://plot.ly"
       },
       "data": [
        {
         "mode": "lines+markers",
         "name": "/tag_0",
         "opacity": 0.7,
         "type": "scatter",
         "x": [
          "x",
          "y",
          "z"
         ],
         "y": [
          617.3464460023743,
          63.96006636867602,
          24.949425822352772
         ]
        },
        {
         "mode": "lines+markers",
         "name": "/camera_pose_frame",
         "opacity": 0.7,
         "type": "scatter",
         "x": [
          "x",
          "y",
          "z"
         ],
         "y": [
          796.7003545892433,
          109.0081943456928,
          126.00994827263989
         ]
        }
       ],
       "layout": {
        "font": {
         "family": "Courier New, monospace",
         "size": 13
        },
        "height": 500,
        "template": {
         "data": {
          "bar": [
           {
            "error_x": {
             "color": "#2a3f5f"
            },
            "error_y": {
             "color": "#2a3f5f"
            },
            "marker": {
             "line": {
              "color": "#E5ECF6",
              "width": 0.5
             }
            },
            "type": "bar"
           }
          ],
          "barpolar": [
           {
            "marker": {
             "line": {
              "color": "#E5ECF6",
              "width": 0.5
             }
            },
            "type": "barpolar"
           }
          ],
          "carpet": [
           {
            "aaxis": {
             "endlinecolor": "#2a3f5f",
             "gridcolor": "white",
             "linecolor": "white",
             "minorgridcolor": "white",
             "startlinecolor": "#2a3f5f"
            },
            "baxis": {
             "endlinecolor": "#2a3f5f",
             "gridcolor": "white",
             "linecolor": "white",
             "minorgridcolor": "white",
             "startlinecolor": "#2a3f5f"
            },
            "type": "carpet"
           }
          ],
          "choropleth": [
           {
            "colorbar": {
             "outlinewidth": 0,
             "ticks": ""
            },
            "type": "choropleth"
           }
          ],
          "contour": [
           {
            "colorbar": {
             "outlinewidth": 0,
             "ticks": ""
            },
            "colorscale": [
             [
              0,
              "#0d0887"
             ],
             [
              0.1111111111111111,
              "#46039f"
             ],
             [
              0.2222222222222222,
              "#7201a8"
             ],
             [
              0.3333333333333333,
              "#9c179e"
             ],
             [
              0.4444444444444444,
              "#bd3786"
             ],
             [
              0.5555555555555556,
              "#d8576b"
             ],
             [
              0.6666666666666666,
              "#ed7953"
             ],
             [
              0.7777777777777778,
              "#fb9f3a"
             ],
             [
              0.8888888888888888,
              "#fdca26"
             ],
             [
              1,
              "#f0f921"
             ]
            ],
            "type": "contour"
           }
          ],
          "contourcarpet": [
           {
            "colorbar": {
             "outlinewidth": 0,
             "ticks": ""
            },
            "type": "contourcarpet"
           }
          ],
          "heatmap": [
           {
            "colorbar": {
             "outlinewidth": 0,
             "ticks": ""
            },
            "colorscale": [
             [
              0,
              "#0d0887"
             ],
             [
              0.1111111111111111,
              "#46039f"
             ],
             [
              0.2222222222222222,
              "#7201a8"
             ],
             [
              0.3333333333333333,
              "#9c179e"
             ],
             [
              0.4444444444444444,
              "#bd3786"
             ],
             [
              0.5555555555555556,
              "#d8576b"
             ],
             [
              0.6666666666666666,
              "#ed7953"
             ],
             [
              0.7777777777777778,
              "#fb9f3a"
             ],
             [
              0.8888888888888888,
              "#fdca26"
             ],
             [
              1,
              "#f0f921"
             ]
            ],
            "type": "heatmap"
           }
          ],
          "heatmapgl": [
           {
            "colorbar": {
             "outlinewidth": 0,
             "ticks": ""
            },
            "colorscale": [
             [
              0,
              "#0d0887"
             ],
             [
              0.1111111111111111,
              "#46039f"
             ],
             [
              0.2222222222222222,
              "#7201a8"
             ],
             [
              0.3333333333333333,
              "#9c179e"
             ],
             [
              0.4444444444444444,
              "#bd3786"
             ],
             [
              0.5555555555555556,
              "#d8576b"
             ],
             [
              0.6666666666666666,
              "#ed7953"
             ],
             [
              0.7777777777777778,
              "#fb9f3a"
             ],
             [
              0.8888888888888888,
              "#fdca26"
             ],
             [
              1,
              "#f0f921"
             ]
            ],
            "type": "heatmapgl"
           }
          ],
          "histogram": [
           {
            "marker": {
             "colorbar": {
              "outlinewidth": 0,
              "ticks": ""
             }
            },
            "type": "histogram"
           }
          ],
          "histogram2d": [
           {
            "colorbar": {
             "outlinewidth": 0,
             "ticks": ""
            },
            "colorscale": [
             [
              0,
              "#0d0887"
             ],
             [
              0.1111111111111111,
              "#46039f"
             ],
             [
              0.2222222222222222,
              "#7201a8"
             ],
             [
              0.3333333333333333,
              "#9c179e"
             ],
             [
              0.4444444444444444,
              "#bd3786"
             ],
             [
              0.5555555555555556,
              "#d8576b"
             ],
             [
              0.6666666666666666,
              "#ed7953"
             ],
             [
              0.7777777777777778,
              "#fb9f3a"
             ],
             [
              0.8888888888888888,
              "#fdca26"
             ],
             [
              1,
              "#f0f921"
             ]
            ],
            "type": "histogram2d"
           }
          ],
          "histogram2dcontour": [
           {
            "colorbar": {
             "outlinewidth": 0,
             "ticks": ""
            },
            "colorscale": [
             [
              0,
              "#0d0887"
             ],
             [
              0.1111111111111111,
              "#46039f"
             ],
             [
              0.2222222222222222,
              "#7201a8"
             ],
             [
              0.3333333333333333,
              "#9c179e"
             ],
             [
              0.4444444444444444,
              "#bd3786"
             ],
             [
              0.5555555555555556,
              "#d8576b"
             ],
             [
              0.6666666666666666,
              "#ed7953"
             ],
             [
              0.7777777777777778,
              "#fb9f3a"
             ],
             [
              0.8888888888888888,
              "#fdca26"
             ],
             [
              1,
              "#f0f921"
             ]
            ],
            "type": "histogram2dcontour"
           }
          ],
          "mesh3d": [
           {
            "colorbar": {
             "outlinewidth": 0,
             "ticks": ""
            },
            "type": "mesh3d"
           }
          ],
          "parcoords": [
           {
            "line": {
             "colorbar": {
              "outlinewidth": 0,
              "ticks": ""
             }
            },
            "type": "parcoords"
           }
          ],
          "scatter": [
           {
            "marker": {
             "colorbar": {
              "outlinewidth": 0,
              "ticks": ""
             }
            },
            "type": "scatter"
           }
          ],
          "scatter3d": [
           {
            "line": {
             "colorbar": {
              "outlinewidth": 0,
              "ticks": ""
             }
            },
            "marker": {
             "colorbar": {
              "outlinewidth": 0,
              "ticks": ""
             }
            },
            "type": "scatter3d"
           }
          ],
          "scattercarpet": [
           {
            "marker": {
             "colorbar": {
              "outlinewidth": 0,
              "ticks": ""
             }
            },
            "type": "scattercarpet"
           }
          ],
          "scattergeo": [
           {
            "marker": {
             "colorbar": {
              "outlinewidth": 0,
              "ticks": ""
             }
            },
            "type": "scattergeo"
           }
          ],
          "scattergl": [
           {
            "marker": {
             "colorbar": {
              "outlinewidth": 0,
              "ticks": ""
             }
            },
            "type": "scattergl"
           }
          ],
          "scattermapbox": [
           {
            "marker": {
             "colorbar": {
              "outlinewidth": 0,
              "ticks": ""
             }
            },
            "type": "scattermapbox"
           }
          ],
          "scatterpolar": [
           {
            "marker": {
             "colorbar": {
              "outlinewidth": 0,
              "ticks": ""
             }
            },
            "type": "scatterpolar"
           }
          ],
          "scatterpolargl": [
           {
            "marker": {
             "colorbar": {
              "outlinewidth": 0,
              "ticks": ""
             }
            },
            "type": "scatterpolargl"
           }
          ],
          "scatterternary": [
           {
            "marker": {
             "colorbar": {
              "outlinewidth": 0,
              "ticks": ""
             }
            },
            "type": "scatterternary"
           }
          ],
          "surface": [
           {
            "colorbar": {
             "outlinewidth": 0,
             "ticks": ""
            },
            "colorscale": [
             [
              0,
              "#0d0887"
             ],
             [
              0.1111111111111111,
              "#46039f"
             ],
             [
              0.2222222222222222,
              "#7201a8"
             ],
             [
              0.3333333333333333,
              "#9c179e"
             ],
             [
              0.4444444444444444,
              "#bd3786"
             ],
             [
              0.5555555555555556,
              "#d8576b"
             ],
             [
              0.6666666666666666,
              "#ed7953"
             ],
             [
              0.7777777777777778,
              "#fb9f3a"
             ],
             [
              0.8888888888888888,
              "#fdca26"
             ],
             [
              1,
              "#f0f921"
             ]
            ],
            "type": "surface"
           }
          ],
          "table": [
           {
            "cells": {
             "fill": {
              "color": "#EBF0F8"
             },
             "line": {
              "color": "white"
             }
            },
            "header": {
             "fill": {
              "color": "#C8D4E3"
             },
             "line": {
              "color": "white"
             }
            },
            "type": "table"
           }
          ]
         },
         "layout": {
          "annotationdefaults": {
           "arrowcolor": "#2a3f5f",
           "arrowhead": 0,
           "arrowwidth": 1
          },
          "colorscale": {
           "diverging": [
            [
             0,
             "#8e0152"
            ],
            [
             0.1,
             "#c51b7d"
            ],
            [
             0.2,
             "#de77ae"
            ],
            [
             0.3,
             "#f1b6da"
            ],
            [
             0.4,
             "#fde0ef"
            ],
            [
             0.5,
             "#f7f7f7"
            ],
            [
             0.6,
             "#e6f5d0"
            ],
            [
             0.7,
             "#b8e186"
            ],
            [
             0.8,
             "#7fbc41"
            ],
            [
             0.9,
             "#4d9221"
            ],
            [
             1,
             "#276419"
            ]
           ],
           "sequential": [
            [
             0,
             "#0d0887"
            ],
            [
             0.1111111111111111,
             "#46039f"
            ],
            [
             0.2222222222222222,
             "#7201a8"
            ],
            [
             0.3333333333333333,
             "#9c179e"
            ],
            [
             0.4444444444444444,
             "#bd3786"
            ],
            [
             0.5555555555555556,
             "#d8576b"
            ],
            [
             0.6666666666666666,
             "#ed7953"
            ],
            [
             0.7777777777777778,
             "#fb9f3a"
            ],
            [
             0.8888888888888888,
             "#fdca26"
            ],
            [
             1,
             "#f0f921"
            ]
           ],
           "sequentialminus": [
            [
             0,
             "#0d0887"
            ],
            [
             0.1111111111111111,
             "#46039f"
            ],
            [
             0.2222222222222222,
             "#7201a8"
            ],
            [
             0.3333333333333333,
             "#9c179e"
            ],
            [
             0.4444444444444444,
             "#bd3786"
            ],
            [
             0.5555555555555556,
             "#d8576b"
            ],
            [
             0.6666666666666666,
             "#ed7953"
            ],
            [
             0.7777777777777778,
             "#fb9f3a"
            ],
            [
             0.8888888888888888,
             "#fdca26"
            ],
            [
             1,
             "#f0f921"
            ]
           ]
          },
          "colorway": [
           "#636efa",
           "#EF553B",
           "#00cc96",
           "#ab63fa",
           "#FFA15A",
           "#19d3f3",
           "#FF6692",
           "#B6E880",
           "#FF97FF",
           "#FECB52"
          ],
          "font": {
           "color": "#2a3f5f"
          },
          "geo": {
           "bgcolor": "white",
           "lakecolor": "white",
           "landcolor": "#E5ECF6",
           "showlakes": true,
           "showland": true,
           "subunitcolor": "white"
          },
          "hoverlabel": {
           "align": "left"
          },
          "hovermode": "closest",
          "mapbox": {
           "style": "light"
          },
          "paper_bgcolor": "white",
          "plot_bgcolor": "#E5ECF6",
          "polar": {
           "angularaxis": {
            "gridcolor": "white",
            "linecolor": "white",
            "ticks": ""
           },
           "bgcolor": "#E5ECF6",
           "radialaxis": {
            "gridcolor": "white",
            "linecolor": "white",
            "ticks": ""
           }
          },
          "scene": {
           "xaxis": {
            "backgroundcolor": "#E5ECF6",
            "gridcolor": "white",
            "gridwidth": 2,
            "linecolor": "white",
            "showbackground": true,
            "ticks": "",
            "zerolinecolor": "white"
           },
           "yaxis": {
            "backgroundcolor": "#E5ECF6",
            "gridcolor": "white",
            "gridwidth": 2,
            "linecolor": "white",
            "showbackground": true,
            "ticks": "",
            "zerolinecolor": "white"
           },
           "zaxis": {
            "backgroundcolor": "#E5ECF6",
            "gridcolor": "white",
            "gridwidth": 2,
            "linecolor": "white",
            "showbackground": true,
            "ticks": "",
            "zerolinecolor": "white"
           }
          },
          "shapedefaults": {
           "line": {
            "color": "#2a3f5f"
           }
          },
          "ternary": {
           "aaxis": {
            "gridcolor": "white",
            "linecolor": "white",
            "ticks": ""
           },
           "baxis": {
            "gridcolor": "white",
            "linecolor": "white",
            "ticks": ""
           },
           "bgcolor": "#E5ECF6",
           "caxis": {
            "gridcolor": "white",
            "linecolor": "white",
            "ticks": ""
           }
          },
          "title": {
           "x": 0.05
          },
          "xaxis": {
           "automargin": true,
           "gridcolor": "white",
           "linecolor": "white",
           "ticks": "",
           "zerolinecolor": "white",
           "zerolinewidth": 2
          },
          "yaxis": {
           "automargin": true,
           "gridcolor": "white",
           "linecolor": "white",
           "ticks": "",
           "zerolinecolor": "white",
           "zerolinewidth": 2
          }
         }
        },
        "title": {
         "text": "Rugged Random Variances (cm)"
        },
        "width": 700
       }
      },
      "text/html": [
       "<div>\n",
       "        \n",
       "        \n",
       "            <div id=\"ee927028-8668-437f-9c2a-305f0c2f7575\" class=\"plotly-graph-div\" style=\"height:500px; width:700px;\"></div>\n",
       "            <script type=\"text/javascript\">\n",
       "                require([\"plotly\"], function(Plotly) {\n",
       "                    window.PLOTLYENV=window.PLOTLYENV || {};\n",
       "                    \n",
       "                if (document.getElementById(\"ee927028-8668-437f-9c2a-305f0c2f7575\")) {\n",
       "                    Plotly.newPlot(\n",
       "                        'ee927028-8668-437f-9c2a-305f0c2f7575',\n",
       "                        [{\"mode\": \"lines+markers\", \"name\": \"/tag_0\", \"opacity\": 0.7, \"type\": \"scatter\", \"x\": [\"x\", \"y\", \"z\"], \"y\": [617.3464460023743, 63.96006636867602, 24.949425822352772]}, {\"mode\": \"lines+markers\", \"name\": \"/camera_pose_frame\", \"opacity\": 0.7, \"type\": \"scatter\", \"x\": [\"x\", \"y\", \"z\"], \"y\": [796.7003545892433, 109.0081943456928, 126.00994827263989]}],\n",
       "                        {\"font\": {\"family\": \"Courier New, monospace\", \"size\": 13}, \"height\": 500, \"template\": {\"data\": {\"bar\": [{\"error_x\": {\"color\": \"#2a3f5f\"}, \"error_y\": {\"color\": \"#2a3f5f\"}, \"marker\": {\"line\": {\"color\": \"#E5ECF6\", \"width\": 0.5}}, \"type\": \"bar\"}], \"barpolar\": [{\"marker\": {\"line\": {\"color\": \"#E5ECF6\", \"width\": 0.5}}, \"type\": \"barpolar\"}], \"carpet\": [{\"aaxis\": {\"endlinecolor\": \"#2a3f5f\", \"gridcolor\": \"white\", \"linecolor\": \"white\", \"minorgridcolor\": \"white\", \"startlinecolor\": \"#2a3f5f\"}, \"baxis\": {\"endlinecolor\": \"#2a3f5f\", \"gridcolor\": \"white\", \"linecolor\": \"white\", \"minorgridcolor\": \"white\", \"startlinecolor\": \"#2a3f5f\"}, \"type\": \"carpet\"}], \"choropleth\": [{\"colorbar\": {\"outlinewidth\": 0, \"ticks\": \"\"}, \"type\": \"choropleth\"}], \"contour\": [{\"colorbar\": {\"outlinewidth\": 0, \"ticks\": \"\"}, \"colorscale\": [[0.0, \"#0d0887\"], [0.1111111111111111, \"#46039f\"], [0.2222222222222222, \"#7201a8\"], [0.3333333333333333, \"#9c179e\"], [0.4444444444444444, \"#bd3786\"], [0.5555555555555556, \"#d8576b\"], [0.6666666666666666, \"#ed7953\"], [0.7777777777777778, \"#fb9f3a\"], [0.8888888888888888, \"#fdca26\"], [1.0, \"#f0f921\"]], \"type\": \"contour\"}], \"contourcarpet\": [{\"colorbar\": {\"outlinewidth\": 0, \"ticks\": \"\"}, \"type\": \"contourcarpet\"}], \"heatmap\": [{\"colorbar\": {\"outlinewidth\": 0, \"ticks\": \"\"}, \"colorscale\": [[0.0, \"#0d0887\"], [0.1111111111111111, \"#46039f\"], [0.2222222222222222, \"#7201a8\"], [0.3333333333333333, \"#9c179e\"], [0.4444444444444444, \"#bd3786\"], [0.5555555555555556, \"#d8576b\"], [0.6666666666666666, \"#ed7953\"], [0.7777777777777778, \"#fb9f3a\"], [0.8888888888888888, \"#fdca26\"], [1.0, \"#f0f921\"]], \"type\": \"heatmap\"}], \"heatmapgl\": [{\"colorbar\": {\"outlinewidth\": 0, \"ticks\": \"\"}, \"colorscale\": [[0.0, \"#0d0887\"], [0.1111111111111111, \"#46039f\"], [0.2222222222222222, \"#7201a8\"], [0.3333333333333333, \"#9c179e\"], [0.4444444444444444, \"#bd3786\"], [0.5555555555555556, \"#d8576b\"], [0.6666666666666666, \"#ed7953\"], [0.7777777777777778, \"#fb9f3a\"], [0.8888888888888888, \"#fdca26\"], [1.0, \"#f0f921\"]], \"type\": \"heatmapgl\"}], \"histogram\": [{\"marker\": {\"colorbar\": {\"outlinewidth\": 0, \"ticks\": \"\"}}, \"type\": \"histogram\"}], \"histogram2d\": [{\"colorbar\": {\"outlinewidth\": 0, \"ticks\": \"\"}, \"colorscale\": [[0.0, \"#0d0887\"], [0.1111111111111111, \"#46039f\"], [0.2222222222222222, \"#7201a8\"], [0.3333333333333333, \"#9c179e\"], [0.4444444444444444, \"#bd3786\"], [0.5555555555555556, \"#d8576b\"], [0.6666666666666666, \"#ed7953\"], [0.7777777777777778, \"#fb9f3a\"], [0.8888888888888888, \"#fdca26\"], [1.0, \"#f0f921\"]], \"type\": \"histogram2d\"}], \"histogram2dcontour\": [{\"colorbar\": {\"outlinewidth\": 0, \"ticks\": \"\"}, \"colorscale\": [[0.0, \"#0d0887\"], [0.1111111111111111, \"#46039f\"], [0.2222222222222222, \"#7201a8\"], [0.3333333333333333, \"#9c179e\"], [0.4444444444444444, \"#bd3786\"], [0.5555555555555556, \"#d8576b\"], [0.6666666666666666, \"#ed7953\"], [0.7777777777777778, \"#fb9f3a\"], [0.8888888888888888, \"#fdca26\"], [1.0, \"#f0f921\"]], \"type\": \"histogram2dcontour\"}], \"mesh3d\": [{\"colorbar\": {\"outlinewidth\": 0, \"ticks\": \"\"}, \"type\": \"mesh3d\"}], \"parcoords\": [{\"line\": {\"colorbar\": {\"outlinewidth\": 0, \"ticks\": \"\"}}, \"type\": \"parcoords\"}], \"scatter\": [{\"marker\": {\"colorbar\": {\"outlinewidth\": 0, \"ticks\": \"\"}}, \"type\": \"scatter\"}], \"scatter3d\": [{\"line\": {\"colorbar\": {\"outlinewidth\": 0, \"ticks\": \"\"}}, \"marker\": {\"colorbar\": {\"outlinewidth\": 0, \"ticks\": \"\"}}, \"type\": \"scatter3d\"}], \"scattercarpet\": [{\"marker\": {\"colorbar\": {\"outlinewidth\": 0, \"ticks\": \"\"}}, \"type\": \"scattercarpet\"}], \"scattergeo\": [{\"marker\": {\"colorbar\": {\"outlinewidth\": 0, \"ticks\": \"\"}}, \"type\": \"scattergeo\"}], \"scattergl\": [{\"marker\": {\"colorbar\": {\"outlinewidth\": 0, \"ticks\": \"\"}}, \"type\": \"scattergl\"}], \"scattermapbox\": [{\"marker\": {\"colorbar\": {\"outlinewidth\": 0, \"ticks\": \"\"}}, \"type\": \"scattermapbox\"}], \"scatterpolar\": [{\"marker\": {\"colorbar\": {\"outlinewidth\": 0, \"ticks\": \"\"}}, \"type\": \"scatterpolar\"}], \"scatterpolargl\": [{\"marker\": {\"colorbar\": {\"outlinewidth\": 0, \"ticks\": \"\"}}, \"type\": \"scatterpolargl\"}], \"scatterternary\": [{\"marker\": {\"colorbar\": {\"outlinewidth\": 0, \"ticks\": \"\"}}, \"type\": \"scatterternary\"}], \"surface\": [{\"colorbar\": {\"outlinewidth\": 0, \"ticks\": \"\"}, \"colorscale\": [[0.0, \"#0d0887\"], [0.1111111111111111, \"#46039f\"], [0.2222222222222222, \"#7201a8\"], [0.3333333333333333, \"#9c179e\"], [0.4444444444444444, \"#bd3786\"], [0.5555555555555556, \"#d8576b\"], [0.6666666666666666, \"#ed7953\"], [0.7777777777777778, \"#fb9f3a\"], [0.8888888888888888, \"#fdca26\"], [1.0, \"#f0f921\"]], \"type\": \"surface\"}], \"table\": [{\"cells\": {\"fill\": {\"color\": \"#EBF0F8\"}, \"line\": {\"color\": \"white\"}}, \"header\": {\"fill\": {\"color\": \"#C8D4E3\"}, \"line\": {\"color\": \"white\"}}, \"type\": \"table\"}]}, \"layout\": {\"annotationdefaults\": {\"arrowcolor\": \"#2a3f5f\", \"arrowhead\": 0, \"arrowwidth\": 1}, \"colorscale\": {\"diverging\": [[0, \"#8e0152\"], [0.1, \"#c51b7d\"], [0.2, \"#de77ae\"], [0.3, \"#f1b6da\"], [0.4, \"#fde0ef\"], [0.5, \"#f7f7f7\"], [0.6, \"#e6f5d0\"], [0.7, \"#b8e186\"], [0.8, \"#7fbc41\"], [0.9, \"#4d9221\"], [1, \"#276419\"]], \"sequential\": [[0.0, \"#0d0887\"], [0.1111111111111111, \"#46039f\"], [0.2222222222222222, \"#7201a8\"], [0.3333333333333333, \"#9c179e\"], [0.4444444444444444, \"#bd3786\"], [0.5555555555555556, \"#d8576b\"], [0.6666666666666666, \"#ed7953\"], [0.7777777777777778, \"#fb9f3a\"], [0.8888888888888888, \"#fdca26\"], [1.0, \"#f0f921\"]], \"sequentialminus\": [[0.0, \"#0d0887\"], [0.1111111111111111, \"#46039f\"], [0.2222222222222222, \"#7201a8\"], [0.3333333333333333, \"#9c179e\"], [0.4444444444444444, \"#bd3786\"], [0.5555555555555556, \"#d8576b\"], [0.6666666666666666, \"#ed7953\"], [0.7777777777777778, \"#fb9f3a\"], [0.8888888888888888, \"#fdca26\"], [1.0, \"#f0f921\"]]}, \"colorway\": [\"#636efa\", \"#EF553B\", \"#00cc96\", \"#ab63fa\", \"#FFA15A\", \"#19d3f3\", \"#FF6692\", \"#B6E880\", \"#FF97FF\", \"#FECB52\"], \"font\": {\"color\": \"#2a3f5f\"}, \"geo\": {\"bgcolor\": \"white\", \"lakecolor\": \"white\", \"landcolor\": \"#E5ECF6\", \"showlakes\": true, \"showland\": true, \"subunitcolor\": \"white\"}, \"hoverlabel\": {\"align\": \"left\"}, \"hovermode\": \"closest\", \"mapbox\": {\"style\": \"light\"}, \"paper_bgcolor\": \"white\", \"plot_bgcolor\": \"#E5ECF6\", \"polar\": {\"angularaxis\": {\"gridcolor\": \"white\", \"linecolor\": \"white\", \"ticks\": \"\"}, \"bgcolor\": \"#E5ECF6\", \"radialaxis\": {\"gridcolor\": \"white\", \"linecolor\": \"white\", \"ticks\": \"\"}}, \"scene\": {\"xaxis\": {\"backgroundcolor\": \"#E5ECF6\", \"gridcolor\": \"white\", \"gridwidth\": 2, \"linecolor\": \"white\", \"showbackground\": true, \"ticks\": \"\", \"zerolinecolor\": \"white\"}, \"yaxis\": {\"backgroundcolor\": \"#E5ECF6\", \"gridcolor\": \"white\", \"gridwidth\": 2, \"linecolor\": \"white\", \"showbackground\": true, \"ticks\": \"\", \"zerolinecolor\": \"white\"}, \"zaxis\": {\"backgroundcolor\": \"#E5ECF6\", \"gridcolor\": \"white\", \"gridwidth\": 2, \"linecolor\": \"white\", \"showbackground\": true, \"ticks\": \"\", \"zerolinecolor\": \"white\"}}, \"shapedefaults\": {\"line\": {\"color\": \"#2a3f5f\"}}, \"ternary\": {\"aaxis\": {\"gridcolor\": \"white\", \"linecolor\": \"white\", \"ticks\": \"\"}, \"baxis\": {\"gridcolor\": \"white\", \"linecolor\": \"white\", \"ticks\": \"\"}, \"bgcolor\": \"#E5ECF6\", \"caxis\": {\"gridcolor\": \"white\", \"linecolor\": \"white\", \"ticks\": \"\"}}, \"title\": {\"x\": 0.05}, \"xaxis\": {\"automargin\": true, \"gridcolor\": \"white\", \"linecolor\": \"white\", \"ticks\": \"\", \"zerolinecolor\": \"white\", \"zerolinewidth\": 2}, \"yaxis\": {\"automargin\": true, \"gridcolor\": \"white\", \"linecolor\": \"white\", \"ticks\": \"\", \"zerolinecolor\": \"white\", \"zerolinewidth\": 2}}}, \"title\": {\"text\": \"Rugged Random Variances (cm)\"}, \"width\": 700},\n",
       "                        {\"responsive\": true}\n",
       "                    ).then(function(){\n",
       "                            \n",
       "var gd = document.getElementById('ee927028-8668-437f-9c2a-305f0c2f7575');\n",
       "var x = new MutationObserver(function (mutations, observer) {{\n",
       "        var display = window.getComputedStyle(gd).display;\n",
       "        if (!display || display === 'none') {{\n",
       "            console.log([gd, 'removed!']);\n",
       "            Plotly.purge(gd);\n",
       "            observer.disconnect();\n",
       "        }}\n",
       "}});\n",
       "\n",
       "// Listen for the removal of the full notebook cells\n",
       "var notebookContainer = gd.closest('#notebook-container');\n",
       "if (notebookContainer) {{\n",
       "    x.observe(notebookContainer, {childList: true});\n",
       "}}\n",
       "\n",
       "// Listen for the clearing of the current output cell\n",
       "var outputEl = gd.closest('.output');\n",
       "if (outputEl) {{\n",
       "    x.observe(outputEl, {childList: true});\n",
       "}}\n",
       "\n",
       "                        })\n",
       "                };\n",
       "                });\n",
       "            </script>\n",
       "        </div>"
      ]
     },
     "metadata": {},
     "output_type": "display_data"
    }
   ],
   "source": [
    "# 4. Rugged Random Dataset: Variances of TAG & Pose\n",
    "variance(\"rugged_random.csv\", \"Rugged Random Variances (cm)\")"
   ]
  },
  {
   "cell_type": "markdown",
   "metadata": {},
   "source": [
    "# Compare the euclidean distance with the threshold value\n",
    "### If the euclidean distance is around 12 cm, means that the data that we get from Intel Realsense Tracking Camera T265 is reliable."
   ]
  },
  {
   "cell_type": "code",
   "execution_count": 128,
   "metadata": {},
   "outputs": [],
   "source": [
    "def num_out_of_boundary_percent(file):\n",
    "    csv_header = [\"time\", \"tag_x\", \"tag_y\", \"tag_z\", \"pose_x\", \"pose_y\", \"pose_z\"]\n",
    "    df = pd.read_csv(file, header= None)\n",
    "    df.columns = csv_header\n",
    "\n",
    "    TAG = df[[\"tag_x\",\"tag_y\",\"tag_z\"]]*100\n",
    "    Pose = df[[\"pose_x\",\"pose_y\",\"pose_z\"]]*100\n",
    "    TAG.tag_x -= (0.125674 * 100)\n",
    "\n",
    "    diff_x =  abs(TAG[\"tag_x\"] - Pose[\"pose_x\"])\n",
    "    diff_y =  abs(TAG[\"tag_y\"] - Pose[\"pose_y\"])\n",
    "    diff_z =  abs(TAG[\"tag_z\"] - Pose[\"pose_z\"])\n",
    "\n",
    "    sq_sum = (diff_x) ** 2 + (diff_y) ** 2 + (diff_z) ** 2\n",
    "    distance = np.sqrt(sq_sum)\n",
    "\n",
    "    threshold = 12.5674\n",
    "    error = 0.5\n",
    "    outbound = ((distance > threshold + error).sum()) + ((distance < threshold - error).sum())\n",
    "    rows = df.shape[0]\n",
    "    return ((rows - outbound) / rows) *100"
   ]
  },
  {
   "cell_type": "code",
   "execution_count": 146,
   "metadata": {},
   "outputs": [
    {
     "data": {
      "application/vnd.plotly.v1+json": {
       "config": {
        "plotlyServerURL": "https://plot.ly"
       },
       "data": [
        {
         "type": "bar",
         "x": [
          "Smooth Straight",
          "Rugged Straight",
          "Smooth Random",
          "Rugged Random"
         ],
         "y": [
          5,
          18.75,
          29.32330827067669,
          13.414634146341465
         ]
        }
       ],
       "layout": {
        "font": {
         "family": "Courier New, monospace",
         "size": 13
        },
        "height": 500,
        "template": {
         "data": {
          "bar": [
           {
            "error_x": {
             "color": "#2a3f5f"
            },
            "error_y": {
             "color": "#2a3f5f"
            },
            "marker": {
             "line": {
              "color": "#E5ECF6",
              "width": 0.5
             }
            },
            "type": "bar"
           }
          ],
          "barpolar": [
           {
            "marker": {
             "line": {
              "color": "#E5ECF6",
              "width": 0.5
             }
            },
            "type": "barpolar"
           }
          ],
          "carpet": [
           {
            "aaxis": {
             "endlinecolor": "#2a3f5f",
             "gridcolor": "white",
             "linecolor": "white",
             "minorgridcolor": "white",
             "startlinecolor": "#2a3f5f"
            },
            "baxis": {
             "endlinecolor": "#2a3f5f",
             "gridcolor": "white",
             "linecolor": "white",
             "minorgridcolor": "white",
             "startlinecolor": "#2a3f5f"
            },
            "type": "carpet"
           }
          ],
          "choropleth": [
           {
            "colorbar": {
             "outlinewidth": 0,
             "ticks": ""
            },
            "type": "choropleth"
           }
          ],
          "contour": [
           {
            "colorbar": {
             "outlinewidth": 0,
             "ticks": ""
            },
            "colorscale": [
             [
              0,
              "#0d0887"
             ],
             [
              0.1111111111111111,
              "#46039f"
             ],
             [
              0.2222222222222222,
              "#7201a8"
             ],
             [
              0.3333333333333333,
              "#9c179e"
             ],
             [
              0.4444444444444444,
              "#bd3786"
             ],
             [
              0.5555555555555556,
              "#d8576b"
             ],
             [
              0.6666666666666666,
              "#ed7953"
             ],
             [
              0.7777777777777778,
              "#fb9f3a"
             ],
             [
              0.8888888888888888,
              "#fdca26"
             ],
             [
              1,
              "#f0f921"
             ]
            ],
            "type": "contour"
           }
          ],
          "contourcarpet": [
           {
            "colorbar": {
             "outlinewidth": 0,
             "ticks": ""
            },
            "type": "contourcarpet"
           }
          ],
          "heatmap": [
           {
            "colorbar": {
             "outlinewidth": 0,
             "ticks": ""
            },
            "colorscale": [
             [
              0,
              "#0d0887"
             ],
             [
              0.1111111111111111,
              "#46039f"
             ],
             [
              0.2222222222222222,
              "#7201a8"
             ],
             [
              0.3333333333333333,
              "#9c179e"
             ],
             [
              0.4444444444444444,
              "#bd3786"
             ],
             [
              0.5555555555555556,
              "#d8576b"
             ],
             [
              0.6666666666666666,
              "#ed7953"
             ],
             [
              0.7777777777777778,
              "#fb9f3a"
             ],
             [
              0.8888888888888888,
              "#fdca26"
             ],
             [
              1,
              "#f0f921"
             ]
            ],
            "type": "heatmap"
           }
          ],
          "heatmapgl": [
           {
            "colorbar": {
             "outlinewidth": 0,
             "ticks": ""
            },
            "colorscale": [
             [
              0,
              "#0d0887"
             ],
             [
              0.1111111111111111,
              "#46039f"
             ],
             [
              0.2222222222222222,
              "#7201a8"
             ],
             [
              0.3333333333333333,
              "#9c179e"
             ],
             [
              0.4444444444444444,
              "#bd3786"
             ],
             [
              0.5555555555555556,
              "#d8576b"
             ],
             [
              0.6666666666666666,
              "#ed7953"
             ],
             [
              0.7777777777777778,
              "#fb9f3a"
             ],
             [
              0.8888888888888888,
              "#fdca26"
             ],
             [
              1,
              "#f0f921"
             ]
            ],
            "type": "heatmapgl"
           }
          ],
          "histogram": [
           {
            "marker": {
             "colorbar": {
              "outlinewidth": 0,
              "ticks": ""
             }
            },
            "type": "histogram"
           }
          ],
          "histogram2d": [
           {
            "colorbar": {
             "outlinewidth": 0,
             "ticks": ""
            },
            "colorscale": [
             [
              0,
              "#0d0887"
             ],
             [
              0.1111111111111111,
              "#46039f"
             ],
             [
              0.2222222222222222,
              "#7201a8"
             ],
             [
              0.3333333333333333,
              "#9c179e"
             ],
             [
              0.4444444444444444,
              "#bd3786"
             ],
             [
              0.5555555555555556,
              "#d8576b"
             ],
             [
              0.6666666666666666,
              "#ed7953"
             ],
             [
              0.7777777777777778,
              "#fb9f3a"
             ],
             [
              0.8888888888888888,
              "#fdca26"
             ],
             [
              1,
              "#f0f921"
             ]
            ],
            "type": "histogram2d"
           }
          ],
          "histogram2dcontour": [
           {
            "colorbar": {
             "outlinewidth": 0,
             "ticks": ""
            },
            "colorscale": [
             [
              0,
              "#0d0887"
             ],
             [
              0.1111111111111111,
              "#46039f"
             ],
             [
              0.2222222222222222,
              "#7201a8"
             ],
             [
              0.3333333333333333,
              "#9c179e"
             ],
             [
              0.4444444444444444,
              "#bd3786"
             ],
             [
              0.5555555555555556,
              "#d8576b"
             ],
             [
              0.6666666666666666,
              "#ed7953"
             ],
             [
              0.7777777777777778,
              "#fb9f3a"
             ],
             [
              0.8888888888888888,
              "#fdca26"
             ],
             [
              1,
              "#f0f921"
             ]
            ],
            "type": "histogram2dcontour"
           }
          ],
          "mesh3d": [
           {
            "colorbar": {
             "outlinewidth": 0,
             "ticks": ""
            },
            "type": "mesh3d"
           }
          ],
          "parcoords": [
           {
            "line": {
             "colorbar": {
              "outlinewidth": 0,
              "ticks": ""
             }
            },
            "type": "parcoords"
           }
          ],
          "scatter": [
           {
            "marker": {
             "colorbar": {
              "outlinewidth": 0,
              "ticks": ""
             }
            },
            "type": "scatter"
           }
          ],
          "scatter3d": [
           {
            "line": {
             "colorbar": {
              "outlinewidth": 0,
              "ticks": ""
             }
            },
            "marker": {
             "colorbar": {
              "outlinewidth": 0,
              "ticks": ""
             }
            },
            "type": "scatter3d"
           }
          ],
          "scattercarpet": [
           {
            "marker": {
             "colorbar": {
              "outlinewidth": 0,
              "ticks": ""
             }
            },
            "type": "scattercarpet"
           }
          ],
          "scattergeo": [
           {
            "marker": {
             "colorbar": {
              "outlinewidth": 0,
              "ticks": ""
             }
            },
            "type": "scattergeo"
           }
          ],
          "scattergl": [
           {
            "marker": {
             "colorbar": {
              "outlinewidth": 0,
              "ticks": ""
             }
            },
            "type": "scattergl"
           }
          ],
          "scattermapbox": [
           {
            "marker": {
             "colorbar": {
              "outlinewidth": 0,
              "ticks": ""
             }
            },
            "type": "scattermapbox"
           }
          ],
          "scatterpolar": [
           {
            "marker": {
             "colorbar": {
              "outlinewidth": 0,
              "ticks": ""
             }
            },
            "type": "scatterpolar"
           }
          ],
          "scatterpolargl": [
           {
            "marker": {
             "colorbar": {
              "outlinewidth": 0,
              "ticks": ""
             }
            },
            "type": "scatterpolargl"
           }
          ],
          "scatterternary": [
           {
            "marker": {
             "colorbar": {
              "outlinewidth": 0,
              "ticks": ""
             }
            },
            "type": "scatterternary"
           }
          ],
          "surface": [
           {
            "colorbar": {
             "outlinewidth": 0,
             "ticks": ""
            },
            "colorscale": [
             [
              0,
              "#0d0887"
             ],
             [
              0.1111111111111111,
              "#46039f"
             ],
             [
              0.2222222222222222,
              "#7201a8"
             ],
             [
              0.3333333333333333,
              "#9c179e"
             ],
             [
              0.4444444444444444,
              "#bd3786"
             ],
             [
              0.5555555555555556,
              "#d8576b"
             ],
             [
              0.6666666666666666,
              "#ed7953"
             ],
             [
              0.7777777777777778,
              "#fb9f3a"
             ],
             [
              0.8888888888888888,
              "#fdca26"
             ],
             [
              1,
              "#f0f921"
             ]
            ],
            "type": "surface"
           }
          ],
          "table": [
           {
            "cells": {
             "fill": {
              "color": "#EBF0F8"
             },
             "line": {
              "color": "white"
             }
            },
            "header": {
             "fill": {
              "color": "#C8D4E3"
             },
             "line": {
              "color": "white"
             }
            },
            "type": "table"
           }
          ]
         },
         "layout": {
          "annotationdefaults": {
           "arrowcolor": "#2a3f5f",
           "arrowhead": 0,
           "arrowwidth": 1
          },
          "colorscale": {
           "diverging": [
            [
             0,
             "#8e0152"
            ],
            [
             0.1,
             "#c51b7d"
            ],
            [
             0.2,
             "#de77ae"
            ],
            [
             0.3,
             "#f1b6da"
            ],
            [
             0.4,
             "#fde0ef"
            ],
            [
             0.5,
             "#f7f7f7"
            ],
            [
             0.6,
             "#e6f5d0"
            ],
            [
             0.7,
             "#b8e186"
            ],
            [
             0.8,
             "#7fbc41"
            ],
            [
             0.9,
             "#4d9221"
            ],
            [
             1,
             "#276419"
            ]
           ],
           "sequential": [
            [
             0,
             "#0d0887"
            ],
            [
             0.1111111111111111,
             "#46039f"
            ],
            [
             0.2222222222222222,
             "#7201a8"
            ],
            [
             0.3333333333333333,
             "#9c179e"
            ],
            [
             0.4444444444444444,
             "#bd3786"
            ],
            [
             0.5555555555555556,
             "#d8576b"
            ],
            [
             0.6666666666666666,
             "#ed7953"
            ],
            [
             0.7777777777777778,
             "#fb9f3a"
            ],
            [
             0.8888888888888888,
             "#fdca26"
            ],
            [
             1,
             "#f0f921"
            ]
           ],
           "sequentialminus": [
            [
             0,
             "#0d0887"
            ],
            [
             0.1111111111111111,
             "#46039f"
            ],
            [
             0.2222222222222222,
             "#7201a8"
            ],
            [
             0.3333333333333333,
             "#9c179e"
            ],
            [
             0.4444444444444444,
             "#bd3786"
            ],
            [
             0.5555555555555556,
             "#d8576b"
            ],
            [
             0.6666666666666666,
             "#ed7953"
            ],
            [
             0.7777777777777778,
             "#fb9f3a"
            ],
            [
             0.8888888888888888,
             "#fdca26"
            ],
            [
             1,
             "#f0f921"
            ]
           ]
          },
          "colorway": [
           "#636efa",
           "#EF553B",
           "#00cc96",
           "#ab63fa",
           "#FFA15A",
           "#19d3f3",
           "#FF6692",
           "#B6E880",
           "#FF97FF",
           "#FECB52"
          ],
          "font": {
           "color": "#2a3f5f"
          },
          "geo": {
           "bgcolor": "white",
           "lakecolor": "white",
           "landcolor": "#E5ECF6",
           "showlakes": true,
           "showland": true,
           "subunitcolor": "white"
          },
          "hoverlabel": {
           "align": "left"
          },
          "hovermode": "closest",
          "mapbox": {
           "style": "light"
          },
          "paper_bgcolor": "white",
          "plot_bgcolor": "#E5ECF6",
          "polar": {
           "angularaxis": {
            "gridcolor": "white",
            "linecolor": "white",
            "ticks": ""
           },
           "bgcolor": "#E5ECF6",
           "radialaxis": {
            "gridcolor": "white",
            "linecolor": "white",
            "ticks": ""
           }
          },
          "scene": {
           "xaxis": {
            "backgroundcolor": "#E5ECF6",
            "gridcolor": "white",
            "gridwidth": 2,
            "linecolor": "white",
            "showbackground": true,
            "ticks": "",
            "zerolinecolor": "white"
           },
           "yaxis": {
            "backgroundcolor": "#E5ECF6",
            "gridcolor": "white",
            "gridwidth": 2,
            "linecolor": "white",
            "showbackground": true,
            "ticks": "",
            "zerolinecolor": "white"
           },
           "zaxis": {
            "backgroundcolor": "#E5ECF6",
            "gridcolor": "white",
            "gridwidth": 2,
            "linecolor": "white",
            "showbackground": true,
            "ticks": "",
            "zerolinecolor": "white"
           }
          },
          "shapedefaults": {
           "line": {
            "color": "#2a3f5f"
           }
          },
          "ternary": {
           "aaxis": {
            "gridcolor": "white",
            "linecolor": "white",
            "ticks": ""
           },
           "baxis": {
            "gridcolor": "white",
            "linecolor": "white",
            "ticks": ""
           },
           "bgcolor": "#E5ECF6",
           "caxis": {
            "gridcolor": "white",
            "linecolor": "white",
            "ticks": ""
           }
          },
          "title": {
           "x": 0.05
          },
          "xaxis": {
           "automargin": true,
           "gridcolor": "white",
           "linecolor": "white",
           "ticks": "",
           "zerolinecolor": "white",
           "zerolinewidth": 2
          },
          "yaxis": {
           "automargin": true,
           "gridcolor": "white",
           "linecolor": "white",
           "ticks": "",
           "zerolinecolor": "white",
           "zerolinewidth": 2
          }
         }
        },
        "title": {
         "text": "Percentage of Reliability based on the 12cm difference between TAG and Camera"
        },
        "width": 500,
        "yaxis": {
         "range": [
          0,
          100
         ]
        }
       }
      },
      "text/html": [
       "<div>\n",
       "        \n",
       "        \n",
       "            <div id=\"fbbc798e-efbf-497f-b003-a4ebfae6efe6\" class=\"plotly-graph-div\" style=\"height:500px; width:500px;\"></div>\n",
       "            <script type=\"text/javascript\">\n",
       "                require([\"plotly\"], function(Plotly) {\n",
       "                    window.PLOTLYENV=window.PLOTLYENV || {};\n",
       "                    \n",
       "                if (document.getElementById(\"fbbc798e-efbf-497f-b003-a4ebfae6efe6\")) {\n",
       "                    Plotly.newPlot(\n",
       "                        'fbbc798e-efbf-497f-b003-a4ebfae6efe6',\n",
       "                        [{\"type\": \"bar\", \"x\": [\"Smooth Straight\", \"Rugged Straight\", \"Smooth Random\", \"Rugged Random\"], \"y\": [5.0, 18.75, 29.32330827067669, 13.414634146341465]}],\n",
       "                        {\"font\": {\"family\": \"Courier New, monospace\", \"size\": 13}, \"height\": 500, \"template\": {\"data\": {\"bar\": [{\"error_x\": {\"color\": \"#2a3f5f\"}, \"error_y\": {\"color\": \"#2a3f5f\"}, \"marker\": {\"line\": {\"color\": \"#E5ECF6\", \"width\": 0.5}}, \"type\": \"bar\"}], \"barpolar\": [{\"marker\": {\"line\": {\"color\": \"#E5ECF6\", \"width\": 0.5}}, \"type\": \"barpolar\"}], \"carpet\": [{\"aaxis\": {\"endlinecolor\": \"#2a3f5f\", \"gridcolor\": \"white\", \"linecolor\": \"white\", \"minorgridcolor\": \"white\", \"startlinecolor\": \"#2a3f5f\"}, \"baxis\": {\"endlinecolor\": \"#2a3f5f\", \"gridcolor\": \"white\", \"linecolor\": \"white\", \"minorgridcolor\": \"white\", \"startlinecolor\": \"#2a3f5f\"}, \"type\": \"carpet\"}], \"choropleth\": [{\"colorbar\": {\"outlinewidth\": 0, \"ticks\": \"\"}, \"type\": \"choropleth\"}], \"contour\": [{\"colorbar\": {\"outlinewidth\": 0, \"ticks\": \"\"}, \"colorscale\": [[0.0, \"#0d0887\"], [0.1111111111111111, \"#46039f\"], [0.2222222222222222, \"#7201a8\"], [0.3333333333333333, \"#9c179e\"], [0.4444444444444444, \"#bd3786\"], [0.5555555555555556, \"#d8576b\"], [0.6666666666666666, \"#ed7953\"], [0.7777777777777778, \"#fb9f3a\"], [0.8888888888888888, \"#fdca26\"], [1.0, \"#f0f921\"]], \"type\": \"contour\"}], \"contourcarpet\": [{\"colorbar\": {\"outlinewidth\": 0, \"ticks\": \"\"}, \"type\": \"contourcarpet\"}], \"heatmap\": [{\"colorbar\": {\"outlinewidth\": 0, \"ticks\": \"\"}, \"colorscale\": [[0.0, \"#0d0887\"], [0.1111111111111111, \"#46039f\"], [0.2222222222222222, \"#7201a8\"], [0.3333333333333333, \"#9c179e\"], [0.4444444444444444, \"#bd3786\"], [0.5555555555555556, \"#d8576b\"], [0.6666666666666666, \"#ed7953\"], [0.7777777777777778, \"#fb9f3a\"], [0.8888888888888888, \"#fdca26\"], [1.0, \"#f0f921\"]], \"type\": \"heatmap\"}], \"heatmapgl\": [{\"colorbar\": {\"outlinewidth\": 0, \"ticks\": \"\"}, \"colorscale\": [[0.0, \"#0d0887\"], [0.1111111111111111, \"#46039f\"], [0.2222222222222222, \"#7201a8\"], [0.3333333333333333, \"#9c179e\"], [0.4444444444444444, \"#bd3786\"], [0.5555555555555556, \"#d8576b\"], [0.6666666666666666, \"#ed7953\"], [0.7777777777777778, \"#fb9f3a\"], [0.8888888888888888, \"#fdca26\"], [1.0, \"#f0f921\"]], \"type\": \"heatmapgl\"}], \"histogram\": [{\"marker\": {\"colorbar\": {\"outlinewidth\": 0, \"ticks\": \"\"}}, \"type\": \"histogram\"}], \"histogram2d\": [{\"colorbar\": {\"outlinewidth\": 0, \"ticks\": \"\"}, \"colorscale\": [[0.0, \"#0d0887\"], [0.1111111111111111, \"#46039f\"], [0.2222222222222222, \"#7201a8\"], [0.3333333333333333, \"#9c179e\"], [0.4444444444444444, \"#bd3786\"], [0.5555555555555556, \"#d8576b\"], [0.6666666666666666, \"#ed7953\"], [0.7777777777777778, \"#fb9f3a\"], [0.8888888888888888, \"#fdca26\"], [1.0, \"#f0f921\"]], \"type\": \"histogram2d\"}], \"histogram2dcontour\": [{\"colorbar\": {\"outlinewidth\": 0, \"ticks\": \"\"}, \"colorscale\": [[0.0, \"#0d0887\"], [0.1111111111111111, \"#46039f\"], [0.2222222222222222, \"#7201a8\"], [0.3333333333333333, \"#9c179e\"], [0.4444444444444444, \"#bd3786\"], [0.5555555555555556, \"#d8576b\"], [0.6666666666666666, \"#ed7953\"], [0.7777777777777778, \"#fb9f3a\"], [0.8888888888888888, \"#fdca26\"], [1.0, \"#f0f921\"]], \"type\": \"histogram2dcontour\"}], \"mesh3d\": [{\"colorbar\": {\"outlinewidth\": 0, \"ticks\": \"\"}, \"type\": \"mesh3d\"}], \"parcoords\": [{\"line\": {\"colorbar\": {\"outlinewidth\": 0, \"ticks\": \"\"}}, \"type\": \"parcoords\"}], \"scatter\": [{\"marker\": {\"colorbar\": {\"outlinewidth\": 0, \"ticks\": \"\"}}, \"type\": \"scatter\"}], \"scatter3d\": [{\"line\": {\"colorbar\": {\"outlinewidth\": 0, \"ticks\": \"\"}}, \"marker\": {\"colorbar\": {\"outlinewidth\": 0, \"ticks\": \"\"}}, \"type\": \"scatter3d\"}], \"scattercarpet\": [{\"marker\": {\"colorbar\": {\"outlinewidth\": 0, \"ticks\": \"\"}}, \"type\": \"scattercarpet\"}], \"scattergeo\": [{\"marker\": {\"colorbar\": {\"outlinewidth\": 0, \"ticks\": \"\"}}, \"type\": \"scattergeo\"}], \"scattergl\": [{\"marker\": {\"colorbar\": {\"outlinewidth\": 0, \"ticks\": \"\"}}, \"type\": \"scattergl\"}], \"scattermapbox\": [{\"marker\": {\"colorbar\": {\"outlinewidth\": 0, \"ticks\": \"\"}}, \"type\": \"scattermapbox\"}], \"scatterpolar\": [{\"marker\": {\"colorbar\": {\"outlinewidth\": 0, \"ticks\": \"\"}}, \"type\": \"scatterpolar\"}], \"scatterpolargl\": [{\"marker\": {\"colorbar\": {\"outlinewidth\": 0, \"ticks\": \"\"}}, \"type\": \"scatterpolargl\"}], \"scatterternary\": [{\"marker\": {\"colorbar\": {\"outlinewidth\": 0, \"ticks\": \"\"}}, \"type\": \"scatterternary\"}], \"surface\": [{\"colorbar\": {\"outlinewidth\": 0, \"ticks\": \"\"}, \"colorscale\": [[0.0, \"#0d0887\"], [0.1111111111111111, \"#46039f\"], [0.2222222222222222, \"#7201a8\"], [0.3333333333333333, \"#9c179e\"], [0.4444444444444444, \"#bd3786\"], [0.5555555555555556, \"#d8576b\"], [0.6666666666666666, \"#ed7953\"], [0.7777777777777778, \"#fb9f3a\"], [0.8888888888888888, \"#fdca26\"], [1.0, \"#f0f921\"]], \"type\": \"surface\"}], \"table\": [{\"cells\": {\"fill\": {\"color\": \"#EBF0F8\"}, \"line\": {\"color\": \"white\"}}, \"header\": {\"fill\": {\"color\": \"#C8D4E3\"}, \"line\": {\"color\": \"white\"}}, \"type\": \"table\"}]}, \"layout\": {\"annotationdefaults\": {\"arrowcolor\": \"#2a3f5f\", \"arrowhead\": 0, \"arrowwidth\": 1}, \"colorscale\": {\"diverging\": [[0, \"#8e0152\"], [0.1, \"#c51b7d\"], [0.2, \"#de77ae\"], [0.3, \"#f1b6da\"], [0.4, \"#fde0ef\"], [0.5, \"#f7f7f7\"], [0.6, \"#e6f5d0\"], [0.7, \"#b8e186\"], [0.8, \"#7fbc41\"], [0.9, \"#4d9221\"], [1, \"#276419\"]], \"sequential\": [[0.0, \"#0d0887\"], [0.1111111111111111, \"#46039f\"], [0.2222222222222222, \"#7201a8\"], [0.3333333333333333, \"#9c179e\"], [0.4444444444444444, \"#bd3786\"], [0.5555555555555556, \"#d8576b\"], [0.6666666666666666, \"#ed7953\"], [0.7777777777777778, \"#fb9f3a\"], [0.8888888888888888, \"#fdca26\"], [1.0, \"#f0f921\"]], \"sequentialminus\": [[0.0, \"#0d0887\"], [0.1111111111111111, \"#46039f\"], [0.2222222222222222, \"#7201a8\"], [0.3333333333333333, \"#9c179e\"], [0.4444444444444444, \"#bd3786\"], [0.5555555555555556, \"#d8576b\"], [0.6666666666666666, \"#ed7953\"], [0.7777777777777778, \"#fb9f3a\"], [0.8888888888888888, \"#fdca26\"], [1.0, \"#f0f921\"]]}, \"colorway\": [\"#636efa\", \"#EF553B\", \"#00cc96\", \"#ab63fa\", \"#FFA15A\", \"#19d3f3\", \"#FF6692\", \"#B6E880\", \"#FF97FF\", \"#FECB52\"], \"font\": {\"color\": \"#2a3f5f\"}, \"geo\": {\"bgcolor\": \"white\", \"lakecolor\": \"white\", \"landcolor\": \"#E5ECF6\", \"showlakes\": true, \"showland\": true, \"subunitcolor\": \"white\"}, \"hoverlabel\": {\"align\": \"left\"}, \"hovermode\": \"closest\", \"mapbox\": {\"style\": \"light\"}, \"paper_bgcolor\": \"white\", \"plot_bgcolor\": \"#E5ECF6\", \"polar\": {\"angularaxis\": {\"gridcolor\": \"white\", \"linecolor\": \"white\", \"ticks\": \"\"}, \"bgcolor\": \"#E5ECF6\", \"radialaxis\": {\"gridcolor\": \"white\", \"linecolor\": \"white\", \"ticks\": \"\"}}, \"scene\": {\"xaxis\": {\"backgroundcolor\": \"#E5ECF6\", \"gridcolor\": \"white\", \"gridwidth\": 2, \"linecolor\": \"white\", \"showbackground\": true, \"ticks\": \"\", \"zerolinecolor\": \"white\"}, \"yaxis\": {\"backgroundcolor\": \"#E5ECF6\", \"gridcolor\": \"white\", \"gridwidth\": 2, \"linecolor\": \"white\", \"showbackground\": true, \"ticks\": \"\", \"zerolinecolor\": \"white\"}, \"zaxis\": {\"backgroundcolor\": \"#E5ECF6\", \"gridcolor\": \"white\", \"gridwidth\": 2, \"linecolor\": \"white\", \"showbackground\": true, \"ticks\": \"\", \"zerolinecolor\": \"white\"}}, \"shapedefaults\": {\"line\": {\"color\": \"#2a3f5f\"}}, \"ternary\": {\"aaxis\": {\"gridcolor\": \"white\", \"linecolor\": \"white\", \"ticks\": \"\"}, \"baxis\": {\"gridcolor\": \"white\", \"linecolor\": \"white\", \"ticks\": \"\"}, \"bgcolor\": \"#E5ECF6\", \"caxis\": {\"gridcolor\": \"white\", \"linecolor\": \"white\", \"ticks\": \"\"}}, \"title\": {\"x\": 0.05}, \"xaxis\": {\"automargin\": true, \"gridcolor\": \"white\", \"linecolor\": \"white\", \"ticks\": \"\", \"zerolinecolor\": \"white\", \"zerolinewidth\": 2}, \"yaxis\": {\"automargin\": true, \"gridcolor\": \"white\", \"linecolor\": \"white\", \"ticks\": \"\", \"zerolinecolor\": \"white\", \"zerolinewidth\": 2}}}, \"title\": {\"text\": \"Percentage of Reliability based on the 12cm difference between TAG and Camera\"}, \"width\": 500, \"yaxis\": {\"range\": [0, 100]}},\n",
       "                        {\"responsive\": true}\n",
       "                    ).then(function(){\n",
       "                            \n",
       "var gd = document.getElementById('fbbc798e-efbf-497f-b003-a4ebfae6efe6');\n",
       "var x = new MutationObserver(function (mutations, observer) {{\n",
       "        var display = window.getComputedStyle(gd).display;\n",
       "        if (!display || display === 'none') {{\n",
       "            console.log([gd, 'removed!']);\n",
       "            Plotly.purge(gd);\n",
       "            observer.disconnect();\n",
       "        }}\n",
       "}});\n",
       "\n",
       "// Listen for the removal of the full notebook cells\n",
       "var notebookContainer = gd.closest('#notebook-container');\n",
       "if (notebookContainer) {{\n",
       "    x.observe(notebookContainer, {childList: true});\n",
       "}}\n",
       "\n",
       "// Listen for the clearing of the current output cell\n",
       "var outputEl = gd.closest('.output');\n",
       "if (outputEl) {{\n",
       "    x.observe(outputEl, {childList: true});\n",
       "}}\n",
       "\n",
       "                        })\n",
       "                };\n",
       "                });\n",
       "            </script>\n",
       "        </div>"
      ]
     },
     "metadata": {},
     "output_type": "display_data"
    }
   ],
   "source": [
    "# Get all four datasets' errors\n",
    "smooth_straight_err = num_out_of_boundary_percent(\"smooth_straight.csv\")\n",
    "rugged_straight_err = num_out_of_boundary_percent(\"rugged_straight.csv\")\n",
    "smooth_random_err = num_out_of_boundary_percent(\"smooth_random.csv\")\n",
    "rugged_random_err = num_out_of_boundary_percent(\"rugged_random.csv\")\n",
    "\n",
    "percentages = [smooth_straight_err, rugged_straight_err, smooth_random_err, rugged_random_err]\n",
    "fig = go.Figure([go.Bar(x=[\"Smooth Straight\", \"Rugged Straight\", \"Smooth Random\", \"Rugged Random\"],\n",
    "                        y=percentages)])\n",
    "fig.update_layout(\n",
    "        width=500,\n",
    "        height=500,\n",
    "        title=\"Percentage of Reliability based on the 12cm difference between TAG and Camera\",\n",
    "        font=dict(\n",
    "            family=\"Courier New, monospace\",\n",
    "            size=13,\n",
    "))\n",
    "fig.update_yaxes(range=[0, 100])\n",
    "fig.show()"
   ]
  },
  {
   "cell_type": "markdown",
   "metadata": {},
   "source": [
    "# Histogram for Difference of Euclidean Distance between the AprilTag & the Camera\n",
    "### Since the distance above turned out to be out of the error bound, we will take a look how different are they."
   ]
  },
  {
   "cell_type": "code",
   "execution_count": 167,
   "metadata": {},
   "outputs": [],
   "source": [
    "from matplotlib import pyplot as plt\n",
    "\n",
    "def histogram(file, title):\n",
    "    csv_header = [\"time\", \"tag_x\", \"tag_y\", \"tag_z\", \"pose_x\", \"pose_y\", \"pose_z\"]\n",
    "    df = pd.read_csv(file, header= None)\n",
    "    df.columns = csv_header\n",
    "\n",
    "    TAG = df[[\"tag_x\",\"tag_y\",\"tag_z\"]]*100\n",
    "    Pose = df[[\"pose_x\",\"pose_y\",\"pose_z\"]]*100\n",
    "    TAG.tag_x -= (0.125674 * 100)\n",
    "\n",
    "    diff_x =  abs(TAG[\"tag_x\"] - Pose[\"pose_x\"])\n",
    "    diff_y =  abs(TAG[\"tag_y\"] - Pose[\"pose_y\"])\n",
    "    diff_z =  abs(TAG[\"tag_z\"] - Pose[\"pose_z\"])\n",
    "\n",
    "    sq_sum = (diff_x) ** 2 + (diff_y) ** 2 + (diff_z) ** 2\n",
    "    distance = np.sqrt(sq_sum)\n",
    "    \n",
    "    plt.hist(distance, bins=np.arange(min(distance), max(distance) + 0.5, 0.5), edgecolor='black', linewidth=1.2)\n",
    "    plt.title(title)\n",
    "    plt.show()"
   ]
  },
  {
   "cell_type": "code",
   "execution_count": 168,
   "metadata": {},
   "outputs": [
    {
     "data": {
      "image/png": "[encoded data removed]",
      "text/plain": [
       "<Figure size 432x288 with 1 Axes>"
      ]
     },
     "metadata": {
      "needs_background": "light"
     },
     "output_type": "display_data"
    },
    {
     "data": {
      "image/png": "[encoded data removed]",
      "text/plain": [
       "<Figure size 432x288 with 1 Axes>"
      ]
     },
     "metadata": {
      "needs_background": "light"
     },
     "output_type": "display_data"
    },
    {
     "data": {
      "image/png": "[encoded data removed]",
      "text/plain": [
       "<Figure size 432x288 with 1 Axes>"
      ]
     },
     "metadata": {
      "needs_background": "light"
     },
     "output_type": "display_data"
    },
    {
     "data": {
      "image/png": "[encoded data removed]",
      "text/plain": [
       "<Figure size 432x288 with 1 Axes>"
      ]
     },
     "metadata": {
      "needs_background": "light"
     },
     "output_type": "display_data"
    }
   ],
   "source": [
    "# Get all four datasets' distances\n",
    "smooth_straight_dist = histogram(\"smooth_straight.csv\", \"Smooth Straight Distance Difference (cm)\")\n",
    "rugged_straight_dist = histogram(\"rugged_straight.csv\", \"Rugged Straight Distance Difference (cm)\")\n",
    "smooth_random_dist = histogram(\"smooth_random.csv\", \"Smooth Random Distance Difference (cm)\")\n",
    "rugged_random_dist = histogram(\"rugged_random.csv\", \"Rugged Random Distance Difference (cm)\")"
   ]
  },
  {
   "cell_type": "markdown",
   "metadata": {},
   "source": [
    "# Variance of the Difference of Euclidean Distance between the AprilTag & the Camera\n",
    "### Data based on the histogram above\n",
    "### The more the variance, the more the discrepancy exists between the position of AprilTag and the camera."
   ]
  },
  {
   "cell_type": "code",
   "execution_count": 169,
   "metadata": {},
   "outputs": [],
   "source": [
    "def variance_dist(file):\n",
    "    csv_header = [\"time\", \"tag_x\", \"tag_y\", \"tag_z\", \"pose_x\", \"pose_y\", \"pose_z\"]\n",
    "    df = pd.read_csv(file, header= None)\n",
    "    df.columns = csv_header\n",
    "\n",
    "    TAG = df[[\"tag_x\",\"tag_y\",\"tag_z\"]]*100\n",
    "    Pose = df[[\"pose_x\",\"pose_y\",\"pose_z\"]]*100\n",
    "    TAG.tag_x -= (0.125674 * 100)\n",
    "\n",
    "    diff_x =  abs(TAG[\"tag_x\"] - Pose[\"pose_x\"])\n",
    "    diff_y =  abs(TAG[\"tag_y\"] - Pose[\"pose_y\"])\n",
    "    diff_z =  abs(TAG[\"tag_z\"] - Pose[\"pose_z\"])\n",
    "\n",
    "    sq_sum = (diff_x) ** 2 + (diff_y) ** 2 + (diff_z) ** 2\n",
    "    distance = np.sqrt(sq_sum)\n",
    "    \n",
    "    return np.var(distance)"
   ]
  },
  {
   "cell_type": "code",
   "execution_count": 172,
   "metadata": {},
   "outputs": [
    {
     "data": {
      "application/vnd.plotly.v1+json": {
       "config": {
        "plotlyServerURL": "https://plot.ly"
       },
       "data": [
        {
         "mode": "lines+markers",
         "type": "scatter",
         "x": [
          "Smooth Straight",
          "Rugged Straight",
          "Smooth Random",
          "Rugged Random"
         ],
         "y": [
          0.4588658520043272,
          3.6822202411818656,
          2.1451741395515165,
          7.748423916122999
         ]
        }
       ],
       "layout": {
        "font": {
         "family": "Courier New, monospace",
         "size": 13
        },
        "height": 500,
        "template": {
         "data": {
          "bar": [
           {
            "error_x": {
             "color": "#2a3f5f"
            },
            "error_y": {
             "color": "#2a3f5f"
            },
            "marker": {
             "line": {
              "color": "#E5ECF6",
              "width": 0.5
             }
            },
            "type": "bar"
           }
          ],
          "barpolar": [
           {
            "marker": {
             "line": {
              "color": "#E5ECF6",
              "width": 0.5
             }
            },
            "type": "barpolar"
           }
          ],
          "carpet": [
           {
            "aaxis": {
             "endlinecolor": "#2a3f5f",
             "gridcolor": "white",
             "linecolor": "white",
             "minorgridcolor": "white",
             "startlinecolor": "#2a3f5f"
            },
            "baxis": {
             "endlinecolor": "#2a3f5f",
             "gridcolor": "white",
             "linecolor": "white",
             "minorgridcolor": "white",
             "startlinecolor": "#2a3f5f"
            },
            "type": "carpet"
           }
          ],
          "choropleth": [
           {
            "colorbar": {
             "outlinewidth": 0,
             "ticks": ""
            },
            "type": "choropleth"
           }
          ],
          "contour": [
           {
            "colorbar": {
             "outlinewidth": 0,
             "ticks": ""
            },
            "colorscale": [
             [
              0,
              "#0d0887"
             ],
             [
              0.1111111111111111,
              "#46039f"
             ],
             [
              0.2222222222222222,
              "#7201a8"
             ],
             [
              0.3333333333333333,
              "#9c179e"
             ],
             [
              0.4444444444444444,
              "#bd3786"
             ],
             [
              0.5555555555555556,
              "#d8576b"
             ],
             [
              0.6666666666666666,
              "#ed7953"
             ],
             [
              0.7777777777777778,
              "#fb9f3a"
             ],
             [
              0.8888888888888888,
              "#fdca26"
             ],
             [
              1,
              "#f0f921"
             ]
            ],
            "type": "contour"
           }
          ],
          "contourcarpet": [
           {
            "colorbar": {
             "outlinewidth": 0,
             "ticks": ""
            },
            "type": "contourcarpet"
           }
          ],
          "heatmap": [
           {
            "colorbar": {
             "outlinewidth": 0,
             "ticks": ""
            },
            "colorscale": [
             [
              0,
              "#0d0887"
             ],
             [
              0.1111111111111111,
              "#46039f"
             ],
             [
              0.2222222222222222,
              "#7201a8"
             ],
             [
              0.3333333333333333,
              "#9c179e"
             ],
             [
              0.4444444444444444,
              "#bd3786"
             ],
             [
              0.5555555555555556,
              "#d8576b"
             ],
             [
              0.6666666666666666,
              "#ed7953"
             ],
             [
              0.7777777777777778,
              "#fb9f3a"
             ],
             [
              0.8888888888888888,
              "#fdca26"
             ],
             [
              1,
              "#f0f921"
             ]
            ],
            "type": "heatmap"
           }
          ],
          "heatmapgl": [
           {
            "colorbar": {
             "outlinewidth": 0,
             "ticks": ""
            },
            "colorscale": [
             [
              0,
              "#0d0887"
             ],
             [
              0.1111111111111111,
              "#46039f"
             ],
             [
              0.2222222222222222,
              "#7201a8"
             ],
             [
              0.3333333333333333,
              "#9c179e"
             ],
             [
              0.4444444444444444,
              "#bd3786"
             ],
             [
              0.5555555555555556,
              "#d8576b"
             ],
             [
              0.6666666666666666,
              "#ed7953"
             ],
             [
              0.7777777777777778,
              "#fb9f3a"
             ],
             [
              0.8888888888888888,
              "#fdca26"
             ],
             [
              1,
              "#f0f921"
             ]
            ],
            "type": "heatmapgl"
           }
          ],
          "histogram": [
           {
            "marker": {
             "colorbar": {
              "outlinewidth": 0,
              "ticks": ""
             }
            },
            "type": "histogram"
           }
          ],
          "histogram2d": [
           {
            "colorbar": {
             "outlinewidth": 0,
             "ticks": ""
            },
            "colorscale": [
             [
              0,
              "#0d0887"
             ],
             [
              0.1111111111111111,
              "#46039f"
             ],
             [
              0.2222222222222222,
              "#7201a8"
             ],
             [
              0.3333333333333333,
              "#9c179e"
             ],
             [
              0.4444444444444444,
              "#bd3786"
             ],
             [
              0.5555555555555556,
              "#d8576b"
             ],
             [
              0.6666666666666666,
              "#ed7953"
             ],
             [
              0.7777777777777778,
              "#fb9f3a"
             ],
             [
              0.8888888888888888,
              "#fdca26"
             ],
             [
              1,
              "#f0f921"
             ]
            ],
            "type": "histogram2d"
           }
          ],
          "histogram2dcontour": [
           {
            "colorbar": {
             "outlinewidth": 0,
             "ticks": ""
            },
            "colorscale": [
             [
              0,
              "#0d0887"
             ],
             [
              0.1111111111111111,
              "#46039f"
             ],
             [
              0.2222222222222222,
              "#7201a8"
             ],
             [
              0.3333333333333333,
              "#9c179e"
             ],
             [
              0.4444444444444444,
              "#bd3786"
             ],
             [
              0.5555555555555556,
              "#d8576b"
             ],
             [
              0.6666666666666666,
              "#ed7953"
             ],
             [
              0.7777777777777778,
              "#fb9f3a"
             ],
             [
              0.8888888888888888,
              "#fdca26"
             ],
             [
              1,
              "#f0f921"
             ]
            ],
            "type": "histogram2dcontour"
           }
          ],
          "mesh3d": [
           {
            "colorbar": {
             "outlinewidth": 0,
             "ticks": ""
            },
            "type": "mesh3d"
           }
          ],
          "parcoords": [
           {
            "line": {
             "colorbar": {
              "outlinewidth": 0,
              "ticks": ""
             }
            },
            "type": "parcoords"
           }
          ],
          "scatter": [
           {
            "marker": {
             "colorbar": {
              "outlinewidth": 0,
              "ticks": ""
             }
            },
            "type": "scatter"
           }
          ],
          "scatter3d": [
           {
            "line": {
             "colorbar": {
              "outlinewidth": 0,
              "ticks": ""
             }
            },
            "marker": {
             "colorbar": {
              "outlinewidth": 0,
              "ticks": ""
             }
            },
            "type": "scatter3d"
           }
          ],
          "scattercarpet": [
           {
            "marker": {
             "colorbar": {
              "outlinewidth": 0,
              "ticks": ""
             }
            },
            "type": "scattercarpet"
           }
          ],
          "scattergeo": [
           {
            "marker": {
             "colorbar": {
              "outlinewidth": 0,
              "ticks": ""
             }
            },
            "type": "scattergeo"
           }
          ],
          "scattergl": [
           {
            "marker": {
             "colorbar": {
              "outlinewidth": 0,
              "ticks": ""
             }
            },
            "type": "scattergl"
           }
          ],
          "scattermapbox": [
           {
            "marker": {
             "colorbar": {
              "outlinewidth": 0,
              "ticks": ""
             }
            },
            "type": "scattermapbox"
           }
          ],
          "scatterpolar": [
           {
            "marker": {
             "colorbar": {
              "outlinewidth": 0,
              "ticks": ""
             }
            },
            "type": "scatterpolar"
           }
          ],
          "scatterpolargl": [
           {
            "marker": {
             "colorbar": {
              "outlinewidth": 0,
              "ticks": ""
             }
            },
            "type": "scatterpolargl"
           }
          ],
          "scatterternary": [
           {
            "marker": {
             "colorbar": {
              "outlinewidth": 0,
              "ticks": ""
             }
            },
            "type": "scatterternary"
           }
          ],
          "surface": [
           {
            "colorbar": {
             "outlinewidth": 0,
             "ticks": ""
            },
            "colorscale": [
             [
              0,
              "#0d0887"
             ],
             [
              0.1111111111111111,
              "#46039f"
             ],
             [
              0.2222222222222222,
              "#7201a8"
             ],
             [
              0.3333333333333333,
              "#9c179e"
             ],
             [
              0.4444444444444444,
              "#bd3786"
             ],
             [
              0.5555555555555556,
              "#d8576b"
             ],
             [
              0.6666666666666666,
              "#ed7953"
             ],
             [
              0.7777777777777778,
              "#fb9f3a"
             ],
             [
              0.8888888888888888,
              "#fdca26"
             ],
             [
              1,
              "#f0f921"
             ]
            ],
            "type": "surface"
           }
          ],
          "table": [
           {
            "cells": {
             "fill": {
              "color": "#EBF0F8"
             },
             "line": {
              "color": "white"
             }
            },
            "header": {
             "fill": {
              "color": "#C8D4E3"
             },
             "line": {
              "color": "white"
             }
            },
            "type": "table"
           }
          ]
         },
         "layout": {
          "annotationdefaults": {
           "arrowcolor": "#2a3f5f",
           "arrowhead": 0,
           "arrowwidth": 1
          },
          "colorscale": {
           "diverging": [
            [
             0,
             "#8e0152"
            ],
            [
             0.1,
             "#c51b7d"
            ],
            [
             0.2,
             "#de77ae"
            ],
            [
             0.3,
             "#f1b6da"
            ],
            [
             0.4,
             "#fde0ef"
            ],
            [
             0.5,
             "#f7f7f7"
            ],
            [
             0.6,
             "#e6f5d0"
            ],
            [
             0.7,
             "#b8e186"
            ],
            [
             0.8,
             "#7fbc41"
            ],
            [
             0.9,
             "#4d9221"
            ],
            [
             1,
             "#276419"
            ]
           ],
           "sequential": [
            [
             0,
             "#0d0887"
            ],
            [
             0.1111111111111111,
             "#46039f"
            ],
            [
             0.2222222222222222,
             "#7201a8"
            ],
            [
             0.3333333333333333,
             "#9c179e"
            ],
            [
             0.4444444444444444,
             "#bd3786"
            ],
            [
             0.5555555555555556,
             "#d8576b"
            ],
            [
             0.6666666666666666,
             "#ed7953"
            ],
            [
             0.7777777777777778,
             "#fb9f3a"
            ],
            [
             0.8888888888888888,
             "#fdca26"
            ],
            [
             1,
             "#f0f921"
            ]
           ],
           "sequentialminus": [
            [
             0,
             "#0d0887"
            ],
            [
             0.1111111111111111,
             "#46039f"
            ],
            [
             0.2222222222222222,
             "#7201a8"
            ],
            [
             0.3333333333333333,
             "#9c179e"
            ],
            [
             0.4444444444444444,
             "#bd3786"
            ],
            [
             0.5555555555555556,
             "#d8576b"
            ],
            [
             0.6666666666666666,
             "#ed7953"
            ],
            [
             0.7777777777777778,
             "#fb9f3a"
            ],
            [
             0.8888888888888888,
             "#fdca26"
            ],
            [
             1,
             "#f0f921"
            ]
           ]
          },
          "colorway": [
           "#636efa",
           "#EF553B",
           "#00cc96",
           "#ab63fa",
           "#FFA15A",
           "#19d3f3",
           "#FF6692",
           "#B6E880",
           "#FF97FF",
           "#FECB52"
          ],
          "font": {
           "color": "#2a3f5f"
          },
          "geo": {
           "bgcolor": "white",
           "lakecolor": "white",
           "landcolor": "#E5ECF6",
           "showlakes": true,
           "showland": true,
           "subunitcolor": "white"
          },
          "hoverlabel": {
           "align": "left"
          },
          "hovermode": "closest",
          "mapbox": {
           "style": "light"
          },
          "paper_bgcolor": "white",
          "plot_bgcolor": "#E5ECF6",
          "polar": {
           "angularaxis": {
            "gridcolor": "white",
            "linecolor": "white",
            "ticks": ""
           },
           "bgcolor": "#E5ECF6",
           "radialaxis": {
            "gridcolor": "white",
            "linecolor": "white",
            "ticks": ""
           }
          },
          "scene": {
           "xaxis": {
            "backgroundcolor": "#E5ECF6",
            "gridcolor": "white",
            "gridwidth": 2,
            "linecolor": "white",
            "showbackground": true,
            "ticks": "",
            "zerolinecolor": "white"
           },
           "yaxis": {
            "backgroundcolor": "#E5ECF6",
            "gridcolor": "white",
            "gridwidth": 2,
            "linecolor": "white",
            "showbackground": true,
            "ticks": "",
            "zerolinecolor": "white"
           },
           "zaxis": {
            "backgroundcolor": "#E5ECF6",
            "gridcolor": "white",
            "gridwidth": 2,
            "linecolor": "white",
            "showbackground": true,
            "ticks": "",
            "zerolinecolor": "white"
           }
          },
          "shapedefaults": {
           "line": {
            "color": "#2a3f5f"
           }
          },
          "ternary": {
           "aaxis": {
            "gridcolor": "white",
            "linecolor": "white",
            "ticks": ""
           },
           "baxis": {
            "gridcolor": "white",
            "linecolor": "white",
            "ticks": ""
           },
           "bgcolor": "#E5ECF6",
           "caxis": {
            "gridcolor": "white",
            "linecolor": "white",
            "ticks": ""
           }
          },
          "title": {
           "x": 0.05
          },
          "xaxis": {
           "automargin": true,
           "gridcolor": "white",
           "linecolor": "white",
           "ticks": "",
           "zerolinecolor": "white",
           "zerolinewidth": 2
          },
          "yaxis": {
           "automargin": true,
           "gridcolor": "white",
           "linecolor": "white",
           "ticks": "",
           "zerolinecolor": "white",
           "zerolinewidth": 2
          }
         }
        },
        "title": {
         "text": "Variance of the Differences of Euclidean Distance"
        },
        "width": 700
       }
      },
      "text/html": [
       "<div>\n",
       "        \n",
       "        \n",
       "            <div id=\"ebb12722-ae51-41f2-9180-fc32d61e5c5d\" class=\"plotly-graph-div\" style=\"height:500px; width:700px;\"></div>\n",
       "            <script type=\"text/javascript\">\n",
       "                require([\"plotly\"], function(Plotly) {\n",
       "                    window.PLOTLYENV=window.PLOTLYENV || {};\n",
       "                    \n",
       "                if (document.getElementById(\"ebb12722-ae51-41f2-9180-fc32d61e5c5d\")) {\n",
       "                    Plotly.newPlot(\n",
       "                        'ebb12722-ae51-41f2-9180-fc32d61e5c5d',\n",
       "                        [{\"mode\": \"lines+markers\", \"type\": \"scatter\", \"x\": [\"Smooth Straight\", \"Rugged Straight\", \"Smooth Random\", \"Rugged Random\"], \"y\": [0.4588658520043272, 3.6822202411818656, 2.1451741395515165, 7.748423916122999]}],\n",
       "                        {\"font\": {\"family\": \"Courier New, monospace\", \"size\": 13}, \"height\": 500, \"template\": {\"data\": {\"bar\": [{\"error_x\": {\"color\": \"#2a3f5f\"}, \"error_y\": {\"color\": \"#2a3f5f\"}, \"marker\": {\"line\": {\"color\": \"#E5ECF6\", \"width\": 0.5}}, \"type\": \"bar\"}], \"barpolar\": [{\"marker\": {\"line\": {\"color\": \"#E5ECF6\", \"width\": 0.5}}, \"type\": \"barpolar\"}], \"carpet\": [{\"aaxis\": {\"endlinecolor\": \"#2a3f5f\", \"gridcolor\": \"white\", \"linecolor\": \"white\", \"minorgridcolor\": \"white\", \"startlinecolor\": \"#2a3f5f\"}, \"baxis\": {\"endlinecolor\": \"#2a3f5f\", \"gridcolor\": \"white\", \"linecolor\": \"white\", \"minorgridcolor\": \"white\", \"startlinecolor\": \"#2a3f5f\"}, \"type\": \"carpet\"}], \"choropleth\": [{\"colorbar\": {\"outlinewidth\": 0, \"ticks\": \"\"}, \"type\": \"choropleth\"}], \"contour\": [{\"colorbar\": {\"outlinewidth\": 0, \"ticks\": \"\"}, \"colorscale\": [[0.0, \"#0d0887\"], [0.1111111111111111, \"#46039f\"], [0.2222222222222222, \"#7201a8\"], [0.3333333333333333, \"#9c179e\"], [0.4444444444444444, \"#bd3786\"], [0.5555555555555556, \"#d8576b\"], [0.6666666666666666, \"#ed7953\"], [0.7777777777777778, \"#fb9f3a\"], [0.8888888888888888, \"#fdca26\"], [1.0, \"#f0f921\"]], \"type\": \"contour\"}], \"contourcarpet\": [{\"colorbar\": {\"outlinewidth\": 0, \"ticks\": \"\"}, \"type\": \"contourcarpet\"}], \"heatmap\": [{\"colorbar\": {\"outlinewidth\": 0, \"ticks\": \"\"}, \"colorscale\": [[0.0, \"#0d0887\"], [0.1111111111111111, \"#46039f\"], [0.2222222222222222, \"#7201a8\"], [0.3333333333333333, \"#9c179e\"], [0.4444444444444444, \"#bd3786\"], [0.5555555555555556, \"#d8576b\"], [0.6666666666666666, \"#ed7953\"], [0.7777777777777778, \"#fb9f3a\"], [0.8888888888888888, \"#fdca26\"], [1.0, \"#f0f921\"]], \"type\": \"heatmap\"}], \"heatmapgl\": [{\"colorbar\": {\"outlinewidth\": 0, \"ticks\": \"\"}, \"colorscale\": [[0.0, \"#0d0887\"], [0.1111111111111111, \"#46039f\"], [0.2222222222222222, \"#7201a8\"], [0.3333333333333333, \"#9c179e\"], [0.4444444444444444, \"#bd3786\"], [0.5555555555555556, \"#d8576b\"], [0.6666666666666666, \"#ed7953\"], [0.7777777777777778, \"#fb9f3a\"], [0.8888888888888888, \"#fdca26\"], [1.0, \"#f0f921\"]], \"type\": \"heatmapgl\"}], \"histogram\": [{\"marker\": {\"colorbar\": {\"outlinewidth\": 0, \"ticks\": \"\"}}, \"type\": \"histogram\"}], \"histogram2d\": [{\"colorbar\": {\"outlinewidth\": 0, \"ticks\": \"\"}, \"colorscale\": [[0.0, \"#0d0887\"], [0.1111111111111111, \"#46039f\"], [0.2222222222222222, \"#7201a8\"], [0.3333333333333333, \"#9c179e\"], [0.4444444444444444, \"#bd3786\"], [0.5555555555555556, \"#d8576b\"], [0.6666666666666666, \"#ed7953\"], [0.7777777777777778, \"#fb9f3a\"], [0.8888888888888888, \"#fdca26\"], [1.0, \"#f0f921\"]], \"type\": \"histogram2d\"}], \"histogram2dcontour\": [{\"colorbar\": {\"outlinewidth\": 0, \"ticks\": \"\"}, \"colorscale\": [[0.0, \"#0d0887\"], [0.1111111111111111, \"#46039f\"], [0.2222222222222222, \"#7201a8\"], [0.3333333333333333, \"#9c179e\"], [0.4444444444444444, \"#bd3786\"], [0.5555555555555556, \"#d8576b\"], [0.6666666666666666, \"#ed7953\"], [0.7777777777777778, \"#fb9f3a\"], [0.8888888888888888, \"#fdca26\"], [1.0, \"#f0f921\"]], \"type\": \"histogram2dcontour\"}], \"mesh3d\": [{\"colorbar\": {\"outlinewidth\": 0, \"ticks\": \"\"}, \"type\": \"mesh3d\"}], \"parcoords\": [{\"line\": {\"colorbar\": {\"outlinewidth\": 0, \"ticks\": \"\"}}, \"type\": \"parcoords\"}], \"scatter\": [{\"marker\": {\"colorbar\": {\"outlinewidth\": 0, \"ticks\": \"\"}}, \"type\": \"scatter\"}], \"scatter3d\": [{\"line\": {\"colorbar\": {\"outlinewidth\": 0, \"ticks\": \"\"}}, \"marker\": {\"colorbar\": {\"outlinewidth\": 0, \"ticks\": \"\"}}, \"type\": \"scatter3d\"}], \"scattercarpet\": [{\"marker\": {\"colorbar\": {\"outlinewidth\": 0, \"ticks\": \"\"}}, \"type\": \"scattercarpet\"}], \"scattergeo\": [{\"marker\": {\"colorbar\": {\"outlinewidth\": 0, \"ticks\": \"\"}}, \"type\": \"scattergeo\"}], \"scattergl\": [{\"marker\": {\"colorbar\": {\"outlinewidth\": 0, \"ticks\": \"\"}}, \"type\": \"scattergl\"}], \"scattermapbox\": [{\"marker\": {\"colorbar\": {\"outlinewidth\": 0, \"ticks\": \"\"}}, \"type\": \"scattermapbox\"}], \"scatterpolar\": [{\"marker\": {\"colorbar\": {\"outlinewidth\": 0, \"ticks\": \"\"}}, \"type\": \"scatterpolar\"}], \"scatterpolargl\": [{\"marker\": {\"colorbar\": {\"outlinewidth\": 0, \"ticks\": \"\"}}, \"type\": \"scatterpolargl\"}], \"scatterternary\": [{\"marker\": {\"colorbar\": {\"outlinewidth\": 0, \"ticks\": \"\"}}, \"type\": \"scatterternary\"}], \"surface\": [{\"colorbar\": {\"outlinewidth\": 0, \"ticks\": \"\"}, \"colorscale\": [[0.0, \"#0d0887\"], [0.1111111111111111, \"#46039f\"], [0.2222222222222222, \"#7201a8\"], [0.3333333333333333, \"#9c179e\"], [0.4444444444444444, \"#bd3786\"], [0.5555555555555556, \"#d8576b\"], [0.6666666666666666, \"#ed7953\"], [0.7777777777777778, \"#fb9f3a\"], [0.8888888888888888, \"#fdca26\"], [1.0, \"#f0f921\"]], \"type\": \"surface\"}], \"table\": [{\"cells\": {\"fill\": {\"color\": \"#EBF0F8\"}, \"line\": {\"color\": \"white\"}}, \"header\": {\"fill\": {\"color\": \"#C8D4E3\"}, \"line\": {\"color\": \"white\"}}, \"type\": \"table\"}]}, \"layout\": {\"annotationdefaults\": {\"arrowcolor\": \"#2a3f5f\", \"arrowhead\": 0, \"arrowwidth\": 1}, \"colorscale\": {\"diverging\": [[0, \"#8e0152\"], [0.1, \"#c51b7d\"], [0.2, \"#de77ae\"], [0.3, \"#f1b6da\"], [0.4, \"#fde0ef\"], [0.5, \"#f7f7f7\"], [0.6, \"#e6f5d0\"], [0.7, \"#b8e186\"], [0.8, \"#7fbc41\"], [0.9, \"#4d9221\"], [1, \"#276419\"]], \"sequential\": [[0.0, \"#0d0887\"], [0.1111111111111111, \"#46039f\"], [0.2222222222222222, \"#7201a8\"], [0.3333333333333333, \"#9c179e\"], [0.4444444444444444, \"#bd3786\"], [0.5555555555555556, \"#d8576b\"], [0.6666666666666666, \"#ed7953\"], [0.7777777777777778, \"#fb9f3a\"], [0.8888888888888888, \"#fdca26\"], [1.0, \"#f0f921\"]], \"sequentialminus\": [[0.0, \"#0d0887\"], [0.1111111111111111, \"#46039f\"], [0.2222222222222222, \"#7201a8\"], [0.3333333333333333, \"#9c179e\"], [0.4444444444444444, \"#bd3786\"], [0.5555555555555556, \"#d8576b\"], [0.6666666666666666, \"#ed7953\"], [0.7777777777777778, \"#fb9f3a\"], [0.8888888888888888, \"#fdca26\"], [1.0, \"#f0f921\"]]}, \"colorway\": [\"#636efa\", \"#EF553B\", \"#00cc96\", \"#ab63fa\", \"#FFA15A\", \"#19d3f3\", \"#FF6692\", \"#B6E880\", \"#FF97FF\", \"#FECB52\"], \"font\": {\"color\": \"#2a3f5f\"}, \"geo\": {\"bgcolor\": \"white\", \"lakecolor\": \"white\", \"landcolor\": \"#E5ECF6\", \"showlakes\": true, \"showland\": true, \"subunitcolor\": \"white\"}, \"hoverlabel\": {\"align\": \"left\"}, \"hovermode\": \"closest\", \"mapbox\": {\"style\": \"light\"}, \"paper_bgcolor\": \"white\", \"plot_bgcolor\": \"#E5ECF6\", \"polar\": {\"angularaxis\": {\"gridcolor\": \"white\", \"linecolor\": \"white\", \"ticks\": \"\"}, \"bgcolor\": \"#E5ECF6\", \"radialaxis\": {\"gridcolor\": \"white\", \"linecolor\": \"white\", \"ticks\": \"\"}}, \"scene\": {\"xaxis\": {\"backgroundcolor\": \"#E5ECF6\", \"gridcolor\": \"white\", \"gridwidth\": 2, \"linecolor\": \"white\", \"showbackground\": true, \"ticks\": \"\", \"zerolinecolor\": \"white\"}, \"yaxis\": {\"backgroundcolor\": \"#E5ECF6\", \"gridcolor\": \"white\", \"gridwidth\": 2, \"linecolor\": \"white\", \"showbackground\": true, \"ticks\": \"\", \"zerolinecolor\": \"white\"}, \"zaxis\": {\"backgroundcolor\": \"#E5ECF6\", \"gridcolor\": \"white\", \"gridwidth\": 2, \"linecolor\": \"white\", \"showbackground\": true, \"ticks\": \"\", \"zerolinecolor\": \"white\"}}, \"shapedefaults\": {\"line\": {\"color\": \"#2a3f5f\"}}, \"ternary\": {\"aaxis\": {\"gridcolor\": \"white\", \"linecolor\": \"white\", \"ticks\": \"\"}, \"baxis\": {\"gridcolor\": \"white\", \"linecolor\": \"white\", \"ticks\": \"\"}, \"bgcolor\": \"#E5ECF6\", \"caxis\": {\"gridcolor\": \"white\", \"linecolor\": \"white\", \"ticks\": \"\"}}, \"title\": {\"x\": 0.05}, \"xaxis\": {\"automargin\": true, \"gridcolor\": \"white\", \"linecolor\": \"white\", \"ticks\": \"\", \"zerolinecolor\": \"white\", \"zerolinewidth\": 2}, \"yaxis\": {\"automargin\": true, \"gridcolor\": \"white\", \"linecolor\": \"white\", \"ticks\": \"\", \"zerolinecolor\": \"white\", \"zerolinewidth\": 2}}}, \"title\": {\"text\": \"Variance of the Differences of Euclidean Distance\"}, \"width\": 700},\n",
       "                        {\"responsive\": true}\n",
       "                    ).then(function(){\n",
       "                            \n",
       "var gd = document.getElementById('ebb12722-ae51-41f2-9180-fc32d61e5c5d');\n",
       "var x = new MutationObserver(function (mutations, observer) {{\n",
       "        var display = window.getComputedStyle(gd).display;\n",
       "        if (!display || display === 'none') {{\n",
       "            console.log([gd, 'removed!']);\n",
       "            Plotly.purge(gd);\n",
       "            observer.disconnect();\n",
       "        }}\n",
       "}});\n",
       "\n",
       "// Listen for the removal of the full notebook cells\n",
       "var notebookContainer = gd.closest('#notebook-container');\n",
       "if (notebookContainer) {{\n",
       "    x.observe(notebookContainer, {childList: true});\n",
       "}}\n",
       "\n",
       "// Listen for the clearing of the current output cell\n",
       "var outputEl = gd.closest('.output');\n",
       "if (outputEl) {{\n",
       "    x.observe(outputEl, {childList: true});\n",
       "}}\n",
       "\n",
       "                        })\n",
       "                };\n",
       "                });\n",
       "            </script>\n",
       "        </div>"
      ]
     },
     "metadata": {},
     "output_type": "display_data"
    }
   ],
   "source": [
    "# get all 4 datasets' variances\n",
    "smooth_straight_var = variance_dist(\"smooth_straight.csv\")\n",
    "rugged_straight_var = variance_dist(\"rugged_straight.csv\")\n",
    "smooth_random_var = variance_dist(\"smooth_random.csv\")\n",
    "rugged_random_var = variance_dist(\"rugged_random.csv\")\n",
    "\n",
    "legend=[\"Smooth Straight\", \"Rugged Straight\", \"Smooth Random\", \"Rugged Random\"]\n",
    "fig = go.Figure()\n",
    "fig.add_trace(go.Scatter(x=legend, \n",
    "                         y=[smooth_straight_var, rugged_straight_var, smooth_random_var, rugged_random_var],\n",
    "                         mode='lines+markers'))\n",
    "fig.update_layout(\n",
    "    title=\"Variance of the Differences of Euclidean Distance\",\n",
    "    width=700,\n",
    "    height=500,\n",
    "    font=dict(\n",
    "        family=\"Courier New, monospace\",\n",
    "        size=13,\n",
    "))\n",
    "fig.show()"
   ]
  }
 ],
 "metadata": {
  "kernelspec": {
   "display_name": "Python 3",
   "language": "python",
   "name": "python3"
  },
  "language_info": {
   "codemirror_mode": {
    "name": "ipython",
    "version": 3
   },
   "file_extension": ".py",
   "mimetype": "text/x-python",
   "name": "python",
   "nbconvert_exporter": "python",
   "pygments_lexer": "ipython3",
   "version": "3.7.3"
  }
 },
 "nbformat": 4,
 "nbformat_minor": 2
}
